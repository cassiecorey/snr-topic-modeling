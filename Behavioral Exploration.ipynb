{
 "cells": [
  {
   "cell_type": "markdown",
   "metadata": {},
   "source": [
    "# Behavioral Exploration:\n",
    "# Topic Modeling and SNR\n",
    " \n",
    "Exploring the research question: what effect does modifying the input corpus have on the ability to do topic modeling?\n",
    "\n",
    "TASKS:\n",
    "\n",
    "- Build the system.\n",
    "- Test the system under various constraints & make observations about its behaviour.\n",
    "\n",
    "## Sections\n",
    "\n",
    "The notebook first establishes a fixed topic model (generic LDA). Then, it defines some properties of corpora that may be modified during experiments. It loads a few corpora and examines their properties. The generic topic model is used to extract topics from these corpora. Performance metrics for the topic model that may be affected by changes in the corpora are defined and calculated on the corpora.\n",
    "\n",
    "- [Section 1: A Fixed Approach](#1-A-Fixed-Approach)\n",
    "- [Section 2: Corporus Characteristics](#2-Corpus-Characteristics)\n",
    "- [Section 3: Choosing Corpora](#3-Choosing-Corpora)\n",
    "  - [Section 3.1: Wine Reviews](#3.1-Wine-Reviews)\n",
    "  - [Section 3.2: Brown](#3.2-Brown)\n",
    "  - [Section 3.3: ABC](#3.3-ABC)\n",
    "- [Section 4: Performance Metrics](#4-Performance-Metrics)\n",
    "- [Section 5: Exploring Results](#5-Exploring-Results)"
   ]
  },
  {
   "cell_type": "markdown",
   "metadata": {},
   "source": [
    "# 1 A Fixed Approach\n",
    "\n",
    "This section constructs a baseline model for topic-modeling that is up-to-date on the latest settings for optimal performance. The most widely used and successful topic-modeling approach is [Latent Dirichlet Allocation]() [Blei].\n",
    "\n",
    "It performs best under the following settings:\n",
    "- Asymmetric Alpha\n",
    "- Symmetric Beta\n",
    "\n",
    "The appropriate number of topics is still somewhat up in the air. Beli et al. say K should be less than the number of documents. TBD is an upper bound on K.\n",
    "\n",
    "An interesting experiment would be to see on which K the Brown corpus converges since this is theorized to be a relatively broad sample of the English language. It begs the research question, How many topics are there in the Human language?"
   ]
  },
  {
   "cell_type": "code",
   "execution_count": 50,
   "metadata": {},
   "outputs": [],
   "source": [
    "from sklearn.decomposition import LatentDirichletAllocation\n",
    "from sklearn.feature_extraction.text import CountVectorizer\n",
    "\n",
    "K = 100\n",
    "ALPHA = 1/K\n",
    "BETA = 1/K\n",
    "\n",
    "# TODO: MAKE ALPHA ASYMMETRIC\n",
    "lda = LatentDirichletAllocation(n_components=K,\n",
    "                                doc_topic_prior=ALPHA,\n",
    "                                topic_word_prior=BETA,\n",
    "                                learning_method='online')\n",
    "\n",
    "# This is reusable, we'll fit it separately to each corpus\n",
    "# Converts a list of documents into their word-counts,\n",
    "# after removing stopwords.\n",
    "tf_vectorizer = CountVectorizer(stop_words='english')\n",
    "\n",
    "def get_model(data_samples):\n",
    "    # Build the model\n",
    "    model_components = {}\n",
    "    tf = tf_vectorizer.fit_transform(data_samples)\n",
    "    lda.fit(tf) \n",
    "    # Piece together model components\n",
    "    model_components['features'] = tf_vectorizer.get_feature_names()\n",
    "    model_components['topic_word'] = lda.components_\n",
    "    model_components['doc_word'] = tf\n",
    "    model_components['doc_topic'] = lda.transform(tf)\n",
    "    return model_components\n",
    "\n",
    "def get_top_words(model, feature_names, n_top_words=10):\n",
    "    top_words = {}\n",
    "    for topic_idx, topic in enumerate(model.components_):\n",
    "        sorted_top = topic.argsort()[:-n_top_words-1:-1]\n",
    "        top_words[topic_idx] = [feature_names[i] for i in sorted_top]\n",
    "    return top_words\n",
    "\n",
    "def print_top_words(model, feature_names, n_top_words=10):\n",
    "    top_words = get_top_words(lda,feature_names,n_top_words)\n",
    "    for topic in top_words:\n",
    "        words = ' '.join(top_words[topic])\n",
    "        print(\"Topic_{}: {}\".format(topic,words))"
   ]
  },
  {
   "cell_type": "markdown",
   "metadata": {},
   "source": [
    "# 2 Corpus Characteristics\n",
    "\n",
    "I decided it would be easier to define an new corpus reader object that extends NLTK's existing PlaintextCorpusReader. This can be found in `corpus.py`. It extends PlaintextCorpusReader by adding characteristics to the corpus so that the user can ask basic questions like how many documents are there? What is their average word count? A lot of the characteristics are straightforward. For those that aren't, an explanation is provided.\n",
    "\n",
    "So far the characteristics I have defined are:\n",
    "- Number of documents\n",
    "- Average document length (in words)\n",
    "- Vocab size\n",
    "- Readability ([smog index](https://en.wikipedia.org/wiki/SMOG))\n",
    "- Distance from uniform distribution\n",
    "- [Lexical diversity](http://textinspector.com/help/?page_id=136)\n",
    "- Stopword presence (what percentage of the corpus is stopwords?)\n",
    "\n",
    "Still TODO are:\n",
    "- Stability\n",
    "- Inherent Topics"
   ]
  },
  {
   "cell_type": "markdown",
   "metadata": {},
   "source": [
    "# 3 Choosing Corpora\n",
    "\n",
    "In this section I'm going to load some various real-world corpora and test out the different metrics. This is really the __behavioural exploration__ section. After fixing any bugs in the metrics, I'll start making some initial observations of the system to see if I can find hints of phenomena or correlations."
   ]
  },
  {
   "cell_type": "code",
   "execution_count": 51,
   "metadata": {
    "collapsed": true
   },
   "outputs": [],
   "source": [
    "# The corpus reader I created to make things easier\n",
    "from corpus import PropertiesCorpusReader"
   ]
  },
  {
   "cell_type": "markdown",
   "metadata": {},
   "source": [
    "## 3.1 Wine Reviews\n",
    "\n",
    "This first corpus is a collection of wine reviews. It's an example of a small corpus with short-text documents. Unfortunately they've all been joined into one big file so we need to do a little manual labour to separate the individual short reviews. This means creating a new nltk corpus reader object from the one big wine review document."
   ]
  },
  {
   "cell_type": "code",
   "execution_count": 52,
   "metadata": {
    "collapsed": true
   },
   "outputs": [],
   "source": [
    "import os\n",
    "\n",
    "from nltk.corpus import webtext\n",
    "from nltk.corpus.reader.plaintext import PlaintextCorpusReader\n",
    "\n",
    "wine_doc = webtext.raw('wine.txt')\n",
    "\n",
    "# Individual reviews are split by newline characters\n",
    "wine_reviews = list(filter(None,wine_doc.split('\\n')))\n",
    "\n",
    "if not os.path.exists('wine_files'):\n",
    "    os.makedirs('wine_files')\n",
    "    \n",
    "fileids = []\n",
    "for i in range(len(wine_reviews)):\n",
    "    fn = '{:04}.txt'.format(i)\n",
    "    fileids.append(fn)\n",
    "    with open(os.path.join('wine_files',fn),'w') as f:\n",
    "        f.write(wine_reviews[i])\n",
    "    f.close()\n",
    "wine_cr = PlaintextCorpusReader('wine_files',\n",
    "                                fileids,\n",
    "                                word_tokenizer=webtext._word_tokenizer,\n",
    "                                sent_tokenizer=webtext._sent_tokenizer,\n",
    "                                para_block_reader=webtext._para_block_reader,\n",
    "                                encoding=webtext._encoding)"
   ]
  },
  {
   "cell_type": "markdown",
   "metadata": {},
   "source": [
    "Now let's convert the new corpus reader into a PropertiesCorpusReader object and explore its characteristics. "
   ]
  },
  {
   "cell_type": "code",
   "execution_count": 53,
   "metadata": {},
   "outputs": [
    {
     "name": "stdout",
     "output_type": "stream",
     "text": [
      "Calculating properties...\n",
      "\tReadability calculated.\n",
      "\tDistance from uniform calculated.\n",
      "\tLexical diversity calculated.\n",
      "\tStopword presence calculated.\n"
     ]
    }
   ],
   "source": [
    "wine_pcr = PropertiesCorpusReader(wine_cr)"
   ]
  },
  {
   "cell_type": "code",
   "execution_count": 54,
   "metadata": {},
   "outputs": [
    {
     "name": "stdout",
     "output_type": "stream",
     "text": [
      "Number of documents: 1230\n",
      "Average document length: 25.4943\n",
      "Vocab size: 3417\n",
      "Readability: 276.1483\n",
      "Distance from uniform: 0.8687\n",
      "Lexical diversity: 0.1090\n",
      "Stopword presence: 0.2613\n"
     ]
    }
   ],
   "source": [
    "wine_pcr.print_properties()"
   ]
  },
  {
   "cell_type": "markdown",
   "metadata": {},
   "source": [
    "After gathering characteristics of the corpus, the next step is to see how well the generic LDA model can decipher topics from it."
   ]
  },
  {
   "cell_type": "code",
   "execution_count": 55,
   "metadata": {},
   "outputs": [],
   "source": [
    "data_samples = wine_pcr.raw_docs()\n",
    "wine_components = get_model(data_samples)"
   ]
  },
  {
   "cell_type": "markdown",
   "metadata": {},
   "source": [
    "The following are the matrices we need to calculate model performance. They are:\n",
    "\n",
    "|Name|Shape|Description|\n",
    "|:-|:-|:-|:-|\n",
    "|topic_word|(n_topics,n_words)|Distribution of vocabulary words in each topic. Each cell answers the question: What is the likelihood of seeing this word in this topic?|\n",
    "|document_word|(n_documents,n_words)|Count of vocabulary words in each document. Each cell answers the question: How many times did this word appear in this document? __This is a SPARSE MATRIX__|\n",
    "|document_topic|(n_documents,n_topics)|The proportion of each document that is made up by the different topics. It answers the question: What percentage of this document talks about this topic?|\n",
    "|features|(n_words,)|The literal words associated with each index in the topic_word and doc_word matrices.|"
   ]
  },
  {
   "cell_type": "code",
   "execution_count": 57,
   "metadata": {},
   "outputs": [
    {
     "data": {
      "text/plain": [
       "(100, 2589)"
      ]
     },
     "execution_count": 57,
     "metadata": {},
     "output_type": "execute_result"
    }
   ],
   "source": [
    "wine_components['topic_word'].shape"
   ]
  },
  {
   "cell_type": "code",
   "execution_count": 58,
   "metadata": {},
   "outputs": [
    {
     "data": {
      "text/plain": [
       "(1230, 2589)"
      ]
     },
     "execution_count": 58,
     "metadata": {},
     "output_type": "execute_result"
    }
   ],
   "source": [
    "wine_components['doc_word'].shape"
   ]
  },
  {
   "cell_type": "code",
   "execution_count": 59,
   "metadata": {},
   "outputs": [
    {
     "data": {
      "text/plain": [
       "(1230, 100)"
      ]
     },
     "execution_count": 59,
     "metadata": {},
     "output_type": "execute_result"
    }
   ],
   "source": [
    "wine_components['doc_topic'].shape"
   ]
  },
  {
   "cell_type": "code",
   "execution_count": 60,
   "metadata": {},
   "outputs": [
    {
     "data": {
      "text/plain": [
       "2589"
      ]
     },
     "execution_count": 60,
     "metadata": {},
     "output_type": "execute_result"
    }
   ],
   "source": [
    "len(wine_components['features'])"
   ]
  },
  {
   "cell_type": "markdown",
   "metadata": {},
   "source": [
    "## 3.2 Brown\n",
    "\n",
    "The Brown corpora is probably one of the most famous ones out there. It's the polar opposite of the wine reviews because instead of a few short documents, it has a lot of long documents. Which means it takes a really long time to build a PropertiesCorpusRedaer object of it, so verbosity is a nice sanity check while it's running."
   ]
  },
  {
   "cell_type": "code",
   "execution_count": 61,
   "metadata": {},
   "outputs": [
    {
     "name": "stdout",
     "output_type": "stream",
     "text": [
      "Calculating properties...\n",
      "\tReadability calculated.\n",
      "\tDistance from uniform calculated.\n",
      "\tLexical diversity calculated.\n",
      "\tStopword presence calculated.\n"
     ]
    }
   ],
   "source": [
    "from nltk.corpus import brown\n",
    "brown_pcr = PropertiesCorpusReader(brown)"
   ]
  },
  {
   "cell_type": "code",
   "execution_count": 62,
   "metadata": {},
   "outputs": [
    {
     "name": "stdout",
     "output_type": "stream",
     "text": [
      "Number of documents: 500\n",
      "Average document length: 2322.3840\n",
      "Vocab size: 66939\n",
      "Readability: 11.3273\n",
      "Distance from uniform: 0.9709\n",
      "Lexical diversity: 0.0576\n",
      "Stopword presence: 0.0000\n"
     ]
    }
   ],
   "source": [
    "brown_pcr.print_properties()"
   ]
  },
  {
   "cell_type": "code",
   "execution_count": 63,
   "metadata": {},
   "outputs": [],
   "source": [
    "data_samples = brown_pcr.raw_docs()\n",
    "brown_components = get_model(data_samples)"
   ]
  },
  {
   "cell_type": "markdown",
   "metadata": {},
   "source": [
    "## 3.3 ABC\n",
    "\n",
    "A corpus of news files."
   ]
  },
  {
   "cell_type": "code",
   "execution_count": 64,
   "metadata": {},
   "outputs": [
    {
     "name": "stdout",
     "output_type": "stream",
     "text": [
      "Calculating properties...\n",
      "\tReadability calculated.\n",
      "\tDistance from uniform calculated.\n",
      "\tLexical diversity calculated.\n",
      "\tStopword presence calculated.\n"
     ]
    }
   ],
   "source": [
    "from nltk.corpus import abc\n",
    "abc_pcr = PropertiesCorpusReader(abc)"
   ]
  },
  {
   "cell_type": "code",
   "execution_count": 65,
   "metadata": {},
   "outputs": [
    {
     "name": "stdout",
     "output_type": "stream",
     "text": [
      "Number of documents: 2\n",
      "Average document length: 383405.5000\n",
      "Vocab size: 31885\n",
      "Readability: 12.1194\n",
      "Distance from uniform: 0.9425\n",
      "Lexical diversity: 0.0416\n",
      "Stopword presence: 0.3499\n"
     ]
    }
   ],
   "source": [
    "abc_pcr.print_properties()"
   ]
  },
  {
   "cell_type": "code",
   "execution_count": 66,
   "metadata": {},
   "outputs": [],
   "source": [
    "data_samples = abc_pcr.raw_docs()\n",
    "abc_components = get_model(data_samples)"
   ]
  },
  {
   "cell_type": "markdown",
   "metadata": {},
   "source": [
    "## 3.4 Genesis\n",
    "\n",
    "NLTK King James Bible?"
   ]
  },
  {
   "cell_type": "code",
   "execution_count": 67,
   "metadata": {},
   "outputs": [
    {
     "name": "stdout",
     "output_type": "stream",
     "text": [
      "Calculating properties...\n",
      "\tReadability calculated.\n",
      "\tDistance from uniform calculated.\n",
      "\tLexical diversity calculated.\n",
      "\tStopword presence calculated.\n"
     ]
    }
   ],
   "source": [
    "from nltk.corpus import genesis\n",
    "genesis_pcr = PropertiesCorpusReader(genesis)"
   ]
  },
  {
   "cell_type": "code",
   "execution_count": 68,
   "metadata": {},
   "outputs": [
    {
     "name": "stdout",
     "output_type": "stream",
     "text": [
      "Number of documents: 8\n",
      "Average document length: 39408.5000\n",
      "Vocab size: 25841\n",
      "Readability: 8.4613\n",
      "Distance from uniform: 0.9343\n",
      "Lexical diversity: 0.0820\n",
      "Stopword presence: 0.3755\n"
     ]
    }
   ],
   "source": [
    "genesis_pcr.print_properties()"
   ]
  },
  {
   "cell_type": "code",
   "execution_count": 69,
   "metadata": {
    "collapsed": true
   },
   "outputs": [],
   "source": [
    "data_samples = genesis_pcr.raw_docs()\n",
    "genesis_components = get_model(data_samples)"
   ]
  },
  {
   "cell_type": "markdown",
   "metadata": {},
   "source": [
    "## 3.5 Inaugural Address\n",
    "\n",
    "A collection of 55 inaugural addresses from presidents."
   ]
  },
  {
   "cell_type": "code",
   "execution_count": 70,
   "metadata": {},
   "outputs": [
    {
     "name": "stdout",
     "output_type": "stream",
     "text": [
      "Calculating properties...\n",
      "\tReadability calculated.\n",
      "\tDistance from uniform calculated.\n",
      "\tLexical diversity calculated.\n",
      "\tStopword presence calculated.\n"
     ]
    }
   ],
   "source": [
    "from nltk.corpus import inaugural\n",
    "inaugural_pcr = PropertiesCorpusReader(inaugural)"
   ]
  },
  {
   "cell_type": "code",
   "execution_count": 71,
   "metadata": {},
   "outputs": [
    {
     "name": "stdout",
     "output_type": "stream",
     "text": [
      "Number of documents: 56\n",
      "Average document length: 2602.4107\n",
      "Vocab size: 9754\n",
      "Readability: 23.4806\n",
      "Distance from uniform: 0.9143\n",
      "Lexical diversity: 0.0669\n",
      "Stopword presence: 0.4499\n"
     ]
    }
   ],
   "source": [
    "inaugural_pcr.print_properties()"
   ]
  },
  {
   "cell_type": "code",
   "execution_count": 72,
   "metadata": {
    "collapsed": true
   },
   "outputs": [],
   "source": [
    "data_samples = inaugural_pcr.raw_docs()\n",
    "inaugural_components = get_model(data_samples)"
   ]
  },
  {
   "cell_type": "markdown",
   "metadata": {},
   "source": [
    "## 3.6 State of the Union\n",
    "\n",
    "Collection of State of the Union addresses."
   ]
  },
  {
   "cell_type": "code",
   "execution_count": 78,
   "metadata": {},
   "outputs": [
    {
     "name": "stdout",
     "output_type": "stream",
     "text": [
      "Calculating properties...\n",
      "\tReadability calculated.\n",
      "\tDistance from uniform calculated.\n",
      "\tLexical diversity calculated.\n",
      "\tStopword presence calculated.\n"
     ]
    }
   ],
   "source": [
    "from nltk.corpus import state_union\n",
    "state_union_pcr = PropertiesCorpusReader(state_union)"
   ]
  },
  {
   "cell_type": "code",
   "execution_count": 79,
   "metadata": {},
   "outputs": [
    {
     "name": "stdout",
     "output_type": "stream",
     "text": [
      "Number of documents: 65\n",
      "Average document length: 6151.1077\n",
      "Vocab size: 14591\n",
      "Readability: 17.6455\n",
      "Distance from uniform: 0.9230\n",
      "Lexical diversity: 0.0365\n",
      "Stopword presence: 0.3888\n"
     ]
    }
   ],
   "source": [
    "state_union_pcr.print_properties()"
   ]
  },
  {
   "cell_type": "code",
   "execution_count": 80,
   "metadata": {
    "collapsed": true
   },
   "outputs": [],
   "source": [
    "data_samples = state_union_pcr.raw_docs()\n",
    "state_union_components = get_model(data_samples)"
   ]
  },
  {
   "cell_type": "markdown",
   "metadata": {},
   "source": [
    "# 4 Performance Metrics\n",
    "\n",
    "Metrics should adhere to the following axioms:\n",
    "- Similar models or topics should have similar scores.\n",
    "- Different models or topics should have differing scores.\n",
    "- Scores should change when the model changes.\n",
    "\n",
    "We should also consider metrics that have been tested in previous work to rule them in/out as informative of performance. \n",
    "\n",
    "In addition, metrics should be able to be calculated on any matrices regardless of how they were created (using LDA or not).\n",
    "\n",
    "So far, the metrics defined are:\n",
    "- Exclusivity\n",
    "- [Jensen-Shannon Divergence](https://stackoverflow.com/questions/15880133/jensen-shannon-divergence\n",
    "- Effective size\n",
    "- Average word length\n",
    "- Rank1\n",
    "\n",
    "Still TODO are:\n",
    "- Classification\n",
    "- Point-wise mutual information\n",
    "- Coherence\n",
    "- SNR\n",
    "\n",
    "When possible, metrics are calculated separately for each individual topic.\n",
    "\n",
    "PMI source:\n",
    "\n",
    "[Newman et al. 2011](http://papers.nips.cc/paper/4291-improving-topic-coherence-with-regularized-topic-models.pdf)"
   ]
  },
  {
   "cell_type": "code",
   "execution_count": 299,
   "metadata": {
    "collapsed": true
   },
   "outputs": [],
   "source": [
    "import metrics\n",
    "\n",
    "models = [wine_components,brown_components,\n",
    "          abc_components,genesis_components,\n",
    "          inaugural_components,state_union_components]\n",
    "\n",
    "topic_metrics = ['average_word_length','exclusivity',\n",
    "           'rank1','distance_from_uniform']\n",
    "\n",
    "def get_topic_metrics(model_components):\n",
    "    # Number of topics\n",
    "    k = len(model_components['topic_word'])\n",
    "    metrics_dic = dict.fromkeys(topic_metrics,[])\n",
    "    for m in topic_metrics:\n",
    "        print('Calculating: {}',m)\n",
    "        metric_func = getattr(metrics,m)\n",
    "        # Individual topic metrics\n",
    "        for i in range(k):\n",
    "            metrics_dic[m].append(metric_func(model_components,i))\n",
    "    return metrics_dic"
   ]
  },
  {
   "cell_type": "code",
   "execution_count": 300,
   "metadata": {
    "collapsed": true
   },
   "outputs": [],
   "source": [
    "wine_metrics = get_metrics(wine_components)\n",
    "brown_metrics = get_metrics(brown_components)\n",
    "abc_metrics = get_metrics(abc_components)\n",
    "genesis_metrics = get_metrics(genesis_components)\n",
    "inaugural_metrics = get_metrics(inagural_components)"
   ]
  },
  {
   "cell_type": "markdown",
   "metadata": {},
   "source": [
    "# 5 Exploring Results\n",
    "\n",
    "Since LDA is a BOW model, the words themselves are not important for most measures (except complexity).\n",
    "\n",
    "For complexity, we know what affects the complexity score. If we modify that, how does LDA performance change?\n",
    "\n",
    "TODO: Find/generate corpora that satisfy the characteristics defined above and train the baseline model on them."
   ]
  },
  {
   "cell_type": "code",
   "execution_count": 330,
   "metadata": {
    "collapsed": true
   },
   "outputs": [],
   "source": [
    "%matplotlib inline\n",
    "\n",
    "import matplotlib.pyplot as plt"
   ]
  },
  {
   "cell_type": "markdown",
   "metadata": {},
   "source": [
    "Explore how corpus properties affect performance.\n",
    "\n",
    "Independent variable: corpus properties\n",
    "Dependent variable: performance metrics\n",
    "\n",
    "__QUESTION:__ Which do we compare to which...which to hold?"
   ]
  },
  {
   "cell_type": "code",
   "execution_count": 331,
   "metadata": {
    "collapsed": true
   },
   "outputs": [],
   "source": [
    "prop_dic = {'num_docs':(brown_pcr.num_docs,wine_pcr.num_docs,abc_pcr.num_docs),\n",
    "            'avg_doc_len':(brown_pcr.avg_doc_len,wine_pcr.avg_doc_len,abc_pcr.avg_doc_len),\n",
    "            'lexical_diversity':(brown_pcr.lexical_diversity,wine_pcr.lexical_diversity,abc_pcr.lexical_diversity),\n",
    "            'stopword_presence':(brown_pcr.stopword_presence,wine_pcr.stopword_presence,abc_pcr.stopword_presence),\n",
    "            'readability':(brown_pcr.readability,wine_pcr.readability,abc_pcr.readability),\n",
    "            'vocab_size':(brown_pcr.vocab_size,wine_pcr.vocab_size,abc_pcr.vocab_size),\n",
    "            'distance_from_uniform':(brown_pcr.distance_from_uniform,wine_pcr.distance_from_uniform,abc_pcr.distance_from_uniform)}"
   ]
  },
  {
   "cell_type": "code",
   "execution_count": 391,
   "metadata": {
    "collapsed": true
   },
   "outputs": [],
   "source": [
    "def plot_property(prop_name,x_brown,x_wine,x_abc):\n",
    "    metrics = ['average_word_length','exclusivity',\n",
    "               'distance_from_uniform','rank1']\n",
    "    f,axarr = plt.subplots(2,2)\n",
    "    i = 0\n",
    "    j = 0\n",
    "    for metric in metrics:\n",
    "        axarr[i,j].scatter(x_brown,brown_metrics[metric],color='blue',alpha=0.5,label='Brown')\n",
    "        axarr[i,j].scatter(x_wine,wine_metrics[metric],color='darkorange',alpha=0.5,label='Wine')\n",
    "        axarr[i,j].scatter(x_abc,abc_metrics[metric],color='green',alpha=0.5,label='ABC')\n",
    "        axarr[i,j].set_ylabel(metric)\n",
    "        # this works. just accept it.\n",
    "        i+=1\n",
    "        j+=i%2\n",
    "        j%=2\n",
    "        i%=2\n",
    "    handles, labels = axarr[0,0].get_legend_handles_labels()\n",
    "    f.legend(handles,labels,bbox_to_anchor=(1, 0.9), loc=2, borderaxespad=0.)\n",
    "    f.suptitle(prop_name)\n",
    "    f.tight_layout(rect=[0, 0.03, 1, 0.95])\n",
    "    plt.setp([a.get_xticklabels() for a in axarr[0, :]], visible=False)\n",
    "    plt.setp([a.get_xticklabels() for a in axarr[1, :]], rotation=45)\n",
    "    plt.savefig('figures/{}_metrics.png'.format(prop_name),dpi=300)\n",
    "    plt.show()"
   ]
  },
  {
   "cell_type": "code",
   "execution_count": 392,
   "metadata": {},
   "outputs": [
    {
     "data": {
      "image/png": "[encoded data removed]",
      "text/plain": [
       "<matplotlib.figure.Figure at 0x111f66be0>"
      ]
     },
     "metadata": {},
     "output_type": "display_data"
    },
    {
     "data": {
      "image/png": "[encoded data removed]",
      "text/plain": [
       "<matplotlib.figure.Figure at 0x11242cc18>"
      ]
     },
     "metadata": {},
     "output_type": "display_data"
    },
    {
     "data": {
      "image/png": "[encoded data removed]",
      "text/plain": [
       "<matplotlib.figure.Figure at 0x1119a1b38>"
      ]
     },
     "metadata": {},
     "output_type": "display_data"
    },
    {
     "data": {
      "image/png": "[encoded data removed]",
      "text/plain": [
       "<matplotlib.figure.Figure at 0x1124292e8>"
      ]
     },
     "metadata": {},
     "output_type": "display_data"
    },
    {
     "data": {
      "image/png": "[encoded data removed]",
      "text/plain": [
       "<matplotlib.figure.Figure at 0x111b257b8>"
      ]
     },
     "metadata": {},
     "output_type": "display_data"
    },
    {
     "data": {
      "image/png": "[encoded data removed]",
      "text/plain": [
       "<matplotlib.figure.Figure at 0x111a39e10>"
      ]
     },
     "metadata": {},
     "output_type": "display_data"
    },
    {
     "data": {
      "image/png": "[encoded data removed]",
      "text/plain": [
       "<matplotlib.figure.Figure at 0x112476208>"
      ]
     },
     "metadata": {},
     "output_type": "display_data"
    }
   ],
   "source": [
    "for prop in prop_dic:\n",
    "    x_brown = [prop_dic[prop][0]]*K\n",
    "    x_wine = [prop_dic[prop][1]]*K\n",
    "    x_abc = [prop_dic[prop][2]]*K\n",
    "    plot_property(prop,x_brown,x_wine,x_abc)"
   ]
  },
  {
   "cell_type": "code",
   "execution_count": 323,
   "metadata": {},
   "outputs": [
    {
     "data": {
      "application/javascript": [
       "/* Put everything inside the global mpl namespace */\n",
       "window.mpl = {};\n",
       "\n",
       "mpl.get_websocket_type = function() {\n",
       "    if (typeof(WebSocket) !== 'undefined') {\n",
       "        return WebSocket;\n",
       "    } else if (typeof(MozWebSocket) !== 'undefined') {\n",
       "        return MozWebSocket;\n",
       "    } else {\n",
       "        alert('Your browser does not have WebSocket support.' +\n",
       "              'Please try Chrome, Safari or Firefox ≥ 6. ' +\n",
       "              'Firefox 4 and 5 are also supported but you ' +\n",
       "              'have to enable WebSockets in about:config.');\n",
       "    };\n",
       "}\n",
       "\n",
       "mpl.figure = function(figure_id, websocket, ondownload, parent_element) {\n",
       "    this.id = figure_id;\n",
       "\n",
       "    this.ws = websocket;\n",
       "\n",
       "    this.supports_binary = (this.ws.binaryType != undefined);\n",
       "\n",
       "    if (!this.supports_binary) {\n",
       "        var warnings = document.getElementById(\"mpl-warnings\");\n",
       "        if (warnings) {\n",
       "            warnings.style.display = 'block';\n",
       "            warnings.textContent = (\n",
       "                \"This browser does not support binary websocket messages. \" +\n",
       "                    \"Performance may be slow.\");\n",
       "        }\n",
       "    }\n",
       "\n",
       "    this.imageObj = new Image();\n",
       "\n",
       "    this.context = undefined;\n",
       "    this.message = undefined;\n",
       "    this.canvas = undefined;\n",
       "    this.rubberband_canvas = undefined;\n",
       "    this.rubberband_context = undefined;\n",
       "    this.format_dropdown = undefined;\n",
       "\n",
       "    this.image_mode = 'full';\n",
       "\n",
       "    this.root = $('<div/>');\n",
       "    this._root_extra_style(this.root)\n",
       "    this.root.attr('style', 'display: inline-block');\n",
       "\n",
       "    $(parent_element).append(this.root);\n",
       "\n",
       "    this._init_header(this);\n",
       "    this._init_canvas(this);\n",
       "    this._init_toolbar(this);\n",
       "\n",
       "    var fig = this;\n",
       "\n",
       "    this.waiting = false;\n",
       "\n",
       "    this.ws.onopen =  function () {\n",
       "            fig.send_message(\"supports_binary\", {value: fig.supports_binary});\n",
       "            fig.send_message(\"send_image_mode\", {});\n",
       "            fig.send_message(\"refresh\", {});\n",
       "        }\n",
       "\n",
       "    this.imageObj.onload = function() {\n",
       "            if (fig.image_mode == 'full') {\n",
       "                // Full images could contain transparency (where diff images\n",
       "                // almost always do), so we need to clear the canvas so that\n",
       "                // there is no ghosting.\n",
       "                fig.context.clearRect(0, 0, fig.canvas.width, fig.canvas.height);\n",
       "            }\n",
       "            fig.context.drawImage(fig.imageObj, 0, 0);\n",
       "        };\n",
       "\n",
       "    this.imageObj.onunload = function() {\n",
       "        this.ws.close();\n",
       "    }\n",
       "\n",
       "    this.ws.onmessage = this._make_on_message_function(this);\n",
       "\n",
       "    this.ondownload = ondownload;\n",
       "}\n",
       "\n",
       "mpl.figure.prototype._init_header = function() {\n",
       "    var titlebar = $(\n",
       "        '<div class=\"ui-dialog-titlebar ui-widget-header ui-corner-all ' +\n",
       "        'ui-helper-clearfix\"/>');\n",
       "    var titletext = $(\n",
       "        '<div class=\"ui-dialog-title\" style=\"width: 100%; ' +\n",
       "        'text-align: center; padding: 3px;\"/>');\n",
       "    titlebar.append(titletext)\n",
       "    this.root.append(titlebar);\n",
       "    this.header = titletext[0];\n",
       "}\n",
       "\n",
       "\n",
       "\n",
       "mpl.figure.prototype._canvas_extra_style = function(canvas_div) {\n",
       "\n",
       "}\n",
       "\n",
       "\n",
       "mpl.figure.prototype._root_extra_style = function(canvas_div) {\n",
       "\n",
       "}\n",
       "\n",
       "mpl.figure.prototype._init_canvas = function() {\n",
       "    var fig = this;\n",
       "\n",
       "    var canvas_div = $('<div/>');\n",
       "\n",
       "    canvas_div.attr('style', 'position: relative; clear: both; outline: 0');\n",
       "\n",
       "    function canvas_keyboard_event(event) {\n",
       "        return fig.key_event(event, event['data']);\n",
       "    }\n",
       "\n",
       "    canvas_div.keydown('key_press', canvas_keyboard_event);\n",
       "    canvas_div.keyup('key_release', canvas_keyboard_event);\n",
       "    this.canvas_div = canvas_div\n",
       "    this._canvas_extra_style(canvas_div)\n",
       "    this.root.append(canvas_div);\n",
       "\n",
       "    var canvas = $('<canvas/>');\n",
       "    canvas.addClass('mpl-canvas');\n",
       "    canvas.attr('style', \"left: 0; top: 0; z-index: 0; outline: 0\")\n",
       "\n",
       "    this.canvas = canvas[0];\n",
       "    this.context = canvas[0].getContext(\"2d\");\n",
       "\n",
       "    var rubberband = $('<canvas/>');\n",
       "    rubberband.attr('style', \"position: absolute; left: 0; top: 0; z-index: 1;\")\n",
       "\n",
       "    var pass_mouse_events = true;\n",
       "\n",
       "    canvas_div.resizable({\n",
       "        start: function(event, ui) {\n",
       "            pass_mouse_events = false;\n",
       "        },\n",
       "        resize: function(event, ui) {\n",
       "            fig.request_resize(ui.size.width, ui.size.height);\n",
       "        },\n",
       "        stop: function(event, ui) {\n",
       "            pass_mouse_events = true;\n",
       "            fig.request_resize(ui.size.width, ui.size.height);\n",
       "        },\n",
       "    });\n",
       "\n",
       "    function mouse_event_fn(event) {\n",
       "        if (pass_mouse_events)\n",
       "            return fig.mouse_event(event, event['data']);\n",
       "    }\n",
       "\n",
       "    rubberband.mousedown('button_press', mouse_event_fn);\n",
       "    rubberband.mouseup('button_release', mouse_event_fn);\n",
       "    // Throttle sequential mouse events to 1 every 20ms.\n",
       "    rubberband.mousemove('motion_notify', mouse_event_fn);\n",
       "\n",
       "    rubberband.mouseenter('figure_enter', mouse_event_fn);\n",
       "    rubberband.mouseleave('figure_leave', mouse_event_fn);\n",
       "\n",
       "    canvas_div.on(\"wheel\", function (event) {\n",
       "        event = event.originalEvent;\n",
       "        event['data'] = 'scroll'\n",
       "        if (event.deltaY < 0) {\n",
       "            event.step = 1;\n",
       "        } else {\n",
       "            event.step = -1;\n",
       "        }\n",
       "        mouse_event_fn(event);\n",
       "    });\n",
       "\n",
       "    canvas_div.append(canvas);\n",
       "    canvas_div.append(rubberband);\n",
       "\n",
       "    this.rubberband = rubberband;\n",
       "    this.rubberband_canvas = rubberband[0];\n",
       "    this.rubberband_context = rubberband[0].getContext(\"2d\");\n",
       "    this.rubberband_context.strokeStyle = \"#000000\";\n",
       "\n",
       "    this._resize_canvas = function(width, height) {\n",
       "        // Keep the size of the canvas, canvas container, and rubber band\n",
       "        // canvas in synch.\n",
       "        canvas_div.css('width', width)\n",
       "        canvas_div.css('height', height)\n",
       "\n",
       "        canvas.attr('width', width);\n",
       "        canvas.attr('height', height);\n",
       "\n",
       "        rubberband.attr('width', width);\n",
       "        rubberband.attr('height', height);\n",
       "    }\n",
       "\n",
       "    // Set the figure to an initial 600x600px, this will subsequently be updated\n",
       "    // upon first draw.\n",
       "    this._resize_canvas(600, 600);\n",
       "\n",
       "    // Disable right mouse context menu.\n",
       "    $(this.rubberband_canvas).bind(\"contextmenu\",function(e){\n",
       "        return false;\n",
       "    });\n",
       "\n",
       "    function set_focus () {\n",
       "        canvas.focus();\n",
       "        canvas_div.focus();\n",
       "    }\n",
       "\n",
       "    window.setTimeout(set_focus, 100);\n",
       "}\n",
       "\n",
       "mpl.figure.prototype._init_toolbar = function() {\n",
       "    var fig = this;\n",
       "\n",
       "    var nav_element = $('<div/>')\n",
       "    nav_element.attr('style', 'width: 100%');\n",
       "    this.root.append(nav_element);\n",
       "\n",
       "    // Define a callback function for later on.\n",
       "    function toolbar_event(event) {\n",
       "        return fig.toolbar_button_onclick(event['data']);\n",
       "    }\n",
       "    function toolbar_mouse_event(event) {\n",
       "        return fig.toolbar_button_onmouseover(event['data']);\n",
       "    }\n",
       "\n",
       "    for(var toolbar_ind in mpl.toolbar_items) {\n",
       "        var name = mpl.toolbar_items[toolbar_ind][0];\n",
       "        var tooltip = mpl.toolbar_items[toolbar_ind][1];\n",
       "        var image = mpl.toolbar_items[toolbar_ind][2];\n",
       "        var method_name = mpl.toolbar_items[toolbar_ind][3];\n",
       "\n",
       "        if (!name) {\n",
       "            // put a spacer in here.\n",
       "            continue;\n",
       "        }\n",
       "        var button = $('<button/>');\n",
       "        button.addClass('ui-button ui-widget ui-state-default ui-corner-all ' +\n",
       "                        'ui-button-icon-only');\n",
       "        button.attr('role', 'button');\n",
       "        button.attr('aria-disabled', 'false');\n",
       "        button.click(method_name, toolbar_event);\n",
       "        button.mouseover(tooltip, toolbar_mouse_event);\n",
       "\n",
       "        var icon_img = $('<span/>');\n",
       "        icon_img.addClass('ui-button-icon-primary ui-icon');\n",
       "        icon_img.addClass(image);\n",
       "        icon_img.addClass('ui-corner-all');\n",
       "\n",
       "        var tooltip_span = $('<span/>');\n",
       "        tooltip_span.addClass('ui-button-text');\n",
       "        tooltip_span.html(tooltip);\n",
       "\n",
       "        button.append(icon_img);\n",
       "        button.append(tooltip_span);\n",
       "\n",
       "        nav_element.append(button);\n",
       "    }\n",
       "\n",
       "    var fmt_picker_span = $('<span/>');\n",
       "\n",
       "    var fmt_picker = $('<select/>');\n",
       "    fmt_picker.addClass('mpl-toolbar-option ui-widget ui-widget-content');\n",
       "    fmt_picker_span.append(fmt_picker);\n",
       "    nav_element.append(fmt_picker_span);\n",
       "    this.format_dropdown = fmt_picker[0];\n",
       "\n",
       "    for (var ind in mpl.extensions) {\n",
       "        var fmt = mpl.extensions[ind];\n",
       "        var option = $(\n",
       "            '<option/>', {selected: fmt === mpl.default_extension}).html(fmt);\n",
       "        fmt_picker.append(option)\n",
       "    }\n",
       "\n",
       "    // Add hover states to the ui-buttons\n",
       "    $( \".ui-button\" ).hover(\n",
       "        function() { $(this).addClass(\"ui-state-hover\");},\n",
       "        function() { $(this).removeClass(\"ui-state-hover\");}\n",
       "    );\n",
       "\n",
       "    var status_bar = $('<span class=\"mpl-message\"/>');\n",
       "    nav_element.append(status_bar);\n",
       "    this.message = status_bar[0];\n",
       "}\n",
       "\n",
       "mpl.figure.prototype.request_resize = function(x_pixels, y_pixels) {\n",
       "    // Request matplotlib to resize the figure. Matplotlib will then trigger a resize in the client,\n",
       "    // which will in turn request a refresh of the image.\n",
       "    this.send_message('resize', {'width': x_pixels, 'height': y_pixels});\n",
       "}\n",
       "\n",
       "mpl.figure.prototype.send_message = function(type, properties) {\n",
       "    properties['type'] = type;\n",
       "    properties['figure_id'] = this.id;\n",
       "    this.ws.send(JSON.stringify(properties));\n",
       "}\n",
       "\n",
       "mpl.figure.prototype.send_draw_message = function() {\n",
       "    if (!this.waiting) {\n",
       "        this.waiting = true;\n",
       "        this.ws.send(JSON.stringify({type: \"draw\", figure_id: this.id}));\n",
       "    }\n",
       "}\n",
       "\n",
       "\n",
       "mpl.figure.prototype.handle_save = function(fig, msg) {\n",
       "    var format_dropdown = fig.format_dropdown;\n",
       "    var format = format_dropdown.options[format_dropdown.selectedIndex].value;\n",
       "    fig.ondownload(fig, format);\n",
       "}\n",
       "\n",
       "\n",
       "mpl.figure.prototype.handle_resize = function(fig, msg) {\n",
       "    var size = msg['size'];\n",
       "    if (size[0] != fig.canvas.width || size[1] != fig.canvas.height) {\n",
       "        fig._resize_canvas(size[0], size[1]);\n",
       "        fig.send_message(\"refresh\", {});\n",
       "    };\n",
       "}\n",
       "\n",
       "mpl.figure.prototype.handle_rubberband = function(fig, msg) {\n",
       "    var x0 = msg['x0'];\n",
       "    var y0 = fig.canvas.height - msg['y0'];\n",
       "    var x1 = msg['x1'];\n",
       "    var y1 = fig.canvas.height - msg['y1'];\n",
       "    x0 = Math.floor(x0) + 0.5;\n",
       "    y0 = Math.floor(y0) + 0.5;\n",
       "    x1 = Math.floor(x1) + 0.5;\n",
       "    y1 = Math.floor(y1) + 0.5;\n",
       "    var min_x = Math.min(x0, x1);\n",
       "    var min_y = Math.min(y0, y1);\n",
       "    var width = Math.abs(x1 - x0);\n",
       "    var height = Math.abs(y1 - y0);\n",
       "\n",
       "    fig.rubberband_context.clearRect(\n",
       "        0, 0, fig.canvas.width, fig.canvas.height);\n",
       "\n",
       "    fig.rubberband_context.strokeRect(min_x, min_y, width, height);\n",
       "}\n",
       "\n",
       "mpl.figure.prototype.handle_figure_label = function(fig, msg) {\n",
       "    // Updates the figure title.\n",
       "    fig.header.textContent = msg['label'];\n",
       "}\n",
       "\n",
       "mpl.figure.prototype.handle_cursor = function(fig, msg) {\n",
       "    var cursor = msg['cursor'];\n",
       "    switch(cursor)\n",
       "    {\n",
       "    case 0:\n",
       "        cursor = 'pointer';\n",
       "        break;\n",
       "    case 1:\n",
       "        cursor = 'default';\n",
       "        break;\n",
       "    case 2:\n",
       "        cursor = 'crosshair';\n",
       "        break;\n",
       "    case 3:\n",
       "        cursor = 'move';\n",
       "        break;\n",
       "    }\n",
       "    fig.rubberband_canvas.style.cursor = cursor;\n",
       "}\n",
       "\n",
       "mpl.figure.prototype.handle_message = function(fig, msg) {\n",
       "    fig.message.textContent = msg['message'];\n",
       "}\n",
       "\n",
       "mpl.figure.prototype.handle_draw = function(fig, msg) {\n",
       "    // Request the server to send over a new figure.\n",
       "    fig.send_draw_message();\n",
       "}\n",
       "\n",
       "mpl.figure.prototype.handle_image_mode = function(fig, msg) {\n",
       "    fig.image_mode = msg['mode'];\n",
       "}\n",
       "\n",
       "mpl.figure.prototype.updated_canvas_event = function() {\n",
       "    // Called whenever the canvas gets updated.\n",
       "    this.send_message(\"ack\", {});\n",
       "}\n",
       "\n",
       "// A function to construct a web socket function for onmessage handling.\n",
       "// Called in the figure constructor.\n",
       "mpl.figure.prototype._make_on_message_function = function(fig) {\n",
       "    return function socket_on_message(evt) {\n",
       "        if (evt.data instanceof Blob) {\n",
       "            /* FIXME: We get \"Resource interpreted as Image but\n",
       "             * transferred with MIME type text/plain:\" errors on\n",
       "             * Chrome.  But how to set the MIME type?  It doesn't seem\n",
       "             * to be part of the websocket stream */\n",
       "            evt.data.type = \"image/png\";\n",
       "\n",
       "            /* Free the memory for the previous frames */\n",
       "            if (fig.imageObj.src) {\n",
       "                (window.URL || window.webkitURL).revokeObjectURL(\n",
       "                    fig.imageObj.src);\n",
       "            }\n",
       "\n",
       "            fig.imageObj.src = (window.URL || window.webkitURL).createObjectURL(\n",
       "                evt.data);\n",
       "            fig.updated_canvas_event();\n",
       "            fig.waiting = false;\n",
       "            return;\n",
       "        }\n",
       "        else if (typeof evt.data === 'string' && evt.data.slice(0, 21) == \"data:image/png;base64\") {\n",
       "            fig.imageObj.src = evt.data;\n",
       "            fig.updated_canvas_event();\n",
       "            fig.waiting = false;\n",
       "            return;\n",
       "        }\n",
       "\n",
       "        var msg = JSON.parse(evt.data);\n",
       "        var msg_type = msg['type'];\n",
       "\n",
       "        // Call the  \"handle_{type}\" callback, which takes\n",
       "        // the figure and JSON message as its only arguments.\n",
       "        try {\n",
       "            var callback = fig[\"handle_\" + msg_type];\n",
       "        } catch (e) {\n",
       "            console.log(\"No handler for the '\" + msg_type + \"' message type: \", msg);\n",
       "            return;\n",
       "        }\n",
       "\n",
       "        if (callback) {\n",
       "            try {\n",
       "                // console.log(\"Handling '\" + msg_type + \"' message: \", msg);\n",
       "                callback(fig, msg);\n",
       "            } catch (e) {\n",
       "                console.log(\"Exception inside the 'handler_\" + msg_type + \"' callback:\", e, e.stack, msg);\n",
       "            }\n",
       "        }\n",
       "    };\n",
       "}\n",
       "\n",
       "// from http://stackoverflow.com/questions/1114465/getting-mouse-location-in-canvas\n",
       "mpl.findpos = function(e) {\n",
       "    //this section is from http://www.quirksmode.org/js/events_properties.html\n",
       "    var targ;\n",
       "    if (!e)\n",
       "        e = window.event;\n",
       "    if (e.target)\n",
       "        targ = e.target;\n",
       "    else if (e.srcElement)\n",
       "        targ = e.srcElement;\n",
       "    if (targ.nodeType == 3) // defeat Safari bug\n",
       "        targ = targ.parentNode;\n",
       "\n",
       "    // jQuery normalizes the pageX and pageY\n",
       "    // pageX,Y are the mouse positions relative to the document\n",
       "    // offset() returns the position of the element relative to the document\n",
       "    var x = e.pageX - $(targ).offset().left;\n",
       "    var y = e.pageY - $(targ).offset().top;\n",
       "\n",
       "    return {\"x\": x, \"y\": y};\n",
       "};\n",
       "\n",
       "/*\n",
       " * return a copy of an object with only non-object keys\n",
       " * we need this to avoid circular references\n",
       " * http://stackoverflow.com/a/24161582/3208463\n",
       " */\n",
       "function simpleKeys (original) {\n",
       "  return Object.keys(original).reduce(function (obj, key) {\n",
       "    if (typeof original[key] !== 'object')\n",
       "        obj[key] = original[key]\n",
       "    return obj;\n",
       "  }, {});\n",
       "}\n",
       "\n",
       "mpl.figure.prototype.mouse_event = function(event, name) {\n",
       "    var canvas_pos = mpl.findpos(event)\n",
       "\n",
       "    if (name === 'button_press')\n",
       "    {\n",
       "        this.canvas.focus();\n",
       "        this.canvas_div.focus();\n",
       "    }\n",
       "\n",
       "    var x = canvas_pos.x;\n",
       "    var y = canvas_pos.y;\n",
       "\n",
       "    this.send_message(name, {x: x, y: y, button: event.button,\n",
       "                             step: event.step,\n",
       "                             guiEvent: simpleKeys(event)});\n",
       "\n",
       "    /* This prevents the web browser from automatically changing to\n",
       "     * the text insertion cursor when the button is pressed.  We want\n",
       "     * to control all of the cursor setting manually through the\n",
       "     * 'cursor' event from matplotlib */\n",
       "    event.preventDefault();\n",
       "    return false;\n",
       "}\n",
       "\n",
       "mpl.figure.prototype._key_event_extra = function(event, name) {\n",
       "    // Handle any extra behaviour associated with a key event\n",
       "}\n",
       "\n",
       "mpl.figure.prototype.key_event = function(event, name) {\n",
       "\n",
       "    // Prevent repeat events\n",
       "    if (name == 'key_press')\n",
       "    {\n",
       "        if (event.which === this._key)\n",
       "            return;\n",
       "        else\n",
       "            this._key = event.which;\n",
       "    }\n",
       "    if (name == 'key_release')\n",
       "        this._key = null;\n",
       "\n",
       "    var value = '';\n",
       "    if (event.ctrlKey && event.which != 17)\n",
       "        value += \"ctrl+\";\n",
       "    if (event.altKey && event.which != 18)\n",
       "        value += \"alt+\";\n",
       "    if (event.shiftKey && event.which != 16)\n",
       "        value += \"shift+\";\n",
       "\n",
       "    value += 'k';\n",
       "    value += event.which.toString();\n",
       "\n",
       "    this._key_event_extra(event, name);\n",
       "\n",
       "    this.send_message(name, {key: value,\n",
       "                             guiEvent: simpleKeys(event)});\n",
       "    return false;\n",
       "}\n",
       "\n",
       "mpl.figure.prototype.toolbar_button_onclick = function(name) {\n",
       "    if (name == 'download') {\n",
       "        this.handle_save(this, null);\n",
       "    } else {\n",
       "        this.send_message(\"toolbar_button\", {name: name});\n",
       "    }\n",
       "};\n",
       "\n",
       "mpl.figure.prototype.toolbar_button_onmouseover = function(tooltip) {\n",
       "    this.message.textContent = tooltip;\n",
       "};\n",
       "mpl.toolbar_items = [[\"Home\", \"Reset original view\", \"fa fa-home icon-home\", \"home\"], [\"Back\", \"Back to  previous view\", \"fa fa-arrow-left icon-arrow-left\", \"back\"], [\"Forward\", \"Forward to next view\", \"fa fa-arrow-right icon-arrow-right\", \"forward\"], [\"\", \"\", \"\", \"\"], [\"Pan\", \"Pan axes with left mouse, zoom with right\", \"fa fa-arrows icon-move\", \"pan\"], [\"Zoom\", \"Zoom to rectangle\", \"fa fa-square-o icon-check-empty\", \"zoom\"], [\"\", \"\", \"\", \"\"], [\"Download\", \"Download plot\", \"fa fa-floppy-o icon-save\", \"download\"]];\n",
       "\n",
       "mpl.extensions = [\"eps\", \"jpeg\", \"pdf\", \"png\", \"ps\", \"raw\", \"svg\", \"tif\"];\n",
       "\n",
       "mpl.default_extension = \"png\";var comm_websocket_adapter = function(comm) {\n",
       "    // Create a \"websocket\"-like object which calls the given IPython comm\n",
       "    // object with the appropriate methods. Currently this is a non binary\n",
       "    // socket, so there is still some room for performance tuning.\n",
       "    var ws = {};\n",
       "\n",
       "    ws.close = function() {\n",
       "        comm.close()\n",
       "    };\n",
       "    ws.send = function(m) {\n",
       "        //console.log('sending', m);\n",
       "        comm.send(m);\n",
       "    };\n",
       "    // Register the callback with on_msg.\n",
       "    comm.on_msg(function(msg) {\n",
       "        //console.log('receiving', msg['content']['data'], msg);\n",
       "        // Pass the mpl event to the overriden (by mpl) onmessage function.\n",
       "        ws.onmessage(msg['content']['data'])\n",
       "    });\n",
       "    return ws;\n",
       "}\n",
       "\n",
       "mpl.mpl_figure_comm = function(comm, msg) {\n",
       "    // This is the function which gets called when the mpl process\n",
       "    // starts-up an IPython Comm through the \"matplotlib\" channel.\n",
       "\n",
       "    var id = msg.content.data.id;\n",
       "    // Get hold of the div created by the display call when the Comm\n",
       "    // socket was opened in Python.\n",
       "    var element = $(\"#\" + id);\n",
       "    var ws_proxy = comm_websocket_adapter(comm)\n",
       "\n",
       "    function ondownload(figure, format) {\n",
       "        window.open(figure.imageObj.src);\n",
       "    }\n",
       "\n",
       "    var fig = new mpl.figure(id, ws_proxy,\n",
       "                           ondownload,\n",
       "                           element.get(0));\n",
       "\n",
       "    // Call onopen now - mpl needs it, as it is assuming we've passed it a real\n",
       "    // web socket which is closed, not our websocket->open comm proxy.\n",
       "    ws_proxy.onopen();\n",
       "\n",
       "    fig.parent_element = element.get(0);\n",
       "    fig.cell_info = mpl.find_output_cell(\"<div id='\" + id + \"'></div>\");\n",
       "    if (!fig.cell_info) {\n",
       "        console.error(\"Failed to find cell for figure\", id, fig);\n",
       "        return;\n",
       "    }\n",
       "\n",
       "    var output_index = fig.cell_info[2]\n",
       "    var cell = fig.cell_info[0];\n",
       "\n",
       "};\n",
       "\n",
       "mpl.figure.prototype.handle_close = function(fig, msg) {\n",
       "    fig.root.unbind('remove')\n",
       "\n",
       "    // Update the output cell to use the data from the current canvas.\n",
       "    fig.push_to_output();\n",
       "    var dataURL = fig.canvas.toDataURL();\n",
       "    // Re-enable the keyboard manager in IPython - without this line, in FF,\n",
       "    // the notebook keyboard shortcuts fail.\n",
       "    IPython.keyboard_manager.enable()\n",
       "    $(fig.parent_element).html('<img src=\"' + dataURL + '\">');\n",
       "    fig.close_ws(fig, msg);\n",
       "}\n",
       "\n",
       "mpl.figure.prototype.close_ws = function(fig, msg){\n",
       "    fig.send_message('closing', msg);\n",
       "    // fig.ws.close()\n",
       "}\n",
       "\n",
       "mpl.figure.prototype.push_to_output = function(remove_interactive) {\n",
       "    // Turn the data on the canvas into data in the output cell.\n",
       "    var dataURL = this.canvas.toDataURL();\n",
       "    this.cell_info[1]['text/html'] = '<img src=\"' + dataURL + '\">';\n",
       "}\n",
       "\n",
       "mpl.figure.prototype.updated_canvas_event = function() {\n",
       "    // Tell IPython that the notebook contents must change.\n",
       "    IPython.notebook.set_dirty(true);\n",
       "    this.send_message(\"ack\", {});\n",
       "    var fig = this;\n",
       "    // Wait a second, then push the new image to the DOM so\n",
       "    // that it is saved nicely (might be nice to debounce this).\n",
       "    setTimeout(function () { fig.push_to_output() }, 1000);\n",
       "}\n",
       "\n",
       "mpl.figure.prototype._init_toolbar = function() {\n",
       "    var fig = this;\n",
       "\n",
       "    var nav_element = $('<div/>')\n",
       "    nav_element.attr('style', 'width: 100%');\n",
       "    this.root.append(nav_element);\n",
       "\n",
       "    // Define a callback function for later on.\n",
       "    function toolbar_event(event) {\n",
       "        return fig.toolbar_button_onclick(event['data']);\n",
       "    }\n",
       "    function toolbar_mouse_event(event) {\n",
       "        return fig.toolbar_button_onmouseover(event['data']);\n",
       "    }\n",
       "\n",
       "    for(var toolbar_ind in mpl.toolbar_items){\n",
       "        var name = mpl.toolbar_items[toolbar_ind][0];\n",
       "        var tooltip = mpl.toolbar_items[toolbar_ind][1];\n",
       "        var image = mpl.toolbar_items[toolbar_ind][2];\n",
       "        var method_name = mpl.toolbar_items[toolbar_ind][3];\n",
       "\n",
       "        if (!name) { continue; };\n",
       "\n",
       "        var button = $('<button class=\"btn btn-default\" href=\"#\" title=\"' + name + '\"><i class=\"fa ' + image + ' fa-lg\"></i></button>');\n",
       "        button.click(method_name, toolbar_event);\n",
       "        button.mouseover(tooltip, toolbar_mouse_event);\n",
       "        nav_element.append(button);\n",
       "    }\n",
       "\n",
       "    // Add the status bar.\n",
       "    var status_bar = $('<span class=\"mpl-message\" style=\"text-align:right; float: right;\"/>');\n",
       "    nav_element.append(status_bar);\n",
       "    this.message = status_bar[0];\n",
       "\n",
       "    // Add the close button to the window.\n",
       "    var buttongrp = $('<div class=\"btn-group inline pull-right\"></div>');\n",
       "    var button = $('<button class=\"btn btn-mini btn-primary\" href=\"#\" title=\"Stop Interaction\"><i class=\"fa fa-power-off icon-remove icon-large\"></i></button>');\n",
       "    button.click(function (evt) { fig.handle_close(fig, {}); } );\n",
       "    button.mouseover('Stop Interaction', toolbar_mouse_event);\n",
       "    buttongrp.append(button);\n",
       "    var titlebar = this.root.find($('.ui-dialog-titlebar'));\n",
       "    titlebar.prepend(buttongrp);\n",
       "}\n",
       "\n",
       "mpl.figure.prototype._root_extra_style = function(el){\n",
       "    var fig = this\n",
       "    el.on(\"remove\", function(){\n",
       "\tfig.close_ws(fig, {});\n",
       "    });\n",
       "}\n",
       "\n",
       "mpl.figure.prototype._canvas_extra_style = function(el){\n",
       "    // this is important to make the div 'focusable\n",
       "    el.attr('tabindex', 0)\n",
       "    // reach out to IPython and tell the keyboard manager to turn it's self\n",
       "    // off when our div gets focus\n",
       "\n",
       "    // location in version 3\n",
       "    if (IPython.notebook.keyboard_manager) {\n",
       "        IPython.notebook.keyboard_manager.register_events(el);\n",
       "    }\n",
       "    else {\n",
       "        // location in version 2\n",
       "        IPython.keyboard_manager.register_events(el);\n",
       "    }\n",
       "\n",
       "}\n",
       "\n",
       "mpl.figure.prototype._key_event_extra = function(event, name) {\n",
       "    var manager = IPython.notebook.keyboard_manager;\n",
       "    if (!manager)\n",
       "        manager = IPython.keyboard_manager;\n",
       "\n",
       "    // Check for shift+enter\n",
       "    if (event.shiftKey && event.which == 13) {\n",
       "        this.canvas_div.blur();\n",
       "        event.shiftKey = false;\n",
       "        // Send a \"J\" for go to next cell\n",
       "        event.which = 74;\n",
       "        event.keyCode = 74;\n",
       "        manager.command_mode();\n",
       "        manager.handle_keydown(event);\n",
       "    }\n",
       "}\n",
       "\n",
       "mpl.figure.prototype.handle_save = function(fig, msg) {\n",
       "    fig.ondownload(fig, null);\n",
       "}\n",
       "\n",
       "\n",
       "mpl.find_output_cell = function(html_output) {\n",
       "    // Return the cell and output element which can be found *uniquely* in the notebook.\n",
       "    // Note - this is a bit hacky, but it is done because the \"notebook_saving.Notebook\"\n",
       "    // IPython event is triggered only after the cells have been serialised, which for\n",
       "    // our purposes (turning an active figure into a static one), is too late.\n",
       "    var cells = IPython.notebook.get_cells();\n",
       "    var ncells = cells.length;\n",
       "    for (var i=0; i<ncells; i++) {\n",
       "        var cell = cells[i];\n",
       "        if (cell.cell_type === 'code'){\n",
       "            for (var j=0; j<cell.output_area.outputs.length; j++) {\n",
       "                var data = cell.output_area.outputs[j];\n",
       "                if (data.data) {\n",
       "                    // IPython >= 3 moved mimebundle to data attribute of output\n",
       "                    data = data.data;\n",
       "                }\n",
       "                if (data['text/html'] == html_output) {\n",
       "                    return [cell, data, j];\n",
       "                }\n",
       "            }\n",
       "        }\n",
       "    }\n",
       "}\n",
       "\n",
       "// Register the function which deals with the matplotlib target/channel.\n",
       "// The kernel may be null if the page has been refreshed.\n",
       "if (IPython.notebook.kernel != null) {\n",
       "    IPython.notebook.kernel.comm_manager.register_target('matplotlib', mpl.mpl_figure_comm);\n",
       "}\n"
      ],
      "text/plain": [
       "<IPython.core.display.Javascript object>"
      ]
     },
     "metadata": {},
     "output_type": "display_data"
    },
    {
     "data": {
      "text/html": [
       "<img src=\"data:image/png;base64,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\">"
      ],
      "text/plain": [
       "<IPython.core.display.HTML object>"
      ]
     },
     "metadata": {},
     "output_type": "display_data"
    }
   ],
   "source": [
    "plt.figure()\n",
    "plt.title(\"Top Word Likelihood (Wine Topics)\")\n",
    "\n",
    "for k in range(100):\n",
    "    top_words_idx = wine_topic_word[k].argsort()[:-20-1:-1]\n",
    "    x = np.arange(20)\n",
    "    y = [wine_topic_word[k][i] for i in top_words_idx]\n",
    "    plt.plot(x,y)\n",
    "plt.ylabel(\"Likelihood\")\n",
    "plt.xlabel(\"Word Rank\")\n",
    "plt.savefig('figures/wine_word_likelihood.png',dpi=300)\n",
    "plt.show()"
   ]
  },
  {
   "cell_type": "code",
   "execution_count": null,
   "metadata": {
    "collapsed": true
   },
   "outputs": [],
   "source": []
  }
 ],
 "metadata": {
  "kernelspec": {
   "display_name": "Python 3",
   "language": "python",
   "name": "python3"
  },
  "language_info": {
   "codemirror_mode": {
    "name": "ipython",
    "version": 3
   },
   "file_extension": ".py",
   "mimetype": "text/x-python",
   "name": "python",
   "nbconvert_exporter": "python",
   "pygments_lexer": "ipython3",
   "version": "3.5.1"
  }
 },
 "nbformat": 4,
 "nbformat_minor": 2
}

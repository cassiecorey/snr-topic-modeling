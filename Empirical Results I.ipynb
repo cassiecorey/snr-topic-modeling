{
 "cells": [
  {
   "cell_type": "markdown",
   "metadata": {
    "collapsed": true
   },
   "source": [
    "# Experiments\n",
    "\n",
    "We experiment with several commonly used topic model evaluation methods as well as a few novel methods. The evaluation metrics are tested against varying corpora. We take real-world corpora and make modifications to the following attributes:\n",
    "\n",
    "- [Number of documents](#Number-of-Documents)\n",
    "- [Average document length](#Average-Document-Length)\n",
    "- [Presence of stopwords](#Presence-of-Stopwords)\n",
    "\n",
    "Related work has shown the results of changing the number of documents and average document length. There has not been (to our knowledge) investigation of the effects of injecting/removing words into the corpus. In particular, our novel experiments test the injection/removal of interesting words and compares its effect against the injection/removal of uninteresting stopwords.\n",
    "\n",
    "In each section we'll review the expected outcome beforehand and discuss results afterwards. Each section also includes a description of the algorithm used to generate test corpora.\n",
    "\n",
    "__NOTE:__ If you want to change the corpus being tested, there may be more than one spot where you need to make changes. For example, you'll need to add an import statement if that's where the corpus is coming from. Or you'll need to change the path directory variables. I'm still working on making this better."
   ]
  },
  {
   "cell_type": "code",
   "execution_count": 2,
   "metadata": {
    "collapsed": true
   },
   "outputs": [],
   "source": [
    "%load_ext autoreload\n",
    "%autoreload 2"
   ]
  },
  {
   "cell_type": "code",
   "execution_count": 2,
   "metadata": {},
   "outputs": [
    {
     "data": {
      "text/html": [
       "\n",
       "    <div class=\"bk-root\">\n",
       "        <a href=\"https://bokeh.pydata.org\" target=\"_blank\" class=\"bk-logo bk-logo-small bk-logo-notebook\"></a>\n",
       "        <span id=\"3e3c783b-2d7c-492f-96f5-951ec99efa89\">Loading BokehJS ...</span>\n",
       "    </div>"
      ]
     },
     "metadata": {},
     "output_type": "display_data"
    },
    {
     "data": {
      "application/javascript": [
       "\n",
       "(function(root) {\n",
       "  function now() {\n",
       "    return new Date();\n",
       "  }\n",
       "\n",
       "  var force = true;\n",
       "\n",
       "  if (typeof (root._bokeh_onload_callbacks) === \"undefined\" || force === true) {\n",
       "    root._bokeh_onload_callbacks = [];\n",
       "    root._bokeh_is_loading = undefined;\n",
       "  }\n",
       "\n",
       "\n",
       "  \n",
       "  if (typeof (root._bokeh_timeout) === \"undefined\" || force === true) {\n",
       "    root._bokeh_timeout = Date.now() + 5000;\n",
       "    root._bokeh_failed_load = false;\n",
       "  }\n",
       "\n",
       "  var NB_LOAD_WARNING = {'data': {'text/html':\n",
       "     \"<div style='background-color: #fdd'>\\n\"+\n",
       "     \"<p>\\n\"+\n",
       "     \"BokehJS does not appear to have successfully loaded. If loading BokehJS from CDN, this \\n\"+\n",
       "     \"may be due to a slow or bad network connection. Possible fixes:\\n\"+\n",
       "     \"</p>\\n\"+\n",
       "     \"<ul>\\n\"+\n",
       "     \"<li>re-rerun `output_notebook()` to attempt to load from CDN again, or</li>\\n\"+\n",
       "     \"<li>use INLINE resources instead, as so:</li>\\n\"+\n",
       "     \"</ul>\\n\"+\n",
       "     \"<code>\\n\"+\n",
       "     \"from bokeh.resources import INLINE\\n\"+\n",
       "     \"output_notebook(resources=INLINE)\\n\"+\n",
       "     \"</code>\\n\"+\n",
       "     \"</div>\"}};\n",
       "\n",
       "  function display_loaded() {\n",
       "    if (root.Bokeh !== undefined) {\n",
       "      var el = document.getElementById(\"3e3c783b-2d7c-492f-96f5-951ec99efa89\");\n",
       "      if (el != null) {\n",
       "        el.textContent = \"BokehJS \" + Bokeh.version + \" successfully loaded.\";\n",
       "      }\n",
       "    } else if (Date.now() < root._bokeh_timeout) {\n",
       "      setTimeout(display_loaded, 100)\n",
       "    }\n",
       "  }\n",
       "\n",
       "\n",
       "  function run_callbacks() {\n",
       "    try {\n",
       "      root._bokeh_onload_callbacks.forEach(function(callback) { callback() });\n",
       "    }\n",
       "    finally {\n",
       "      delete root._bokeh_onload_callbacks\n",
       "    }\n",
       "    console.info(\"Bokeh: all callbacks have finished\");\n",
       "  }\n",
       "\n",
       "  function load_libs(js_urls, callback) {\n",
       "    root._bokeh_onload_callbacks.push(callback);\n",
       "    if (root._bokeh_is_loading > 0) {\n",
       "      console.log(\"Bokeh: BokehJS is being loaded, scheduling callback at\", now());\n",
       "      return null;\n",
       "    }\n",
       "    if (js_urls == null || js_urls.length === 0) {\n",
       "      run_callbacks();\n",
       "      return null;\n",
       "    }\n",
       "    console.log(\"Bokeh: BokehJS not loaded, scheduling load and callback at\", now());\n",
       "    root._bokeh_is_loading = js_urls.length;\n",
       "    for (var i = 0; i < js_urls.length; i++) {\n",
       "      var url = js_urls[i];\n",
       "      var s = document.createElement('script');\n",
       "      s.src = url;\n",
       "      s.async = false;\n",
       "      s.onreadystatechange = s.onload = function() {\n",
       "        root._bokeh_is_loading--;\n",
       "        if (root._bokeh_is_loading === 0) {\n",
       "          console.log(\"Bokeh: all BokehJS libraries loaded\");\n",
       "          run_callbacks()\n",
       "        }\n",
       "      };\n",
       "      s.onerror = function() {\n",
       "        console.warn(\"failed to load library \" + url);\n",
       "      };\n",
       "      console.log(\"Bokeh: injecting script tag for BokehJS library: \", url);\n",
       "      document.getElementsByTagName(\"head\")[0].appendChild(s);\n",
       "    }\n",
       "  };var element = document.getElementById(\"3e3c783b-2d7c-492f-96f5-951ec99efa89\");\n",
       "  if (element == null) {\n",
       "    console.log(\"Bokeh: ERROR: autoload.js configured with elementid '3e3c783b-2d7c-492f-96f5-951ec99efa89' but no matching script tag was found. \")\n",
       "    return false;\n",
       "  }\n",
       "\n",
       "  var js_urls = [\"https://cdn.pydata.org/bokeh/release/bokeh-0.12.7.min.js\", \"https://cdn.pydata.org/bokeh/release/bokeh-widgets-0.12.7.min.js\", \"https://cdn.pydata.org/bokeh/release/bokeh-tables-0.12.7.min.js\", \"https://cdn.pydata.org/bokeh/release/bokeh-gl-0.12.7.min.js\"];\n",
       "\n",
       "  var inline_js = [\n",
       "    function(Bokeh) {\n",
       "      Bokeh.set_log_level(\"info\");\n",
       "    },\n",
       "    \n",
       "    function(Bokeh) {\n",
       "      \n",
       "    },\n",
       "    \n",
       "    function(Bokeh) {\n",
       "      \n",
       "      document.getElementById(\"3e3c783b-2d7c-492f-96f5-951ec99efa89\").textContent = \"BokehJS is loading...\";\n",
       "    },\n",
       "    function(Bokeh) {\n",
       "      console.log(\"Bokeh: injecting CSS: https://cdn.pydata.org/bokeh/release/bokeh-0.12.7.min.css\");\n",
       "      Bokeh.embed.inject_css(\"https://cdn.pydata.org/bokeh/release/bokeh-0.12.7.min.css\");\n",
       "      console.log(\"Bokeh: injecting CSS: https://cdn.pydata.org/bokeh/release/bokeh-widgets-0.12.7.min.css\");\n",
       "      Bokeh.embed.inject_css(\"https://cdn.pydata.org/bokeh/release/bokeh-widgets-0.12.7.min.css\");\n",
       "      console.log(\"Bokeh: injecting CSS: https://cdn.pydata.org/bokeh/release/bokeh-tables-0.12.7.min.css\");\n",
       "      Bokeh.embed.inject_css(\"https://cdn.pydata.org/bokeh/release/bokeh-tables-0.12.7.min.css\");\n",
       "    }\n",
       "  ];\n",
       "\n",
       "  function run_inline_js() {\n",
       "    \n",
       "    if ((root.Bokeh !== undefined) || (force === true)) {\n",
       "      for (var i = 0; i < inline_js.length; i++) {\n",
       "        inline_js[i].call(root, root.Bokeh);\n",
       "      }if (force === true) {\n",
       "        display_loaded();\n",
       "      }} else if (Date.now() < root._bokeh_timeout) {\n",
       "      setTimeout(run_inline_js, 100);\n",
       "    } else if (!root._bokeh_failed_load) {\n",
       "      console.log(\"Bokeh: BokehJS failed to load within specified timeout.\");\n",
       "      root._bokeh_failed_load = true;\n",
       "    } else if (force !== true) {\n",
       "      var cell = $(document.getElementById(\"3e3c783b-2d7c-492f-96f5-951ec99efa89\")).parents('.cell').data().cell;\n",
       "      cell.output_area.append_execute_result(NB_LOAD_WARNING)\n",
       "    }\n",
       "\n",
       "  }\n",
       "\n",
       "  if (root._bokeh_is_loading === 0) {\n",
       "    console.log(\"Bokeh: BokehJS loaded, going straight to plotting\");\n",
       "    run_inline_js();\n",
       "  } else {\n",
       "    load_libs(js_urls, function() {\n",
       "      console.log(\"Bokeh: BokehJS plotting callback run at\", now());\n",
       "      run_inline_js();\n",
       "    });\n",
       "  }\n",
       "}(window));"
      ]
     },
     "metadata": {},
     "output_type": "display_data"
    }
   ],
   "source": [
    "# UTILITIES\n",
    "import util,os,corpus\n",
    "import numpy as np\n",
    "from collections import Counter\n",
    "from time import time\n",
    "# NLP\n",
    "from nltk.corpus import stopwords\n",
    "from nltk.corpus.reader.plaintext import PlaintextCorpusReader\n",
    "from metrics_model import MetricsModel\n",
    "# PLOTTING\n",
    "from bokeh.io import output_notebook, show\n",
    "from bokeh.plotting import figure\n",
    "from bokeh.models.widgets import Panel, Tabs\n",
    "from bokeh.models import HoverTool, ColumnDataSource\n",
    "\n",
    "output_notebook()"
   ]
  },
  {
   "cell_type": "markdown",
   "metadata": {},
   "source": [
    "## Topic Model\n",
    "\n",
    "First, a topic model that will be fit to each test corpus."
   ]
  },
  {
   "cell_type": "code",
   "execution_count": 3,
   "metadata": {
    "collapsed": true
   },
   "outputs": [],
   "source": [
    "mm = MetricsModel()"
   ]
  },
  {
   "cell_type": "markdown",
   "metadata": {},
   "source": [
    "And some utility functions."
   ]
  },
  {
   "cell_type": "code",
   "execution_count": 4,
   "metadata": {
    "collapsed": true
   },
   "outputs": [],
   "source": [
    "def get_metrics(pcrs,x_range,n_topics,verbose=False):\n",
    "    metrics_dict = {\"exclusivity\":{'x':[],'y':[],'top_three':[]},\n",
    "                    \"avg_cos\":{'x':[],'y':[],'top_three':[]},\n",
    "                    \"avg_kld\":{'x':[],'y':[],'top_three':[]},\n",
    "                    \"avg_jsd\":{'x':[],'y':[],'top_three':[]},\n",
    "                    \"rank1\":{'x':[],'y':[],'top_three':[]},\n",
    "                    \"distance_from_uniform\":{'x':[],'y':[],'top_three':[]},\n",
    "                    \"effective_size\":{'x':[],'y':[],'top_three':[]}}\n",
    "    for x in x_range:\n",
    "        if verbose:\n",
    "            print(x)\n",
    "        # Fit each set of documents to the model\n",
    "        mm.fit_from_samples(pcrs[x].raw_docs(),n_topics)\n",
    "        # Calculate model metrics\n",
    "        for m in metrics_dict.keys():\n",
    "            m_func = getattr(mm,m)\n",
    "            for k in range(n_topics):\n",
    "                metrics_dict[m]['x'].append(x)\n",
    "                metrics_dict[m]['y'].append(m_func(k))\n",
    "                metrics_dict[m]['top_three'].append(' '.join(mm.top_words(k)[:3]))\n",
    "    return metrics_dict\n",
    "\n",
    "def get_tabs(metrics_dict,x_label):\n",
    "    # Each metric is a different tab\n",
    "    tabs = []\n",
    "    hover = HoverTool(tooltips=[('x','@x'),('y','@y'),('top words','@top_three')])\n",
    "    for m in metrics_dict.keys():\n",
    "        fig = figure(title=CORPUS_NAME,\n",
    "                     x_axis_label=x_label,\n",
    "                     y_axis_label=m,\n",
    "                     height=600,\n",
    "                     width=800,\n",
    "                     toolbar_location='above')\n",
    "        fig.xaxis.axis_label_text_font_size = \"30pt\"\n",
    "        fig.yaxis.axis_label_text_font_size = \"30pt\"\n",
    "        fig.xaxis.major_label_text_font_size = \"15pt\"\n",
    "        fig.yaxis.major_label_text_font_size = \"15pt\"\n",
    "        fig.title.text_font_size = '15pt'\n",
    "        fig.add_tools(hover)\n",
    "        source = ColumnDataSource(metrics_dict[m])\n",
    "        fig.circle(x='x',y='y',source=source,size=20,alpha=0.5,color='black')\n",
    "        tabs.append(Panel(child=fig,title=m))\n",
    "    return tabs"
   ]
  },
  {
   "cell_type": "markdown",
   "metadata": {},
   "source": [
    "Start off by choosing a corpus to test on. Just run the cell for the corpus you want below. Or add your own."
   ]
  },
  {
   "cell_type": "code",
   "execution_count": 67,
   "metadata": {},
   "outputs": [
    {
     "name": "stdout",
     "output_type": "stream",
     "text": [
      "Calculating properties...\n",
      "\tReadability calculated.\n",
      "\tDistance from uniform calculated.\n",
      "\tLexical diversity calculated.\n",
      "\tStopword presence calculated.\n"
     ]
    }
   ],
   "source": [
    "# ABC SCIENCE CORPUS\n",
    "CORPUS_NAME = 'abc_science'\n",
    "CORPUS_DIR = os.path.join('corpus',CORPUS_NAME)\n",
    "fileids = []\n",
    "for f in os.listdir(CORPUS_DIR):\n",
    "    if os.path.isfile(os.path.join(CORPUS_DIR,f)):\n",
    "        fileids.append(f)\n",
    "cr = PlaintextCorpusReader(CORPUS_DIR,fileids)\n",
    "pcr = corpus.PropertiesCorpusReader(cr)"
   ]
  },
  {
   "cell_type": "code",
   "execution_count": 68,
   "metadata": {},
   "outputs": [
    {
     "name": "stdout",
     "output_type": "stream",
     "text": [
      "Number of documents: 764\n",
      "Average document length: 551.3495\n",
      "Vocab size: 24306\n",
      "Readability: 13.3439\n",
      "Distance from uniform: 0.9375\n",
      "Lexical diversity: 0.0577\n",
      "Stopword presence: 0.3493\n"
     ]
    }
   ],
   "source": [
    "pcr.print_properties()"
   ]
  },
  {
   "cell_type": "code",
   "execution_count": 53,
   "metadata": {
    "scrolled": true
   },
   "outputs": [
    {
     "name": "stdout",
     "output_type": "stream",
     "text": [
      "Calculating properties...\n",
      "\tReadability calculated.\n",
      "\tDistance from uniform calculated.\n",
      "\tLexical diversity calculated.\n",
      "\tStopword presence calculated.\n"
     ]
    }
   ],
   "source": [
    "# ABC RURAL CORPUS\n",
    "CORPUS_NAME = 'abc_rural'\n",
    "CORPUS_DIR = os.path.join('corpus',CORPUS_NAME)\n",
    "fileids = []\n",
    "for f in os.listdir(CORPUS_DIR):\n",
    "    if os.path.isfile(os.path.join(CORPUS_DIR,f)):\n",
    "        fileids.append(f)\n",
    "cr = PlaintextCorpusReader(CORPUS_DIR,fileids)\n",
    "pcr = corpus.PropertiesCorpusReader(cr)"
   ]
  },
  {
   "cell_type": "code",
   "execution_count": 54,
   "metadata": {},
   "outputs": [
    {
     "name": "stdout",
     "output_type": "stream",
     "text": [
      "Number of documents: 2424\n",
      "Average document length: 142.5660\n",
      "Vocab size: 17222\n",
      "Readability: 11.9944\n",
      "Distance from uniform: 0.9205\n",
      "Lexical diversity: 0.0498\n",
      "Stopword presence: 0.3507\n"
     ]
    }
   ],
   "source": [
    "pcr.print_properties()"
   ]
  },
  {
   "cell_type": "code",
   "execution_count": 16,
   "metadata": {
    "scrolled": true
   },
   "outputs": [
    {
     "data": {
      "text/plain": [
       "(2424, 142.56600660066007, 0.35065397303084667)"
      ]
     },
     "execution_count": 16,
     "metadata": {},
     "output_type": "execute_result"
    }
   ],
   "source": [
    "pcr.num_docs,pcr.avg_doc_len,pcr.stopword_presence"
   ]
  },
  {
   "cell_type": "code",
   "execution_count": 56,
   "metadata": {},
   "outputs": [
    {
     "name": "stdout",
     "output_type": "stream",
     "text": [
      "Calculating properties...\n",
      "\tReadability calculated.\n",
      "\tDistance from uniform calculated.\n",
      "\tLexical diversity calculated.\n",
      "\tStopword presence calculated.\n"
     ]
    }
   ],
   "source": [
    "# WINE REVIEWS\n",
    "CORPUS_NAME = 'wine'\n",
    "CORPUS_DIR = os.path.join('corpus',CORPUS_NAME)\n",
    "fileids = []\n",
    "for f in os.listdir(CORPUS_DIR):\n",
    "    if os.path.isfile(os.path.join(CORPUS_DIR,f)):\n",
    "        fileids.append(f)\n",
    "cr = PlaintextCorpusReader(CORPUS_DIR,fileids)\n",
    "pcr = corpus.PropertiesCorpusReader(cr)"
   ]
  },
  {
   "cell_type": "code",
   "execution_count": 57,
   "metadata": {},
   "outputs": [
    {
     "name": "stdout",
     "output_type": "stream",
     "text": [
      "Number of documents: 1230\n",
      "Average document length: 25.4878\n",
      "Vocab size: 3414\n",
      "Readability: 276.1483\n",
      "Distance from uniform: 0.8687\n",
      "Lexical diversity: 0.1089\n",
      "Stopword presence: 0.2614\n"
     ]
    }
   ],
   "source": [
    "pcr.print_properties()"
   ]
  },
  {
   "cell_type": "code",
   "execution_count": 19,
   "metadata": {},
   "outputs": [
    {
     "name": "stdout",
     "output_type": "stream",
     "text": [
      "Calculating properties...\n",
      "\tReadability calculated.\n",
      "\tDistance from uniform calculated.\n",
      "\tLexical diversity calculated.\n",
      "\tStopword presence calculated.\n"
     ]
    }
   ],
   "source": [
    "# WEBTEXT CORPUS\n",
    "from nltk.corpus import webtext\n",
    "CORPUS_NAME = 'webtext'\n",
    "CORPUS_DIR = webtext.root\n",
    "cr = webtext\n",
    "pcr = corpus.PropertiesCorpusReader(cr)"
   ]
  },
  {
   "cell_type": "code",
   "execution_count": 20,
   "metadata": {},
   "outputs": [
    {
     "data": {
      "text/plain": [
       "(6, 66122.166666666672, 0.27507920944312675)"
      ]
     },
     "execution_count": 20,
     "metadata": {},
     "output_type": "execute_result"
    }
   ],
   "source": [
    "pcr.num_docs,pcr.avg_doc_len,pcr.stopword_presence"
   ]
  },
  {
   "cell_type": "code",
   "execution_count": 65,
   "metadata": {},
   "outputs": [
    {
     "name": "stdout",
     "output_type": "stream",
     "text": [
      "Calculating properties...\n",
      "\tReadability calculated.\n",
      "\tDistance from uniform calculated.\n",
      "\tLexical diversity calculated.\n",
      "\tStopword presence calculated.\n"
     ]
    }
   ],
   "source": [
    "# BROWN CORPUS\n",
    "from nltk.corpus import brown\n",
    "CORPUS_NAME = 'brown'\n",
    "CORPUS_DIR = \"corpus/brown\"\n",
    "fileids = []\n",
    "for f in os.listdir(CORPUS_DIR):\n",
    "    if os.path.isfile(os.path.join(CORPUS_DIR,f)):\n",
    "        fileids.append(f)\n",
    "cr = PlaintextCorpusReader(CORPUS_DIR,fileids)\n",
    "pcr = corpus.PropertiesCorpusReader(cr)"
   ]
  },
  {
   "cell_type": "code",
   "execution_count": 66,
   "metadata": {},
   "outputs": [
    {
     "name": "stdout",
     "output_type": "stream",
     "text": [
      "Number of documents: 500\n",
      "Average document length: 2418.0880\n",
      "Vocab size: 48675\n",
      "Readability: 1997.3570\n",
      "Distance from uniform: 0.9581\n",
      "Lexical diversity: 0.0403\n",
      "Stopword presence: 0.3726\n"
     ]
    }
   ],
   "source": [
    "pcr.print_properties()"
   ]
  },
  {
   "cell_type": "markdown",
   "metadata": {},
   "source": [
    "## Number of Documents\n",
    "\n",
    "In this experiment we change the number of documents in a corpus and observe changes in the resulting topic metrics. Our expectation is that as the number of documents increases, topic quality improves. Results from Tang et al. showed that while it may be theoretically impossible to guarantee identiy of topics with too few documents (regardless of their length), performance peaks once there are sufficiently many documents. This section will break up the experimental design into greater detail than the following sections since design is since they are roughly similar.\n",
    "\n",
    "### ALGORITHM\n",
    "\n",
    "        1. For each corpus:\n",
    "        2.   For d in the range of corpus sizes to test:\n",
    "        3.       Select a random subset of size d from the list of corpus files"
   ]
  },
  {
   "cell_type": "markdown",
   "metadata": {},
   "source": [
    "Next step is to select a range of number of documents we want to test. There are 764 documents in this corpus, the average document length is ~551. We'll test with up to 750 documents in increments of 50 documents."
   ]
  },
  {
   "cell_type": "code",
   "execution_count": 47,
   "metadata": {
    "collapsed": true
   },
   "outputs": [],
   "source": [
    "d_range = np.arange(50,pcr.num_docs,50)"
   ]
  },
  {
   "cell_type": "markdown",
   "metadata": {},
   "source": [
    "Now, for each of these d_ranges, we create a subset of the corpus by selecting that number of documents at random from the documents in the corpus. We'll randomly select from fileids and build a corpus that way."
   ]
  },
  {
   "cell_type": "code",
   "execution_count": 49,
   "metadata": {},
   "outputs": [],
   "source": [
    "num_docs_pcrs = {}\n",
    "for d in d_range:\n",
    "    d_fileids = np.random.choice(pcr.fileids(),d)\n",
    "    d_cr = PlaintextCorpusReader(\"corpus/brown\",d_fileids)\n",
    "    d_pcr = corpus.PropertiesCorpusReader(d_cr,verbose=False)\n",
    "    num_docs_pcrs[d] = d_pcr"
   ]
  },
  {
   "cell_type": "markdown",
   "metadata": {},
   "source": [
    "Next, load our fixed topic model and separately fit it to each pcr to get model components we can calculate metrics for. "
   ]
  },
  {
   "cell_type": "code",
   "execution_count": 21,
   "metadata": {
    "collapsed": true
   },
   "outputs": [],
   "source": [
    "num_docs_metrics = get_metrics(num_docs_pcrs,d_range,15)"
   ]
  },
  {
   "cell_type": "markdown",
   "metadata": {},
   "source": [
    "Now we build the plots from the metrics dictionary."
   ]
  },
  {
   "cell_type": "code",
   "execution_count": 22,
   "metadata": {},
   "outputs": [
    {
     "data": {
      "text/html": [
       "\n",
       "\n",
       "    <div class=\"bk-root\">\n",
       "        <div class=\"bk-plotdiv\" id=\"1fcfac6f-39b0-4ecc-aabd-48dbab80a999\"></div>\n",
       "    </div>\n",
       "<script type=\"text/javascript\">\n",
       "  \n",
       "  (function(root) {\n",
       "    function now() {\n",
       "      return new Date();\n",
       "    }\n",
       "  \n",
       "    var force = false;\n",
       "  \n",
       "    if (typeof (root._bokeh_onload_callbacks) === \"undefined\" || force === true) {\n",
       "      root._bokeh_onload_callbacks = [];\n",
       "      root._bokeh_is_loading = undefined;\n",
       "    }\n",
       "  \n",
       "  \n",
       "    \n",
       "    if (typeof (root._bokeh_timeout) === \"undefined\" || force === true) {\n",
       "      root._bokeh_timeout = Date.now() + 0;\n",
       "      root._bokeh_failed_load = false;\n",
       "    }\n",
       "  \n",
       "    var NB_LOAD_WARNING = {'data': {'text/html':\n",
       "       \"<div style='background-color: #fdd'>\\n\"+\n",
       "       \"<p>\\n\"+\n",
       "       \"BokehJS does not appear to have successfully loaded. If loading BokehJS from CDN, this \\n\"+\n",
       "       \"may be due to a slow or bad network connection. Possible fixes:\\n\"+\n",
       "       \"</p>\\n\"+\n",
       "       \"<ul>\\n\"+\n",
       "       \"<li>re-rerun `output_notebook()` to attempt to load from CDN again, or</li>\\n\"+\n",
       "       \"<li>use INLINE resources instead, as so:</li>\\n\"+\n",
       "       \"</ul>\\n\"+\n",
       "       \"<code>\\n\"+\n",
       "       \"from bokeh.resources import INLINE\\n\"+\n",
       "       \"output_notebook(resources=INLINE)\\n\"+\n",
       "       \"</code>\\n\"+\n",
       "       \"</div>\"}};\n",
       "  \n",
       "    function display_loaded() {\n",
       "      if (root.Bokeh !== undefined) {\n",
       "        var el = document.getElementById(\"1fcfac6f-39b0-4ecc-aabd-48dbab80a999\");\n",
       "        if (el != null) {\n",
       "          el.textContent = \"BokehJS \" + Bokeh.version + \" successfully loaded.\";\n",
       "        }\n",
       "      } else if (Date.now() < root._bokeh_timeout) {\n",
       "        setTimeout(display_loaded, 100)\n",
       "      }\n",
       "    }\n",
       "  \n",
       "  \n",
       "    function run_callbacks() {\n",
       "      try {\n",
       "        root._bokeh_onload_callbacks.forEach(function(callback) { callback() });\n",
       "      }\n",
       "      finally {\n",
       "        delete root._bokeh_onload_callbacks\n",
       "      }\n",
       "      console.info(\"Bokeh: all callbacks have finished\");\n",
       "    }\n",
       "  \n",
       "    function load_libs(js_urls, callback) {\n",
       "      root._bokeh_onload_callbacks.push(callback);\n",
       "      if (root._bokeh_is_loading > 0) {\n",
       "        console.log(\"Bokeh: BokehJS is being loaded, scheduling callback at\", now());\n",
       "        return null;\n",
       "      }\n",
       "      if (js_urls == null || js_urls.length === 0) {\n",
       "        run_callbacks();\n",
       "        return null;\n",
       "      }\n",
       "      console.log(\"Bokeh: BokehJS not loaded, scheduling load and callback at\", now());\n",
       "      root._bokeh_is_loading = js_urls.length;\n",
       "      for (var i = 0; i < js_urls.length; i++) {\n",
       "        var url = js_urls[i];\n",
       "        var s = document.createElement('script');\n",
       "        s.src = url;\n",
       "        s.async = false;\n",
       "        s.onreadystatechange = s.onload = function() {\n",
       "          root._bokeh_is_loading--;\n",
       "          if (root._bokeh_is_loading === 0) {\n",
       "            console.log(\"Bokeh: all BokehJS libraries loaded\");\n",
       "            run_callbacks()\n",
       "          }\n",
       "        };\n",
       "        s.onerror = function() {\n",
       "          console.warn(\"failed to load library \" + url);\n",
       "        };\n",
       "        console.log(\"Bokeh: injecting script tag for BokehJS library: \", url);\n",
       "        document.getElementsByTagName(\"head\")[0].appendChild(s);\n",
       "      }\n",
       "    };var element = document.getElementById(\"1fcfac6f-39b0-4ecc-aabd-48dbab80a999\");\n",
       "    if (element == null) {\n",
       "      console.log(\"Bokeh: ERROR: autoload.js configured with elementid '1fcfac6f-39b0-4ecc-aabd-48dbab80a999' but no matching script tag was found. \")\n",
       "      return false;\n",
       "    }\n",
       "  \n",
       "    var js_urls = [];\n",
       "  \n",
       "    var inline_js = [\n",
       "      function(Bokeh) {\n",
       "        (function() {\n",
       "          var fn = function() {\n",
       "            var docs_json = {\"b7a65237-154a-4fe0-aba3-294349d6b807\":{\"roots\":{\"references\":[{\"attributes\":{\"child\":{\"id\":\"cb36a827-c3ab-497b-b4da-60533e07967b\",\"subtype\":\"Figure\",\"type\":\"Plot\"},\"title\":\"avg_cos\"},\"id\":\"83a6634d-107b-4816-871e-eba893db4b00\",\"type\":\"Panel\"},{\"attributes\":{\"active_drag\":\"auto\",\"active_inspect\":\"auto\",\"active_scroll\":\"auto\",\"active_tap\":\"auto\",\"tools\":[{\"id\":\"d59ad5c2-3729-4da2-b926-27b461816328\",\"type\":\"PanTool\"},{\"id\":\"60612c24-ea6d-4bea-955a-832876708d1e\",\"type\":\"WheelZoomTool\"},{\"id\":\"a8eb716e-9dc2-4955-99dd-f81ade46c6aa\",\"type\":\"BoxZoomTool\"},{\"id\":\"20a4b817-8b47-4292-a604-79ec233a8f11\",\"type\":\"SaveTool\"},{\"id\":\"8aad13db-536c-4af3-b572-88ae30374928\",\"type\":\"ResetTool\"},{\"id\":\"774e2c86-910a-44b8-97ab-4995c4d743ce\",\"type\":\"HelpTool\"},{\"id\":\"341299e3-709a-44c1-a369-e1934ef5227a\",\"type\":\"HoverTool\"}]},\"id\":\"1df22a29-1adb-4055-93cd-3f8c1e32f5bb\",\"type\":\"Toolbar\"},{\"attributes\":{},\"id\":\"ea6f1082-217d-4fdf-a17b-7c63eee12fa7\",\"type\":\"BasicTicker\"},{\"attributes\":{},\"id\":\"1f4b2236-7654-4577-9f96-3ed15906f83e\",\"type\":\"LinearScale\"},{\"attributes\":{},\"id\":\"90d3703d-c0cd-46a7-88b2-c90f00bcf844\",\"type\":\"LinearScale\"},{\"attributes\":{\"active_drag\":\"auto\",\"active_inspect\":\"auto\",\"active_scroll\":\"auto\",\"active_tap\":\"auto\",\"tools\":[{\"id\":\"e3046bc9-6030-4d8e-bde7-2ab705f5c19b\",\"type\":\"PanTool\"},{\"id\":\"6b254084-b618-48f5-8b99-b34a43653f2d\",\"type\":\"WheelZoomTool\"},{\"id\":\"5c0acc57-bc42-45fc-b6ab-0bd535586188\",\"type\":\"BoxZoomTool\"},{\"id\":\"16b96d13-69af-4ba2-a4d8-c12df62f2348\",\"type\":\"SaveTool\"},{\"id\":\"d4ae1156-8c4c-4093-a2f4-97a83892deaa\",\"type\":\"ResetTool\"},{\"id\":\"4ee67a7d-8b38-4731-9f05-5dad66bce064\",\"type\":\"HelpTool\"},{\"id\":\"341299e3-709a-44c1-a369-e1934ef5227a\",\"type\":\"HoverTool\"}]},\"id\":\"dd2aa996-048b-45ea-8684-45ef7315d6e8\",\"type\":\"Toolbar\"},{\"attributes\":{\"bottom_units\":\"screen\",\"fill_alpha\":{\"value\":0.5},\"fill_color\":{\"value\":\"lightgrey\"},\"left_units\":\"screen\",\"level\":\"overlay\",\"line_alpha\":{\"value\":1.0},\"line_color\":{\"value\":\"black\"},\"line_dash\":[4,4],\"line_width\":{\"value\":2},\"plot\":null,\"render_mode\":\"css\",\"right_units\":\"screen\",\"top_units\":\"screen\"},\"id\":\"e467fd47-0798-44ff-8496-98f1d15a16fa\",\"type\":\"BoxAnnotation\"},{\"attributes\":{},\"id\":\"f901e51a-57e8-438e-806c-09b963721e62\",\"type\":\"BasicTickFormatter\"},{\"attributes\":{},\"id\":\"4ee67a7d-8b38-4731-9f05-5dad66bce064\",\"type\":\"HelpTool\"},{\"attributes\":{\"fill_alpha\":{\"value\":0.1},\"fill_color\":{\"value\":\"#1f77b4\"},\"line_alpha\":{\"value\":0.1},\"line_color\":{\"value\":\"#1f77b4\"},\"size\":{\"units\":\"screen\",\"value\":20},\"x\":{\"field\":\"x\"},\"y\":{\"field\":\"y\"}},\"id\":\"9fabe164-ecd7-4d0f-9fd6-b42d5182ea38\",\"type\":\"Circle\"},{\"attributes\":{\"fill_alpha\":{\"value\":0.1},\"fill_color\":{\"value\":\"#1f77b4\"},\"line_alpha\":{\"value\":0.1},\"line_color\":{\"value\":\"#1f77b4\"},\"size\":{\"units\":\"screen\",\"value\":20},\"x\":{\"field\":\"x\"},\"y\":{\"field\":\"y\"}},\"id\":\"79258ae2-8419-4010-a90f-dd9bf3657337\",\"type\":\"Circle\"},{\"attributes\":{},\"id\":\"f3abdc01-b988-41de-afb7-bb7e54abc314\",\"type\":\"LinearScale\"},{\"attributes\":{},\"id\":\"7ca87760-2fb0-4f47-8826-e802968558bd\",\"type\":\"SaveTool\"},{\"attributes\":{},\"id\":\"9ed70d94-def8-4003-b94d-8bb3a6fab814\",\"type\":\"BasicTicker\"},{\"attributes\":{\"axis_label\":\"Number of Documents\",\"axis_label_text_font_size\":{\"value\":\"30pt\"},\"formatter\":{\"id\":\"20c767fb-1e41-4430-b0b7-b8bd1178f5fe\",\"type\":\"BasicTickFormatter\"},\"major_label_text_font_size\":{\"value\":\"15pt\"},\"plot\":{\"id\":\"b89b62f6-f4ef-4061-b5a5-3d4b4c630df6\",\"subtype\":\"Figure\",\"type\":\"Plot\"},\"ticker\":{\"id\":\"428fec07-7e0e-4cf4-800a-af9b92536a15\",\"type\":\"BasicTicker\"}},\"id\":\"63bb4d34-30f3-44a7-88a9-230c5ab74921\",\"type\":\"LinearAxis\"},{\"attributes\":{\"fill_alpha\":{\"value\":0.1},\"fill_color\":{\"value\":\"#1f77b4\"},\"line_alpha\":{\"value\":0.1},\"line_color\":{\"value\":\"#1f77b4\"},\"size\":{\"units\":\"screen\",\"value\":20},\"x\":{\"field\":\"x\"},\"y\":{\"field\":\"y\"}},\"id\":\"fa12e3bb-35a8-4573-b01b-eea4552339a3\",\"type\":\"Circle\"},{\"attributes\":{},\"id\":\"7c74d032-ab87-4f87-9201-307302e49114\",\"type\":\"BasicTickFormatter\"},{\"attributes\":{\"plot\":null,\"text\":\"brown\",\"text_font_size\":{\"value\":\"15pt\"}},\"id\":\"71e4db72-b62f-4a83-b4ea-1f922622059d\",\"type\":\"Title\"},{\"attributes\":{},\"id\":\"e5f5d558-a94b-44e3-b708-b2b2f80eeeb1\",\"type\":\"LinearScale\"},{\"attributes\":{\"bottom_units\":\"screen\",\"fill_alpha\":{\"value\":0.5},\"fill_color\":{\"value\":\"lightgrey\"},\"left_units\":\"screen\",\"level\":\"overlay\",\"line_alpha\":{\"value\":1.0},\"line_color\":{\"value\":\"black\"},\"line_dash\":[4,4],\"line_width\":{\"value\":2},\"plot\":null,\"render_mode\":\"css\",\"right_units\":\"screen\",\"top_units\":\"screen\"},\"id\":\"5d48cb22-bdde-4274-b839-b80371a573e4\",\"type\":\"BoxAnnotation\"},{\"attributes\":{},\"id\":\"4cdc50d2-40df-4b2a-b31a-2f5f517d0d1b\",\"type\":\"WheelZoomTool\"},{\"attributes\":{\"callback\":null},\"id\":\"01e71d86-2a92-440c-af43-cc665f0f8158\",\"type\":\"DataRange1d\"},{\"attributes\":{\"dimension\":1,\"plot\":{\"id\":\"b89b62f6-f4ef-4061-b5a5-3d4b4c630df6\",\"subtype\":\"Figure\",\"type\":\"Plot\"},\"ticker\":{\"id\":\"4f9c7224-6d1c-4975-a88e-9f78a9b17ec7\",\"type\":\"BasicTicker\"}},\"id\":\"e2dd8b0b-6bb8-4e25-a62b-0a25cbc94b6f\",\"type\":\"Grid\"},{\"attributes\":{\"active_drag\":\"auto\",\"active_inspect\":\"auto\",\"active_scroll\":\"auto\",\"active_tap\":\"auto\",\"tools\":[{\"id\":\"1c0f42cc-4e2f-4aab-af54-1bec5528d19e\",\"type\":\"PanTool\"},{\"id\":\"3a31f86d-a1e0-4a52-830d-9cf67199d6b8\",\"type\":\"WheelZoomTool\"},{\"id\":\"48ea3c93-2b72-4f97-9c42-58c149b495c7\",\"type\":\"BoxZoomTool\"},{\"id\":\"c4406ba4-36e6-4658-84a7-e12053eb443c\",\"type\":\"SaveTool\"},{\"id\":\"9c9af318-5d4d-42db-83ca-f5823efc4323\",\"type\":\"ResetTool\"},{\"id\":\"0ac15dc0-05d3-4df5-b928-8df0c14ad027\",\"type\":\"HelpTool\"},{\"id\":\"341299e3-709a-44c1-a369-e1934ef5227a\",\"type\":\"HoverTool\"}]},\"id\":\"1ffd41fe-a73e-4a7f-8881-904aa67c6363\",\"type\":\"Toolbar\"},{\"attributes\":{},\"id\":\"9c9af318-5d4d-42db-83ca-f5823efc4323\",\"type\":\"ResetTool\"},{\"attributes\":{},\"id\":\"e52e3a32-55a5-4650-94e0-e983e5afd09e\",\"type\":\"BasicTickFormatter\"},{\"attributes\":{},\"id\":\"ceada6d8-70e4-4f13-a18c-4927b19e225f\",\"type\":\"BasicTickFormatter\"},{\"attributes\":{},\"id\":\"616ca569-903e-4987-919b-936d93a8dbc9\",\"type\":\"BasicTicker\"},{\"attributes\":{\"axis_label\":\"avg_kld\",\"axis_label_text_font_size\":{\"value\":\"30pt\"},\"formatter\":{\"id\":\"7ac8a35a-f81f-440f-ab3a-15c57eb22b66\",\"type\":\"BasicTickFormatter\"},\"major_label_text_font_size\":{\"value\":\"15pt\"},\"plot\":{\"id\":\"eba72adb-904c-4b61-a774-196ad4c04e31\",\"subtype\":\"Figure\",\"type\":\"Plot\"},\"ticker\":{\"id\":\"2e80aab2-2702-4fe2-acb1-d63b53fbaea3\",\"type\":\"BasicTicker\"}},\"id\":\"8ec60bf2-58c8-4f98-b708-781118522c6e\",\"type\":\"LinearAxis\"},{\"attributes\":{\"overlay\":{\"id\":\"1ff335b3-76f2-44e8-8610-44fc2bf0bcbb\",\"type\":\"BoxAnnotation\"}},\"id\":\"5da2234d-4e8f-4262-bf40-c310cd8bd636\",\"type\":\"BoxZoomTool\"},{\"attributes\":{\"plot\":{\"id\":\"fd260c89-aa5b-462b-b900-b5598d42ac9d\",\"subtype\":\"Figure\",\"type\":\"Plot\"},\"ticker\":{\"id\":\"03b6358b-a96f-442c-8603-e46465fa33b6\",\"type\":\"BasicTicker\"}},\"id\":\"6e4a0578-f409-4cd2-a0bf-e86eb2f94024\",\"type\":\"Grid\"},{\"attributes\":{\"data_source\":{\"id\":\"63d59af0-a4ec-4a2d-8acf-e7ef33b8ae03\",\"type\":\"ColumnDataSource\"},\"glyph\":{\"id\":\"de6a6b03-c563-46fd-b9a8-f0630e3b1c01\",\"type\":\"Circle\"},\"hover_glyph\":null,\"muted_glyph\":null,\"nonselection_glyph\":{\"id\":\"288132d9-b269-408b-94f3-c497ccffd00e\",\"type\":\"Circle\"},\"selection_glyph\":null,\"view\":{\"id\":\"1ab3a29e-936c-4750-9486-f68af01a285e\",\"type\":\"CDSView\"}},\"id\":\"51d1f8e9-2ae7-4a4f-8d29-cbec566837e9\",\"type\":\"GlyphRenderer\"},{\"attributes\":{\"callback\":null},\"id\":\"12a97068-2cd0-4f72-9b83-8597b4a32ccf\",\"type\":\"DataRange1d\"},{\"attributes\":{\"overlay\":{\"id\":\"e467fd47-0798-44ff-8496-98f1d15a16fa\",\"type\":\"BoxAnnotation\"}},\"id\":\"e0b6ba87-bddd-4725-b7db-dce329a11116\",\"type\":\"BoxZoomTool\"},{\"attributes\":{\"callback\":null},\"id\":\"3b6f9beb-dfbe-4c07-b6ec-4f4489924831\",\"type\":\"DataRange1d\"},{\"attributes\":{},\"id\":\"f39e7f2c-b383-4f3d-b17b-0859df48026f\",\"type\":\"BasicTicker\"},{\"attributes\":{\"dimension\":1,\"plot\":{\"id\":\"a52751b1-ee9a-4894-9597-71d8932aefc3\",\"subtype\":\"Figure\",\"type\":\"Plot\"},\"ticker\":{\"id\":\"f9bd74ad-e79e-4be4-b839-0dac9950152d\",\"type\":\"BasicTicker\"}},\"id\":\"9b95b317-778f-46f0-9667-8593e0511817\",\"type\":\"Grid\"},{\"attributes\":{\"source\":{\"id\":\"63d59af0-a4ec-4a2d-8acf-e7ef33b8ae03\",\"type\":\"ColumnDataSource\"}},\"id\":\"1ab3a29e-936c-4750-9486-f68af01a285e\",\"type\":\"CDSView\"},{\"attributes\":{},\"id\":\"9da69469-8d49-4aab-b531-bad0fa163634\",\"type\":\"BasicTickFormatter\"},{\"attributes\":{\"callback\":null},\"id\":\"eabe3782-4cb5-430e-a5e4-01bd9452c434\",\"type\":\"DataRange1d\"},{\"attributes\":{\"fill_alpha\":{\"value\":0.1},\"fill_color\":{\"value\":\"#1f77b4\"},\"line_alpha\":{\"value\":0.1},\"line_color\":{\"value\":\"#1f77b4\"},\"size\":{\"units\":\"screen\",\"value\":20},\"x\":{\"field\":\"x\"},\"y\":{\"field\":\"y\"}},\"id\":\"bd0261b3-63bb-47bb-b0c1-9da7b479700b\",\"type\":\"Circle\"},{\"attributes\":{},\"id\":\"03b6358b-a96f-442c-8603-e46465fa33b6\",\"type\":\"BasicTicker\"},{\"attributes\":{},\"id\":\"c2200ce0-08ed-462e-9acb-a02f504a9427\",\"type\":\"PanTool\"},{\"attributes\":{},\"id\":\"ae581e9e-4568-4b93-8076-bcd46b2490d1\",\"type\":\"BasicTickFormatter\"},{\"attributes\":{},\"id\":\"6a9375e2-f72f-4a4f-b95b-2ca605875e89\",\"type\":\"PanTool\"},{\"attributes\":{},\"id\":\"aeff2137-976e-4203-80ff-08dc1f7073a8\",\"type\":\"BasicTickFormatter\"},{\"attributes\":{\"fill_alpha\":{\"value\":0.5},\"fill_color\":{\"value\":\"black\"},\"line_alpha\":{\"value\":0.5},\"size\":{\"units\":\"screen\",\"value\":20},\"x\":{\"field\":\"x\"},\"y\":{\"field\":\"y\"}},\"id\":\"4dec4f36-00e8-444d-ae51-8aa20a764e80\",\"type\":\"Circle\"},{\"attributes\":{},\"id\":\"1749036d-a8cd-4434-8c31-ae8aa20a3fad\",\"type\":\"ResetTool\"},{\"attributes\":{},\"id\":\"568f4af6-f902-490e-8f87-e5b96072947e\",\"type\":\"LinearScale\"},{\"attributes\":{},\"id\":\"c67f9ce6-bab0-489e-9a3f-17d3841662d8\",\"type\":\"BasicTickFormatter\"},{\"attributes\":{},\"id\":\"6484275d-a4aa-4703-86e7-4f55a05864d2\",\"type\":\"BasicTicker\"},{\"attributes\":{\"child\":{\"id\":\"b89b62f6-f4ef-4061-b5a5-3d4b4c630df6\",\"subtype\":\"Figure\",\"type\":\"Plot\"},\"title\":\"rank1\"},\"id\":\"1d66ff61-1639-45b8-8917-a606fbdd812b\",\"type\":\"Panel\"},{\"attributes\":{\"source\":{\"id\":\"77056e11-4636-4d3a-9750-5690bbffba79\",\"type\":\"ColumnDataSource\"}},\"id\":\"68ea1bcd-c28f-4f84-a47a-463146687f32\",\"type\":\"CDSView\"},{\"attributes\":{},\"id\":\"8aad13db-536c-4af3-b572-88ae30374928\",\"type\":\"ResetTool\"},{\"attributes\":{\"fill_alpha\":{\"value\":0.5},\"fill_color\":{\"value\":\"black\"},\"line_alpha\":{\"value\":0.5},\"size\":{\"units\":\"screen\",\"value\":20},\"x\":{\"field\":\"x\"},\"y\":{\"field\":\"y\"}},\"id\":\"44795c72-a134-433c-912c-3e96f4f11044\",\"type\":\"Circle\"},{\"attributes\":{\"below\":[{\"id\":\"bd6361bb-070c-43bd-966a-ee873e0a4db8\",\"type\":\"LinearAxis\"}],\"left\":[{\"id\":\"21de6e47-a2dd-459e-b535-76db011768d4\",\"type\":\"LinearAxis\"}],\"plot_width\":800,\"renderers\":[{\"id\":\"bd6361bb-070c-43bd-966a-ee873e0a4db8\",\"type\":\"LinearAxis\"},{\"id\":\"2d48a075-1d6e-42e8-a058-5587ba1d091b\",\"type\":\"Grid\"},{\"id\":\"21de6e47-a2dd-459e-b535-76db011768d4\",\"type\":\"LinearAxis\"},{\"id\":\"49e605d6-86e0-4c73-9637-16e29fa1bea5\",\"type\":\"Grid\"},{\"id\":\"5d48cb22-bdde-4274-b839-b80371a573e4\",\"type\":\"BoxAnnotation\"},{\"id\":\"14860cf3-5e88-461b-9603-eb09db61cff1\",\"type\":\"GlyphRenderer\"}],\"title\":{\"id\":\"71e4db72-b62f-4a83-b4ea-1f922622059d\",\"type\":\"Title\"},\"toolbar\":{\"id\":\"1ffd41fe-a73e-4a7f-8881-904aa67c6363\",\"type\":\"Toolbar\"},\"toolbar_location\":\"above\",\"x_range\":{\"id\":\"7870fa9c-ddc8-406e-8b05-2380ec185fec\",\"type\":\"DataRange1d\"},\"x_scale\":{\"id\":\"e5f5d558-a94b-44e3-b708-b2b2f80eeeb1\",\"type\":\"LinearScale\"},\"y_range\":{\"id\":\"12a97068-2cd0-4f72-9b83-8597b4a32ccf\",\"type\":\"DataRange1d\"},\"y_scale\":{\"id\":\"90d3703d-c0cd-46a7-88b2-c90f00bcf844\",\"type\":\"LinearScale\"}},\"id\":\"cb36a827-c3ab-497b-b4da-60533e07967b\",\"subtype\":\"Figure\",\"type\":\"Plot\"},{\"attributes\":{},\"id\":\"c1d2e8f9-729d-4545-a219-9ccb338e7d00\",\"type\":\"WheelZoomTool\"},{\"attributes\":{\"below\":[{\"id\":\"63bb4d34-30f3-44a7-88a9-230c5ab74921\",\"type\":\"LinearAxis\"}],\"left\":[{\"id\":\"18e1b4be-e1e4-420c-a2e7-40bd96802822\",\"type\":\"LinearAxis\"}],\"plot_width\":800,\"renderers\":[{\"id\":\"63bb4d34-30f3-44a7-88a9-230c5ab74921\",\"type\":\"LinearAxis\"},{\"id\":\"0fb2d209-381f-41f5-a27e-221c263aef73\",\"type\":\"Grid\"},{\"id\":\"18e1b4be-e1e4-420c-a2e7-40bd96802822\",\"type\":\"LinearAxis\"},{\"id\":\"e2dd8b0b-6bb8-4e25-a62b-0a25cbc94b6f\",\"type\":\"Grid\"},{\"id\":\"1ff335b3-76f2-44e8-8610-44fc2bf0bcbb\",\"type\":\"BoxAnnotation\"},{\"id\":\"a2b5ffc7-4292-4084-8e18-751550733465\",\"type\":\"GlyphRenderer\"}],\"title\":{\"id\":\"8163b28d-1911-4ec2-a049-f4852d033d6a\",\"type\":\"Title\"},\"toolbar\":{\"id\":\"e1d0309d-62f8-4334-af9b-a4b7f4fed491\",\"type\":\"Toolbar\"},\"toolbar_location\":\"above\",\"x_range\":{\"id\":\"3564d671-7e98-4544-b792-701f61d780d5\",\"type\":\"DataRange1d\"},\"x_scale\":{\"id\":\"df3c18b7-6f3e-4bd4-b249-f69d30d3f4df\",\"type\":\"LinearScale\"},\"y_range\":{\"id\":\"7c2a567f-4d8d-4fdf-a5a2-80ca5e9df4d7\",\"type\":\"DataRange1d\"},\"y_scale\":{\"id\":\"956eea54-2331-4ba7-aa00-2ff6e57d66b2\",\"type\":\"LinearScale\"}},\"id\":\"b89b62f6-f4ef-4061-b5a5-3d4b4c630df6\",\"subtype\":\"Figure\",\"type\":\"Plot\"},{\"attributes\":{},\"id\":\"20c8528f-ce45-43e9-aec9-e5cdbfe440c2\",\"type\":\"LinearScale\"},{\"attributes\":{\"child\":{\"id\":\"a52751b1-ee9a-4894-9597-71d8932aefc3\",\"subtype\":\"Figure\",\"type\":\"Plot\"},\"title\":\"exclusivity\"},\"id\":\"f736ae79-70df-42ed-9206-16f223cf1325\",\"type\":\"Panel\"},{\"attributes\":{},\"id\":\"60612c24-ea6d-4bea-955a-832876708d1e\",\"type\":\"WheelZoomTool\"},{\"attributes\":{\"callback\":null},\"id\":\"0c46bb1d-acaa-4713-bccd-1981d852f4e6\",\"type\":\"DataRange1d\"},{\"attributes\":{},\"id\":\"df3c18b7-6f3e-4bd4-b249-f69d30d3f4df\",\"type\":\"LinearScale\"},{\"attributes\":{},\"id\":\"0ac15dc0-05d3-4df5-b928-8df0c14ad027\",\"type\":\"HelpTool\"},{\"attributes\":{},\"id\":\"9edebfce-7d38-4f94-a9c1-3cad455d7801\",\"type\":\"ResetTool\"},{\"attributes\":{\"overlay\":{\"id\":\"8b9ed9d1-27ae-46c8-b200-7ecff7baca96\",\"type\":\"BoxAnnotation\"}},\"id\":\"9df541b1-3052-494b-a059-8c67b5698a81\",\"type\":\"BoxZoomTool\"},{\"attributes\":{\"child\":{\"id\":\"eba72adb-904c-4b61-a774-196ad4c04e31\",\"subtype\":\"Figure\",\"type\":\"Plot\"},\"title\":\"avg_kld\"},\"id\":\"14b0b04c-3e9f-4b86-9ddb-bde298ba8bde\",\"type\":\"Panel\"},{\"attributes\":{},\"id\":\"f9bd74ad-e79e-4be4-b839-0dac9950152d\",\"type\":\"BasicTicker\"},{\"attributes\":{\"callback\":null,\"column_names\":[\"x\",\"y\",\"top_three\"],\"data\":{\"top_three\":[\"cf16 ce16 cg10\",\"ce26 cg63 cj80\",\"cc10 cd15 cf15\",\"cf09 cg45 cd01\",\"cl22 cn25 cl17\",\"ck13 cp28 cg33\",\"cg45 cc16 cf16\",\"cn01 cf46 ck22\",\"cg33 cn27 ch26\",\"cd01 cj02 ch16\",\"cj54 cl03 cj66\",\"cd08 cj59 cp10\",\"cc14 cc06 cf20\",\"cg66 cp25 cj59\",\"cj43 cj26 cl15\",\"cj03 cg72 cc12\",\"cl06 cf41 ce07\",\"cj37 cj34 cp16\",\"ca18 cf22 ca39\",\"ce35 cp14 cg56\",\"cj57 cb17 ce01\",\"cg18 cg71 cg19\",\"cf04 cf37 cg02\",\"cj72 cg04 cp18\",\"cg48 cl23 ce35\",\"ck09 cg42 cb13\",\"cn15 cj50 cb15\",\"ck07 cd03 cn02\",\"cf43 cj46 cb05\",\"ca28 cj41 ck29\",\"cc06 ch18 cj66\",\"ce32 ce10 cl22\",\"cb21 ck25 ca40\",\"cg71 cj36 cn09\",\"cc10 cl06 ca21\",\"cj05 ce15 ch16\",\"ch20 cg08 cg14\",\"ck10 cg55 cg43\",\"cn15 cj11 cr08\",\"cd02 cc17 cb12\",\"cl21 ck11 cn21\",\"cr01 cg29 cg28\",\"cj31 ch26 ca33\",\"cg04 cp14 cp04\",\"ca25 cc14 cj01\",\"ca25 cp02 cr04\",\"cn09 cj77 cj59\",\"cg58 cf27 cc02\",\"cb27 cn15 cl22\",\"ce18 cn23 cf32\",\"cb24 cn21 cg61\",\"cg16 ch14 cf24\",\"cg50 ch20 ce05\",\"cg24 cc11 cg02\",\"cb01 ce26 cj08\",\"cj58 cf31 cb15\",\"cg30 cd01 cc16\",\"ca44 cj55 cd08\",\"cp05 cn04 cj05\",\"cj38 ck04 ca26\",\"ca32 cj39 cb05\",\"ce16 cg13 ch09\",\"cf36 ca11 cp25\",\"cj30 cg05 ca23\",\"ck22 ck17 cf44\",\"cp16 cp08 ca20\",\"ck11 cd15 cj04\",\"ce13 cl06 ch07\",\"ca34 cn29 cl21\",\"cf29 cn16 cg42\",\"cf37 ch18 cg44\",\"ck21 cg02 cf47\",\"cj35 cg40 cd02\",\"cj25 ce28 cn11\",\"cg43 cg41 ch04\",\"ca12 cg03 cf35\",\"cc03 cn12 cf36\",\"ce20 ck01 cg46\",\"cf17 cj23 cj64\",\"cj46 ce36 ck23\",\"ce32 cn28 ch30\",\"cg11 cg07 cj26\",\"cj45 cf13 cp15\",\"cf14 cg59 cg55\",\"cn11 cr05 cd06\",\"cj24 cg01 cd16\",\"cg53 ca38 ca09\",\"ce27 cb22 cl16\",\"cn22 cj61 cl21\",\"cj15 cn27 ca41\",\"cg70 cg61 cj30\",\"ca21 ce32 cg50\",\"ch05 ch11 cn24\",\"cp26 cb02 ck02\",\"cd06 cg51 cj36\",\"cr02 cj04 ck27\",\"cg44 cf36 cj74\",\"cc10 ca12 cg63\",\"cb19 cd05 cg40\",\"cj53 cb22 cj17\",\"cd03 cp27 cc14\",\"cf39 ca39 ch13\",\"ca05 cj67 cm02\",\"cj16 ce18 ca19\",\"cp22 cg65 cb14\",\"cf21 cj45 cd14\",\"ca42 cn29 cg43\",\"cp21 cg03 cj15\",\"cf23 ce11 cl21\",\"cj54 cc07 cj40\",\"cb22 cj10 cg33\",\"cg26 cg68 ck23\",\"cj36 cg20 cr09\",\"cb03 cb10 cj53\",\"cr05 cn08 cf15\",\"cb05 ck05 cg61\",\"cg34 ca44 ck04\",\"cn13 cg39 ce24\",\"cg38 cg59 cf44\",\"cj52 ck07 ck02\",\"cg13 ca34 cf36\",\"cc07 cj51 cf42\",\"cm05 cn09 cl01\",\"ch09 ca15 cp21\",\"ck24 ce31 cf45\",\"cp03 cg59 cf07\",\"cf22 cd09 cb13\",\"ce30 cn11 cp05\",\"cb10 cp15 cn10\",\"ce04 cj53 ca12\",\"cf20 ce08 cc12\",\"cj24 ch28 cj63\",\"ck21 cg60 ca11\",\"ch26 ca30 cj12\",\"cj07 cl17 ch07\"],\"x\":[50,50,50,50,50,50,50,50,50,50,50,50,50,50,50,100,100,100,100,100,100,100,100,100,100,100,100,100,100,100,150,150,150,150,150,150,150,150,150,150,150,150,150,150,150,200,200,200,200,200,200,200,200,200,200,200,200,200,200,200,250,250,250,250,250,250,250,250,250,250,250,250,250,250,250,300,300,300,300,300,300,300,300,300,300,300,300,300,300,300,350,350,350,350,350,350,350,350,350,350,350,350,350,350,350,400,400,400,400,400,400,400,400,400,400,400,400,400,400,400,450,450,450,450,450,450,450,450,450,450,450,450,450,450,450],\"y\":[5,5,2,1,3,2,2,3,4,3,6,1,4,4,5,14,3,8,5,8,6,6,3,9,2,7,3,9,5,12,14,5,6,10,7,10,7,15,11,7,9,14,11,15,9,17,9,10,4,15,16,12,13,17,10,17,18,13,15,14,27,12,6,13,17,16,25,11,17,14,15,19,14,22,22,19,19,11,18,25,18,21,23,18,16,25,29,18,20,20,17,19,17,18,18,30,36,21,23,26,23,27,15,29,31,25,26,23,30,23,21,26,25,32,26,27,28,29,28,31,33,25,30,25,27,26,37,34,29,38,30,35,28,30,23]}},\"id\":\"609e0296-027f-4a1d-b622-992035075cea\",\"type\":\"ColumnDataSource\"},{\"attributes\":{\"dimension\":1,\"plot\":{\"id\":\"eba72adb-904c-4b61-a774-196ad4c04e31\",\"subtype\":\"Figure\",\"type\":\"Plot\"},\"ticker\":{\"id\":\"2e80aab2-2702-4fe2-acb1-d63b53fbaea3\",\"type\":\"BasicTicker\"}},\"id\":\"1faf5b53-bbfa-4cc8-8b59-7e1824f97c1a\",\"type\":\"Grid\"},{\"attributes\":{},\"id\":\"c4406ba4-36e6-4658-84a7-e12053eb443c\",\"type\":\"SaveTool\"},{\"attributes\":{},\"id\":\"aec4f99e-8f3f-47a9-9783-f37dc7a1f3a0\",\"type\":\"LinearScale\"},{\"attributes\":{\"plot\":null,\"text\":\"brown\",\"text_font_size\":{\"value\":\"15pt\"}},\"id\":\"70f7c530-06a9-413f-8cd6-f57ad5158c55\",\"type\":\"Title\"},{\"attributes\":{},\"id\":\"b11aafd2-615f-4366-94fe-edc9264c4b5a\",\"type\":\"LinearScale\"},{\"attributes\":{\"data_source\":{\"id\":\"c6d7c1c4-3b92-409b-8fd6-e7e54ee85d04\",\"type\":\"ColumnDataSource\"},\"glyph\":{\"id\":\"44795c72-a134-433c-912c-3e96f4f11044\",\"type\":\"Circle\"},\"hover_glyph\":null,\"muted_glyph\":null,\"nonselection_glyph\":{\"id\":\"79258ae2-8419-4010-a90f-dd9bf3657337\",\"type\":\"Circle\"},\"selection_glyph\":null,\"view\":{\"id\":\"0f687837-18bb-44d8-ad7b-09a3eca8c846\",\"type\":\"CDSView\"}},\"id\":\"14860cf3-5e88-461b-9603-eb09db61cff1\",\"type\":\"GlyphRenderer\"},{\"attributes\":{},\"id\":\"c3b15c27-bed4-4d59-952e-c117f2eb9c8e\",\"type\":\"WheelZoomTool\"},{\"attributes\":{\"callback\":null,\"column_names\":[\"x\",\"y\",\"top_three\"],\"data\":{\"top_three\":[\"cf16 ce16 cg10\",\"ce26 cg63 cj80\",\"cc10 cd15 cf15\",\"cf09 cg45 cd01\",\"cl22 cn25 cl17\",\"ck13 cp28 cg33\",\"cg45 cc16 cf16\",\"cn01 cf46 ck22\",\"cg33 cn27 ch26\",\"cd01 cj02 ch16\",\"cj54 cl03 cj66\",\"cd08 cj59 cp10\",\"cc14 cc06 cf20\",\"cg66 cp25 cj59\",\"cj43 cj26 cl15\",\"cj03 cg72 cc12\",\"cl06 cf41 ce07\",\"cj37 cj34 cp16\",\"ca18 cf22 ca39\",\"ce35 cp14 cg56\",\"cj57 cb17 ce01\",\"cg18 cg71 cg19\",\"cf04 cf37 cg02\",\"cj72 cg04 cp18\",\"cg48 cl23 ce35\",\"ck09 cg42 cb13\",\"cn15 cj50 cb15\",\"ck07 cd03 cn02\",\"cf43 cj46 cb05\",\"ca28 cj41 ck29\",\"cc06 ch18 cj66\",\"ce32 ce10 cl22\",\"cb21 ck25 ca40\",\"cg71 cj36 cn09\",\"cc10 cl06 ca21\",\"cj05 ce15 ch16\",\"ch20 cg08 cg14\",\"ck10 cg55 cg43\",\"cn15 cj11 cr08\",\"cd02 cc17 cb12\",\"cl21 ck11 cn21\",\"cr01 cg29 cg28\",\"cj31 ch26 ca33\",\"cg04 cp14 cp04\",\"ca25 cc14 cj01\",\"ca25 cp02 cr04\",\"cn09 cj77 cj59\",\"cg58 cf27 cc02\",\"cb27 cn15 cl22\",\"ce18 cn23 cf32\",\"cb24 cn21 cg61\",\"cg16 ch14 cf24\",\"cg50 ch20 ce05\",\"cg24 cc11 cg02\",\"cb01 ce26 cj08\",\"cj58 cf31 cb15\",\"cg30 cd01 cc16\",\"ca44 cj55 cd08\",\"cp05 cn04 cj05\",\"cj38 ck04 ca26\",\"ca32 cj39 cb05\",\"ce16 cg13 ch09\",\"cf36 ca11 cp25\",\"cj30 cg05 ca23\",\"ck22 ck17 cf44\",\"cp16 cp08 ca20\",\"ck11 cd15 cj04\",\"ce13 cl06 ch07\",\"ca34 cn29 cl21\",\"cf29 cn16 cg42\",\"cf37 ch18 cg44\",\"ck21 cg02 cf47\",\"cj35 cg40 cd02\",\"cj25 ce28 cn11\",\"cg43 cg41 ch04\",\"ca12 cg03 cf35\",\"cc03 cn12 cf36\",\"ce20 ck01 cg46\",\"cf17 cj23 cj64\",\"cj46 ce36 ck23\",\"ce32 cn28 ch30\",\"cg11 cg07 cj26\",\"cj45 cf13 cp15\",\"cf14 cg59 cg55\",\"cn11 cr05 cd06\",\"cj24 cg01 cd16\",\"cg53 ca38 ca09\",\"ce27 cb22 cl16\",\"cn22 cj61 cl21\",\"cj15 cn27 ca41\",\"cg70 cg61 cj30\",\"ca21 ce32 cg50\",\"ch05 ch11 cn24\",\"cp26 cb02 ck02\",\"cd06 cg51 cj36\",\"cr02 cj04 ck27\",\"cg44 cf36 cj74\",\"cc10 ca12 cg63\",\"cb19 cd05 cg40\",\"cj53 cb22 cj17\",\"cd03 cp27 cc14\",\"cf39 ca39 ch13\",\"ca05 cj67 cm02\",\"cj16 ce18 ca19\",\"cp22 cg65 cb14\",\"cf21 cj45 cd14\",\"ca42 cn29 cg43\",\"cp21 cg03 cj15\",\"cf23 ce11 cl21\",\"cj54 cc07 cj40\",\"cb22 cj10 cg33\",\"cg26 cg68 ck23\",\"cj36 cg20 cr09\",\"cb03 cb10 cj53\",\"cr05 cn08 cf15\",\"cb05 ck05 cg61\",\"cg34 ca44 ck04\",\"cn13 cg39 ce24\",\"cg38 cg59 cf44\",\"cj52 ck07 ck02\",\"cg13 ca34 cf36\",\"cc07 cj51 cf42\",\"cm05 cn09 cl01\",\"ch09 ca15 cp21\",\"ck24 ce31 cf45\",\"cp03 cg59 cf07\",\"cf22 cd09 cb13\",\"ce30 cn11 cp05\",\"cb10 cp15 cn10\",\"ce04 cj53 ca12\",\"cf20 ce08 cc12\",\"cj24 ch28 cj63\",\"ck21 cg60 ca11\",\"ch26 ca30 cj12\",\"cj07 cl17 ch07\"],\"x\":[50,50,50,50,50,50,50,50,50,50,50,50,50,50,50,100,100,100,100,100,100,100,100,100,100,100,100,100,100,100,150,150,150,150,150,150,150,150,150,150,150,150,150,150,150,200,200,200,200,200,200,200,200,200,200,200,200,200,200,200,250,250,250,250,250,250,250,250,250,250,250,250,250,250,250,300,300,300,300,300,300,300,300,300,300,300,300,300,300,300,350,350,350,350,350,350,350,350,350,350,350,350,350,350,350,400,400,400,400,400,400,400,400,400,400,400,400,400,400,400,450,450,450,450,450,450,450,450,450,450,450,450,450,450,450],\"y\":[48.16334045775678,49.03227871729644,38.01918177139966,34.10589309641286,41.31315389996645,38.38899220836532,36.90166878374507,40.6226251974546,44.21104037751462,41.594928935450795,52.065878786509636,34.11307233881203,44.443825472714494,45.02347762464621,49.63646783475767,129.37915241007008,84.20033818508297,103.60888969533745,91.46710066770468,102.73247028149257,96.23717366033003,94.9266322888268,84.3927235157245,107.79140951791243,79.55726955137241,100.32597227655062,82.8744872140865,108.17465586252187,91.61777162576576,119.05611453148408,137.01667086886386,113.26910285749749,78.91726787311133,71.70347447323458,82.37834263423956,108.44910119312704,64.03855702501048,123.71367943936583,111.78240617578732,101.89893821630557,69.88331340714376,100.83430895137319,112.28525889207828,103.50487471353168,105.73146061266338,146.98073919113497,116.02495069482376,123.5982794439933,92.70451907248491,138.71155922185375,163.12116151477395,115.99038367795026,125.00031825349257,146.52886448010057,120.03496294708313,143.747794561594,179.09682869251637,140.81188299884397,163.4060551236898,136.3118155835697,236.95082234942026,143.4430751594809,111.55790827832524,152.92793943042068,169.3551044623312,166.9992413642263,216.8855556674186,138.7262798663105,173.19831105336368,156.2262628206921,161.33973248890845,184.77106662302432,155.3029831445342,204.38492391935677,201.52061082077083,193.4948358173641,204.98903476948038,132.42885334407708,187.25467817168573,196.2991791293461,191.391072157584,206.83486702434297,160.52494179285154,153.94595714778637,167.18715522442542,205.0073870996465,205.3797228698278,188.30604392565468,198.6671964138998,182.6294054109281,177.63795330761133,190.33214384207014,180.18261416376498,193.5442931916819,194.02291299217362,263.70239691883614,296.8294973060062,193.35183615056928,216.37543243121044,242.4260638561439,213.1857736195801,241.55859380917838,161.5407367263251,248.15712285471696,264.2696896722406,228.8395504725645,184.25066397397387,265.8999304530674,201.82849322651404,267.32734174727364,208.61744769301592,234.08360858397216,276.0600749114264,258.6532509584253,275.75044727236286,238.23457548541367,199.4358354262196,244.26041792753713,192.4859139963064,307.9904980015909,275.2705320461023,242.19467523533356,270.3423890666017,228.92088345589136,261.4019459144638,246.45121616592849,287.831659987648,299.5044994541899,254.76198794288914,318.8682713601777,265.36780342120653,294.55651479458555,287.8602331638744,291.2958529404943,233.45030230969522]}},\"id\":\"e97d4ca8-0d2c-45b1-b573-cbc073a01cf9\",\"type\":\"ColumnDataSource\"},{\"attributes\":{\"bottom_units\":\"screen\",\"fill_alpha\":{\"value\":0.5},\"fill_color\":{\"value\":\"lightgrey\"},\"left_units\":\"screen\",\"level\":\"overlay\",\"line_alpha\":{\"value\":1.0},\"line_color\":{\"value\":\"black\"},\"line_dash\":[4,4],\"line_width\":{\"value\":2},\"plot\":null,\"render_mode\":\"css\",\"right_units\":\"screen\",\"top_units\":\"screen\"},\"id\":\"8b9ed9d1-27ae-46c8-b200-7ecff7baca96\",\"type\":\"BoxAnnotation\"},{\"attributes\":{\"data_source\":{\"id\":\"609e0296-027f-4a1d-b622-992035075cea\",\"type\":\"ColumnDataSource\"},\"glyph\":{\"id\":\"4dec4f36-00e8-444d-ae51-8aa20a764e80\",\"type\":\"Circle\"},\"hover_glyph\":null,\"muted_glyph\":null,\"nonselection_glyph\":{\"id\":\"292c8674-c220-4317-a606-e667b3d01cc5\",\"type\":\"Circle\"},\"selection_glyph\":null,\"view\":{\"id\":\"fd048d33-dba5-4bfc-af84-d56d7d47dfec\",\"type\":\"CDSView\"}},\"id\":\"a2b5ffc7-4292-4084-8e18-751550733465\",\"type\":\"GlyphRenderer\"},{\"attributes\":{\"overlay\":{\"id\":\"31af5f7c-47c3-43db-9ad3-5e2137c758e1\",\"type\":\"BoxAnnotation\"}},\"id\":\"519af755-d65b-4a12-b626-9f74318c5eb7\",\"type\":\"BoxZoomTool\"},{\"attributes\":{\"fill_alpha\":{\"value\":0.5},\"fill_color\":{\"value\":\"black\"},\"line_alpha\":{\"value\":0.5},\"size\":{\"units\":\"screen\",\"value\":20},\"x\":{\"field\":\"x\"},\"y\":{\"field\":\"y\"}},\"id\":\"1e413c8b-ca9a-4fb9-9035-254542c1a063\",\"type\":\"Circle\"},{\"attributes\":{\"axis_label\":\"Number of Documents\",\"axis_label_text_font_size\":{\"value\":\"30pt\"},\"formatter\":{\"id\":\"ae581e9e-4568-4b93-8076-bcd46b2490d1\",\"type\":\"BasicTickFormatter\"},\"major_label_text_font_size\":{\"value\":\"15pt\"},\"plot\":{\"id\":\"a52751b1-ee9a-4894-9597-71d8932aefc3\",\"subtype\":\"Figure\",\"type\":\"Plot\"},\"ticker\":{\"id\":\"9e84bd7b-bccc-44a8-968f-812f9e089dc3\",\"type\":\"BasicTicker\"}},\"id\":\"3aee98a0-5bf2-4180-b37b-78a127d71f28\",\"type\":\"LinearAxis\"},{\"attributes\":{\"fill_alpha\":{\"value\":0.5},\"fill_color\":{\"value\":\"black\"},\"line_alpha\":{\"value\":0.5},\"size\":{\"units\":\"screen\",\"value\":20},\"x\":{\"field\":\"x\"},\"y\":{\"field\":\"y\"}},\"id\":\"1e1648ce-ff9a-4624-9336-f3dff41f2888\",\"type\":\"Circle\"},{\"attributes\":{\"fill_alpha\":{\"value\":0.1},\"fill_color\":{\"value\":\"#1f77b4\"},\"line_alpha\":{\"value\":0.1},\"line_color\":{\"value\":\"#1f77b4\"},\"size\":{\"units\":\"screen\",\"value\":20},\"x\":{\"field\":\"x\"},\"y\":{\"field\":\"y\"}},\"id\":\"292c8674-c220-4317-a606-e667b3d01cc5\",\"type\":\"Circle\"},{\"attributes\":{\"below\":[{\"id\":\"ff2d6b4b-2aa7-4b7d-9506-719ee208fc34\",\"type\":\"LinearAxis\"}],\"left\":[{\"id\":\"4d2eac77-b37c-4507-b41d-3ba1378eed33\",\"type\":\"LinearAxis\"}],\"plot_width\":800,\"renderers\":[{\"id\":\"ff2d6b4b-2aa7-4b7d-9506-719ee208fc34\",\"type\":\"LinearAxis\"},{\"id\":\"6e4a0578-f409-4cd2-a0bf-e86eb2f94024\",\"type\":\"Grid\"},{\"id\":\"4d2eac77-b37c-4507-b41d-3ba1378eed33\",\"type\":\"LinearAxis\"},{\"id\":\"d5c72885-6a92-4a7e-b80b-c83c0dfb6611\",\"type\":\"Grid\"},{\"id\":\"31af5f7c-47c3-43db-9ad3-5e2137c758e1\",\"type\":\"BoxAnnotation\"},{\"id\":\"910174f0-80a6-40e1-8541-cefaecae9cce\",\"type\":\"GlyphRenderer\"}],\"title\":{\"id\":\"3713c247-f89c-4a38-8b2a-0d584d022df5\",\"type\":\"Title\"},\"toolbar\":{\"id\":\"0ec5e12f-cd92-4851-b092-57a8e789e9ba\",\"type\":\"Toolbar\"},\"toolbar_location\":\"above\",\"x_range\":{\"id\":\"1104a929-6559-40de-a80b-51c0ef527a04\",\"type\":\"DataRange1d\"},\"x_scale\":{\"id\":\"f3abdc01-b988-41de-afb7-bb7e54abc314\",\"type\":\"LinearScale\"},\"y_range\":{\"id\":\"0c46bb1d-acaa-4713-bccd-1981d852f4e6\",\"type\":\"DataRange1d\"},\"y_scale\":{\"id\":\"b11aafd2-615f-4366-94fe-edc9264c4b5a\",\"type\":\"LinearScale\"}},\"id\":\"fd260c89-aa5b-462b-b900-b5598d42ac9d\",\"subtype\":\"Figure\",\"type\":\"Plot\"},{\"attributes\":{\"callback\":null,\"tabs\":[{\"id\":\"14b0b04c-3e9f-4b86-9ddb-bde298ba8bde\",\"type\":\"Panel\"},{\"id\":\"e847b9fa-2968-4e65-b7e5-daea0d3abea7\",\"type\":\"Panel\"},{\"id\":\"98214a2d-30b7-4fec-9a51-f97d180e8490\",\"type\":\"Panel\"},{\"id\":\"87e29ac6-66bc-43cd-bb87-f71513e07539\",\"type\":\"Panel\"},{\"id\":\"83a6634d-107b-4816-871e-eba893db4b00\",\"type\":\"Panel\"},{\"id\":\"1d66ff61-1639-45b8-8917-a606fbdd812b\",\"type\":\"Panel\"},{\"id\":\"f736ae79-70df-42ed-9206-16f223cf1325\",\"type\":\"Panel\"}]},\"id\":\"31c44778-e96e-4097-9fd4-49b106376690\",\"type\":\"Tabs\"},{\"attributes\":{\"callback\":null},\"id\":\"c399e182-3cb3-468e-983b-1559776b3da6\",\"type\":\"DataRange1d\"},{\"attributes\":{\"callback\":null},\"id\":\"583a0343-cba3-44d7-93ed-bb563561ba1e\",\"type\":\"DataRange1d\"},{\"attributes\":{\"bottom_units\":\"screen\",\"fill_alpha\":{\"value\":0.5},\"fill_color\":{\"value\":\"lightgrey\"},\"left_units\":\"screen\",\"level\":\"overlay\",\"line_alpha\":{\"value\":1.0},\"line_color\":{\"value\":\"black\"},\"line_dash\":[4,4],\"line_width\":{\"value\":2},\"plot\":null,\"render_mode\":\"css\",\"right_units\":\"screen\",\"top_units\":\"screen\"},\"id\":\"31af5f7c-47c3-43db-9ad3-5e2137c758e1\",\"type\":\"BoxAnnotation\"},{\"attributes\":{},\"id\":\"093c935d-0419-4d06-8559-1037865eb154\",\"type\":\"LinearScale\"},{\"attributes\":{},\"id\":\"1c0f42cc-4e2f-4aab-af54-1bec5528d19e\",\"type\":\"PanTool\"},{\"attributes\":{\"bottom_units\":\"screen\",\"fill_alpha\":{\"value\":0.5},\"fill_color\":{\"value\":\"lightgrey\"},\"left_units\":\"screen\",\"level\":\"overlay\",\"line_alpha\":{\"value\":1.0},\"line_color\":{\"value\":\"black\"},\"line_dash\":[4,4],\"line_width\":{\"value\":2},\"plot\":null,\"render_mode\":\"css\",\"right_units\":\"screen\",\"top_units\":\"screen\"},\"id\":\"417afe39-116f-4f20-b33a-882a04a4733c\",\"type\":\"BoxAnnotation\"},{\"attributes\":{\"below\":[{\"id\":\"3ba5eb0d-e253-4c2b-9148-231d0caa9a52\",\"type\":\"LinearAxis\"}],\"left\":[{\"id\":\"8ec60bf2-58c8-4f98-b708-781118522c6e\",\"type\":\"LinearAxis\"}],\"plot_width\":800,\"renderers\":[{\"id\":\"3ba5eb0d-e253-4c2b-9148-231d0caa9a52\",\"type\":\"LinearAxis\"},{\"id\":\"611dcdeb-c0f8-405b-9e06-ad41371bf7d7\",\"type\":\"Grid\"},{\"id\":\"8ec60bf2-58c8-4f98-b708-781118522c6e\",\"type\":\"LinearAxis\"},{\"id\":\"1faf5b53-bbfa-4cc8-8b59-7e1824f97c1a\",\"type\":\"Grid\"},{\"id\":\"417afe39-116f-4f20-b33a-882a04a4733c\",\"type\":\"BoxAnnotation\"},{\"id\":\"51d1f8e9-2ae7-4a4f-8d29-cbec566837e9\",\"type\":\"GlyphRenderer\"}],\"title\":{\"id\":\"ea941548-8668-4e07-8838-503ec43b4b64\",\"type\":\"Title\"},\"toolbar\":{\"id\":\"dd2aa996-048b-45ea-8684-45ef7315d6e8\",\"type\":\"Toolbar\"},\"toolbar_location\":\"above\",\"x_range\":{\"id\":\"01e71d86-2a92-440c-af43-cc665f0f8158\",\"type\":\"DataRange1d\"},\"x_scale\":{\"id\":\"ca64a4ae-497f-46af-9b9e-992da59b9a13\",\"type\":\"LinearScale\"},\"y_range\":{\"id\":\"df30e2f4-6946-4a93-b115-1532dbaedbf2\",\"type\":\"DataRange1d\"},\"y_scale\":{\"id\":\"aec4f99e-8f3f-47a9-9783-f37dc7a1f3a0\",\"type\":\"LinearScale\"}},\"id\":\"eba72adb-904c-4b61-a774-196ad4c04e31\",\"subtype\":\"Figure\",\"type\":\"Plot\"},{\"attributes\":{},\"id\":\"676ca4dc-d43f-4c6e-a7ef-47ed418d8a23\",\"type\":\"WheelZoomTool\"},{\"attributes\":{\"fill_alpha\":{\"value\":0.1},\"fill_color\":{\"value\":\"#1f77b4\"},\"line_alpha\":{\"value\":0.1},\"line_color\":{\"value\":\"#1f77b4\"},\"size\":{\"units\":\"screen\",\"value\":20},\"x\":{\"field\":\"x\"},\"y\":{\"field\":\"y\"}},\"id\":\"45b9eb6d-7f24-41cf-a3bc-9e696b474a94\",\"type\":\"Circle\"},{\"attributes\":{\"data_source\":{\"id\":\"7b7f7fca-4be0-43d0-82af-47088b610fb2\",\"type\":\"ColumnDataSource\"},\"glyph\":{\"id\":\"1e1648ce-ff9a-4624-9336-f3dff41f2888\",\"type\":\"Circle\"},\"hover_glyph\":null,\"muted_glyph\":null,\"nonselection_glyph\":{\"id\":\"bd0261b3-63bb-47bb-b0c1-9da7b479700b\",\"type\":\"Circle\"},\"selection_glyph\":null,\"view\":{\"id\":\"a3f1fbcc-0699-471e-944b-d74e6b7c826b\",\"type\":\"CDSView\"}},\"id\":\"ce53bcb2-4c45-4c1c-93ee-b8e88719188a\",\"type\":\"GlyphRenderer\"},{\"attributes\":{\"below\":[{\"id\":\"3aee98a0-5bf2-4180-b37b-78a127d71f28\",\"type\":\"LinearAxis\"}],\"left\":[{\"id\":\"beac2c3d-00ef-48ee-8bd0-4cd4cee243b1\",\"type\":\"LinearAxis\"}],\"plot_width\":800,\"renderers\":[{\"id\":\"3aee98a0-5bf2-4180-b37b-78a127d71f28\",\"type\":\"LinearAxis\"},{\"id\":\"5bbba362-7dfa-4e55-baf3-4673e461cdc2\",\"type\":\"Grid\"},{\"id\":\"beac2c3d-00ef-48ee-8bd0-4cd4cee243b1\",\"type\":\"LinearAxis\"},{\"id\":\"9b95b317-778f-46f0-9667-8593e0511817\",\"type\":\"Grid\"},{\"id\":\"b6f67ce2-46ca-4b04-a9d0-3d90690c7c66\",\"type\":\"BoxAnnotation\"},{\"id\":\"ce53bcb2-4c45-4c1c-93ee-b8e88719188a\",\"type\":\"GlyphRenderer\"}],\"title\":{\"id\":\"804623e3-c5e7-4020-8a76-80d6915d3812\",\"type\":\"Title\"},\"toolbar\":{\"id\":\"1df22a29-1adb-4055-93cd-3f8c1e32f5bb\",\"type\":\"Toolbar\"},\"toolbar_location\":\"above\",\"x_range\":{\"id\":\"dfde5eb1-5f11-495f-82f4-05d36645464e\",\"type\":\"DataRange1d\"},\"x_scale\":{\"id\":\"943a751d-9de6-4609-aa06-b68d68eb6993\",\"type\":\"LinearScale\"},\"y_range\":{\"id\":\"583a0343-cba3-44d7-93ed-bb563561ba1e\",\"type\":\"DataRange1d\"},\"y_scale\":{\"id\":\"1f4b2236-7654-4577-9f96-3ed15906f83e\",\"type\":\"LinearScale\"}},\"id\":\"a52751b1-ee9a-4894-9597-71d8932aefc3\",\"subtype\":\"Figure\",\"type\":\"Plot\"},{\"attributes\":{\"overlay\":{\"id\":\"5d48cb22-bdde-4274-b839-b80371a573e4\",\"type\":\"BoxAnnotation\"}},\"id\":\"48ea3c93-2b72-4f97-9c42-58c149b495c7\",\"type\":\"BoxZoomTool\"},{\"attributes\":{\"callback\":null},\"id\":\"7c2a567f-4d8d-4fdf-a5a2-80ca5e9df4d7\",\"type\":\"DataRange1d\"},{\"attributes\":{},\"id\":\"c105adf4-12fc-40d1-b8d3-7731e5c7acaa\",\"type\":\"PanTool\"},{\"attributes\":{},\"id\":\"16b96d13-69af-4ba2-a4d8-c12df62f2348\",\"type\":\"SaveTool\"},{\"attributes\":{},\"id\":\"9254df11-8b90-4716-9e8e-c712653446e4\",\"type\":\"HelpTool\"},{\"attributes\":{\"axis_label\":\"Number of Documents\",\"axis_label_text_font_size\":{\"value\":\"30pt\"},\"formatter\":{\"id\":\"18b26743-9058-4682-bee7-52a084c584f5\",\"type\":\"BasicTickFormatter\"},\"major_label_text_font_size\":{\"value\":\"15pt\"},\"plot\":{\"id\":\"6304a9c3-f076-452d-be40-a9c4d459133a\",\"subtype\":\"Figure\",\"type\":\"Plot\"},\"ticker\":{\"id\":\"616ca569-903e-4987-919b-936d93a8dbc9\",\"type\":\"BasicTicker\"}},\"id\":\"22a1d0db-abf7-4866-bd12-6469aac66010\",\"type\":\"LinearAxis\"},{\"attributes\":{\"data_source\":{\"id\":\"77056e11-4636-4d3a-9750-5690bbffba79\",\"type\":\"ColumnDataSource\"},\"glyph\":{\"id\":\"1e413c8b-ca9a-4fb9-9035-254542c1a063\",\"type\":\"Circle\"},\"hover_glyph\":null,\"muted_glyph\":null,\"nonselection_glyph\":{\"id\":\"9fabe164-ecd7-4d0f-9fd6-b42d5182ea38\",\"type\":\"Circle\"},\"selection_glyph\":null,\"view\":{\"id\":\"68ea1bcd-c28f-4f84-a47a-463146687f32\",\"type\":\"CDSView\"}},\"id\":\"0bba269a-6a9d-4466-b81c-765524e7eaf1\",\"type\":\"GlyphRenderer\"},{\"attributes\":{\"fill_alpha\":{\"value\":0.1},\"fill_color\":{\"value\":\"#1f77b4\"},\"line_alpha\":{\"value\":0.1},\"line_color\":{\"value\":\"#1f77b4\"},\"size\":{\"units\":\"screen\",\"value\":20},\"x\":{\"field\":\"x\"},\"y\":{\"field\":\"y\"}},\"id\":\"288132d9-b269-408b-94f3-c497ccffd00e\",\"type\":\"Circle\"},{\"attributes\":{\"below\":[{\"id\":\"f73266f1-a86b-4877-8aa3-fa901ddc1fc6\",\"type\":\"LinearAxis\"}],\"left\":[{\"id\":\"ce13cc07-0e91-4467-8217-1b4dafcd1b95\",\"type\":\"LinearAxis\"}],\"plot_width\":800,\"renderers\":[{\"id\":\"f73266f1-a86b-4877-8aa3-fa901ddc1fc6\",\"type\":\"LinearAxis\"},{\"id\":\"35ea8af9-3314-4b7c-9e7a-5a683bfd4afb\",\"type\":\"Grid\"},{\"id\":\"ce13cc07-0e91-4467-8217-1b4dafcd1b95\",\"type\":\"LinearAxis\"},{\"id\":\"51c576c4-fcf4-44c9-a81b-263f7153a552\",\"type\":\"Grid\"},{\"id\":\"8b9ed9d1-27ae-46c8-b200-7ecff7baca96\",\"type\":\"BoxAnnotation\"},{\"id\":\"56ed0baf-a671-43e3-a133-330a3ce54219\",\"type\":\"GlyphRenderer\"}],\"title\":{\"id\":\"2f3169f7-e8e8-4df0-b4ba-ad65da5d3473\",\"type\":\"Title\"},\"toolbar\":{\"id\":\"89eb42cc-a2c4-4f88-9b72-d33127a8efe3\",\"type\":\"Toolbar\"},\"toolbar_location\":\"above\",\"x_range\":{\"id\":\"c399e182-3cb3-468e-983b-1559776b3da6\",\"type\":\"DataRange1d\"},\"x_scale\":{\"id\":\"9db41723-cf50-4aa2-8cf4-e47fdf5c07f4\",\"type\":\"LinearScale\"},\"y_range\":{\"id\":\"eabe3782-4cb5-430e-a5e4-01bd9452c434\",\"type\":\"DataRange1d\"},\"y_scale\":{\"id\":\"20c8528f-ce45-43e9-aec9-e5cdbfe440c2\",\"type\":\"LinearScale\"}},\"id\":\"dff90ec8-3190-4da3-a665-31c54d05134e\",\"subtype\":\"Figure\",\"type\":\"Plot\"},{\"attributes\":{\"axis_label\":\"exclusivity\",\"axis_label_text_font_size\":{\"value\":\"30pt\"},\"formatter\":{\"id\":\"ceada6d8-70e4-4f13-a18c-4927b19e225f\",\"type\":\"BasicTickFormatter\"},\"major_label_text_font_size\":{\"value\":\"15pt\"},\"plot\":{\"id\":\"a52751b1-ee9a-4894-9597-71d8932aefc3\",\"subtype\":\"Figure\",\"type\":\"Plot\"},\"ticker\":{\"id\":\"f9bd74ad-e79e-4be4-b839-0dac9950152d\",\"type\":\"BasicTicker\"}},\"id\":\"beac2c3d-00ef-48ee-8bd0-4cd4cee243b1\",\"type\":\"LinearAxis\"},{\"attributes\":{},\"id\":\"45e40d76-b926-4afc-83a2-3b3b493b18e8\",\"type\":\"BasicTicker\"},{\"attributes\":{},\"id\":\"3a31f86d-a1e0-4a52-830d-9cf67199d6b8\",\"type\":\"WheelZoomTool\"},{\"attributes\":{\"child\":{\"id\":\"fd260c89-aa5b-462b-b900-b5598d42ac9d\",\"subtype\":\"Figure\",\"type\":\"Plot\"},\"title\":\"distance_from_uniform\"},\"id\":\"87e29ac6-66bc-43cd-bb87-f71513e07539\",\"type\":\"Panel\"},{\"attributes\":{\"fill_alpha\":{\"value\":0.5},\"fill_color\":{\"value\":\"black\"},\"line_alpha\":{\"value\":0.5},\"size\":{\"units\":\"screen\",\"value\":20},\"x\":{\"field\":\"x\"},\"y\":{\"field\":\"y\"}},\"id\":\"7eff2777-a835-4b3c-8462-aaf2d5a6585d\",\"type\":\"Circle\"},{\"attributes\":{\"active_drag\":\"auto\",\"active_inspect\":\"auto\",\"active_scroll\":\"auto\",\"active_tap\":\"auto\",\"tools\":[{\"id\":\"c2200ce0-08ed-462e-9acb-a02f504a9427\",\"type\":\"PanTool\"},{\"id\":\"4cdc50d2-40df-4b2a-b31a-2f5f517d0d1b\",\"type\":\"WheelZoomTool\"},{\"id\":\"519af755-d65b-4a12-b626-9f74318c5eb7\",\"type\":\"BoxZoomTool\"},{\"id\":\"38a301d5-514c-40b4-ba21-42b079a974c5\",\"type\":\"SaveTool\"},{\"id\":\"1749036d-a8cd-4434-8c31-ae8aa20a3fad\",\"type\":\"ResetTool\"},{\"id\":\"e9e65eff-0b15-4ad5-9403-9a607f309a9b\",\"type\":\"HelpTool\"},{\"id\":\"341299e3-709a-44c1-a369-e1934ef5227a\",\"type\":\"HoverTool\"}]},\"id\":\"0ec5e12f-cd92-4851-b092-57a8e789e9ba\",\"type\":\"Toolbar\"},{\"attributes\":{},\"id\":\"7ac8a35a-f81f-440f-ab3a-15c57eb22b66\",\"type\":\"BasicTickFormatter\"},{\"attributes\":{\"axis_label\":\"effective_size\",\"axis_label_text_font_size\":{\"value\":\"30pt\"},\"formatter\":{\"id\":\"99b48932-12f6-4e5f-8d20-94740928b1d5\",\"type\":\"BasicTickFormatter\"},\"major_label_text_font_size\":{\"value\":\"15pt\"},\"plot\":{\"id\":\"6304a9c3-f076-452d-be40-a9c4d459133a\",\"subtype\":\"Figure\",\"type\":\"Plot\"},\"ticker\":{\"id\":\"9ed70d94-def8-4003-b94d-8bb3a6fab814\",\"type\":\"BasicTicker\"}},\"id\":\"9c10756e-a3c0-4e4f-b3e8-133c9c55235c\",\"type\":\"LinearAxis\"},{\"attributes\":{},\"id\":\"b6163b48-0a72-4582-9423-c8801a040231\",\"type\":\"BasicTickFormatter\"},{\"attributes\":{\"axis_label\":\"Number of Documents\",\"axis_label_text_font_size\":{\"value\":\"30pt\"},\"formatter\":{\"id\":\"70cff45f-cf5a-43fa-a07d-49fa5dc17144\",\"type\":\"BasicTickFormatter\"},\"major_label_text_font_size\":{\"value\":\"15pt\"},\"plot\":{\"id\":\"eba72adb-904c-4b61-a774-196ad4c04e31\",\"subtype\":\"Figure\",\"type\":\"Plot\"},\"ticker\":{\"id\":\"ea6f1082-217d-4fdf-a17b-7c63eee12fa7\",\"type\":\"BasicTicker\"}},\"id\":\"3ba5eb0d-e253-4c2b-9148-231d0caa9a52\",\"type\":\"LinearAxis\"},{\"attributes\":{\"child\":{\"id\":\"6304a9c3-f076-452d-be40-a9c4d459133a\",\"subtype\":\"Figure\",\"type\":\"Plot\"},\"title\":\"effective_size\"},\"id\":\"e847b9fa-2968-4e65-b7e5-daea0d3abea7\",\"type\":\"Panel\"},{\"attributes\":{\"callback\":null,\"column_names\":[\"x\",\"y\",\"top_three\"],\"data\":{\"top_three\":[\"cf16 ce16 cg10\",\"ce26 cg63 cj80\",\"cc10 cd15 cf15\",\"cf09 cg45 cd01\",\"cl22 cn25 cl17\",\"ck13 cp28 cg33\",\"cg45 cc16 cf16\",\"cn01 cf46 ck22\",\"cg33 cn27 ch26\",\"cd01 cj02 ch16\",\"cj54 cl03 cj66\",\"cd08 cj59 cp10\",\"cc14 cc06 cf20\",\"cg66 cp25 cj59\",\"cj43 cj26 cl15\",\"cj03 cg72 cc12\",\"cl06 cf41 ce07\",\"cj37 cj34 cp16\",\"ca18 cf22 ca39\",\"ce35 cp14 cg56\",\"cj57 cb17 ce01\",\"cg18 cg71 cg19\",\"cf04 cf37 cg02\",\"cj72 cg04 cp18\",\"cg48 cl23 ce35\",\"ck09 cg42 cb13\",\"cn15 cj50 cb15\",\"ck07 cd03 cn02\",\"cf43 cj46 cb05\",\"ca28 cj41 ck29\",\"cc06 ch18 cj66\",\"ce32 ce10 cl22\",\"cb21 ck25 ca40\",\"cg71 cj36 cn09\",\"cc10 cl06 ca21\",\"cj05 ce15 ch16\",\"ch20 cg08 cg14\",\"ck10 cg55 cg43\",\"cn15 cj11 cr08\",\"cd02 cc17 cb12\",\"cl21 ck11 cn21\",\"cr01 cg29 cg28\",\"cj31 ch26 ca33\",\"cg04 cp14 cp04\",\"ca25 cc14 cj01\",\"ca25 cp02 cr04\",\"cn09 cj77 cj59\",\"cg58 cf27 cc02\",\"cb27 cn15 cl22\",\"ce18 cn23 cf32\",\"cb24 cn21 cg61\",\"cg16 ch14 cf24\",\"cg50 ch20 ce05\",\"cg24 cc11 cg02\",\"cb01 ce26 cj08\",\"cj58 cf31 cb15\",\"cg30 cd01 cc16\",\"ca44 cj55 cd08\",\"cp05 cn04 cj05\",\"cj38 ck04 ca26\",\"ca32 cj39 cb05\",\"ce16 cg13 ch09\",\"cf36 ca11 cp25\",\"cj30 cg05 ca23\",\"ck22 ck17 cf44\",\"cp16 cp08 ca20\",\"ck11 cd15 cj04\",\"ce13 cl06 ch07\",\"ca34 cn29 cl21\",\"cf29 cn16 cg42\",\"cf37 ch18 cg44\",\"ck21 cg02 cf47\",\"cj35 cg40 cd02\",\"cj25 ce28 cn11\",\"cg43 cg41 ch04\",\"ca12 cg03 cf35\",\"cc03 cn12 cf36\",\"ce20 ck01 cg46\",\"cf17 cj23 cj64\",\"cj46 ce36 ck23\",\"ce32 cn28 ch30\",\"cg11 cg07 cj26\",\"cj45 cf13 cp15\",\"cf14 cg59 cg55\",\"cn11 cr05 cd06\",\"cj24 cg01 cd16\",\"cg53 ca38 ca09\",\"ce27 cb22 cl16\",\"cn22 cj61 cl21\",\"cj15 cn27 ca41\",\"cg70 cg61 cj30\",\"ca21 ce32 cg50\",\"ch05 ch11 cn24\",\"cp26 cb02 ck02\",\"cd06 cg51 cj36\",\"cr02 cj04 ck27\",\"cg44 cf36 cj74\",\"cc10 ca12 cg63\",\"cb19 cd05 cg40\",\"cj53 cb22 cj17\",\"cd03 cp27 cc14\",\"cf39 ca39 ch13\",\"ca05 cj67 cm02\",\"cj16 ce18 ca19\",\"cp22 cg65 cb14\",\"cf21 cj45 cd14\",\"ca42 cn29 cg43\",\"cp21 cg03 cj15\",\"cf23 ce11 cl21\",\"cj54 cc07 cj40\",\"cb22 cj10 cg33\",\"cg26 cg68 ck23\",\"cj36 cg20 cr09\",\"cb03 cb10 cj53\",\"cr05 cn08 cf15\",\"cb05 ck05 cg61\",\"cg34 ca44 ck04\",\"cn13 cg39 ce24\",\"cg38 cg59 cf44\",\"cj52 ck07 ck02\",\"cg13 ca34 cf36\",\"cc07 cj51 cf42\",\"cm05 cn09 cl01\",\"ch09 ca15 cp21\",\"ck24 ce31 cf45\",\"cp03 cg59 cf07\",\"cf22 cd09 cb13\",\"ce30 cn11 cp05\",\"cb10 cp15 cn10\",\"ce04 cj53 ca12\",\"cf20 ce08 cc12\",\"cj24 ch28 cj63\",\"ck21 cg60 ca11\",\"ch26 ca30 cj12\",\"cj07 cl17 ch07\"],\"x\":[50,50,50,50,50,50,50,50,50,50,50,50,50,50,50,100,100,100,100,100,100,100,100,100,100,100,100,100,100,100,150,150,150,150,150,150,150,150,150,150,150,150,150,150,150,200,200,200,200,200,200,200,200,200,200,200,200,200,200,200,250,250,250,250,250,250,250,250,250,250,250,250,250,250,250,300,300,300,300,300,300,300,300,300,300,300,300,300,300,300,350,350,350,350,350,350,350,350,350,350,350,350,350,350,350,400,400,400,400,400,400,400,400,400,400,400,400,400,400,400,450,450,450,450,450,450,450,450,450,450,450,450,450,450,450],\"y\":[0.06737559084836728,0.06759317798790056,0.049319317454523365,0.042890607672612664,0.056554127132685456,0.05034059246934386,0.05029774636830352,0.05695877376997306,0.0627695057122413,0.05548473546880735,0.07314030848787675,0.042657476544212335,0.06247713165164776,0.06083998540371956,0.06924035014481171,0.08424096459793473,0.05057858841483291,0.06719371501064413,0.05720913191689596,0.06937057871828786,0.06102088687199139,0.06153193138847754,0.050183421109303496,0.06983354687298353,0.04602104921674496,0.06423507500198951,0.050426140725161675,0.07022357956788113,0.05769570452212342,0.07996015748954267,0.1922256788897218,0.17686193342260687,0.1482311702820423,0.14322980171703267,0.15129721281103084,0.1721005651965147,0.13381901381495945,0.18337508709994593,0.17503574662892518,0.16667987103979381,0.14098379149880208,0.16721271599899573,0.17521213134853073,0.1697412674448039,0.1710023503820211,0.17014987211932944,0.1507739674388174,0.1564841770729948,0.13234900027995913,0.1650895550944695,0.1790638322919554,0.15019441455319618,0.15594916622095906,0.1693177481031003,0.15333625386777341,0.1683105404632021,0.18706361863151522,0.16706172510199255,0.17846734943634035,0.163269105841134,0.2011107561387083,0.1587631749215368,0.13755323800731617,0.16286312755815097,0.17138220137980018,0.1702364978722892,0.19338619264887563,0.15467600384634803,0.1739999055499169,0.16443652641371725,0.16780034225500912,0.1791111003589404,0.16347745365344793,0.1881213376240144,0.18610627802203,0.23870636464453193,0.2442522451886443,0.21023102283133047,0.23656772359493913,0.2410481999450651,0.23749539323857144,0.24362556928016804,0.22623155423497082,0.22182301149646655,0.22806100075228455,0.24468613087981533,0.2446383280394955,0.23703620876896556,0.2417418082182071,0.23537888130906778,0.21986880986890983,0.22535629590534467,0.21882452915320583,0.22487686730158446,0.22618912532847305,0.2524075756389962,0.2627132283078625,0.226750342599301,0.23544583814655978,0.24485274807373383,0.23424083228869305,0.2449394645420196,0.2119575960831244,0.24709476781880604,0.2513370357025131,0.2814386965311116,0.2684418190392655,0.2918281194177422,0.27501141508650506,0.2918842326499496,0.2741175795003828,0.2835566260544838,0.29479128673988236,0.29144059016087254,0.29521065564615717,0.285120923683343,0.27262502931881727,0.2875858266386947,0.27177871498722006,0.3041725671610052,0.2826521661808101,0.27147530417399895,0.2805342070957805,0.2670757732718711,0.27706582054709916,0.27330993771482676,0.2859966858952839,0.288484128658003,0.2760817184586465,0.29421921116915645,0.2798390452533434,0.28797467736630666,0.28445772397466823,0.286380765441835,0.2691636362534446]}},\"id\":\"63d59af0-a4ec-4a2d-8acf-e7ef33b8ae03\",\"type\":\"ColumnDataSource\"},{\"attributes\":{\"fill_alpha\":{\"value\":0.5},\"fill_color\":{\"value\":\"black\"},\"line_alpha\":{\"value\":0.5},\"size\":{\"units\":\"screen\",\"value\":20},\"x\":{\"field\":\"x\"},\"y\":{\"field\":\"y\"}},\"id\":\"7a0abbb0-f7a6-4143-87c9-b2f047bc9733\",\"type\":\"Circle\"},{\"attributes\":{},\"id\":\"e9e65eff-0b15-4ad5-9403-9a607f309a9b\",\"type\":\"HelpTool\"},{\"attributes\":{},\"id\":\"25666796-32ae-44f4-bab2-1aa7d615469c\",\"type\":\"HelpTool\"},{\"attributes\":{\"plot\":{\"id\":\"cb36a827-c3ab-497b-b4da-60533e07967b\",\"subtype\":\"Figure\",\"type\":\"Plot\"},\"ticker\":{\"id\":\"1bca0c98-57c3-4ad0-8b04-47f8052cc5e0\",\"type\":\"BasicTicker\"}},\"id\":\"2d48a075-1d6e-42e8-a058-5587ba1d091b\",\"type\":\"Grid\"},{\"attributes\":{},\"id\":\"2e80aab2-2702-4fe2-acb1-d63b53fbaea3\",\"type\":\"BasicTicker\"},{\"attributes\":{\"callback\":null,\"column_names\":[\"x\",\"y\",\"top_three\"],\"data\":{\"top_three\":[\"cf16 ce16 cg10\",\"ce26 cg63 cj80\",\"cc10 cd15 cf15\",\"cf09 cg45 cd01\",\"cl22 cn25 cl17\",\"ck13 cp28 cg33\",\"cg45 cc16 cf16\",\"cn01 cf46 ck22\",\"cg33 cn27 ch26\",\"cd01 cj02 ch16\",\"cj54 cl03 cj66\",\"cd08 cj59 cp10\",\"cc14 cc06 cf20\",\"cg66 cp25 cj59\",\"cj43 cj26 cl15\",\"cj03 cg72 cc12\",\"cl06 cf41 ce07\",\"cj37 cj34 cp16\",\"ca18 cf22 ca39\",\"ce35 cp14 cg56\",\"cj57 cb17 ce01\",\"cg18 cg71 cg19\",\"cf04 cf37 cg02\",\"cj72 cg04 cp18\",\"cg48 cl23 ce35\",\"ck09 cg42 cb13\",\"cn15 cj50 cb15\",\"ck07 cd03 cn02\",\"cf43 cj46 cb05\",\"ca28 cj41 ck29\",\"cc06 ch18 cj66\",\"ce32 ce10 cl22\",\"cb21 ck25 ca40\",\"cg71 cj36 cn09\",\"cc10 cl06 ca21\",\"cj05 ce15 ch16\",\"ch20 cg08 cg14\",\"ck10 cg55 cg43\",\"cn15 cj11 cr08\",\"cd02 cc17 cb12\",\"cl21 ck11 cn21\",\"cr01 cg29 cg28\",\"cj31 ch26 ca33\",\"cg04 cp14 cp04\",\"ca25 cc14 cj01\",\"ca25 cp02 cr04\",\"cn09 cj77 cj59\",\"cg58 cf27 cc02\",\"cb27 cn15 cl22\",\"ce18 cn23 cf32\",\"cb24 cn21 cg61\",\"cg16 ch14 cf24\",\"cg50 ch20 ce05\",\"cg24 cc11 cg02\",\"cb01 ce26 cj08\",\"cj58 cf31 cb15\",\"cg30 cd01 cc16\",\"ca44 cj55 cd08\",\"cp05 cn04 cj05\",\"cj38 ck04 ca26\",\"ca32 cj39 cb05\",\"ce16 cg13 ch09\",\"cf36 ca11 cp25\",\"cj30 cg05 ca23\",\"ck22 ck17 cf44\",\"cp16 cp08 ca20\",\"ck11 cd15 cj04\",\"ce13 cl06 ch07\",\"ca34 cn29 cl21\",\"cf29 cn16 cg42\",\"cf37 ch18 cg44\",\"ck21 cg02 cf47\",\"cj35 cg40 cd02\",\"cj25 ce28 cn11\",\"cg43 cg41 ch04\",\"ca12 cg03 cf35\",\"cc03 cn12 cf36\",\"ce20 ck01 cg46\",\"cf17 cj23 cj64\",\"cj46 ce36 ck23\",\"ce32 cn28 ch30\",\"cg11 cg07 cj26\",\"cj45 cf13 cp15\",\"cf14 cg59 cg55\",\"cn11 cr05 cd06\",\"cj24 cg01 cd16\",\"cg53 ca38 ca09\",\"ce27 cb22 cl16\",\"cn22 cj61 cl21\",\"cj15 cn27 ca41\",\"cg70 cg61 cj30\",\"ca21 ce32 cg50\",\"ch05 ch11 cn24\",\"cp26 cb02 ck02\",\"cd06 cg51 cj36\",\"cr02 cj04 ck27\",\"cg44 cf36 cj74\",\"cc10 ca12 cg63\",\"cb19 cd05 cg40\",\"cj53 cb22 cj17\",\"cd03 cp27 cc14\",\"cf39 ca39 ch13\",\"ca05 cj67 cm02\",\"cj16 ce18 ca19\",\"cp22 cg65 cb14\",\"cf21 cj45 cd14\",\"ca42 cn29 cg43\",\"cp21 cg03 cj15\",\"cf23 ce11 cl21\",\"cj54 cc07 cj40\",\"cb22 cj10 cg33\",\"cg26 cg68 ck23\",\"cj36 cg20 cr09\",\"cb03 cb10 cj53\",\"cr05 cn08 cf15\",\"cb05 ck05 cg61\",\"cg34 ca44 ck04\",\"cn13 cg39 ce24\",\"cg38 cg59 cf44\",\"cj52 ck07 ck02\",\"cg13 ca34 cf36\",\"cc07 cj51 cf42\",\"cm05 cn09 cl01\",\"ch09 ca15 cp21\",\"ck24 ce31 cf45\",\"cp03 cg59 cf07\",\"cf22 cd09 cb13\",\"ce30 cn11 cp05\",\"cb10 cp15 cn10\",\"ce04 cj53 ca12\",\"cf20 ce08 cc12\",\"cj24 ch28 cj63\",\"ck21 cg60 ca11\",\"ch26 ca30 cj12\",\"cj07 cl17 ch07\"],\"x\":[50,50,50,50,50,50,50,50,50,50,50,50,50,50,50,100,100,100,100,100,100,100,100,100,100,100,100,100,100,100,150,150,150,150,150,150,150,150,150,150,150,150,150,150,150,200,200,200,200,200,200,200,200,200,200,200,200,200,200,200,250,250,250,250,250,250,250,250,250,250,250,250,250,250,250,300,300,300,300,300,300,300,300,300,300,300,300,300,300,300,350,350,350,350,350,350,350,350,350,350,350,350,350,350,350,400,400,400,400,400,400,400,400,400,400,400,400,400,400,400,450,450,450,450,450,450,450,450,450,450,450,450,450,450,450],\"y\":[0.12346403096688544,0.12498939419407032,0.08720926591263643,0.0745825272067957,0.09990631968869286,0.0890753024520249,0.08585628318297897,0.09789527526158029,0.11049747225694784,0.0984712222609918,0.13593120698892042,0.07377575127943077,0.11085321099094829,0.11085913707724704,0.12533966125086787,0.23473660772523516,0.10231970588440462,0.16260750510008112,0.12482171224770074,0.15895483418453854,0.13928525912207534,0.134267736786914,0.10178305948587271,0.17422033380958651,0.08660335245850391,0.15220056880833502,0.0994411688749798,0.17494043337854015,0.1267404773233545,0.1977312772509044,0.5107604838189047,0.37201482028430355,0.2215821434162888,0.21519401778544575,0.23999574367768384,0.3663644933002427,0.16245228785324753,0.44223332427819545,0.3899713594685631,0.32247097046795725,0.19407226703365785,0.3537976269965931,0.3876040976561983,0.3693534831895747,0.35224554908685457,0.46875408398456636,0.31084024738161026,0.3519697267583745,0.18747110214621784,0.44148932583520073,0.551543458553452,0.3131936235290672,0.3554230428166973,0.48226355027958573,0.33431318319855097,0.4572994360337864,0.6028469061178421,0.43097065786579564,0.5063471289484328,0.4146441027714404,0.7723273451706707,0.3796528163124874,0.2166778449096248,0.41100720262386037,0.5042502339465492,0.48395333723362216,0.7352808667848445,0.34486078942813203,0.5109468062264588,0.4356516782189953,0.46467613991245715,0.5596628336297458,0.4222092619370863,0.6621133770871053,0.6469602611983312,0.8615779704647061,0.9295535539037434,0.4947668544328049,0.8329340667458544,0.9092194942603429,0.8291442489440619,0.9146330796671112,0.7005560612105991,0.6320729280902704,0.7082801442956981,0.9256644323647676,0.9612431324231009,0.8309862134395333,0.8957219779682415,0.8095779521797457,0.7129141294076655,0.7717604286943821,0.673912999080472,0.753349545616505,0.7834978342447382,1.1962187069950305,1.239049892988978,0.8092603937484653,0.9293324589180992,1.0880429946218928,0.9384403004874777,1.0706867696344182,0.5950861210154617,1.0277196237781123,1.2047456617711627,1.1721179802136958,0.9414933058356695,1.391515678381132,1.0154414850957054,1.3775372390366711,1.0198784467362594,1.2161277543628661,1.4560016931921553,1.3491079483608481,1.475652226397063,1.2660525670860152,1.012356737678728,1.2653889414749666,1.0106665920188953,1.6581795926364093,1.3222851456589082,1.18648853218031,1.341581791367804,1.1194060587115446,1.3145329931232728,1.2484718620195996,1.3425892966647297,1.5520796264499395,1.3076283140501546,1.5632034131477446,1.3199362539176727,1.3852164889822731,1.4756099061583616,1.5216522700172885,1.1474826641762912]}},\"id\":\"7b7f7fca-4be0-43d0-82af-47088b610fb2\",\"type\":\"ColumnDataSource\"},{\"attributes\":{\"callback\":null,\"column_names\":[\"x\",\"y\",\"top_three\"],\"data\":{\"top_three\":[\"cf16 ce16 cg10\",\"ce26 cg63 cj80\",\"cc10 cd15 cf15\",\"cf09 cg45 cd01\",\"cl22 cn25 cl17\",\"ck13 cp28 cg33\",\"cg45 cc16 cf16\",\"cn01 cf46 ck22\",\"cg33 cn27 ch26\",\"cd01 cj02 ch16\",\"cj54 cl03 cj66\",\"cd08 cj59 cp10\",\"cc14 cc06 cf20\",\"cg66 cp25 cj59\",\"cj43 cj26 cl15\",\"cj03 cg72 cc12\",\"cl06 cf41 ce07\",\"cj37 cj34 cp16\",\"ca18 cf22 ca39\",\"ce35 cp14 cg56\",\"cj57 cb17 ce01\",\"cg18 cg71 cg19\",\"cf04 cf37 cg02\",\"cj72 cg04 cp18\",\"cg48 cl23 ce35\",\"ck09 cg42 cb13\",\"cn15 cj50 cb15\",\"ck07 cd03 cn02\",\"cf43 cj46 cb05\",\"ca28 cj41 ck29\",\"cc06 ch18 cj66\",\"ce32 ce10 cl22\",\"cb21 ck25 ca40\",\"cg71 cj36 cn09\",\"cc10 cl06 ca21\",\"cj05 ce15 ch16\",\"ch20 cg08 cg14\",\"ck10 cg55 cg43\",\"cn15 cj11 cr08\",\"cd02 cc17 cb12\",\"cl21 ck11 cn21\",\"cr01 cg29 cg28\",\"cj31 ch26 ca33\",\"cg04 cp14 cp04\",\"ca25 cc14 cj01\",\"ca25 cp02 cr04\",\"cn09 cj77 cj59\",\"cg58 cf27 cc02\",\"cb27 cn15 cl22\",\"ce18 cn23 cf32\",\"cb24 cn21 cg61\",\"cg16 ch14 cf24\",\"cg50 ch20 ce05\",\"cg24 cc11 cg02\",\"cb01 ce26 cj08\",\"cj58 cf31 cb15\",\"cg30 cd01 cc16\",\"ca44 cj55 cd08\",\"cp05 cn04 cj05\",\"cj38 ck04 ca26\",\"ca32 cj39 cb05\",\"ce16 cg13 ch09\",\"cf36 ca11 cp25\",\"cj30 cg05 ca23\",\"ck22 ck17 cf44\",\"cp16 cp08 ca20\",\"ck11 cd15 cj04\",\"ce13 cl06 ch07\",\"ca34 cn29 cl21\",\"cf29 cn16 cg42\",\"cf37 ch18 cg44\",\"ck21 cg02 cf47\",\"cj35 cg40 cd02\",\"cj25 ce28 cn11\",\"cg43 cg41 ch04\",\"ca12 cg03 cf35\",\"cc03 cn12 cf36\",\"ce20 ck01 cg46\",\"cf17 cj23 cj64\",\"cj46 ce36 ck23\",\"ce32 cn28 ch30\",\"cg11 cg07 cj26\",\"cj45 cf13 cp15\",\"cf14 cg59 cg55\",\"cn11 cr05 cd06\",\"cj24 cg01 cd16\",\"cg53 ca38 ca09\",\"ce27 cb22 cl16\",\"cn22 cj61 cl21\",\"cj15 cn27 ca41\",\"cg70 cg61 cj30\",\"ca21 ce32 cg50\",\"ch05 ch11 cn24\",\"cp26 cb02 ck02\",\"cd06 cg51 cj36\",\"cr02 cj04 ck27\",\"cg44 cf36 cj74\",\"cc10 ca12 cg63\",\"cb19 cd05 cg40\",\"cj53 cb22 cj17\",\"cd03 cp27 cc14\",\"cf39 ca39 ch13\",\"ca05 cj67 cm02\",\"cj16 ce18 ca19\",\"cp22 cg65 cb14\",\"cf21 cj45 cd14\",\"ca42 cn29 cg43\",\"cp21 cg03 cj15\",\"cf23 ce11 cl21\",\"cj54 cc07 cj40\",\"cb22 cj10 cg33\",\"cg26 cg68 ck23\",\"cj36 cg20 cr09\",\"cb03 cb10 cj53\",\"cr05 cn08 cf15\",\"cb05 ck05 cg61\",\"cg34 ca44 ck04\",\"cn13 cg39 ce24\",\"cg38 cg59 cf44\",\"cj52 ck07 ck02\",\"cg13 ca34 cf36\",\"cc07 cj51 cf42\",\"cm05 cn09 cl01\",\"ch09 ca15 cp21\",\"ck24 ce31 cf45\",\"cp03 cg59 cf07\",\"cf22 cd09 cb13\",\"ce30 cn11 cp05\",\"cb10 cp15 cn10\",\"ce04 cj53 ca12\",\"cf20 ce08 cc12\",\"cj24 ch28 cj63\",\"ck21 cg60 ca11\",\"ch26 ca30 cj12\",\"cj07 cl17 ch07\"],\"x\":[50,50,50,50,50,50,50,50,50,50,50,50,50,50,50,100,100,100,100,100,100,100,100,100,100,100,100,100,100,100,150,150,150,150,150,150,150,150,150,150,150,150,150,150,150,200,200,200,200,200,200,200,200,200,200,200,200,200,200,200,250,250,250,250,250,250,250,250,250,250,250,250,250,250,250,300,300,300,300,300,300,300,300,300,300,300,300,300,300,300,350,350,350,350,350,350,350,350,350,350,350,350,350,350,350,400,400,400,400,400,400,400,400,400,400,400,400,400,400,400,450,450,450,450,450,450,450,450,450,450,450,450,450,450,450],\"y\":[743.8800089681304,721.4899336384557,762.2756610008666,794.8217483912343,766.9842986446542,765.8290553129168,806.8553353885069,795.978089541151,769.6623826126045,746.1689184619454,733.1109940013234,789.0780753047094,758.6664797572382,731.0682120078584,730.0100991515492,1314.6221923912117,1434.7630915584496,1391.9468773491283,1421.7850075064928,1462.376818152583,1395.0449532547314,1437.483114701938,1417.7325058382305,1360.4987613556318,1441.571306625906,1382.1985217856948,1460.941583000799,1364.2348488445894,1414.46083224092,1397.8795952087164,7311.292629812106,7770.844228153982,7822.303842157279,7599.557046344389,7680.410200633083,7438.687213924934,7543.393359132919,7420.681863510478,7455.982499658539,7609.5803847737125,7726.112463812733,7364.315283258424,7482.216720521723,7374.798066726066,7598.136022448426,9659.060409834816,10086.515704848856,10068.916274869618,10193.933279475888,9582.987702198923,9541.696363936542,9928.71032627421,9861.998961770076,9539.988113342646,9963.785421677814,9729.976531567278,9638.395856986019,9948.410427465154,9861.14213930477,9697.912497702717,11284.023809908233,11670.410897903505,11783.109875887518,11515.32394387124,11194.813943268262,11344.060376499141,11032.409458893728,11578.566024353982,11511.324208042206,11395.314745584245,11412.583535234817,11424.581881502916,11346.287763982606,11170.955573479196,11084.774197639019,25575.927228734447,25774.188783332665,26067.095420855916,25419.974097495262,25208.80228311079,25777.049789951656,25658.137533233636,25434.96610961973,25817.80096281244,26018.563013573745,24802.216531118967,25135.660813662776,25664.496235015496,25707.18120993493,25649.463528596796,29201.868819618652,29618.37290506843,29858.112676945344,29819.00709502516,29353.07564894251,28739.476937966414,28411.72780528379,29178.474596938806,29249.025037482254,28913.39452991098,28630.394260761605,28733.59436599567,29670.86432247552,28340.839617111935,28740.869611038986,41478.265205496136,41421.19631171894,41245.96104916081,40654.05633484354,41542.41430210757,41933.43259650479,41460.99904160838,41147.51515578714,40521.33314686818,40922.35754247683,40983.0941897404,41514.368608420555,40668.65119301634,40928.511612409995,41301.41560553337,46407.469944933546,47749.1078408993,46554.11258795385,47228.63654710153,47270.56895907803,47069.98883342853,46349.76518310688,46656.432196238784,46881.293380825606,46340.92429705258,46773.50968752122,46073.901002474595,47055.89640045423,47157.050540931115,47511.76264831567]}},\"id\":\"77056e11-4636-4d3a-9750-5690bbffba79\",\"type\":\"ColumnDataSource\"},{\"attributes\":{\"plot\":null,\"text\":\"brown\",\"text_font_size\":{\"value\":\"15pt\"}},\"id\":\"2f3169f7-e8e8-4df0-b4ba-ad65da5d3473\",\"type\":\"Title\"},{\"attributes\":{\"callback\":null},\"id\":\"3564d671-7e98-4544-b792-701f61d780d5\",\"type\":\"DataRange1d\"},{\"attributes\":{\"bottom_units\":\"screen\",\"fill_alpha\":{\"value\":0.5},\"fill_color\":{\"value\":\"lightgrey\"},\"left_units\":\"screen\",\"level\":\"overlay\",\"line_alpha\":{\"value\":1.0},\"line_color\":{\"value\":\"black\"},\"line_dash\":[4,4],\"line_width\":{\"value\":2},\"plot\":null,\"render_mode\":\"css\",\"right_units\":\"screen\",\"top_units\":\"screen\"},\"id\":\"1ff335b3-76f2-44e8-8610-44fc2bf0bcbb\",\"type\":\"BoxAnnotation\"},{\"attributes\":{\"overlay\":{\"id\":\"b6f67ce2-46ca-4b04-a9d0-3d90690c7c66\",\"type\":\"BoxAnnotation\"}},\"id\":\"a8eb716e-9dc2-4955-99dd-f81ade46c6aa\",\"type\":\"BoxZoomTool\"},{\"attributes\":{\"plot\":null,\"text\":\"brown\",\"text_font_size\":{\"value\":\"15pt\"}},\"id\":\"ea941548-8668-4e07-8838-503ec43b4b64\",\"type\":\"Title\"},{\"attributes\":{},\"id\":\"943a751d-9de6-4609-aa06-b68d68eb6993\",\"type\":\"LinearScale\"},{\"attributes\":{},\"id\":\"af783c14-5ee6-4c39-82a1-776524c10e72\",\"type\":\"SaveTool\"},{\"attributes\":{},\"id\":\"20a4b817-8b47-4292-a604-79ec233a8f11\",\"type\":\"SaveTool\"},{\"attributes\":{\"plot\":null,\"text\":\"brown\",\"text_font_size\":{\"value\":\"15pt\"}},\"id\":\"8163b28d-1911-4ec2-a049-f4852d033d6a\",\"type\":\"Title\"},{\"attributes\":{},\"id\":\"ca64a4ae-497f-46af-9b9e-992da59b9a13\",\"type\":\"LinearScale\"},{\"attributes\":{},\"id\":\"9b576e8b-a81c-4002-8d64-d7003977dd65\",\"type\":\"SaveTool\"},{\"attributes\":{\"data_source\":{\"id\":\"89063a31-3987-43bb-a94c-a0c4b464aac3\",\"type\":\"ColumnDataSource\"},\"glyph\":{\"id\":\"7a0abbb0-f7a6-4143-87c9-b2f047bc9733\",\"type\":\"Circle\"},\"hover_glyph\":null,\"muted_glyph\":null,\"nonselection_glyph\":{\"id\":\"fa12e3bb-35a8-4573-b01b-eea4552339a3\",\"type\":\"Circle\"},\"selection_glyph\":null,\"view\":{\"id\":\"c2316d4c-f736-4496-8543-f5ab17cac30f\",\"type\":\"CDSView\"}},\"id\":\"56ed0baf-a671-43e3-a133-330a3ce54219\",\"type\":\"GlyphRenderer\"},{\"attributes\":{\"child\":{\"id\":\"dff90ec8-3190-4da3-a665-31c54d05134e\",\"subtype\":\"Figure\",\"type\":\"Plot\"},\"title\":\"avg_jsd\"},\"id\":\"98214a2d-30b7-4fec-9a51-f97d180e8490\",\"type\":\"Panel\"},{\"attributes\":{\"below\":[{\"id\":\"22a1d0db-abf7-4866-bd12-6469aac66010\",\"type\":\"LinearAxis\"}],\"left\":[{\"id\":\"9c10756e-a3c0-4e4f-b3e8-133c9c55235c\",\"type\":\"LinearAxis\"}],\"plot_width\":800,\"renderers\":[{\"id\":\"22a1d0db-abf7-4866-bd12-6469aac66010\",\"type\":\"LinearAxis\"},{\"id\":\"886888e8-06f4-4ad9-aa4e-72cfb8a62771\",\"type\":\"Grid\"},{\"id\":\"9c10756e-a3c0-4e4f-b3e8-133c9c55235c\",\"type\":\"LinearAxis\"},{\"id\":\"340ae047-6010-4358-945e-aef60a49371d\",\"type\":\"Grid\"},{\"id\":\"e467fd47-0798-44ff-8496-98f1d15a16fa\",\"type\":\"BoxAnnotation\"},{\"id\":\"0bba269a-6a9d-4466-b81c-765524e7eaf1\",\"type\":\"GlyphRenderer\"}],\"title\":{\"id\":\"70f7c530-06a9-413f-8cd6-f57ad5158c55\",\"type\":\"Title\"},\"toolbar\":{\"id\":\"65f5ca9f-6d45-4ebe-a14a-d72767a2690c\",\"type\":\"Toolbar\"},\"toolbar_location\":\"above\",\"x_range\":{\"id\":\"3b6f9beb-dfbe-4c07-b6ec-4f4489924831\",\"type\":\"DataRange1d\"},\"x_scale\":{\"id\":\"568f4af6-f902-490e-8f87-e5b96072947e\",\"type\":\"LinearScale\"},\"y_range\":{\"id\":\"1d29b248-f32d-4d66-bdc1-5fbf1c1dc7df\",\"type\":\"DataRange1d\"},\"y_scale\":{\"id\":\"093c935d-0419-4d06-8559-1037865eb154\",\"type\":\"LinearScale\"}},\"id\":\"6304a9c3-f076-452d-be40-a9c4d459133a\",\"subtype\":\"Figure\",\"type\":\"Plot\"},{\"attributes\":{},\"id\":\"70cff45f-cf5a-43fa-a07d-49fa5dc17144\",\"type\":\"BasicTickFormatter\"},{\"attributes\":{\"plot\":{\"id\":\"b89b62f6-f4ef-4061-b5a5-3d4b4c630df6\",\"subtype\":\"Figure\",\"type\":\"Plot\"},\"ticker\":{\"id\":\"428fec07-7e0e-4cf4-800a-af9b92536a15\",\"type\":\"BasicTicker\"}},\"id\":\"0fb2d209-381f-41f5-a27e-221c263aef73\",\"type\":\"Grid\"},{\"attributes\":{\"axis_label\":\"avg_cos\",\"axis_label_text_font_size\":{\"value\":\"30pt\"},\"formatter\":{\"id\":\"7c74d032-ab87-4f87-9201-307302e49114\",\"type\":\"BasicTickFormatter\"},\"major_label_text_font_size\":{\"value\":\"15pt\"},\"plot\":{\"id\":\"cb36a827-c3ab-497b-b4da-60533e07967b\",\"subtype\":\"Figure\",\"type\":\"Plot\"},\"ticker\":{\"id\":\"6484275d-a4aa-4703-86e7-4f55a05864d2\",\"type\":\"BasicTicker\"}},\"id\":\"21de6e47-a2dd-459e-b535-76db011768d4\",\"type\":\"LinearAxis\"},{\"attributes\":{\"active_drag\":\"auto\",\"active_inspect\":\"auto\",\"active_scroll\":\"auto\",\"active_tap\":\"auto\",\"tools\":[{\"id\":\"c105adf4-12fc-40d1-b8d3-7731e5c7acaa\",\"type\":\"PanTool\"},{\"id\":\"c1d2e8f9-729d-4545-a219-9ccb338e7d00\",\"type\":\"WheelZoomTool\"},{\"id\":\"e0b6ba87-bddd-4725-b7db-dce329a11116\",\"type\":\"BoxZoomTool\"},{\"id\":\"af783c14-5ee6-4c39-82a1-776524c10e72\",\"type\":\"SaveTool\"},{\"id\":\"2cc8adeb-4f1e-4ca1-b89e-35ec8168c30f\",\"type\":\"ResetTool\"},{\"id\":\"25666796-32ae-44f4-bab2-1aa7d615469c\",\"type\":\"HelpTool\"},{\"id\":\"341299e3-709a-44c1-a369-e1934ef5227a\",\"type\":\"HoverTool\"}]},\"id\":\"65f5ca9f-6d45-4ebe-a14a-d72767a2690c\",\"type\":\"Toolbar\"},{\"attributes\":{},\"id\":\"99b48932-12f6-4e5f-8d20-94740928b1d5\",\"type\":\"BasicTickFormatter\"},{\"attributes\":{},\"id\":\"5776cf1f-aec0-4437-8f3b-b1c9571a2375\",\"type\":\"PanTool\"},{\"attributes\":{\"axis_label\":\"Number of Documents\",\"axis_label_text_font_size\":{\"value\":\"30pt\"},\"formatter\":{\"id\":\"c67f9ce6-bab0-489e-9a3f-17d3841662d8\",\"type\":\"BasicTickFormatter\"},\"major_label_text_font_size\":{\"value\":\"15pt\"},\"plot\":{\"id\":\"dff90ec8-3190-4da3-a665-31c54d05134e\",\"subtype\":\"Figure\",\"type\":\"Plot\"},\"ticker\":{\"id\":\"45e40d76-b926-4afc-83a2-3b3b493b18e8\",\"type\":\"BasicTicker\"}},\"id\":\"f73266f1-a86b-4877-8aa3-fa901ddc1fc6\",\"type\":\"LinearAxis\"},{\"attributes\":{},\"id\":\"18b26743-9058-4682-bee7-52a084c584f5\",\"type\":\"BasicTickFormatter\"},{\"attributes\":{\"callback\":null,\"column_names\":[\"x\",\"y\",\"top_three\"],\"data\":{\"top_three\":[\"cf16 ce16 cg10\",\"ce26 cg63 cj80\",\"cc10 cd15 cf15\",\"cf09 cg45 cd01\",\"cl22 cn25 cl17\",\"ck13 cp28 cg33\",\"cg45 cc16 cf16\",\"cn01 cf46 ck22\",\"cg33 cn27 ch26\",\"cd01 cj02 ch16\",\"cj54 cl03 cj66\",\"cd08 cj59 cp10\",\"cc14 cc06 cf20\",\"cg66 cp25 cj59\",\"cj43 cj26 cl15\",\"cj03 cg72 cc12\",\"cl06 cf41 ce07\",\"cj37 cj34 cp16\",\"ca18 cf22 ca39\",\"ce35 cp14 cg56\",\"cj57 cb17 ce01\",\"cg18 cg71 cg19\",\"cf04 cf37 cg02\",\"cj72 cg04 cp18\",\"cg48 cl23 ce35\",\"ck09 cg42 cb13\",\"cn15 cj50 cb15\",\"ck07 cd03 cn02\",\"cf43 cj46 cb05\",\"ca28 cj41 ck29\",\"cc06 ch18 cj66\",\"ce32 ce10 cl22\",\"cb21 ck25 ca40\",\"cg71 cj36 cn09\",\"cc10 cl06 ca21\",\"cj05 ce15 ch16\",\"ch20 cg08 cg14\",\"ck10 cg55 cg43\",\"cn15 cj11 cr08\",\"cd02 cc17 cb12\",\"cl21 ck11 cn21\",\"cr01 cg29 cg28\",\"cj31 ch26 ca33\",\"cg04 cp14 cp04\",\"ca25 cc14 cj01\",\"ca25 cp02 cr04\",\"cn09 cj77 cj59\",\"cg58 cf27 cc02\",\"cb27 cn15 cl22\",\"ce18 cn23 cf32\",\"cb24 cn21 cg61\",\"cg16 ch14 cf24\",\"cg50 ch20 ce05\",\"cg24 cc11 cg02\",\"cb01 ce26 cj08\",\"cj58 cf31 cb15\",\"cg30 cd01 cc16\",\"ca44 cj55 cd08\",\"cp05 cn04 cj05\",\"cj38 ck04 ca26\",\"ca32 cj39 cb05\",\"ce16 cg13 ch09\",\"cf36 ca11 cp25\",\"cj30 cg05 ca23\",\"ck22 ck17 cf44\",\"cp16 cp08 ca20\",\"ck11 cd15 cj04\",\"ce13 cl06 ch07\",\"ca34 cn29 cl21\",\"cf29 cn16 cg42\",\"cf37 ch18 cg44\",\"ck21 cg02 cf47\",\"cj35 cg40 cd02\",\"cj25 ce28 cn11\",\"cg43 cg41 ch04\",\"ca12 cg03 cf35\",\"cc03 cn12 cf36\",\"ce20 ck01 cg46\",\"cf17 cj23 cj64\",\"cj46 ce36 ck23\",\"ce32 cn28 ch30\",\"cg11 cg07 cj26\",\"cj45 cf13 cp15\",\"cf14 cg59 cg55\",\"cn11 cr05 cd06\",\"cj24 cg01 cd16\",\"cg53 ca38 ca09\",\"ce27 cb22 cl16\",\"cn22 cj61 cl21\",\"cj15 cn27 ca41\",\"cg70 cg61 cj30\",\"ca21 ce32 cg50\",\"ch05 ch11 cn24\",\"cp26 cb02 ck02\",\"cd06 cg51 cj36\",\"cr02 cj04 ck27\",\"cg44 cf36 cj74\",\"cc10 ca12 cg63\",\"cb19 cd05 cg40\",\"cj53 cb22 cj17\",\"cd03 cp27 cc14\",\"cf39 ca39 ch13\",\"ca05 cj67 cm02\",\"cj16 ce18 ca19\",\"cp22 cg65 cb14\",\"cf21 cj45 cd14\",\"ca42 cn29 cg43\",\"cp21 cg03 cj15\",\"cf23 ce11 cl21\",\"cj54 cc07 cj40\",\"cb22 cj10 cg33\",\"cg26 cg68 ck23\",\"cj36 cg20 cr09\",\"cb03 cb10 cj53\",\"cr05 cn08 cf15\",\"cb05 ck05 cg61\",\"cg34 ca44 ck04\",\"cn13 cg39 ce24\",\"cg38 cg59 cf44\",\"cj52 ck07 ck02\",\"cg13 ca34 cf36\",\"cc07 cj51 cf42\",\"cm05 cn09 cl01\",\"ch09 ca15 cp21\",\"ck24 ce31 cf45\",\"cp03 cg59 cf07\",\"cf22 cd09 cb13\",\"ce30 cn11 cp05\",\"cb10 cp15 cn10\",\"ce04 cj53 ca12\",\"cf20 ce08 cc12\",\"cj24 ch28 cj63\",\"ck21 cg60 ca11\",\"ch26 ca30 cj12\",\"cj07 cl17 ch07\"],\"x\":[50,50,50,50,50,50,50,50,50,50,50,50,50,50,50,100,100,100,100,100,100,100,100,100,100,100,100,100,100,100,150,150,150,150,150,150,150,150,150,150,150,150,150,150,150,200,200,200,200,200,200,200,200,200,200,200,200,200,200,200,250,250,250,250,250,250,250,250,250,250,250,250,250,250,250,300,300,300,300,300,300,300,300,300,300,300,300,300,300,300,350,350,350,350,350,350,350,350,350,350,350,350,350,350,350,400,400,400,400,400,400,400,400,400,400,400,400,400,400,400,450,450,450,450,450,450,450,450,450,450,450,450,450,450,450],\"y\":[0.06795829644286995,0.06841695692309652,0.04816289649393458,0.04061542341816635,0.056697760777345375,0.04943979168042797,0.04970827241789585,0.057146253430876044,0.0636096852152572,0.05533783009626003,0.07391389716628277,0.04029490775252482,0.06321716251493666,0.061033167914491315,0.0723871248726618,0.08602974742126014,0.04874772012179788,0.06727063969225942,0.05635574344074216,0.07225941223206081,0.06063583379436526,0.06260801821246452,0.04822503882916523,0.07001967463501134,0.043197661698983376,0.0642613701431013,0.04855993060912586,0.07051312991796302,0.0570684876239929,0.08397206305250181,0.19872519857823265,0.1875098479054414,0.14504028542963718,0.13190295962562149,0.1489450619250602,0.17584595611668924,0.11993483738651417,0.1891085844106522,0.17913015543903474,0.17238610382347624,0.13133587542704003,0.1648360249679661,0.18017665003520786,0.16695981847532332,0.1751709780298303,0.16984539868586807,0.14940866149501789,0.15629770569444937,0.12615382538299993,0.16315338069655677,0.18024173876074856,0.14702162974632157,0.15549754770009247,0.16722682166295663,0.15208642726744834,0.16787927333698544,0.19350725500514473,0.16973112245134436,0.1858845022912001,0.16294503633960475,0.20943569636604556,0.15590054139944517,0.12942278111885058,0.1629961757518103,0.17003177214354298,0.1703513302219398,0.19411459328330768,0.1521857006806801,0.17567986628118906,0.16303373018298015,0.1668977675177335,0.18240786531256675,0.16292770026009193,0.19101408830312208,0.1866245274267964,0.24077151804513028,0.24808255051029038,0.20361392780113624,0.23703287234430256,0.23997912494898338,0.24146102200903283,0.2490133351074069,0.21951953812645403,0.21822979505463647,0.22789930849376086,0.24209771131277708,0.24496490194472198,0.23912165804223495,0.24460632729620843,0.23512985138544812,0.21540265962381977,0.22420688889710755,0.22029314815104137,0.22781785367327484,0.22608423627089919,0.2550820438012352,0.2637050283892048,0.2243529928338059,0.23658002571423878,0.24725234299432383,0.23197986448332103,0.24558173650489298,0.20703470545028554,0.24579181507694367,0.25568971489473297,0.2824173982215651,0.26111929935294326,0.29682789781479657,0.2674852355190807,0.2979776258463583,0.27417183742999396,0.28464820778989786,0.2997849969614919,0.2909716074645083,0.2988451655676398,0.28432577731902664,0.2694454885502347,0.2857134793763297,0.2640096206071286,0.31126044479443843,0.2810010513787456,0.27237556743588953,0.2800401738013238,0.264734421755994,0.27881373792399383,0.271862979170771,0.28457869491098386,0.29090767128026646,0.27517664810548387,0.29531400351466214,0.2785448183589648,0.28656691967085396,0.2879500451373575,0.2891815541599952,0.2676625148497892]}},\"id\":\"89063a31-3987-43bb-a94c-a0c4b464aac3\",\"type\":\"ColumnDataSource\"},{\"attributes\":{\"dimension\":1,\"plot\":{\"id\":\"fd260c89-aa5b-462b-b900-b5598d42ac9d\",\"subtype\":\"Figure\",\"type\":\"Plot\"},\"ticker\":{\"id\":\"f39e7f2c-b383-4f3d-b17b-0859df48026f\",\"type\":\"BasicTicker\"}},\"id\":\"d5c72885-6a92-4a7e-b80b-c83c0dfb6611\",\"type\":\"Grid\"},{\"attributes\":{\"callback\":null,\"tooltips\":[[\"x\",\"@x\"],[\"y\",\"@y\"],[\"top words\",\"@top_three\"]]},\"id\":\"341299e3-709a-44c1-a369-e1934ef5227a\",\"type\":\"HoverTool\"},{\"attributes\":{},\"id\":\"774e2c86-910a-44b8-97ab-4995c4d743ce\",\"type\":\"HelpTool\"},{\"attributes\":{},\"id\":\"6b254084-b618-48f5-8b99-b34a43653f2d\",\"type\":\"WheelZoomTool\"},{\"attributes\":{\"plot\":{\"id\":\"6304a9c3-f076-452d-be40-a9c4d459133a\",\"subtype\":\"Figure\",\"type\":\"Plot\"},\"ticker\":{\"id\":\"616ca569-903e-4987-919b-936d93a8dbc9\",\"type\":\"BasicTicker\"}},\"id\":\"886888e8-06f4-4ad9-aa4e-72cfb8a62771\",\"type\":\"Grid\"},{\"attributes\":{},\"id\":\"20c767fb-1e41-4430-b0b7-b8bd1178f5fe\",\"type\":\"BasicTickFormatter\"},{\"attributes\":{},\"id\":\"376953d9-27d8-48a7-98f3-2263ff321422\",\"type\":\"HelpTool\"},{\"attributes\":{},\"id\":\"e9671c0b-292d-43bd-ad98-98da5d9f28c7\",\"type\":\"ResetTool\"},{\"attributes\":{\"callback\":null},\"id\":\"1104a929-6559-40de-a80b-51c0ef527a04\",\"type\":\"DataRange1d\"},{\"attributes\":{\"axis_label\":\"distance_from_uniform\",\"axis_label_text_font_size\":{\"value\":\"30pt\"},\"formatter\":{\"id\":\"9da69469-8d49-4aab-b531-bad0fa163634\",\"type\":\"BasicTickFormatter\"},\"major_label_text_font_size\":{\"value\":\"15pt\"},\"plot\":{\"id\":\"fd260c89-aa5b-462b-b900-b5598d42ac9d\",\"subtype\":\"Figure\",\"type\":\"Plot\"},\"ticker\":{\"id\":\"f39e7f2c-b383-4f3d-b17b-0859df48026f\",\"type\":\"BasicTicker\"}},\"id\":\"4d2eac77-b37c-4507-b41d-3ba1378eed33\",\"type\":\"LinearAxis\"},{\"attributes\":{\"axis_label\":\"rank1\",\"axis_label_text_font_size\":{\"value\":\"30pt\"},\"formatter\":{\"id\":\"f901e51a-57e8-438e-806c-09b963721e62\",\"type\":\"BasicTickFormatter\"},\"major_label_text_font_size\":{\"value\":\"15pt\"},\"plot\":{\"id\":\"b89b62f6-f4ef-4061-b5a5-3d4b4c630df6\",\"subtype\":\"Figure\",\"type\":\"Plot\"},\"ticker\":{\"id\":\"4f9c7224-6d1c-4975-a88e-9f78a9b17ec7\",\"type\":\"BasicTicker\"}},\"id\":\"18e1b4be-e1e4-420c-a2e7-40bd96802822\",\"type\":\"LinearAxis\"},{\"attributes\":{},\"id\":\"d4ae1156-8c4c-4093-a2f4-97a83892deaa\",\"type\":\"ResetTool\"},{\"attributes\":{\"callback\":null},\"id\":\"dfde5eb1-5f11-495f-82f4-05d36645464e\",\"type\":\"DataRange1d\"},{\"attributes\":{\"callback\":null},\"id\":\"1d29b248-f32d-4d66-bdc1-5fbf1c1dc7df\",\"type\":\"DataRange1d\"},{\"attributes\":{\"bottom_units\":\"screen\",\"fill_alpha\":{\"value\":0.5},\"fill_color\":{\"value\":\"lightgrey\"},\"left_units\":\"screen\",\"level\":\"overlay\",\"line_alpha\":{\"value\":1.0},\"line_color\":{\"value\":\"black\"},\"line_dash\":[4,4],\"line_width\":{\"value\":2},\"plot\":null,\"render_mode\":\"css\",\"right_units\":\"screen\",\"top_units\":\"screen\"},\"id\":\"b6f67ce2-46ca-4b04-a9d0-3d90690c7c66\",\"type\":\"BoxAnnotation\"},{\"attributes\":{\"plot\":{\"id\":\"eba72adb-904c-4b61-a774-196ad4c04e31\",\"subtype\":\"Figure\",\"type\":\"Plot\"},\"ticker\":{\"id\":\"ea6f1082-217d-4fdf-a17b-7c63eee12fa7\",\"type\":\"BasicTicker\"}},\"id\":\"611dcdeb-c0f8-405b-9e06-ad41371bf7d7\",\"type\":\"Grid\"},{\"attributes\":{},\"id\":\"428fec07-7e0e-4cf4-800a-af9b92536a15\",\"type\":\"BasicTicker\"},{\"attributes\":{\"source\":{\"id\":\"7b7f7fca-4be0-43d0-82af-47088b610fb2\",\"type\":\"ColumnDataSource\"}},\"id\":\"a3f1fbcc-0699-471e-944b-d74e6b7c826b\",\"type\":\"CDSView\"},{\"attributes\":{\"axis_label\":\"Number of Documents\",\"axis_label_text_font_size\":{\"value\":\"30pt\"},\"formatter\":{\"id\":\"b6163b48-0a72-4582-9423-c8801a040231\",\"type\":\"BasicTickFormatter\"},\"major_label_text_font_size\":{\"value\":\"15pt\"},\"plot\":{\"id\":\"cb36a827-c3ab-497b-b4da-60533e07967b\",\"subtype\":\"Figure\",\"type\":\"Plot\"},\"ticker\":{\"id\":\"1bca0c98-57c3-4ad0-8b04-47f8052cc5e0\",\"type\":\"BasicTicker\"}},\"id\":\"bd6361bb-070c-43bd-966a-ee873e0a4db8\",\"type\":\"LinearAxis\"},{\"attributes\":{\"axis_label\":\"Number of Documents\",\"axis_label_text_font_size\":{\"value\":\"30pt\"},\"formatter\":{\"id\":\"e52e3a32-55a5-4650-94e0-e983e5afd09e\",\"type\":\"BasicTickFormatter\"},\"major_label_text_font_size\":{\"value\":\"15pt\"},\"plot\":{\"id\":\"fd260c89-aa5b-462b-b900-b5598d42ac9d\",\"subtype\":\"Figure\",\"type\":\"Plot\"},\"ticker\":{\"id\":\"03b6358b-a96f-442c-8603-e46465fa33b6\",\"type\":\"BasicTicker\"}},\"id\":\"ff2d6b4b-2aa7-4b7d-9506-719ee208fc34\",\"type\":\"LinearAxis\"},{\"attributes\":{},\"id\":\"2cc8adeb-4f1e-4ca1-b89e-35ec8168c30f\",\"type\":\"ResetTool\"},{\"attributes\":{\"source\":{\"id\":\"e97d4ca8-0d2c-45b1-b573-cbc073a01cf9\",\"type\":\"ColumnDataSource\"}},\"id\":\"5e128653-a7ca-4222-b8a2-c14d275013ff\",\"type\":\"CDSView\"},{\"attributes\":{},\"id\":\"e3046bc9-6030-4d8e-bde7-2ab705f5c19b\",\"type\":\"PanTool\"},{\"attributes\":{\"source\":{\"id\":\"609e0296-027f-4a1d-b622-992035075cea\",\"type\":\"ColumnDataSource\"}},\"id\":\"fd048d33-dba5-4bfc-af84-d56d7d47dfec\",\"type\":\"CDSView\"},{\"attributes\":{\"callback\":null},\"id\":\"df30e2f4-6946-4a93-b115-1532dbaedbf2\",\"type\":\"DataRange1d\"},{\"attributes\":{\"dimension\":1,\"plot\":{\"id\":\"dff90ec8-3190-4da3-a665-31c54d05134e\",\"subtype\":\"Figure\",\"type\":\"Plot\"},\"ticker\":{\"id\":\"e9a08cde-96b1-43e4-8b4a-7baba37abe7a\",\"type\":\"BasicTicker\"}},\"id\":\"51c576c4-fcf4-44c9-a81b-263f7153a552\",\"type\":\"Grid\"},{\"attributes\":{\"callback\":null,\"column_names\":[\"x\",\"y\",\"top_three\"],\"data\":{\"top_three\":[\"cf16 ce16 cg10\",\"ce26 cg63 cj80\",\"cc10 cd15 cf15\",\"cf09 cg45 cd01\",\"cl22 cn25 cl17\",\"ck13 cp28 cg33\",\"cg45 cc16 cf16\",\"cn01 cf46 ck22\",\"cg33 cn27 ch26\",\"cd01 cj02 ch16\",\"cj54 cl03 cj66\",\"cd08 cj59 cp10\",\"cc14 cc06 cf20\",\"cg66 cp25 cj59\",\"cj43 cj26 cl15\",\"cj03 cg72 cc12\",\"cl06 cf41 ce07\",\"cj37 cj34 cp16\",\"ca18 cf22 ca39\",\"ce35 cp14 cg56\",\"cj57 cb17 ce01\",\"cg18 cg71 cg19\",\"cf04 cf37 cg02\",\"cj72 cg04 cp18\",\"cg48 cl23 ce35\",\"ck09 cg42 cb13\",\"cn15 cj50 cb15\",\"ck07 cd03 cn02\",\"cf43 cj46 cb05\",\"ca28 cj41 ck29\",\"cc06 ch18 cj66\",\"ce32 ce10 cl22\",\"cb21 ck25 ca40\",\"cg71 cj36 cn09\",\"cc10 cl06 ca21\",\"cj05 ce15 ch16\",\"ch20 cg08 cg14\",\"ck10 cg55 cg43\",\"cn15 cj11 cr08\",\"cd02 cc17 cb12\",\"cl21 ck11 cn21\",\"cr01 cg29 cg28\",\"cj31 ch26 ca33\",\"cg04 cp14 cp04\",\"ca25 cc14 cj01\",\"ca25 cp02 cr04\",\"cn09 cj77 cj59\",\"cg58 cf27 cc02\",\"cb27 cn15 cl22\",\"ce18 cn23 cf32\",\"cb24 cn21 cg61\",\"cg16 ch14 cf24\",\"cg50 ch20 ce05\",\"cg24 cc11 cg02\",\"cb01 ce26 cj08\",\"cj58 cf31 cb15\",\"cg30 cd01 cc16\",\"ca44 cj55 cd08\",\"cp05 cn04 cj05\",\"cj38 ck04 ca26\",\"ca32 cj39 cb05\",\"ce16 cg13 ch09\",\"cf36 ca11 cp25\",\"cj30 cg05 ca23\",\"ck22 ck17 cf44\",\"cp16 cp08 ca20\",\"ck11 cd15 cj04\",\"ce13 cl06 ch07\",\"ca34 cn29 cl21\",\"cf29 cn16 cg42\",\"cf37 ch18 cg44\",\"ck21 cg02 cf47\",\"cj35 cg40 cd02\",\"cj25 ce28 cn11\",\"cg43 cg41 ch04\",\"ca12 cg03 cf35\",\"cc03 cn12 cf36\",\"ce20 ck01 cg46\",\"cf17 cj23 cj64\",\"cj46 ce36 ck23\",\"ce32 cn28 ch30\",\"cg11 cg07 cj26\",\"cj45 cf13 cp15\",\"cf14 cg59 cg55\",\"cn11 cr05 cd06\",\"cj24 cg01 cd16\",\"cg53 ca38 ca09\",\"ce27 cb22 cl16\",\"cn22 cj61 cl21\",\"cj15 cn27 ca41\",\"cg70 cg61 cj30\",\"ca21 ce32 cg50\",\"ch05 ch11 cn24\",\"cp26 cb02 ck02\",\"cd06 cg51 cj36\",\"cr02 cj04 ck27\",\"cg44 cf36 cj74\",\"cc10 ca12 cg63\",\"cb19 cd05 cg40\",\"cj53 cb22 cj17\",\"cd03 cp27 cc14\",\"cf39 ca39 ch13\",\"ca05 cj67 cm02\",\"cj16 ce18 ca19\",\"cp22 cg65 cb14\",\"cf21 cj45 cd14\",\"ca42 cn29 cg43\",\"cp21 cg03 cj15\",\"cf23 ce11 cl21\",\"cj54 cc07 cj40\",\"cb22 cj10 cg33\",\"cg26 cg68 ck23\",\"cj36 cg20 cr09\",\"cb03 cb10 cj53\",\"cr05 cn08 cf15\",\"cb05 ck05 cg61\",\"cg34 ca44 ck04\",\"cn13 cg39 ce24\",\"cg38 cg59 cf44\",\"cj52 ck07 ck02\",\"cg13 ca34 cf36\",\"cc07 cj51 cf42\",\"cm05 cn09 cl01\",\"ch09 ca15 cp21\",\"ck24 ce31 cf45\",\"cp03 cg59 cf07\",\"cf22 cd09 cb13\",\"ce30 cn11 cp05\",\"cb10 cp15 cn10\",\"ce04 cj53 ca12\",\"cf20 ce08 cc12\",\"cj24 ch28 cj63\",\"ck21 cg60 ca11\",\"ch26 ca30 cj12\",\"cj07 cl17 ch07\"],\"x\":[50,50,50,50,50,50,50,50,50,50,50,50,50,50,50,100,100,100,100,100,100,100,100,100,100,100,100,100,100,100,150,150,150,150,150,150,150,150,150,150,150,150,150,150,150,200,200,200,200,200,200,200,200,200,200,200,200,200,200,200,250,250,250,250,250,250,250,250,250,250,250,250,250,250,250,300,300,300,300,300,300,300,300,300,300,300,300,300,300,300,350,350,350,350,350,350,350,350,350,350,350,350,350,350,350,400,400,400,400,400,400,400,400,400,400,400,400,400,400,400,450,450,450,450,450,450,450,450,450,450,450,450,450,450,450],\"y\":[0.33920672542665226,0.3410622768008267,0.2758449457143364,0.24138542720501183,0.3097908899037397,0.2833812526127851,0.285471014137668,0.31289246361615713,0.33117968709925083,0.30354541914546124,0.353044849844674,0.23955607170157275,0.3296674089726173,0.3194827711546367,0.37744880244050805,0.399621293199122,0.28188205377760006,0.3437050503720695,0.3105153649130107,0.3889728880077771,0.3266510940297332,0.3530909419547554,0.27816694480295606,0.35080692391152396,0.2540183352818453,0.33664315216769125,0.28175153741095443,0.3529301586391763,0.3147706121591379,0.41603212502283177,0.7621504344206218,0.7730741694940944,0.723063970375579,0.6297282827826972,0.725118236011094,0.7517908666641459,0.5974496573700352,0.7650169871437839,0.7594373618275998,0.7636265619965389,0.6442616840378074,0.7239261014728411,0.7597332706012596,0.7218155884138096,0.7539400807217448,0.6831272272062783,0.6715570726831762,0.6791279612767186,0.6296615911527099,0.6688013282290215,0.6933847133973402,0.6714086856321317,0.6893285157488872,0.6738627183366562,0.6721218827302086,0.6848363049571888,0.7249693320543155,0.6975963413686396,0.7313089069851362,0.6838880275901074,0.7421984027616343,0.6617741715608066,0.6073458998543351,0.6856798810899926,0.6770709482053976,0.6867800028426223,0.7010699951903088,0.666415877110488,0.7017571261204976,0.6740393859537889,0.6778888353828149,0.7096796330008434,0.6809752579405466,0.7071288660448596,0.6992360270316829,0.8188904321335995,0.818047422231191,0.7770883328277548,0.8074666797708281,0.8012791366394271,0.8199856476575218,0.8271202217901956,0.7695182375754385,0.7852038578719965,0.8025353426024039,0.7970486025857464,0.8019938595793399,0.809067665793108,0.811100544820836,0.7969775291695476,0.7599071095835022,0.7804335434922709,0.7985851590025486,0.8028898431373969,0.782311916855941,0.7970144265146127,0.7958848182358242,0.7727740741768186,0.7927798209877038,0.7967877467373355,0.7738869458997617,0.7899904548796955,0.7681723357041574,0.7844766376370249,0.8100042009115843,0.8638602861932451,0.8290389797392169,0.8708443481878267,0.8314562636476306,0.8749619106360167,0.8648209644020859,0.8618402755486461,0.8719507737567348,0.8616258335562228,0.8695791447993414,0.8625176845714615,0.8443546375509169,0.8576295018035673,0.8265191649235369,0.8730170032733272,0.8242074857638995,0.832190108695428,0.8297188655170383,0.8226992173542347,0.8383777728929701,0.8295107174956752,0.826095767931464,0.8353258680991487,0.8247722284212228,0.8332054506752019,0.8234078040666553,0.8263337318083366,0.8428449115324796,0.8371814170543292,0.826868984011694]}},\"id\":\"c6d7c1c4-3b92-409b-8fd6-e7e54ee85d04\",\"type\":\"ColumnDataSource\"},{\"attributes\":{\"dimension\":1,\"plot\":{\"id\":\"6304a9c3-f076-452d-be40-a9c4d459133a\",\"subtype\":\"Figure\",\"type\":\"Plot\"},\"ticker\":{\"id\":\"9ed70d94-def8-4003-b94d-8bb3a6fab814\",\"type\":\"BasicTicker\"}},\"id\":\"340ae047-6010-4358-945e-aef60a49371d\",\"type\":\"Grid\"},{\"attributes\":{\"dimension\":1,\"plot\":{\"id\":\"cb36a827-c3ab-497b-b4da-60533e07967b\",\"subtype\":\"Figure\",\"type\":\"Plot\"},\"ticker\":{\"id\":\"6484275d-a4aa-4703-86e7-4f55a05864d2\",\"type\":\"BasicTicker\"}},\"id\":\"49e605d6-86e0-4c73-9637-16e29fa1bea5\",\"type\":\"Grid\"},{\"attributes\":{\"fill_alpha\":{\"value\":0.5},\"fill_color\":{\"value\":\"black\"},\"line_alpha\":{\"value\":0.5},\"size\":{\"units\":\"screen\",\"value\":20},\"x\":{\"field\":\"x\"},\"y\":{\"field\":\"y\"}},\"id\":\"de6a6b03-c563-46fd-b9a8-f0630e3b1c01\",\"type\":\"Circle\"},{\"attributes\":{\"data_source\":{\"id\":\"e97d4ca8-0d2c-45b1-b573-cbc073a01cf9\",\"type\":\"ColumnDataSource\"},\"glyph\":{\"id\":\"7eff2777-a835-4b3c-8462-aaf2d5a6585d\",\"type\":\"Circle\"},\"hover_glyph\":null,\"muted_glyph\":null,\"nonselection_glyph\":{\"id\":\"45b9eb6d-7f24-41cf-a3bc-9e696b474a94\",\"type\":\"Circle\"},\"selection_glyph\":null,\"view\":{\"id\":\"5e128653-a7ca-4222-b8a2-c14d275013ff\",\"type\":\"CDSView\"}},\"id\":\"910174f0-80a6-40e1-8541-cefaecae9cce\",\"type\":\"GlyphRenderer\"},{\"attributes\":{\"callback\":null},\"id\":\"7870fa9c-ddc8-406e-8b05-2380ec185fec\",\"type\":\"DataRange1d\"},{\"attributes\":{\"plot\":{\"id\":\"dff90ec8-3190-4da3-a665-31c54d05134e\",\"subtype\":\"Figure\",\"type\":\"Plot\"},\"ticker\":{\"id\":\"45e40d76-b926-4afc-83a2-3b3b493b18e8\",\"type\":\"BasicTicker\"}},\"id\":\"35ea8af9-3314-4b7c-9e7a-5a683bfd4afb\",\"type\":\"Grid\"},{\"attributes\":{\"active_drag\":\"auto\",\"active_inspect\":\"auto\",\"active_scroll\":\"auto\",\"active_tap\":\"auto\",\"tools\":[{\"id\":\"5776cf1f-aec0-4437-8f3b-b1c9571a2375\",\"type\":\"PanTool\"},{\"id\":\"676ca4dc-d43f-4c6e-a7ef-47ed418d8a23\",\"type\":\"WheelZoomTool\"},{\"id\":\"9df541b1-3052-494b-a059-8c67b5698a81\",\"type\":\"BoxZoomTool\"},{\"id\":\"9b576e8b-a81c-4002-8d64-d7003977dd65\",\"type\":\"SaveTool\"},{\"id\":\"e9671c0b-292d-43bd-ad98-98da5d9f28c7\",\"type\":\"ResetTool\"},{\"id\":\"9254df11-8b90-4716-9e8e-c712653446e4\",\"type\":\"HelpTool\"},{\"id\":\"341299e3-709a-44c1-a369-e1934ef5227a\",\"type\":\"HoverTool\"}]},\"id\":\"89eb42cc-a2c4-4f88-9b72-d33127a8efe3\",\"type\":\"Toolbar\"},{\"attributes\":{},\"id\":\"4f9c7224-6d1c-4975-a88e-9f78a9b17ec7\",\"type\":\"BasicTicker\"},{\"attributes\":{\"overlay\":{\"id\":\"417afe39-116f-4f20-b33a-882a04a4733c\",\"type\":\"BoxAnnotation\"}},\"id\":\"5c0acc57-bc42-45fc-b6ab-0bd535586188\",\"type\":\"BoxZoomTool\"},{\"attributes\":{\"source\":{\"id\":\"89063a31-3987-43bb-a94c-a0c4b464aac3\",\"type\":\"ColumnDataSource\"}},\"id\":\"c2316d4c-f736-4496-8543-f5ab17cac30f\",\"type\":\"CDSView\"},{\"attributes\":{\"source\":{\"id\":\"c6d7c1c4-3b92-409b-8fd6-e7e54ee85d04\",\"type\":\"ColumnDataSource\"}},\"id\":\"0f687837-18bb-44d8-ad7b-09a3eca8c846\",\"type\":\"CDSView\"},{\"attributes\":{\"plot\":{\"id\":\"a52751b1-ee9a-4894-9597-71d8932aefc3\",\"subtype\":\"Figure\",\"type\":\"Plot\"},\"ticker\":{\"id\":\"9e84bd7b-bccc-44a8-968f-812f9e089dc3\",\"type\":\"BasicTicker\"}},\"id\":\"5bbba362-7dfa-4e55-baf3-4673e461cdc2\",\"type\":\"Grid\"},{\"attributes\":{},\"id\":\"d59ad5c2-3729-4da2-b926-27b461816328\",\"type\":\"PanTool\"},{\"attributes\":{},\"id\":\"1bca0c98-57c3-4ad0-8b04-47f8052cc5e0\",\"type\":\"BasicTicker\"},{\"attributes\":{},\"id\":\"38a301d5-514c-40b4-ba21-42b079a974c5\",\"type\":\"SaveTool\"},{\"attributes\":{\"plot\":null,\"text\":\"brown\",\"text_font_size\":{\"value\":\"15pt\"}},\"id\":\"3713c247-f89c-4a38-8b2a-0d584d022df5\",\"type\":\"Title\"},{\"attributes\":{},\"id\":\"9e84bd7b-bccc-44a8-968f-812f9e089dc3\",\"type\":\"BasicTicker\"},{\"attributes\":{\"plot\":null,\"text\":\"brown\",\"text_font_size\":{\"value\":\"15pt\"}},\"id\":\"804623e3-c5e7-4020-8a76-80d6915d3812\",\"type\":\"Title\"},{\"attributes\":{},\"id\":\"956eea54-2331-4ba7-aa00-2ff6e57d66b2\",\"type\":\"LinearScale\"},{\"attributes\":{},\"id\":\"9db41723-cf50-4aa2-8cf4-e47fdf5c07f4\",\"type\":\"LinearScale\"},{\"attributes\":{\"axis_label\":\"avg_jsd\",\"axis_label_text_font_size\":{\"value\":\"30pt\"},\"formatter\":{\"id\":\"aeff2137-976e-4203-80ff-08dc1f7073a8\",\"type\":\"BasicTickFormatter\"},\"major_label_text_font_size\":{\"value\":\"15pt\"},\"plot\":{\"id\":\"dff90ec8-3190-4da3-a665-31c54d05134e\",\"subtype\":\"Figure\",\"type\":\"Plot\"},\"ticker\":{\"id\":\"e9a08cde-96b1-43e4-8b4a-7baba37abe7a\",\"type\":\"BasicTicker\"}},\"id\":\"ce13cc07-0e91-4467-8217-1b4dafcd1b95\",\"type\":\"LinearAxis\"},{\"attributes\":{\"active_drag\":\"auto\",\"active_inspect\":\"auto\",\"active_scroll\":\"auto\",\"active_tap\":\"auto\",\"tools\":[{\"id\":\"6a9375e2-f72f-4a4f-b95b-2ca605875e89\",\"type\":\"PanTool\"},{\"id\":\"c3b15c27-bed4-4d59-952e-c117f2eb9c8e\",\"type\":\"WheelZoomTool\"},{\"id\":\"5da2234d-4e8f-4262-bf40-c310cd8bd636\",\"type\":\"BoxZoomTool\"},{\"id\":\"7ca87760-2fb0-4f47-8826-e802968558bd\",\"type\":\"SaveTool\"},{\"id\":\"9edebfce-7d38-4f94-a9c1-3cad455d7801\",\"type\":\"ResetTool\"},{\"id\":\"376953d9-27d8-48a7-98f3-2263ff321422\",\"type\":\"HelpTool\"},{\"id\":\"341299e3-709a-44c1-a369-e1934ef5227a\",\"type\":\"HoverTool\"}]},\"id\":\"e1d0309d-62f8-4334-af9b-a4b7f4fed491\",\"type\":\"Toolbar\"},{\"attributes\":{},\"id\":\"e9a08cde-96b1-43e4-8b4a-7baba37abe7a\",\"type\":\"BasicTicker\"}],\"root_ids\":[\"31c44778-e96e-4097-9fd4-49b106376690\"]},\"title\":\"Bokeh Application\",\"version\":\"0.12.7\"}};\n",
       "            var render_items = [{\"docid\":\"b7a65237-154a-4fe0-aba3-294349d6b807\",\"elementid\":\"1fcfac6f-39b0-4ecc-aabd-48dbab80a999\",\"modelid\":\"31c44778-e96e-4097-9fd4-49b106376690\",\"notebook_comms_target\":\"f20436ab-1a5d-4e8a-ae3e-4cf75b705534\"}];\n",
       "            \n",
       "            Bokeh.embed.embed_items(docs_json, render_items);\n",
       "          };\n",
       "          if (document.readyState != \"loading\") fn();\n",
       "          else document.addEventListener(\"DOMContentLoaded\", fn);\n",
       "        })();\n",
       "      },\n",
       "      function(Bokeh) {\n",
       "      }\n",
       "    ];\n",
       "  \n",
       "    function run_inline_js() {\n",
       "      \n",
       "      if ((root.Bokeh !== undefined) || (force === true)) {\n",
       "        for (var i = 0; i < inline_js.length; i++) {\n",
       "          inline_js[i].call(root, root.Bokeh);\n",
       "        }if (force === true) {\n",
       "          display_loaded();\n",
       "        }} else if (Date.now() < root._bokeh_timeout) {\n",
       "        setTimeout(run_inline_js, 100);\n",
       "      } else if (!root._bokeh_failed_load) {\n",
       "        console.log(\"Bokeh: BokehJS failed to load within specified timeout.\");\n",
       "        root._bokeh_failed_load = true;\n",
       "      } else if (force !== true) {\n",
       "        var cell = $(document.getElementById(\"1fcfac6f-39b0-4ecc-aabd-48dbab80a999\")).parents('.cell').data().cell;\n",
       "        cell.output_area.append_execute_result(NB_LOAD_WARNING)\n",
       "      }\n",
       "  \n",
       "    }\n",
       "  \n",
       "    if (root._bokeh_is_loading === 0) {\n",
       "      console.log(\"Bokeh: BokehJS loaded, going straight to plotting\");\n",
       "      run_inline_js();\n",
       "    } else {\n",
       "      load_libs(js_urls, function() {\n",
       "        console.log(\"Bokeh: BokehJS plotting callback run at\", now());\n",
       "        run_inline_js();\n",
       "      });\n",
       "    }\n",
       "  }(window));\n",
       "</script>"
      ]
     },
     "metadata": {},
     "output_type": "display_data"
    }
   ],
   "source": [
    "num_docs_tabs = Tabs(tabs=get_tabs(num_docs_metrics,\"Number of Documents\"))\n",
    "show(num_docs_tabs,notebook_handle=True)"
   ]
  },
  {
   "cell_type": "markdown",
   "metadata": {},
   "source": [
    "### Discussion\n",
    "\n",
    "As the number of documents is increased, the average effective size of topics also increases. For several topics, the rank1 and distance from uniform metrics increase  as well. These topics appear to be the topics containing corpus specific stopwords. All other topics score relatively the same rank1 despite changes in the number of documents. The average Jensen-Shannon divergence between each topic and the other topics in the model shows a steady linear increase with the number of documents. Exclusivity shows a slight linear increase in both average and range among all topics in the model as the number of documents increases."
   ]
  },
  {
   "cell_type": "code",
   "execution_count": 23,
   "metadata": {},
   "outputs": [
    {
     "data": {
      "text/plain": [
       "True"
      ]
     },
     "execution_count": 23,
     "metadata": {},
     "output_type": "execute_result"
    }
   ],
   "source": [
    "# RUN THIS CELL TO SAVE YOUR WORK\n",
    "util.dump_pickle(num_docs_metrics,CORPUS_NAME+\"_num_docs_metrics.pickle\")"
   ]
  },
  {
   "cell_type": "markdown",
   "metadata": {},
   "source": [
    "After we've run the experiment at least once, we have the option to skip all the long cells and go straight to the plots by loading the necessary data from stored pickle objects. This cell will load the object (if it's there already). If it is not successful, it will return `None`"
   ]
  },
  {
   "cell_type": "code",
   "execution_count": 24,
   "metadata": {
    "collapsed": true
   },
   "outputs": [],
   "source": [
    "num_docs_metrics = util.load_pickle(CORPUS_NAME+\"_num_docs_metrics.pickle\")"
   ]
  },
  {
   "cell_type": "markdown",
   "metadata": {},
   "source": [
    "## Average Document Length\n",
    "\n",
    "We'll repeat the above experiment this time randomly selecting a specific number of words from each document so that they are of a specified length.\n",
    "\n",
    "### ALGORITHM\n",
    "\n",
    "        1. For each corpus:\n",
    "        2.   For l in the range of document sizes to test:\n",
    "        3.     Repeat 10 times:\n",
    "        4.       Randomly select n words from each document in the corpus"
   ]
  },
  {
   "cell_type": "code",
   "execution_count": 28,
   "metadata": {},
   "outputs": [
    {
     "data": {
      "text/plain": [
       "1.0"
      ]
     },
     "execution_count": 28,
     "metadata": {},
     "output_type": "execute_result"
    }
   ],
   "source": [
    "pcr.avg_doc_len"
   ]
  },
  {
   "cell_type": "code",
   "execution_count": 27,
   "metadata": {
    "collapsed": true
   },
   "outputs": [],
   "source": [
    "# The range of document sizes to test\n",
    "l_range = np.arange(10,pcr.avg_doc_len,50)\n",
    "\n",
    "# Build the test corpora following the algorithm above\n",
    "doc_len_pcrs = {}\n",
    "for l in l_range:\n",
    "    l_strings = []\n",
    "    for fn in pcr.fileids():\n",
    "        words = pcr.words(fn)\n",
    "        l_strings.append(' '.join(np.random.choice(words,int(l))))\n",
    "    new_cr = corpus.from_strings(os.path.join(CORPUS_DIR+'_x','doc_len_{}'.format(l)),l_strings)\n",
    "    doc_len_pcrs[l] = new_cr\n",
    "\n",
    "# Run metrics on the test corpora\n",
    "# This step involves fitting a 15-topic LDA model to each corpus\n",
    "doc_len_metrics = get_metrics(doc_len_pcrs,l_range,15)"
   ]
  },
  {
   "cell_type": "code",
   "execution_count": 26,
   "metadata": {},
   "outputs": [
    {
     "data": {
      "text/html": [
       "\n",
       "\n",
       "    <div class=\"bk-root\">\n",
       "        <div class=\"bk-plotdiv\" id=\"e299817d-85f5-45d7-8242-5706dd90f86c\"></div>\n",
       "    </div>\n",
       "<script type=\"text/javascript\">\n",
       "  \n",
       "  (function(root) {\n",
       "    function now() {\n",
       "      return new Date();\n",
       "    }\n",
       "  \n",
       "    var force = false;\n",
       "  \n",
       "    if (typeof (root._bokeh_onload_callbacks) === \"undefined\" || force === true) {\n",
       "      root._bokeh_onload_callbacks = [];\n",
       "      root._bokeh_is_loading = undefined;\n",
       "    }\n",
       "  \n",
       "  \n",
       "    \n",
       "    if (typeof (root._bokeh_timeout) === \"undefined\" || force === true) {\n",
       "      root._bokeh_timeout = Date.now() + 0;\n",
       "      root._bokeh_failed_load = false;\n",
       "    }\n",
       "  \n",
       "    var NB_LOAD_WARNING = {'data': {'text/html':\n",
       "       \"<div style='background-color: #fdd'>\\n\"+\n",
       "       \"<p>\\n\"+\n",
       "       \"BokehJS does not appear to have successfully loaded. If loading BokehJS from CDN, this \\n\"+\n",
       "       \"may be due to a slow or bad network connection. Possible fixes:\\n\"+\n",
       "       \"</p>\\n\"+\n",
       "       \"<ul>\\n\"+\n",
       "       \"<li>re-rerun `output_notebook()` to attempt to load from CDN again, or</li>\\n\"+\n",
       "       \"<li>use INLINE resources instead, as so:</li>\\n\"+\n",
       "       \"</ul>\\n\"+\n",
       "       \"<code>\\n\"+\n",
       "       \"from bokeh.resources import INLINE\\n\"+\n",
       "       \"output_notebook(resources=INLINE)\\n\"+\n",
       "       \"</code>\\n\"+\n",
       "       \"</div>\"}};\n",
       "  \n",
       "    function display_loaded() {\n",
       "      if (root.Bokeh !== undefined) {\n",
       "        var el = document.getElementById(\"e299817d-85f5-45d7-8242-5706dd90f86c\");\n",
       "        if (el != null) {\n",
       "          el.textContent = \"BokehJS \" + Bokeh.version + \" successfully loaded.\";\n",
       "        }\n",
       "      } else if (Date.now() < root._bokeh_timeout) {\n",
       "        setTimeout(display_loaded, 100)\n",
       "      }\n",
       "    }\n",
       "  \n",
       "  \n",
       "    function run_callbacks() {\n",
       "      try {\n",
       "        root._bokeh_onload_callbacks.forEach(function(callback) { callback() });\n",
       "      }\n",
       "      finally {\n",
       "        delete root._bokeh_onload_callbacks\n",
       "      }\n",
       "      console.info(\"Bokeh: all callbacks have finished\");\n",
       "    }\n",
       "  \n",
       "    function load_libs(js_urls, callback) {\n",
       "      root._bokeh_onload_callbacks.push(callback);\n",
       "      if (root._bokeh_is_loading > 0) {\n",
       "        console.log(\"Bokeh: BokehJS is being loaded, scheduling callback at\", now());\n",
       "        return null;\n",
       "      }\n",
       "      if (js_urls == null || js_urls.length === 0) {\n",
       "        run_callbacks();\n",
       "        return null;\n",
       "      }\n",
       "      console.log(\"Bokeh: BokehJS not loaded, scheduling load and callback at\", now());\n",
       "      root._bokeh_is_loading = js_urls.length;\n",
       "      for (var i = 0; i < js_urls.length; i++) {\n",
       "        var url = js_urls[i];\n",
       "        var s = document.createElement('script');\n",
       "        s.src = url;\n",
       "        s.async = false;\n",
       "        s.onreadystatechange = s.onload = function() {\n",
       "          root._bokeh_is_loading--;\n",
       "          if (root._bokeh_is_loading === 0) {\n",
       "            console.log(\"Bokeh: all BokehJS libraries loaded\");\n",
       "            run_callbacks()\n",
       "          }\n",
       "        };\n",
       "        s.onerror = function() {\n",
       "          console.warn(\"failed to load library \" + url);\n",
       "        };\n",
       "        console.log(\"Bokeh: injecting script tag for BokehJS library: \", url);\n",
       "        document.getElementsByTagName(\"head\")[0].appendChild(s);\n",
       "      }\n",
       "    };var element = document.getElementById(\"e299817d-85f5-45d7-8242-5706dd90f86c\");\n",
       "    if (element == null) {\n",
       "      console.log(\"Bokeh: ERROR: autoload.js configured with elementid 'e299817d-85f5-45d7-8242-5706dd90f86c' but no matching script tag was found. \")\n",
       "      return false;\n",
       "    }\n",
       "  \n",
       "    var js_urls = [];\n",
       "  \n",
       "    var inline_js = [\n",
       "      function(Bokeh) {\n",
       "        (function() {\n",
       "          var fn = function() {\n",
       "            var docs_json = {\"b9b2628f-bf9e-4464-95a9-c060292101d2\":{\"roots\":{\"references\":[{\"attributes\":{\"active_drag\":\"auto\",\"active_inspect\":\"auto\",\"active_scroll\":\"auto\",\"active_tap\":\"auto\",\"tools\":[{\"id\":\"88310a46-152b-436b-acb2-cb48b48a3997\",\"type\":\"PanTool\"},{\"id\":\"39032d29-d4ac-4820-9eb2-87c777f388b4\",\"type\":\"WheelZoomTool\"},{\"id\":\"4362c247-965a-4d7c-af3a-4acb165122ab\",\"type\":\"BoxZoomTool\"},{\"id\":\"05cc0153-03f8-4166-a9c2-dbac9c46a549\",\"type\":\"SaveTool\"},{\"id\":\"a05d23cc-5361-4053-979a-ca5897e8e3c0\",\"type\":\"ResetTool\"},{\"id\":\"016ef610-b583-4bd9-9797-a0f4667ab2f9\",\"type\":\"HelpTool\"},{\"id\":\"c0eadbb4-8387-44cd-9198-291c0b719014\",\"type\":\"HoverTool\"}]},\"id\":\"6f1b3624-adb7-46d8-8b87-461b8815ddc5\",\"type\":\"Toolbar\"},{\"attributes\":{},\"id\":\"4df7ff80-b488-40d4-b68f-2503b8781adc\",\"type\":\"BasicTickFormatter\"},{\"attributes\":{\"below\":[{\"id\":\"9a326eb8-42f3-4af7-ba56-50f821209b6f\",\"type\":\"LinearAxis\"}],\"left\":[{\"id\":\"3f6faa44-c8a8-4b00-a9a0-7e0a4005d917\",\"type\":\"LinearAxis\"}],\"plot_width\":800,\"renderers\":[{\"id\":\"9a326eb8-42f3-4af7-ba56-50f821209b6f\",\"type\":\"LinearAxis\"},{\"id\":\"66371b17-f713-4d47-8c99-dd1a442439b3\",\"type\":\"Grid\"},{\"id\":\"3f6faa44-c8a8-4b00-a9a0-7e0a4005d917\",\"type\":\"LinearAxis\"},{\"id\":\"f1383b0c-f9a5-4434-be29-7bd06be64f51\",\"type\":\"Grid\"},{\"id\":\"74f41b6c-4e77-4650-89df-0a452280542d\",\"type\":\"BoxAnnotation\"},{\"id\":\"aac093e3-6959-49f4-b172-0ddf6d4b85ce\",\"type\":\"GlyphRenderer\"}],\"title\":{\"id\":\"5abfeef5-d384-4c4d-9855-21a18cd16ecf\",\"type\":\"Title\"},\"toolbar\":{\"id\":\"e642a1a7-ba3c-4ca9-af75-58746487e81c\",\"type\":\"Toolbar\"},\"toolbar_location\":\"above\",\"x_range\":{\"id\":\"d3c87953-849a-4ab8-be6c-207a95f0d058\",\"type\":\"DataRange1d\"},\"x_scale\":{\"id\":\"cfa07ad5-ef38-48f9-b3b8-c1ec5064a39b\",\"type\":\"LinearScale\"},\"y_range\":{\"id\":\"ba53fefb-85c4-4b29-b180-249bb32ab32c\",\"type\":\"DataRange1d\"},\"y_scale\":{\"id\":\"d0c7d4ad-11f9-4088-a140-58e0ac1672c4\",\"type\":\"LinearScale\"}},\"id\":\"54c22809-c977-416f-8d70-ff965bf03176\",\"subtype\":\"Figure\",\"type\":\"Plot\"},{\"attributes\":{\"axis_label\":\"Document Length\",\"axis_label_text_font_size\":{\"value\":\"30pt\"},\"formatter\":{\"id\":\"42014815-1282-4120-889a-eaca08e0d3fd\",\"type\":\"BasicTickFormatter\"},\"major_label_text_font_size\":{\"value\":\"15pt\"},\"plot\":{\"id\":\"e0f98241-1662-41d3-9131-bae56cec2080\",\"subtype\":\"Figure\",\"type\":\"Plot\"},\"ticker\":{\"id\":\"6d86239d-6d64-4567-8318-6e66b30239ee\",\"type\":\"BasicTicker\"}},\"id\":\"c20970f2-8596-47e8-86de-567e1eb6b11e\",\"type\":\"LinearAxis\"},{\"attributes\":{\"child\":{\"id\":\"35c3ea6a-ccfa-4de9-afe9-ee704f53aaf5\",\"subtype\":\"Figure\",\"type\":\"Plot\"},\"title\":\"distance_from_uniform\"},\"id\":\"d418f1e1-7679-4618-987f-f8d58ba36316\",\"type\":\"Panel\"},{\"attributes\":{\"dimension\":1,\"plot\":{\"id\":\"35c3ea6a-ccfa-4de9-afe9-ee704f53aaf5\",\"subtype\":\"Figure\",\"type\":\"Plot\"},\"ticker\":{\"id\":\"9d96daac-5c5a-406e-8741-8326e76d5d5c\",\"type\":\"BasicTicker\"}},\"id\":\"d2cca95a-6d6d-4453-adf1-f3c27ecc3677\",\"type\":\"Grid\"},{\"attributes\":{},\"id\":\"a05d23cc-5361-4053-979a-ca5897e8e3c0\",\"type\":\"ResetTool\"},{\"attributes\":{\"overlay\":{\"id\":\"8554c778-8e22-4513-af9c-bb2d6d7564d6\",\"type\":\"BoxAnnotation\"}},\"id\":\"4362c247-965a-4d7c-af3a-4acb165122ab\",\"type\":\"BoxZoomTool\"},{\"attributes\":{\"bottom_units\":\"screen\",\"fill_alpha\":{\"value\":0.5},\"fill_color\":{\"value\":\"lightgrey\"},\"left_units\":\"screen\",\"level\":\"overlay\",\"line_alpha\":{\"value\":1.0},\"line_color\":{\"value\":\"black\"},\"line_dash\":[4,4],\"line_width\":{\"value\":2},\"plot\":null,\"render_mode\":\"css\",\"right_units\":\"screen\",\"top_units\":\"screen\"},\"id\":\"a8572cfd-3384-4223-9f41-eb3552a068ba\",\"type\":\"BoxAnnotation\"},{\"attributes\":{},\"id\":\"88310a46-152b-436b-acb2-cb48b48a3997\",\"type\":\"PanTool\"},{\"attributes\":{\"callback\":null,\"column_names\":[\"x\",\"y\",\"top_three\"],\"data\":{\"top_three\":[],\"x\":[],\"y\":[]}},\"id\":\"397ef761-1cef-4caa-8650-8eb2a545ca8c\",\"type\":\"ColumnDataSource\"},{\"attributes\":{},\"id\":\"84c88917-5abf-4362-884b-c154d7488393\",\"type\":\"LinearScale\"},{\"attributes\":{},\"id\":\"4c2e6e86-831e-49f1-9340-dc39ed521cd6\",\"type\":\"BasicTickFormatter\"},{\"attributes\":{\"callback\":null},\"id\":\"de5ab1c5-b949-413a-869c-d1253b522cc3\",\"type\":\"DataRange1d\"},{\"attributes\":{},\"id\":\"15836bbd-3ce6-4324-b04d-3ccdbd68de63\",\"type\":\"BasicTickFormatter\"},{\"attributes\":{\"axis_label\":\"distance_from_uniform\",\"axis_label_text_font_size\":{\"value\":\"30pt\"},\"formatter\":{\"id\":\"cd4f0de4-5709-47d0-947a-73a2d0833627\",\"type\":\"BasicTickFormatter\"},\"major_label_text_font_size\":{\"value\":\"15pt\"},\"plot\":{\"id\":\"35c3ea6a-ccfa-4de9-afe9-ee704f53aaf5\",\"subtype\":\"Figure\",\"type\":\"Plot\"},\"ticker\":{\"id\":\"9d96daac-5c5a-406e-8741-8326e76d5d5c\",\"type\":\"BasicTicker\"}},\"id\":\"d35dccab-ecc9-4f7f-97ea-802138539dab\",\"type\":\"LinearAxis\"},{\"attributes\":{\"callback\":null,\"column_names\":[\"x\",\"y\",\"top_three\"],\"data\":{\"top_three\":[],\"x\":[],\"y\":[]}},\"id\":\"bda68d66-1447-4782-a1d9-bfeb70d26687\",\"type\":\"ColumnDataSource\"},{\"attributes\":{},\"id\":\"511557df-846b-41a2-901f-451cfff288ed\",\"type\":\"SaveTool\"},{\"attributes\":{\"bottom_units\":\"screen\",\"fill_alpha\":{\"value\":0.5},\"fill_color\":{\"value\":\"lightgrey\"},\"left_units\":\"screen\",\"level\":\"overlay\",\"line_alpha\":{\"value\":1.0},\"line_color\":{\"value\":\"black\"},\"line_dash\":[4,4],\"line_width\":{\"value\":2},\"plot\":null,\"render_mode\":\"css\",\"right_units\":\"screen\",\"top_units\":\"screen\"},\"id\":\"8554c778-8e22-4513-af9c-bb2d6d7564d6\",\"type\":\"BoxAnnotation\"},{\"attributes\":{\"bottom_units\":\"screen\",\"fill_alpha\":{\"value\":0.5},\"fill_color\":{\"value\":\"lightgrey\"},\"left_units\":\"screen\",\"level\":\"overlay\",\"line_alpha\":{\"value\":1.0},\"line_color\":{\"value\":\"black\"},\"line_dash\":[4,4],\"line_width\":{\"value\":2},\"plot\":null,\"render_mode\":\"css\",\"right_units\":\"screen\",\"top_units\":\"screen\"},\"id\":\"af6896a1-925e-4c3a-832d-8710dae86de4\",\"type\":\"BoxAnnotation\"},{\"attributes\":{\"callback\":null,\"column_names\":[\"x\",\"y\",\"top_three\"],\"data\":{\"top_three\":[],\"x\":[],\"y\":[]}},\"id\":\"f67367ae-2590-45a4-bd52-a8ff04f4dc67\",\"type\":\"ColumnDataSource\"},{\"attributes\":{\"below\":[{\"id\":\"31527c87-3c1a-469a-8e74-ae44f9ff47f8\",\"type\":\"LinearAxis\"}],\"left\":[{\"id\":\"a19dc066-ad57-42b6-98f0-b579e985f842\",\"type\":\"LinearAxis\"}],\"plot_width\":800,\"renderers\":[{\"id\":\"31527c87-3c1a-469a-8e74-ae44f9ff47f8\",\"type\":\"LinearAxis\"},{\"id\":\"a309971e-1c9a-4ac6-b234-7a2ccf61a6d0\",\"type\":\"Grid\"},{\"id\":\"a19dc066-ad57-42b6-98f0-b579e985f842\",\"type\":\"LinearAxis\"},{\"id\":\"2d93bca1-bd07-4a78-87c1-2cd25cf08aa0\",\"type\":\"Grid\"},{\"id\":\"c29a8959-337e-41c1-8668-bba1316d29dc\",\"type\":\"BoxAnnotation\"},{\"id\":\"9f78eed6-f511-4138-8da6-169e5a5022dd\",\"type\":\"GlyphRenderer\"}],\"title\":{\"id\":\"dce1c9f7-d298-47c3-855e-ab1f368d2f91\",\"type\":\"Title\"},\"toolbar\":{\"id\":\"c9eff81f-1a88-45ce-ad13-55c9442c24ec\",\"type\":\"Toolbar\"},\"toolbar_location\":\"above\",\"x_range\":{\"id\":\"21307aaf-59c7-4341-a71b-b86a1aa4948e\",\"type\":\"DataRange1d\"},\"x_scale\":{\"id\":\"d1821cec-9f32-45a6-b556-7ff0898ce535\",\"type\":\"LinearScale\"},\"y_range\":{\"id\":\"25b30773-4cf2-4525-b1b1-0325cbfb077b\",\"type\":\"DataRange1d\"},\"y_scale\":{\"id\":\"95ef2bdc-f532-46b8-9d7e-f9053f2ad51a\",\"type\":\"LinearScale\"}},\"id\":\"b5c4c930-0751-42e5-ba86-e1a042e51f40\",\"subtype\":\"Figure\",\"type\":\"Plot\"},{\"attributes\":{\"source\":{\"id\":\"e3f16f04-175b-4302-9bec-833b68bd6e51\",\"type\":\"ColumnDataSource\"}},\"id\":\"0ed84bf3-440b-4eaf-8017-353be48b825e\",\"type\":\"CDSView\"},{\"attributes\":{\"below\":[{\"id\":\"a4033ec7-fbca-42f9-9511-96b25a944047\",\"type\":\"LinearAxis\"}],\"left\":[{\"id\":\"7cc430e3-1c79-4f42-bc4e-e205a6bebb04\",\"type\":\"LinearAxis\"}],\"plot_width\":800,\"renderers\":[{\"id\":\"a4033ec7-fbca-42f9-9511-96b25a944047\",\"type\":\"LinearAxis\"},{\"id\":\"bb132a4c-32f3-4d25-a7df-d40006d0770f\",\"type\":\"Grid\"},{\"id\":\"7cc430e3-1c79-4f42-bc4e-e205a6bebb04\",\"type\":\"LinearAxis\"},{\"id\":\"084ff9a8-743d-4d98-bedf-12cdcc6c869c\",\"type\":\"Grid\"},{\"id\":\"ab58dbe3-3750-4aaf-a3e2-f55294dffdef\",\"type\":\"BoxAnnotation\"},{\"id\":\"cc56b30d-a786-4074-93a0-49e9807b6dac\",\"type\":\"GlyphRenderer\"}],\"title\":{\"id\":\"b18c7823-5c22-4fd9-963c-e4eb6372ea96\",\"type\":\"Title\"},\"toolbar\":{\"id\":\"1b704dcb-999b-425e-a67f-cd2e08d4050b\",\"type\":\"Toolbar\"},\"toolbar_location\":\"above\",\"x_range\":{\"id\":\"d1d6ccd8-3ce9-4503-acbf-7eb0a6337c4c\",\"type\":\"DataRange1d\"},\"x_scale\":{\"id\":\"b19b8d76-cfb3-4e34-b229-de9b73ce7fe4\",\"type\":\"LinearScale\"},\"y_range\":{\"id\":\"7cc9652c-6b53-42e4-a8e5-ece7cf2a79d6\",\"type\":\"DataRange1d\"},\"y_scale\":{\"id\":\"b02d81e8-64f0-49ef-82da-1d619bba27ad\",\"type\":\"LinearScale\"}},\"id\":\"1feeef39-de11-4ab6-a400-2f3a7c8454bf\",\"subtype\":\"Figure\",\"type\":\"Plot\"},{\"attributes\":{\"source\":{\"id\":\"9ab027e7-9b21-4826-9b09-20a771c2382e\",\"type\":\"ColumnDataSource\"}},\"id\":\"a77925a7-7733-4d76-9f80-883a0d6832d6\",\"type\":\"CDSView\"},{\"attributes\":{},\"id\":\"5a2ce77f-a60c-49e0-8894-dcab841fbc3b\",\"type\":\"SaveTool\"},{\"attributes\":{},\"id\":\"11f55095-9a0b-474a-be1f-a223b69c8890\",\"type\":\"HelpTool\"},{\"attributes\":{\"source\":{\"id\":\"0ae5a9f9-28e8-4d6b-b0e3-5b0e48ff147f\",\"type\":\"ColumnDataSource\"}},\"id\":\"ddffad67-6fc1-4704-9d85-25530f56dab8\",\"type\":\"CDSView\"},{\"attributes\":{\"child\":{\"id\":\"b5c4c930-0751-42e5-ba86-e1a042e51f40\",\"subtype\":\"Figure\",\"type\":\"Plot\"},\"title\":\"effective_size\"},\"id\":\"6e877b0f-42ef-4a10-8c00-b608433b56c1\",\"type\":\"Panel\"},{\"attributes\":{\"axis_label\":\"Document Length\",\"axis_label_text_font_size\":{\"value\":\"30pt\"},\"formatter\":{\"id\":\"f6e3b888-b4f1-49d3-86cc-2924f9e52ee0\",\"type\":\"BasicTickFormatter\"},\"major_label_text_font_size\":{\"value\":\"15pt\"},\"plot\":{\"id\":\"b5c4c930-0751-42e5-ba86-e1a042e51f40\",\"subtype\":\"Figure\",\"type\":\"Plot\"},\"ticker\":{\"id\":\"a03f2106-4e75-42e3-b1ee-431b820a9a21\",\"type\":\"BasicTicker\"}},\"id\":\"31527c87-3c1a-469a-8e74-ae44f9ff47f8\",\"type\":\"LinearAxis\"},{\"attributes\":{\"callback\":null,\"tabs\":[{\"id\":\"85dc9223-3c7a-449b-9e52-6eeb944b32bb\",\"type\":\"Panel\"},{\"id\":\"6e877b0f-42ef-4a10-8c00-b608433b56c1\",\"type\":\"Panel\"},{\"id\":\"9db1ce91-7b72-4dfc-b66d-e6bbc37dc047\",\"type\":\"Panel\"},{\"id\":\"d418f1e1-7679-4618-987f-f8d58ba36316\",\"type\":\"Panel\"},{\"id\":\"c3970a14-44e0-48a6-9f28-d060585c10cf\",\"type\":\"Panel\"},{\"id\":\"005edeee-c6e7-4f8b-89c2-e78fb223216d\",\"type\":\"Panel\"},{\"id\":\"a6348313-22ab-427d-8cf2-2a63476adaf6\",\"type\":\"Panel\"}]},\"id\":\"e3225e79-8f22-40df-b746-671e487ceed4\",\"type\":\"Tabs\"},{\"attributes\":{\"source\":{\"id\":\"bda68d66-1447-4782-a1d9-bfeb70d26687\",\"type\":\"ColumnDataSource\"}},\"id\":\"22882db2-e86f-4197-9eeb-367f648c3bf4\",\"type\":\"CDSView\"},{\"attributes\":{\"source\":{\"id\":\"f67367ae-2590-45a4-bd52-a8ff04f4dc67\",\"type\":\"ColumnDataSource\"}},\"id\":\"be0c8405-6686-4461-936b-2104c1032b90\",\"type\":\"CDSView\"},{\"attributes\":{\"callback\":null,\"column_names\":[\"x\",\"y\",\"top_three\"],\"data\":{\"top_three\":[],\"x\":[],\"y\":[]}},\"id\":\"0ae5a9f9-28e8-4d6b-b0e3-5b0e48ff147f\",\"type\":\"ColumnDataSource\"},{\"attributes\":{\"callback\":null},\"id\":\"24046b2b-e2bb-49ee-aa83-5090a586832c\",\"type\":\"DataRange1d\"},{\"attributes\":{\"plot\":null,\"text\":\"brown\",\"text_font_size\":{\"value\":\"15pt\"}},\"id\":\"dce1c9f7-d298-47c3-855e-ab1f368d2f91\",\"type\":\"Title\"},{\"attributes\":{\"data_source\":{\"id\":\"397ef761-1cef-4caa-8650-8eb2a545ca8c\",\"type\":\"ColumnDataSource\"},\"glyph\":{\"id\":\"c1506b0b-6f62-47a3-a1b6-ede40496074a\",\"type\":\"Circle\"},\"hover_glyph\":null,\"muted_glyph\":null,\"nonselection_glyph\":{\"id\":\"45c1d822-a917-4778-b3dd-0e03ce85ea40\",\"type\":\"Circle\"},\"selection_glyph\":null,\"view\":{\"id\":\"290bdadc-7303-42be-a347-b8ab9cbfbcab\",\"type\":\"CDSView\"}},\"id\":\"9f78eed6-f511-4138-8da6-169e5a5022dd\",\"type\":\"GlyphRenderer\"},{\"attributes\":{},\"id\":\"d29a60ec-f8cb-44a5-960f-2c1174339e90\",\"type\":\"SaveTool\"},{\"attributes\":{\"axis_label\":\"avg_jsd\",\"axis_label_text_font_size\":{\"value\":\"30pt\"},\"formatter\":{\"id\":\"4c2e6e86-831e-49f1-9340-dc39ed521cd6\",\"type\":\"BasicTickFormatter\"},\"major_label_text_font_size\":{\"value\":\"15pt\"},\"plot\":{\"id\":\"e0f98241-1662-41d3-9131-bae56cec2080\",\"subtype\":\"Figure\",\"type\":\"Plot\"},\"ticker\":{\"id\":\"eddb3cae-38ce-4dd9-85a7-70ddd12a12a4\",\"type\":\"BasicTicker\"}},\"id\":\"9d0165ae-4673-41df-bca9-8d4d6bccb65e\",\"type\":\"LinearAxis\"},{\"attributes\":{\"overlay\":{\"id\":\"a8572cfd-3384-4223-9f41-eb3552a068ba\",\"type\":\"BoxAnnotation\"}},\"id\":\"dbe78eda-f213-433d-856b-3b643e8f63d8\",\"type\":\"BoxZoomTool\"},{\"attributes\":{},\"id\":\"392dc3d2-b985-468b-a0ed-84beb9dd455d\",\"type\":\"BasicTickFormatter\"},{\"attributes\":{\"fill_alpha\":{\"value\":0.1},\"fill_color\":{\"value\":\"#1f77b4\"},\"line_alpha\":{\"value\":0.1},\"line_color\":{\"value\":\"#1f77b4\"},\"size\":{\"units\":\"screen\",\"value\":20},\"x\":{\"field\":\"x\"},\"y\":{\"field\":\"y\"}},\"id\":\"ed21799b-9788-4479-a7ed-10efdba86d27\",\"type\":\"Circle\"},{\"attributes\":{},\"id\":\"802956ce-8b73-4ca3-aafd-fabd85f0c039\",\"type\":\"PanTool\"},{\"attributes\":{},\"id\":\"f38977f4-58bf-40a5-98c6-e48c0de0b8c3\",\"type\":\"PanTool\"},{\"attributes\":{},\"id\":\"b19b8d76-cfb3-4e34-b229-de9b73ce7fe4\",\"type\":\"LinearScale\"},{\"attributes\":{},\"id\":\"055b6bec-cd0f-424c-a0e1-3a3bc3d45189\",\"type\":\"BasicTicker\"},{\"attributes\":{\"axis_label\":\"avg_cos\",\"axis_label_text_font_size\":{\"value\":\"30pt\"},\"formatter\":{\"id\":\"e0cc283c-1dc0-4257-96aa-b5d4dcff3406\",\"type\":\"BasicTickFormatter\"},\"major_label_text_font_size\":{\"value\":\"15pt\"},\"plot\":{\"id\":\"54c22809-c977-416f-8d70-ff965bf03176\",\"subtype\":\"Figure\",\"type\":\"Plot\"},\"ticker\":{\"id\":\"8b8b9939-6fd0-4450-8ffd-f06a3a3f587f\",\"type\":\"BasicTicker\"}},\"id\":\"3f6faa44-c8a8-4b00-a9a0-7e0a4005d917\",\"type\":\"LinearAxis\"},{\"attributes\":{\"fill_alpha\":{\"value\":0.5},\"fill_color\":{\"value\":\"black\"},\"line_alpha\":{\"value\":0.5},\"size\":{\"units\":\"screen\",\"value\":20},\"x\":{\"field\":\"x\"},\"y\":{\"field\":\"y\"}},\"id\":\"a6082b11-1f1b-4962-8490-cf12557fa09d\",\"type\":\"Circle\"},{\"attributes\":{\"plot\":{\"id\":\"e0f98241-1662-41d3-9131-bae56cec2080\",\"subtype\":\"Figure\",\"type\":\"Plot\"},\"ticker\":{\"id\":\"6d86239d-6d64-4567-8318-6e66b30239ee\",\"type\":\"BasicTicker\"}},\"id\":\"4ee1b728-09f4-433d-8579-b80858cf0ba2\",\"type\":\"Grid\"},{\"attributes\":{},\"id\":\"33e8f19d-80ff-4837-bf03-bf6ad715740f\",\"type\":\"WheelZoomTool\"},{\"attributes\":{},\"id\":\"ada7faae-35c8-4d17-9e98-a22da4495a35\",\"type\":\"BasicTicker\"},{\"attributes\":{\"data_source\":{\"id\":\"e3f16f04-175b-4302-9bec-833b68bd6e51\",\"type\":\"ColumnDataSource\"},\"glyph\":{\"id\":\"d5d054be-c93b-4517-96ab-40cc6e74f463\",\"type\":\"Circle\"},\"hover_glyph\":null,\"muted_glyph\":null,\"nonselection_glyph\":{\"id\":\"31f6e0d0-4cd0-4a1b-aa99-92ac7a4f8d0f\",\"type\":\"Circle\"},\"selection_glyph\":null,\"view\":{\"id\":\"0ed84bf3-440b-4eaf-8017-353be48b825e\",\"type\":\"CDSView\"}},\"id\":\"aac093e3-6959-49f4-b172-0ddf6d4b85ce\",\"type\":\"GlyphRenderer\"},{\"attributes\":{},\"id\":\"d0c7d4ad-11f9-4088-a140-58e0ac1672c4\",\"type\":\"LinearScale\"},{\"attributes\":{\"bottom_units\":\"screen\",\"fill_alpha\":{\"value\":0.5},\"fill_color\":{\"value\":\"lightgrey\"},\"left_units\":\"screen\",\"level\":\"overlay\",\"line_alpha\":{\"value\":1.0},\"line_color\":{\"value\":\"black\"},\"line_dash\":[4,4],\"line_width\":{\"value\":2},\"plot\":null,\"render_mode\":\"css\",\"right_units\":\"screen\",\"top_units\":\"screen\"},\"id\":\"ab58dbe3-3750-4aaf-a3e2-f55294dffdef\",\"type\":\"BoxAnnotation\"},{\"attributes\":{\"overlay\":{\"id\":\"89cdbd7e-ea4b-4ac1-b4b6-9835af6decdf\",\"type\":\"BoxAnnotation\"}},\"id\":\"9f618a40-accd-4df5-8a35-2b83a59aba3b\",\"type\":\"BoxZoomTool\"},{\"attributes\":{\"source\":{\"id\":\"5771637f-5d8f-440c-9fe7-3d6d6372ebcc\",\"type\":\"ColumnDataSource\"}},\"id\":\"496927fe-90a7-47b7-8acc-2342dea53787\",\"type\":\"CDSView\"},{\"attributes\":{\"callback\":null,\"tooltips\":[[\"x\",\"@x\"],[\"y\",\"@y\"],[\"top words\",\"@top_three\"]]},\"id\":\"c0eadbb4-8387-44cd-9198-291c0b719014\",\"type\":\"HoverTool\"},{\"attributes\":{},\"id\":\"c60f966a-0105-4b0c-9eff-cd0cb1f17da6\",\"type\":\"SaveTool\"},{\"attributes\":{\"below\":[{\"id\":\"c20970f2-8596-47e8-86de-567e1eb6b11e\",\"type\":\"LinearAxis\"}],\"left\":[{\"id\":\"9d0165ae-4673-41df-bca9-8d4d6bccb65e\",\"type\":\"LinearAxis\"}],\"plot_width\":800,\"renderers\":[{\"id\":\"c20970f2-8596-47e8-86de-567e1eb6b11e\",\"type\":\"LinearAxis\"},{\"id\":\"4ee1b728-09f4-433d-8579-b80858cf0ba2\",\"type\":\"Grid\"},{\"id\":\"9d0165ae-4673-41df-bca9-8d4d6bccb65e\",\"type\":\"LinearAxis\"},{\"id\":\"a275ace5-ebf8-4ec4-8b93-bcbbac0a9b09\",\"type\":\"Grid\"},{\"id\":\"89cdbd7e-ea4b-4ac1-b4b6-9835af6decdf\",\"type\":\"BoxAnnotation\"},{\"id\":\"c402421f-1c78-431d-b85a-349b2a05fa28\",\"type\":\"GlyphRenderer\"}],\"title\":{\"id\":\"0036322d-e612-4be8-8d92-fca5e9eaa5bb\",\"type\":\"Title\"},\"toolbar\":{\"id\":\"634cb481-93d8-4afb-a853-5a66155ea24f\",\"type\":\"Toolbar\"},\"toolbar_location\":\"above\",\"x_range\":{\"id\":\"a97ee39d-09cf-44c7-bdef-1ab827b10a19\",\"type\":\"DataRange1d\"},\"x_scale\":{\"id\":\"3db6426a-e4af-489c-8dd4-afb75612ec91\",\"type\":\"LinearScale\"},\"y_range\":{\"id\":\"5d25cfb7-4541-4ce9-b89a-802e3649c42d\",\"type\":\"DataRange1d\"},\"y_scale\":{\"id\":\"ff3205e4-93a0-4dbe-b54d-7461ddf82092\",\"type\":\"LinearScale\"}},\"id\":\"e0f98241-1662-41d3-9131-bae56cec2080\",\"subtype\":\"Figure\",\"type\":\"Plot\"},{\"attributes\":{},\"id\":\"34016e22-d233-4547-b791-e36362c23c9c\",\"type\":\"BasicTickFormatter\"},{\"attributes\":{\"below\":[{\"id\":\"bd2e3447-b192-4f16-aced-a92893af3e53\",\"type\":\"LinearAxis\"}],\"left\":[{\"id\":\"b1356df5-2053-4e9b-8ec3-c75f866d87a4\",\"type\":\"LinearAxis\"}],\"plot_width\":800,\"renderers\":[{\"id\":\"bd2e3447-b192-4f16-aced-a92893af3e53\",\"type\":\"LinearAxis\"},{\"id\":\"11f0b06c-3f2e-4b9c-b2e5-a759bba729d3\",\"type\":\"Grid\"},{\"id\":\"b1356df5-2053-4e9b-8ec3-c75f866d87a4\",\"type\":\"LinearAxis\"},{\"id\":\"84c0fb3e-5f32-417d-b34f-496bed2645cb\",\"type\":\"Grid\"},{\"id\":\"8554c778-8e22-4513-af9c-bb2d6d7564d6\",\"type\":\"BoxAnnotation\"},{\"id\":\"891caef8-49d6-4337-97d1-562054bc91a3\",\"type\":\"GlyphRenderer\"}],\"title\":{\"id\":\"6cb2c1e1-9a18-4621-a4be-c0959047b062\",\"type\":\"Title\"},\"toolbar\":{\"id\":\"6f1b3624-adb7-46d8-8b87-461b8815ddc5\",\"type\":\"Toolbar\"},\"toolbar_location\":\"above\",\"x_range\":{\"id\":\"a6bd9aa6-b224-40ac-9054-3741d585e780\",\"type\":\"DataRange1d\"},\"x_scale\":{\"id\":\"f49df040-aa2e-471f-9fb6-c7d1d085da88\",\"type\":\"LinearScale\"},\"y_range\":{\"id\":\"de5ab1c5-b949-413a-869c-d1253b522cc3\",\"type\":\"DataRange1d\"},\"y_scale\":{\"id\":\"81e61a74-c3e4-4c24-b4ae-ad5cc3025521\",\"type\":\"LinearScale\"}},\"id\":\"93dd52f4-50be-455a-8aa0-ef17e0a92416\",\"subtype\":\"Figure\",\"type\":\"Plot\"},{\"attributes\":{},\"id\":\"8d5d6d82-a197-42ed-9ad3-af33267c09a3\",\"type\":\"BasicTicker\"},{\"attributes\":{\"fill_alpha\":{\"value\":0.5},\"fill_color\":{\"value\":\"black\"},\"line_alpha\":{\"value\":0.5},\"size\":{\"units\":\"screen\",\"value\":20},\"x\":{\"field\":\"x\"},\"y\":{\"field\":\"y\"}},\"id\":\"87e909b3-0b28-4670-9823-cbe4210066c3\",\"type\":\"Circle\"},{\"attributes\":{},\"id\":\"88132b95-4338-434f-bec4-17dbc6cb3fce\",\"type\":\"HelpTool\"},{\"attributes\":{\"callback\":null},\"id\":\"25b30773-4cf2-4525-b1b1-0325cbfb077b\",\"type\":\"DataRange1d\"},{\"attributes\":{\"axis_label\":\"Document Length\",\"axis_label_text_font_size\":{\"value\":\"30pt\"},\"formatter\":{\"id\":\"4df7ff80-b488-40d4-b68f-2503b8781adc\",\"type\":\"BasicTickFormatter\"},\"major_label_text_font_size\":{\"value\":\"15pt\"},\"plot\":{\"id\":\"93dd52f4-50be-455a-8aa0-ef17e0a92416\",\"subtype\":\"Figure\",\"type\":\"Plot\"},\"ticker\":{\"id\":\"8d5d6d82-a197-42ed-9ad3-af33267c09a3\",\"type\":\"BasicTicker\"}},\"id\":\"bd2e3447-b192-4f16-aced-a92893af3e53\",\"type\":\"LinearAxis\"},{\"attributes\":{},\"id\":\"b966f00c-9639-4eaf-a59c-aaa16c8a8bc9\",\"type\":\"BasicTicker\"},{\"attributes\":{\"data_source\":{\"id\":\"9ab027e7-9b21-4826-9b09-20a771c2382e\",\"type\":\"ColumnDataSource\"},\"glyph\":{\"id\":\"a6082b11-1f1b-4962-8490-cf12557fa09d\",\"type\":\"Circle\"},\"hover_glyph\":null,\"muted_glyph\":null,\"nonselection_glyph\":{\"id\":\"21efad85-8d3e-475c-81ab-cc620d0517b9\",\"type\":\"Circle\"},\"selection_glyph\":null,\"view\":{\"id\":\"a77925a7-7733-4d76-9f80-883a0d6832d6\",\"type\":\"CDSView\"}},\"id\":\"cc56b30d-a786-4074-93a0-49e9807b6dac\",\"type\":\"GlyphRenderer\"},{\"attributes\":{\"active_drag\":\"auto\",\"active_inspect\":\"auto\",\"active_scroll\":\"auto\",\"active_tap\":\"auto\",\"tools\":[{\"id\":\"f38977f4-58bf-40a5-98c6-e48c0de0b8c3\",\"type\":\"PanTool\"},{\"id\":\"33e8f19d-80ff-4837-bf03-bf6ad715740f\",\"type\":\"WheelZoomTool\"},{\"id\":\"9f618a40-accd-4df5-8a35-2b83a59aba3b\",\"type\":\"BoxZoomTool\"},{\"id\":\"d3b8c1f6-3b21-47f3-b959-9e195c71dc34\",\"type\":\"SaveTool\"},{\"id\":\"1666bb8a-3c36-4ac3-9ae0-576f7da4fb6b\",\"type\":\"ResetTool\"},{\"id\":\"296fe2ff-fc7e-4e78-bed1-76805cba5912\",\"type\":\"HelpTool\"},{\"id\":\"c0eadbb4-8387-44cd-9198-291c0b719014\",\"type\":\"HoverTool\"}]},\"id\":\"634cb481-93d8-4afb-a853-5a66155ea24f\",\"type\":\"Toolbar\"},{\"attributes\":{},\"id\":\"e3977b3d-2c67-4fd6-b2ce-e2f5c025a624\",\"type\":\"LinearScale\"},{\"attributes\":{},\"id\":\"136858de-41a0-4cb4-ac15-0e2f8e85b665\",\"type\":\"ResetTool\"},{\"attributes\":{\"child\":{\"id\":\"e0f98241-1662-41d3-9131-bae56cec2080\",\"subtype\":\"Figure\",\"type\":\"Plot\"},\"title\":\"avg_jsd\"},\"id\":\"9db1ce91-7b72-4dfc-b66d-e6bbc37dc047\",\"type\":\"Panel\"},{\"attributes\":{\"callback\":null},\"id\":\"d3c87953-849a-4ab8-be6c-207a95f0d058\",\"type\":\"DataRange1d\"},{\"attributes\":{},\"id\":\"e0cc283c-1dc0-4257-96aa-b5d4dcff3406\",\"type\":\"BasicTickFormatter\"},{\"attributes\":{},\"id\":\"661de729-8b12-4985-9486-af5430c0a533\",\"type\":\"HelpTool\"},{\"attributes\":{\"active_drag\":\"auto\",\"active_inspect\":\"auto\",\"active_scroll\":\"auto\",\"active_tap\":\"auto\",\"tools\":[{\"id\":\"feb6d5e1-e33f-4685-ab18-d4e035cbc679\",\"type\":\"PanTool\"},{\"id\":\"2135f147-8157-4e03-ad51-e6af5c85062c\",\"type\":\"WheelZoomTool\"},{\"id\":\"e550bd0d-2197-482d-a46e-ddc4c7e54bf0\",\"type\":\"BoxZoomTool\"},{\"id\":\"18739ab3-cd70-4b42-8a1a-1f8f93c0ecf0\",\"type\":\"SaveTool\"},{\"id\":\"29a688a1-a656-4c2f-a62e-062e5d85914c\",\"type\":\"ResetTool\"},{\"id\":\"11f55095-9a0b-474a-be1f-a223b69c8890\",\"type\":\"HelpTool\"},{\"id\":\"c0eadbb4-8387-44cd-9198-291c0b719014\",\"type\":\"HoverTool\"}]},\"id\":\"1b704dcb-999b-425e-a67f-cd2e08d4050b\",\"type\":\"Toolbar\"},{\"attributes\":{\"dimension\":1,\"plot\":{\"id\":\"54c22809-c977-416f-8d70-ff965bf03176\",\"subtype\":\"Figure\",\"type\":\"Plot\"},\"ticker\":{\"id\":\"8b8b9939-6fd0-4450-8ffd-f06a3a3f587f\",\"type\":\"BasicTicker\"}},\"id\":\"f1383b0c-f9a5-4434-be29-7bd06be64f51\",\"type\":\"Grid\"},{\"attributes\":{\"dimension\":1,\"plot\":{\"id\":\"b5c4c930-0751-42e5-ba86-e1a042e51f40\",\"subtype\":\"Figure\",\"type\":\"Plot\"},\"ticker\":{\"id\":\"ada7faae-35c8-4d17-9e98-a22da4495a35\",\"type\":\"BasicTicker\"}},\"id\":\"2d93bca1-bd07-4a78-87c1-2cd25cf08aa0\",\"type\":\"Grid\"},{\"attributes\":{\"data_source\":{\"id\":\"bda68d66-1447-4782-a1d9-bfeb70d26687\",\"type\":\"ColumnDataSource\"},\"glyph\":{\"id\":\"4c59582f-ad20-4d71-9593-a6e4ef567a7f\",\"type\":\"Circle\"},\"hover_glyph\":null,\"muted_glyph\":null,\"nonselection_glyph\":{\"id\":\"e1bd373a-ec34-43d6-8125-92e1e0ab435a\",\"type\":\"Circle\"},\"selection_glyph\":null,\"view\":{\"id\":\"22882db2-e86f-4197-9eeb-367f648c3bf4\",\"type\":\"CDSView\"}},\"id\":\"9508a50b-6653-4611-8eb3-021ef65837ee\",\"type\":\"GlyphRenderer\"},{\"attributes\":{},\"id\":\"eddb3cae-38ce-4dd9-85a7-70ddd12a12a4\",\"type\":\"BasicTicker\"},{\"attributes\":{\"axis_label\":\"Document Length\",\"axis_label_text_font_size\":{\"value\":\"30pt\"},\"formatter\":{\"id\":\"3efc03d6-b9e4-4c2a-90b0-ac068f83cae7\",\"type\":\"BasicTickFormatter\"},\"major_label_text_font_size\":{\"value\":\"15pt\"},\"plot\":{\"id\":\"35c3ea6a-ccfa-4de9-afe9-ee704f53aaf5\",\"subtype\":\"Figure\",\"type\":\"Plot\"},\"ticker\":{\"id\":\"f63dbd62-9be6-4955-819f-9e004b356bc4\",\"type\":\"BasicTicker\"}},\"id\":\"2c0b8140-3544-49f2-8598-01d4ff66e959\",\"type\":\"LinearAxis\"},{\"attributes\":{\"below\":[{\"id\":\"2c0b8140-3544-49f2-8598-01d4ff66e959\",\"type\":\"LinearAxis\"}],\"left\":[{\"id\":\"d35dccab-ecc9-4f7f-97ea-802138539dab\",\"type\":\"LinearAxis\"}],\"plot_width\":800,\"renderers\":[{\"id\":\"2c0b8140-3544-49f2-8598-01d4ff66e959\",\"type\":\"LinearAxis\"},{\"id\":\"cfb8d8d2-073e-4031-b90b-8aa667088924\",\"type\":\"Grid\"},{\"id\":\"d35dccab-ecc9-4f7f-97ea-802138539dab\",\"type\":\"LinearAxis\"},{\"id\":\"d2cca95a-6d6d-4453-adf1-f3c27ecc3677\",\"type\":\"Grid\"},{\"id\":\"a8572cfd-3384-4223-9f41-eb3552a068ba\",\"type\":\"BoxAnnotation\"},{\"id\":\"349c9a59-0881-459d-8a2b-0fe815db51a5\",\"type\":\"GlyphRenderer\"}],\"title\":{\"id\":\"e0217fb2-4840-401b-9cfa-fb864f218ae7\",\"type\":\"Title\"},\"toolbar\":{\"id\":\"c13a2945-bebf-4a05-a2a3-1884d19d7ddb\",\"type\":\"Toolbar\"},\"toolbar_location\":\"above\",\"x_range\":{\"id\":\"1b79120e-cf39-418c-b80f-81cd99a7ff1f\",\"type\":\"DataRange1d\"},\"x_scale\":{\"id\":\"e3977b3d-2c67-4fd6-b2ce-e2f5c025a624\",\"type\":\"LinearScale\"},\"y_range\":{\"id\":\"24046b2b-e2bb-49ee-aa83-5090a586832c\",\"type\":\"DataRange1d\"},\"y_scale\":{\"id\":\"84c88917-5abf-4362-884b-c154d7488393\",\"type\":\"LinearScale\"}},\"id\":\"35c3ea6a-ccfa-4de9-afe9-ee704f53aaf5\",\"subtype\":\"Figure\",\"type\":\"Plot\"},{\"attributes\":{\"active_drag\":\"auto\",\"active_inspect\":\"auto\",\"active_scroll\":\"auto\",\"active_tap\":\"auto\",\"tools\":[{\"id\":\"b0316f72-fb74-482d-9d8d-4c3e5bc060b9\",\"type\":\"PanTool\"},{\"id\":\"0cd20fad-c171-46dc-a1cb-0c66ee5fd600\",\"type\":\"WheelZoomTool\"},{\"id\":\"cff19613-e82e-4cc7-a442-1d50880f455c\",\"type\":\"BoxZoomTool\"},{\"id\":\"d29a60ec-f8cb-44a5-960f-2c1174339e90\",\"type\":\"SaveTool\"},{\"id\":\"cd7bb2f1-13b6-4046-96bd-ea6bdf7c5921\",\"type\":\"ResetTool\"},{\"id\":\"88132b95-4338-434f-bec4-17dbc6cb3fce\",\"type\":\"HelpTool\"},{\"id\":\"c0eadbb4-8387-44cd-9198-291c0b719014\",\"type\":\"HoverTool\"}]},\"id\":\"c9eff81f-1a88-45ce-ad13-55c9442c24ec\",\"type\":\"Toolbar\"},{\"attributes\":{},\"id\":\"d1821cec-9f32-45a6-b556-7ff0898ce535\",\"type\":\"LinearScale\"},{\"attributes\":{},\"id\":\"05cc0153-03f8-4166-a9c2-dbac9c46a549\",\"type\":\"SaveTool\"},{\"attributes\":{\"bottom_units\":\"screen\",\"fill_alpha\":{\"value\":0.5},\"fill_color\":{\"value\":\"lightgrey\"},\"left_units\":\"screen\",\"level\":\"overlay\",\"line_alpha\":{\"value\":1.0},\"line_color\":{\"value\":\"black\"},\"line_dash\":[4,4],\"line_width\":{\"value\":2},\"plot\":null,\"render_mode\":\"css\",\"right_units\":\"screen\",\"top_units\":\"screen\"},\"id\":\"c29a8959-337e-41c1-8668-bba1316d29dc\",\"type\":\"BoxAnnotation\"},{\"attributes\":{\"plot\":{\"id\":\"93dd52f4-50be-455a-8aa0-ef17e0a92416\",\"subtype\":\"Figure\",\"type\":\"Plot\"},\"ticker\":{\"id\":\"8d5d6d82-a197-42ed-9ad3-af33267c09a3\",\"type\":\"BasicTicker\"}},\"id\":\"11f0b06c-3f2e-4b9c-b2e5-a759bba729d3\",\"type\":\"Grid\"},{\"attributes\":{},\"id\":\"0de147ec-4745-4efd-9889-cc55d7898a27\",\"type\":\"BasicTickFormatter\"},{\"attributes\":{},\"id\":\"f91d483c-f176-4de2-8556-f2d35c01cfe8\",\"type\":\"PanTool\"},{\"attributes\":{},\"id\":\"81e61a74-c3e4-4c24-b4ae-ad5cc3025521\",\"type\":\"LinearScale\"},{\"attributes\":{\"fill_alpha\":{\"value\":0.5},\"fill_color\":{\"value\":\"black\"},\"line_alpha\":{\"value\":0.5},\"size\":{\"units\":\"screen\",\"value\":20},\"x\":{\"field\":\"x\"},\"y\":{\"field\":\"y\"}},\"id\":\"86303c7f-1b90-4483-b9dd-a8afc078f888\",\"type\":\"Circle\"},{\"attributes\":{},\"id\":\"d3b8c1f6-3b21-47f3-b959-9e195c71dc34\",\"type\":\"SaveTool\"},{\"attributes\":{\"below\":[{\"id\":\"e0ea4e5d-1843-45bf-964c-2f2461cd8626\",\"type\":\"LinearAxis\"}],\"left\":[{\"id\":\"c1c266e3-0359-4c08-8095-83a44a554722\",\"type\":\"LinearAxis\"}],\"plot_width\":800,\"renderers\":[{\"id\":\"e0ea4e5d-1843-45bf-964c-2f2461cd8626\",\"type\":\"LinearAxis\"},{\"id\":\"89ea2b77-c68d-4832-91ff-4655404034d9\",\"type\":\"Grid\"},{\"id\":\"c1c266e3-0359-4c08-8095-83a44a554722\",\"type\":\"LinearAxis\"},{\"id\":\"204bd6b6-3931-4621-a480-38a8d85c365b\",\"type\":\"Grid\"},{\"id\":\"af6896a1-925e-4c3a-832d-8710dae86de4\",\"type\":\"BoxAnnotation\"},{\"id\":\"9508a50b-6653-4611-8eb3-021ef65837ee\",\"type\":\"GlyphRenderer\"}],\"title\":{\"id\":\"699e8465-3114-44b4-a5ad-86d98278cc55\",\"type\":\"Title\"},\"toolbar\":{\"id\":\"804dd50d-f467-48c1-b1d6-13df7794d677\",\"type\":\"Toolbar\"},\"toolbar_location\":\"above\",\"x_range\":{\"id\":\"822418df-e918-4957-849e-619602eacd99\",\"type\":\"DataRange1d\"},\"x_scale\":{\"id\":\"6d8d13e8-974d-4476-acef-e8c565c10e08\",\"type\":\"LinearScale\"},\"y_range\":{\"id\":\"5b704ac6-2f77-4c4c-82b1-71234d95d0fe\",\"type\":\"DataRange1d\"},\"y_scale\":{\"id\":\"bb8b8055-6012-462a-b5f3-4b95cddaadc5\",\"type\":\"LinearScale\"}},\"id\":\"5de340ed-bc24-43e5-aacd-c3fceae458cb\",\"subtype\":\"Figure\",\"type\":\"Plot\"},{\"attributes\":{\"overlay\":{\"id\":\"ab58dbe3-3750-4aaf-a3e2-f55294dffdef\",\"type\":\"BoxAnnotation\"}},\"id\":\"e550bd0d-2197-482d-a46e-ddc4c7e54bf0\",\"type\":\"BoxZoomTool\"},{\"attributes\":{\"dimension\":1,\"plot\":{\"id\":\"e0f98241-1662-41d3-9131-bae56cec2080\",\"subtype\":\"Figure\",\"type\":\"Plot\"},\"ticker\":{\"id\":\"eddb3cae-38ce-4dd9-85a7-70ddd12a12a4\",\"type\":\"BasicTicker\"}},\"id\":\"a275ace5-ebf8-4ec4-8b93-bcbbac0a9b09\",\"type\":\"Grid\"},{\"attributes\":{},\"id\":\"cd4f0de4-5709-47d0-947a-73a2d0833627\",\"type\":\"BasicTickFormatter\"},{\"attributes\":{},\"id\":\"29a688a1-a656-4c2f-a62e-062e5d85914c\",\"type\":\"ResetTool\"},{\"attributes\":{},\"id\":\"016ef610-b583-4bd9-9797-a0f4667ab2f9\",\"type\":\"HelpTool\"},{\"attributes\":{\"callback\":null},\"id\":\"21307aaf-59c7-4341-a71b-b86a1aa4948e\",\"type\":\"DataRange1d\"},{\"attributes\":{\"axis_label\":\"Document Length\",\"axis_label_text_font_size\":{\"value\":\"30pt\"},\"formatter\":{\"id\":\"d6d7f5b7-fef3-4d11-80bc-f72ebd39c986\",\"type\":\"BasicTickFormatter\"},\"major_label_text_font_size\":{\"value\":\"15pt\"},\"plot\":{\"id\":\"54c22809-c977-416f-8d70-ff965bf03176\",\"subtype\":\"Figure\",\"type\":\"Plot\"},\"ticker\":{\"id\":\"055b6bec-cd0f-424c-a0e1-3a3bc3d45189\",\"type\":\"BasicTicker\"}},\"id\":\"9a326eb8-42f3-4af7-ba56-50f821209b6f\",\"type\":\"LinearAxis\"},{\"attributes\":{\"plot\":null,\"text\":\"brown\",\"text_font_size\":{\"value\":\"15pt\"}},\"id\":\"b18c7823-5c22-4fd9-963c-e4eb6372ea96\",\"type\":\"Title\"},{\"attributes\":{\"fill_alpha\":{\"value\":0.1},\"fill_color\":{\"value\":\"#1f77b4\"},\"line_alpha\":{\"value\":0.1},\"line_color\":{\"value\":\"#1f77b4\"},\"size\":{\"units\":\"screen\",\"value\":20},\"x\":{\"field\":\"x\"},\"y\":{\"field\":\"y\"}},\"id\":\"31f6e0d0-4cd0-4a1b-aa99-92ac7a4f8d0f\",\"type\":\"Circle\"},{\"attributes\":{\"callback\":null},\"id\":\"ba53fefb-85c4-4b29-b180-249bb32ab32c\",\"type\":\"DataRange1d\"},{\"attributes\":{\"plot\":{\"id\":\"5de340ed-bc24-43e5-aacd-c3fceae458cb\",\"subtype\":\"Figure\",\"type\":\"Plot\"},\"ticker\":{\"id\":\"7e6fd400-078a-4b44-b7ff-35a11e111cff\",\"type\":\"BasicTicker\"}},\"id\":\"89ea2b77-c68d-4832-91ff-4655404034d9\",\"type\":\"Grid\"},{\"attributes\":{},\"id\":\"3db6426a-e4af-489c-8dd4-afb75612ec91\",\"type\":\"LinearScale\"},{\"attributes\":{\"callback\":null},\"id\":\"5b704ac6-2f77-4c4c-82b1-71234d95d0fe\",\"type\":\"DataRange1d\"},{\"attributes\":{},\"id\":\"75a130f2-79aa-43ad-b9ef-d9cc9450068c\",\"type\":\"WheelZoomTool\"},{\"attributes\":{\"plot\":{\"id\":\"35c3ea6a-ccfa-4de9-afe9-ee704f53aaf5\",\"subtype\":\"Figure\",\"type\":\"Plot\"},\"ticker\":{\"id\":\"f63dbd62-9be6-4955-819f-9e004b356bc4\",\"type\":\"BasicTicker\"}},\"id\":\"cfb8d8d2-073e-4031-b90b-8aa667088924\",\"type\":\"Grid\"},{\"attributes\":{},\"id\":\"6d86239d-6d64-4567-8318-6e66b30239ee\",\"type\":\"BasicTicker\"},{\"attributes\":{\"axis_label\":\"exclusivity\",\"axis_label_text_font_size\":{\"value\":\"30pt\"},\"formatter\":{\"id\":\"45c12d5f-b937-40b0-b4b2-64d44d2bc7f8\",\"type\":\"BasicTickFormatter\"},\"major_label_text_font_size\":{\"value\":\"15pt\"},\"plot\":{\"id\":\"1feeef39-de11-4ab6-a400-2f3a7c8454bf\",\"subtype\":\"Figure\",\"type\":\"Plot\"},\"ticker\":{\"id\":\"4d28547b-092c-421e-99f9-e0b58e0d3f0e\",\"type\":\"BasicTicker\"}},\"id\":\"7cc430e3-1c79-4f42-bc4e-e205a6bebb04\",\"type\":\"LinearAxis\"},{\"attributes\":{},\"id\":\"f63dbd62-9be6-4955-819f-9e004b356bc4\",\"type\":\"BasicTicker\"},{\"attributes\":{},\"id\":\"cfa07ad5-ef38-48f9-b3b8-c1ec5064a39b\",\"type\":\"LinearScale\"},{\"attributes\":{},\"id\":\"0f8d1d78-d774-46e2-8b8d-fb9f537def1a\",\"type\":\"ResetTool\"},{\"attributes\":{},\"id\":\"c2e2f1d0-fd8d-4881-bec1-c7089bb9f6df\",\"type\":\"BasicTicker\"},{\"attributes\":{\"axis_label\":\"avg_kld\",\"axis_label_text_font_size\":{\"value\":\"30pt\"},\"formatter\":{\"id\":\"0de147ec-4745-4efd-9889-cc55d7898a27\",\"type\":\"BasicTickFormatter\"},\"major_label_text_font_size\":{\"value\":\"15pt\"},\"plot\":{\"id\":\"93dd52f4-50be-455a-8aa0-ef17e0a92416\",\"subtype\":\"Figure\",\"type\":\"Plot\"},\"ticker\":{\"id\":\"22129032-0d32-43a9-81d5-566ebef095d0\",\"type\":\"BasicTicker\"}},\"id\":\"b1356df5-2053-4e9b-8ec3-c75f866d87a4\",\"type\":\"LinearAxis\"},{\"attributes\":{},\"id\":\"feb6d5e1-e33f-4685-ab18-d4e035cbc679\",\"type\":\"PanTool\"},{\"attributes\":{},\"id\":\"b02d81e8-64f0-49ef-82da-1d619bba27ad\",\"type\":\"LinearScale\"},{\"attributes\":{\"child\":{\"id\":\"1feeef39-de11-4ab6-a400-2f3a7c8454bf\",\"subtype\":\"Figure\",\"type\":\"Plot\"},\"title\":\"exclusivity\"},\"id\":\"a6348313-22ab-427d-8cf2-2a63476adaf6\",\"type\":\"Panel\"},{\"attributes\":{\"dimension\":1,\"plot\":{\"id\":\"1feeef39-de11-4ab6-a400-2f3a7c8454bf\",\"subtype\":\"Figure\",\"type\":\"Plot\"},\"ticker\":{\"id\":\"4d28547b-092c-421e-99f9-e0b58e0d3f0e\",\"type\":\"BasicTicker\"}},\"id\":\"084ff9a8-743d-4d98-bedf-12cdcc6c869c\",\"type\":\"Grid\"},{\"attributes\":{\"bottom_units\":\"screen\",\"fill_alpha\":{\"value\":0.5},\"fill_color\":{\"value\":\"lightgrey\"},\"left_units\":\"screen\",\"level\":\"overlay\",\"line_alpha\":{\"value\":1.0},\"line_color\":{\"value\":\"black\"},\"line_dash\":[4,4],\"line_width\":{\"value\":2},\"plot\":null,\"render_mode\":\"css\",\"right_units\":\"screen\",\"top_units\":\"screen\"},\"id\":\"89cdbd7e-ea4b-4ac1-b4b6-9835af6decdf\",\"type\":\"BoxAnnotation\"},{\"attributes\":{\"source\":{\"id\":\"397ef761-1cef-4caa-8650-8eb2a545ca8c\",\"type\":\"ColumnDataSource\"}},\"id\":\"290bdadc-7303-42be-a347-b8ab9cbfbcab\",\"type\":\"CDSView\"},{\"attributes\":{\"overlay\":{\"id\":\"c29a8959-337e-41c1-8668-bba1316d29dc\",\"type\":\"BoxAnnotation\"}},\"id\":\"cff19613-e82e-4cc7-a442-1d50880f455c\",\"type\":\"BoxZoomTool\"},{\"attributes\":{\"fill_alpha\":{\"value\":0.5},\"fill_color\":{\"value\":\"black\"},\"line_alpha\":{\"value\":0.5},\"size\":{\"units\":\"screen\",\"value\":20},\"x\":{\"field\":\"x\"},\"y\":{\"field\":\"y\"}},\"id\":\"d5d054be-c93b-4517-96ab-40cc6e74f463\",\"type\":\"Circle\"},{\"attributes\":{\"callback\":null,\"column_names\":[\"x\",\"y\",\"top_three\"],\"data\":{\"top_three\":[],\"x\":[],\"y\":[]}},\"id\":\"e3f16f04-175b-4302-9bec-833b68bd6e51\",\"type\":\"ColumnDataSource\"},{\"attributes\":{\"axis_label\":\"Document Length\",\"axis_label_text_font_size\":{\"value\":\"30pt\"},\"formatter\":{\"id\":\"15836bbd-3ce6-4324-b04d-3ccdbd68de63\",\"type\":\"BasicTickFormatter\"},\"major_label_text_font_size\":{\"value\":\"15pt\"},\"plot\":{\"id\":\"5de340ed-bc24-43e5-aacd-c3fceae458cb\",\"subtype\":\"Figure\",\"type\":\"Plot\"},\"ticker\":{\"id\":\"7e6fd400-078a-4b44-b7ff-35a11e111cff\",\"type\":\"BasicTicker\"}},\"id\":\"e0ea4e5d-1843-45bf-964c-2f2461cd8626\",\"type\":\"LinearAxis\"},{\"attributes\":{\"callback\":null},\"id\":\"1b79120e-cf39-418c-b80f-81cd99a7ff1f\",\"type\":\"DataRange1d\"},{\"attributes\":{\"callback\":null},\"id\":\"d1d6ccd8-3ce9-4503-acbf-7eb0a6337c4c\",\"type\":\"DataRange1d\"},{\"attributes\":{\"dimension\":1,\"plot\":{\"id\":\"93dd52f4-50be-455a-8aa0-ef17e0a92416\",\"subtype\":\"Figure\",\"type\":\"Plot\"},\"ticker\":{\"id\":\"22129032-0d32-43a9-81d5-566ebef095d0\",\"type\":\"BasicTicker\"}},\"id\":\"84c0fb3e-5f32-417d-b34f-496bed2645cb\",\"type\":\"Grid\"},{\"attributes\":{},\"id\":\"cd7bb2f1-13b6-4046-96bd-ea6bdf7c5921\",\"type\":\"ResetTool\"},{\"attributes\":{},\"id\":\"b0316f72-fb74-482d-9d8d-4c3e5bc060b9\",\"type\":\"PanTool\"},{\"attributes\":{\"callback\":null},\"id\":\"a97ee39d-09cf-44c7-bdef-1ab827b10a19\",\"type\":\"DataRange1d\"},{\"attributes\":{},\"id\":\"3efc03d6-b9e4-4c2a-90b0-ac068f83cae7\",\"type\":\"BasicTickFormatter\"},{\"attributes\":{\"fill_alpha\":{\"value\":0.5},\"fill_color\":{\"value\":\"black\"},\"line_alpha\":{\"value\":0.5},\"size\":{\"units\":\"screen\",\"value\":20},\"x\":{\"field\":\"x\"},\"y\":{\"field\":\"y\"}},\"id\":\"e4363117-7080-41db-ab50-2a51d30f7538\",\"type\":\"Circle\"},{\"attributes\":{},\"id\":\"296fe2ff-fc7e-4e78-bed1-76805cba5912\",\"type\":\"HelpTool\"},{\"attributes\":{},\"id\":\"4d28547b-092c-421e-99f9-e0b58e0d3f0e\",\"type\":\"BasicTicker\"},{\"attributes\":{},\"id\":\"b7b741b4-2b8c-46ca-8fd2-0e95e5d84f34\",\"type\":\"WheelZoomTool\"},{\"attributes\":{},\"id\":\"d6d7f5b7-fef3-4d11-80bc-f72ebd39c986\",\"type\":\"BasicTickFormatter\"},{\"attributes\":{},\"id\":\"39032d29-d4ac-4820-9eb2-87c777f388b4\",\"type\":\"WheelZoomTool\"},{\"attributes\":{},\"id\":\"9d96daac-5c5a-406e-8741-8326e76d5d5c\",\"type\":\"BasicTicker\"},{\"attributes\":{\"axis_label\":\"Document Length\",\"axis_label_text_font_size\":{\"value\":\"30pt\"},\"formatter\":{\"id\":\"34016e22-d233-4547-b791-e36362c23c9c\",\"type\":\"BasicTickFormatter\"},\"major_label_text_font_size\":{\"value\":\"15pt\"},\"plot\":{\"id\":\"1feeef39-de11-4ab6-a400-2f3a7c8454bf\",\"subtype\":\"Figure\",\"type\":\"Plot\"},\"ticker\":{\"id\":\"c2e2f1d0-fd8d-4881-bec1-c7089bb9f6df\",\"type\":\"BasicTicker\"}},\"id\":\"a4033ec7-fbca-42f9-9511-96b25a944047\",\"type\":\"LinearAxis\"},{\"attributes\":{},\"id\":\"2135f147-8157-4e03-ad51-e6af5c85062c\",\"type\":\"WheelZoomTool\"},{\"attributes\":{\"active_drag\":\"auto\",\"active_inspect\":\"auto\",\"active_scroll\":\"auto\",\"active_tap\":\"auto\",\"tools\":[{\"id\":\"0605c262-028c-4ca3-b39c-bb7f4c2a49af\",\"type\":\"PanTool\"},{\"id\":\"b7b741b4-2b8c-46ca-8fd2-0e95e5d84f34\",\"type\":\"WheelZoomTool\"},{\"id\":\"2234ca19-2ddf-4d38-86e0-a0fe5cda1fe5\",\"type\":\"BoxZoomTool\"},{\"id\":\"c60f966a-0105-4b0c-9eff-cd0cb1f17da6\",\"type\":\"SaveTool\"},{\"id\":\"f92e8033-ce74-4cd2-8d38-b67a770ade36\",\"type\":\"ResetTool\"},{\"id\":\"8826ad2e-6ca0-4ee9-ad34-c2736fde3860\",\"type\":\"HelpTool\"},{\"id\":\"c0eadbb4-8387-44cd-9198-291c0b719014\",\"type\":\"HoverTool\"}]},\"id\":\"804dd50d-f467-48c1-b1d6-13df7794d677\",\"type\":\"Toolbar\"},{\"attributes\":{\"fill_alpha\":{\"value\":0.1},\"fill_color\":{\"value\":\"#1f77b4\"},\"line_alpha\":{\"value\":0.1},\"line_color\":{\"value\":\"#1f77b4\"},\"size\":{\"units\":\"screen\",\"value\":20},\"x\":{\"field\":\"x\"},\"y\":{\"field\":\"y\"}},\"id\":\"e6f73582-4bed-4df1-902d-2b4cc976b1bf\",\"type\":\"Circle\"},{\"attributes\":{\"child\":{\"id\":\"93dd52f4-50be-455a-8aa0-ef17e0a92416\",\"subtype\":\"Figure\",\"type\":\"Plot\"},\"title\":\"avg_kld\"},\"id\":\"85dc9223-3c7a-449b-9e52-6eeb944b32bb\",\"type\":\"Panel\"},{\"attributes\":{\"overlay\":{\"id\":\"af6896a1-925e-4c3a-832d-8710dae86de4\",\"type\":\"BoxAnnotation\"}},\"id\":\"2234ca19-2ddf-4d38-86e0-a0fe5cda1fe5\",\"type\":\"BoxZoomTool\"},{\"attributes\":{\"axis_label\":\"effective_size\",\"axis_label_text_font_size\":{\"value\":\"30pt\"},\"formatter\":{\"id\":\"dbaf6832-502b-401e-95a5-6d1f26a902c4\",\"type\":\"BasicTickFormatter\"},\"major_label_text_font_size\":{\"value\":\"15pt\"},\"plot\":{\"id\":\"b5c4c930-0751-42e5-ba86-e1a042e51f40\",\"subtype\":\"Figure\",\"type\":\"Plot\"},\"ticker\":{\"id\":\"ada7faae-35c8-4d17-9e98-a22da4495a35\",\"type\":\"BasicTicker\"}},\"id\":\"a19dc066-ad57-42b6-98f0-b579e985f842\",\"type\":\"LinearAxis\"},{\"attributes\":{\"fill_alpha\":{\"value\":0.1},\"fill_color\":{\"value\":\"#1f77b4\"},\"line_alpha\":{\"value\":0.1},\"line_color\":{\"value\":\"#1f77b4\"},\"size\":{\"units\":\"screen\",\"value\":20},\"x\":{\"field\":\"x\"},\"y\":{\"field\":\"y\"}},\"id\":\"21efad85-8d3e-475c-81ab-cc620d0517b9\",\"type\":\"Circle\"},{\"attributes\":{\"overlay\":{\"id\":\"74f41b6c-4e77-4650-89df-0a452280542d\",\"type\":\"BoxAnnotation\"}},\"id\":\"b30ca5d2-71e8-4231-9720-e192b81e54e2\",\"type\":\"BoxZoomTool\"},{\"attributes\":{\"plot\":null,\"text\":\"brown\",\"text_font_size\":{\"value\":\"15pt\"}},\"id\":\"6cb2c1e1-9a18-4621-a4be-c0959047b062\",\"type\":\"Title\"},{\"attributes\":{},\"id\":\"95ef2bdc-f532-46b8-9d7e-f9053f2ad51a\",\"type\":\"LinearScale\"},{\"attributes\":{\"callback\":null},\"id\":\"7cc9652c-6b53-42e4-a8e5-ece7cf2a79d6\",\"type\":\"DataRange1d\"},{\"attributes\":{\"fill_alpha\":{\"value\":0.5},\"fill_color\":{\"value\":\"black\"},\"line_alpha\":{\"value\":0.5},\"size\":{\"units\":\"screen\",\"value\":20},\"x\":{\"field\":\"x\"},\"y\":{\"field\":\"y\"}},\"id\":\"c1506b0b-6f62-47a3-a1b6-ede40496074a\",\"type\":\"Circle\"},{\"attributes\":{},\"id\":\"8826ad2e-6ca0-4ee9-ad34-c2736fde3860\",\"type\":\"HelpTool\"},{\"attributes\":{},\"id\":\"dbaf6832-502b-401e-95a5-6d1f26a902c4\",\"type\":\"BasicTickFormatter\"},{\"attributes\":{\"callback\":null,\"column_names\":[\"x\",\"y\",\"top_three\"],\"data\":{\"top_three\":[],\"x\":[],\"y\":[]}},\"id\":\"5771637f-5d8f-440c-9fe7-3d6d6372ebcc\",\"type\":\"ColumnDataSource\"},{\"attributes\":{},\"id\":\"f49df040-aa2e-471f-9fb6-c7d1d085da88\",\"type\":\"LinearScale\"},{\"attributes\":{},\"id\":\"22129032-0d32-43a9-81d5-566ebef095d0\",\"type\":\"BasicTicker\"},{\"attributes\":{},\"id\":\"a03f2106-4e75-42e3-b1ee-431b820a9a21\",\"type\":\"BasicTicker\"},{\"attributes\":{\"callback\":null},\"id\":\"5d25cfb7-4541-4ce9-b89a-802e3649c42d\",\"type\":\"DataRange1d\"},{\"attributes\":{},\"id\":\"0cd20fad-c171-46dc-a1cb-0c66ee5fd600\",\"type\":\"WheelZoomTool\"},{\"attributes\":{\"data_source\":{\"id\":\"0ae5a9f9-28e8-4d6b-b0e3-5b0e48ff147f\",\"type\":\"ColumnDataSource\"},\"glyph\":{\"id\":\"e4363117-7080-41db-ab50-2a51d30f7538\",\"type\":\"Circle\"},\"hover_glyph\":null,\"muted_glyph\":null,\"nonselection_glyph\":{\"id\":\"e6f73582-4bed-4df1-902d-2b4cc976b1bf\",\"type\":\"Circle\"},\"selection_glyph\":null,\"view\":{\"id\":\"ddffad67-6fc1-4704-9d85-25530f56dab8\",\"type\":\"CDSView\"}},\"id\":\"891caef8-49d6-4337-97d1-562054bc91a3\",\"type\":\"GlyphRenderer\"},{\"attributes\":{\"data_source\":{\"id\":\"f67367ae-2590-45a4-bd52-a8ff04f4dc67\",\"type\":\"ColumnDataSource\"},\"glyph\":{\"id\":\"87e909b3-0b28-4670-9823-cbe4210066c3\",\"type\":\"Circle\"},\"hover_glyph\":null,\"muted_glyph\":null,\"nonselection_glyph\":{\"id\":\"b3db9bb2-7d17-4514-bd21-2d715d98787e\",\"type\":\"Circle\"},\"selection_glyph\":null,\"view\":{\"id\":\"be0c8405-6686-4461-936b-2104c1032b90\",\"type\":\"CDSView\"}},\"id\":\"c402421f-1c78-431d-b85a-349b2a05fa28\",\"type\":\"GlyphRenderer\"},{\"attributes\":{},\"id\":\"ff3205e4-93a0-4dbe-b54d-7461ddf82092\",\"type\":\"LinearScale\"},{\"attributes\":{},\"id\":\"45c12d5f-b937-40b0-b4b2-64d44d2bc7f8\",\"type\":\"BasicTickFormatter\"},{\"attributes\":{\"callback\":null,\"column_names\":[\"x\",\"y\",\"top_three\"],\"data\":{\"top_three\":[],\"x\":[],\"y\":[]}},\"id\":\"9ab027e7-9b21-4826-9b09-20a771c2382e\",\"type\":\"ColumnDataSource\"},{\"attributes\":{\"child\":{\"id\":\"54c22809-c977-416f-8d70-ff965bf03176\",\"subtype\":\"Figure\",\"type\":\"Plot\"},\"title\":\"avg_cos\"},\"id\":\"c3970a14-44e0-48a6-9f28-d060585c10cf\",\"type\":\"Panel\"},{\"attributes\":{\"fill_alpha\":{\"value\":0.1},\"fill_color\":{\"value\":\"#1f77b4\"},\"line_alpha\":{\"value\":0.1},\"line_color\":{\"value\":\"#1f77b4\"},\"size\":{\"units\":\"screen\",\"value\":20},\"x\":{\"field\":\"x\"},\"y\":{\"field\":\"y\"}},\"id\":\"e1bd373a-ec34-43d6-8125-92e1e0ab435a\",\"type\":\"Circle\"},{\"attributes\":{},\"id\":\"f6e3b888-b4f1-49d3-86cc-2924f9e52ee0\",\"type\":\"BasicTickFormatter\"},{\"attributes\":{},\"id\":\"1666bb8a-3c36-4ac3-9ae0-576f7da4fb6b\",\"type\":\"ResetTool\"},{\"attributes\":{\"plot\":{\"id\":\"54c22809-c977-416f-8d70-ff965bf03176\",\"subtype\":\"Figure\",\"type\":\"Plot\"},\"ticker\":{\"id\":\"055b6bec-cd0f-424c-a0e1-3a3bc3d45189\",\"type\":\"BasicTicker\"}},\"id\":\"66371b17-f713-4d47-8c99-dd1a442439b3\",\"type\":\"Grid\"},{\"attributes\":{},\"id\":\"1c0c057f-b89e-4e0a-bec4-a0dc638710c8\",\"type\":\"WheelZoomTool\"},{\"attributes\":{\"active_drag\":\"auto\",\"active_inspect\":\"auto\",\"active_scroll\":\"auto\",\"active_tap\":\"auto\",\"tools\":[{\"id\":\"f91d483c-f176-4de2-8556-f2d35c01cfe8\",\"type\":\"PanTool\"},{\"id\":\"75a130f2-79aa-43ad-b9ef-d9cc9450068c\",\"type\":\"WheelZoomTool\"},{\"id\":\"dbe78eda-f213-433d-856b-3b643e8f63d8\",\"type\":\"BoxZoomTool\"},{\"id\":\"511557df-846b-41a2-901f-451cfff288ed\",\"type\":\"SaveTool\"},{\"id\":\"0f8d1d78-d774-46e2-8b8d-fb9f537def1a\",\"type\":\"ResetTool\"},{\"id\":\"8e4588f1-abc3-4cf6-8c0d-88fc4a6050d4\",\"type\":\"HelpTool\"},{\"id\":\"c0eadbb4-8387-44cd-9198-291c0b719014\",\"type\":\"HoverTool\"}]},\"id\":\"c13a2945-bebf-4a05-a2a3-1884d19d7ddb\",\"type\":\"Toolbar\"},{\"attributes\":{\"fill_alpha\":{\"value\":0.1},\"fill_color\":{\"value\":\"#1f77b4\"},\"line_alpha\":{\"value\":0.1},\"line_color\":{\"value\":\"#1f77b4\"},\"size\":{\"units\":\"screen\",\"value\":20},\"x\":{\"field\":\"x\"},\"y\":{\"field\":\"y\"}},\"id\":\"b3db9bb2-7d17-4514-bd21-2d715d98787e\",\"type\":\"Circle\"},{\"attributes\":{},\"id\":\"bb8b8055-6012-462a-b5f3-4b95cddaadc5\",\"type\":\"LinearScale\"},{\"attributes\":{\"plot\":null,\"text\":\"brown\",\"text_font_size\":{\"value\":\"15pt\"}},\"id\":\"e0217fb2-4840-401b-9cfa-fb864f218ae7\",\"type\":\"Title\"},{\"attributes\":{},\"id\":\"f92e8033-ce74-4cd2-8d38-b67a770ade36\",\"type\":\"ResetTool\"},{\"attributes\":{\"fill_alpha\":{\"value\":0.5},\"fill_color\":{\"value\":\"black\"},\"line_alpha\":{\"value\":0.5},\"size\":{\"units\":\"screen\",\"value\":20},\"x\":{\"field\":\"x\"},\"y\":{\"field\":\"y\"}},\"id\":\"4c59582f-ad20-4d71-9593-a6e4ef567a7f\",\"type\":\"Circle\"},{\"attributes\":{\"callback\":null},\"id\":\"822418df-e918-4957-849e-619602eacd99\",\"type\":\"DataRange1d\"},{\"attributes\":{},\"id\":\"42014815-1282-4120-889a-eaca08e0d3fd\",\"type\":\"BasicTickFormatter\"},{\"attributes\":{\"plot\":{\"id\":\"1feeef39-de11-4ab6-a400-2f3a7c8454bf\",\"subtype\":\"Figure\",\"type\":\"Plot\"},\"ticker\":{\"id\":\"c2e2f1d0-fd8d-4881-bec1-c7089bb9f6df\",\"type\":\"BasicTicker\"}},\"id\":\"bb132a4c-32f3-4d25-a7df-d40006d0770f\",\"type\":\"Grid\"},{\"attributes\":{},\"id\":\"18739ab3-cd70-4b42-8a1a-1f8f93c0ecf0\",\"type\":\"SaveTool\"},{\"attributes\":{\"bottom_units\":\"screen\",\"fill_alpha\":{\"value\":0.5},\"fill_color\":{\"value\":\"lightgrey\"},\"left_units\":\"screen\",\"level\":\"overlay\",\"line_alpha\":{\"value\":1.0},\"line_color\":{\"value\":\"black\"},\"line_dash\":[4,4],\"line_width\":{\"value\":2},\"plot\":null,\"render_mode\":\"css\",\"right_units\":\"screen\",\"top_units\":\"screen\"},\"id\":\"74f41b6c-4e77-4650-89df-0a452280542d\",\"type\":\"BoxAnnotation\"},{\"attributes\":{},\"id\":\"8e4588f1-abc3-4cf6-8c0d-88fc4a6050d4\",\"type\":\"HelpTool\"},{\"attributes\":{\"fill_alpha\":{\"value\":0.1},\"fill_color\":{\"value\":\"#1f77b4\"},\"line_alpha\":{\"value\":0.1},\"line_color\":{\"value\":\"#1f77b4\"},\"size\":{\"units\":\"screen\",\"value\":20},\"x\":{\"field\":\"x\"},\"y\":{\"field\":\"y\"}},\"id\":\"45c1d822-a917-4778-b3dd-0e03ce85ea40\",\"type\":\"Circle\"},{\"attributes\":{\"child\":{\"id\":\"5de340ed-bc24-43e5-aacd-c3fceae458cb\",\"subtype\":\"Figure\",\"type\":\"Plot\"},\"title\":\"rank1\"},\"id\":\"005edeee-c6e7-4f8b-89c2-e78fb223216d\",\"type\":\"Panel\"},{\"attributes\":{\"axis_label\":\"rank1\",\"axis_label_text_font_size\":{\"value\":\"30pt\"},\"formatter\":{\"id\":\"392dc3d2-b985-468b-a0ed-84beb9dd455d\",\"type\":\"BasicTickFormatter\"},\"major_label_text_font_size\":{\"value\":\"15pt\"},\"plot\":{\"id\":\"5de340ed-bc24-43e5-aacd-c3fceae458cb\",\"subtype\":\"Figure\",\"type\":\"Plot\"},\"ticker\":{\"id\":\"b966f00c-9639-4eaf-a59c-aaa16c8a8bc9\",\"type\":\"BasicTicker\"}},\"id\":\"c1c266e3-0359-4c08-8095-83a44a554722\",\"type\":\"LinearAxis\"},{\"attributes\":{\"plot\":{\"id\":\"b5c4c930-0751-42e5-ba86-e1a042e51f40\",\"subtype\":\"Figure\",\"type\":\"Plot\"},\"ticker\":{\"id\":\"a03f2106-4e75-42e3-b1ee-431b820a9a21\",\"type\":\"BasicTicker\"}},\"id\":\"a309971e-1c9a-4ac6-b234-7a2ccf61a6d0\",\"type\":\"Grid\"},{\"attributes\":{},\"id\":\"8b8b9939-6fd0-4450-8ffd-f06a3a3f587f\",\"type\":\"BasicTicker\"},{\"attributes\":{},\"id\":\"7e6fd400-078a-4b44-b7ff-35a11e111cff\",\"type\":\"BasicTicker\"},{\"attributes\":{\"plot\":null,\"text\":\"brown\",\"text_font_size\":{\"value\":\"15pt\"}},\"id\":\"5abfeef5-d384-4c4d-9855-21a18cd16ecf\",\"type\":\"Title\"},{\"attributes\":{\"plot\":null,\"text\":\"brown\",\"text_font_size\":{\"value\":\"15pt\"}},\"id\":\"0036322d-e612-4be8-8d92-fca5e9eaa5bb\",\"type\":\"Title\"},{\"attributes\":{\"callback\":null},\"id\":\"a6bd9aa6-b224-40ac-9054-3741d585e780\",\"type\":\"DataRange1d\"},{\"attributes\":{},\"id\":\"6d8d13e8-974d-4476-acef-e8c565c10e08\",\"type\":\"LinearScale\"},{\"attributes\":{\"data_source\":{\"id\":\"5771637f-5d8f-440c-9fe7-3d6d6372ebcc\",\"type\":\"ColumnDataSource\"},\"glyph\":{\"id\":\"86303c7f-1b90-4483-b9dd-a8afc078f888\",\"type\":\"Circle\"},\"hover_glyph\":null,\"muted_glyph\":null,\"nonselection_glyph\":{\"id\":\"ed21799b-9788-4479-a7ed-10efdba86d27\",\"type\":\"Circle\"},\"selection_glyph\":null,\"view\":{\"id\":\"496927fe-90a7-47b7-8acc-2342dea53787\",\"type\":\"CDSView\"}},\"id\":\"349c9a59-0881-459d-8a2b-0fe815db51a5\",\"type\":\"GlyphRenderer\"},{\"attributes\":{},\"id\":\"0605c262-028c-4ca3-b39c-bb7f4c2a49af\",\"type\":\"PanTool\"},{\"attributes\":{\"dimension\":1,\"plot\":{\"id\":\"5de340ed-bc24-43e5-aacd-c3fceae458cb\",\"subtype\":\"Figure\",\"type\":\"Plot\"},\"ticker\":{\"id\":\"b966f00c-9639-4eaf-a59c-aaa16c8a8bc9\",\"type\":\"BasicTicker\"}},\"id\":\"204bd6b6-3931-4621-a480-38a8d85c365b\",\"type\":\"Grid\"},{\"attributes\":{\"active_drag\":\"auto\",\"active_inspect\":\"auto\",\"active_scroll\":\"auto\",\"active_tap\":\"auto\",\"tools\":[{\"id\":\"802956ce-8b73-4ca3-aafd-fabd85f0c039\",\"type\":\"PanTool\"},{\"id\":\"1c0c057f-b89e-4e0a-bec4-a0dc638710c8\",\"type\":\"WheelZoomTool\"},{\"id\":\"b30ca5d2-71e8-4231-9720-e192b81e54e2\",\"type\":\"BoxZoomTool\"},{\"id\":\"5a2ce77f-a60c-49e0-8894-dcab841fbc3b\",\"type\":\"SaveTool\"},{\"id\":\"136858de-41a0-4cb4-ac15-0e2f8e85b665\",\"type\":\"ResetTool\"},{\"id\":\"661de729-8b12-4985-9486-af5430c0a533\",\"type\":\"HelpTool\"},{\"id\":\"c0eadbb4-8387-44cd-9198-291c0b719014\",\"type\":\"HoverTool\"}]},\"id\":\"e642a1a7-ba3c-4ca9-af75-58746487e81c\",\"type\":\"Toolbar\"},{\"attributes\":{\"plot\":null,\"text\":\"brown\",\"text_font_size\":{\"value\":\"15pt\"}},\"id\":\"699e8465-3114-44b4-a5ad-86d98278cc55\",\"type\":\"Title\"}],\"root_ids\":[\"e3225e79-8f22-40df-b746-671e487ceed4\"]},\"title\":\"Bokeh Application\",\"version\":\"0.12.7\"}};\n",
       "            var render_items = [{\"docid\":\"b9b2628f-bf9e-4464-95a9-c060292101d2\",\"elementid\":\"e299817d-85f5-45d7-8242-5706dd90f86c\",\"modelid\":\"e3225e79-8f22-40df-b746-671e487ceed4\",\"notebook_comms_target\":\"21b92bba-db1f-400e-a734-fbe24d496cd5\"}];\n",
       "            \n",
       "            Bokeh.embed.embed_items(docs_json, render_items);\n",
       "          };\n",
       "          if (document.readyState != \"loading\") fn();\n",
       "          else document.addEventListener(\"DOMContentLoaded\", fn);\n",
       "        })();\n",
       "      },\n",
       "      function(Bokeh) {\n",
       "      }\n",
       "    ];\n",
       "  \n",
       "    function run_inline_js() {\n",
       "      \n",
       "      if ((root.Bokeh !== undefined) || (force === true)) {\n",
       "        for (var i = 0; i < inline_js.length; i++) {\n",
       "          inline_js[i].call(root, root.Bokeh);\n",
       "        }if (force === true) {\n",
       "          display_loaded();\n",
       "        }} else if (Date.now() < root._bokeh_timeout) {\n",
       "        setTimeout(run_inline_js, 100);\n",
       "      } else if (!root._bokeh_failed_load) {\n",
       "        console.log(\"Bokeh: BokehJS failed to load within specified timeout.\");\n",
       "        root._bokeh_failed_load = true;\n",
       "      } else if (force !== true) {\n",
       "        var cell = $(document.getElementById(\"e299817d-85f5-45d7-8242-5706dd90f86c\")).parents('.cell').data().cell;\n",
       "        cell.output_area.append_execute_result(NB_LOAD_WARNING)\n",
       "      }\n",
       "  \n",
       "    }\n",
       "  \n",
       "    if (root._bokeh_is_loading === 0) {\n",
       "      console.log(\"Bokeh: BokehJS loaded, going straight to plotting\");\n",
       "      run_inline_js();\n",
       "    } else {\n",
       "      load_libs(js_urls, function() {\n",
       "        console.log(\"Bokeh: BokehJS plotting callback run at\", now());\n",
       "        run_inline_js();\n",
       "      });\n",
       "    }\n",
       "  }(window));\n",
       "</script>"
      ]
     },
     "metadata": {},
     "output_type": "display_data"
    }
   ],
   "source": [
    "# Generate the plots\n",
    "tabs=Tabs(tabs=get_tabs(doc_len_metrics,\"Document Length\"))\n",
    "show(tabs,notebook_handle=True)"
   ]
  },
  {
   "cell_type": "markdown",
   "metadata": {},
   "source": [
    "### Discussion\n",
    "\n",
    "The behaviour of effective size is different when we change the corpus via modification of the document length.\n",
    "\n",
    "Exclusivity, Rank1, and Distance from Uniform were rather boring."
   ]
  },
  {
   "cell_type": "code",
   "execution_count": 125,
   "metadata": {},
   "outputs": [
    {
     "data": {
      "text/plain": [
       "True"
      ]
     },
     "execution_count": 125,
     "metadata": {},
     "output_type": "execute_result"
    }
   ],
   "source": [
    "# RUN THIS CELL TO SAVE YOUR WORK\n",
    "util.dump_pickle(doc_len_metrics,CORPUS_NAME+\"_doc_len_metrics.pickle\")"
   ]
  },
  {
   "cell_type": "code",
   "execution_count": 139,
   "metadata": {
    "collapsed": true
   },
   "outputs": [],
   "source": [
    "# RUN THIS CELL TO LOAD PLOT DATA FROM PICKLEJAR\n",
    "doc_len_metrics = util.load_pickle(CORPUS_NAME+\"doc_len_metrics.pickle\")"
   ]
  },
  {
   "cell_type": "markdown",
   "metadata": {},
   "source": [
    "## Presence of Stopwords\n",
    "\n",
    "This portion experiments with injecting or removing stopwords. The hypothesis is that topics will converge when stopwords are removed and lose quality as stopwords are injected.\n",
    "\n",
    "### ALGORITHM\n",
    "\n",
    "        1. For each corpus:\n",
    "        2.   For s in the range of stopword presences to test:\n",
    "        3.     Repeat 10 times:\n",
    "        4.       For each file in the corpus:\n",
    "        4.         Calculate the percentage of stopwords in that file\n",
    "        5.         If it is smaller than s:\n",
    "        6.           Calculate the number ot stopwords that need to be added\n",
    "        7.           Randomly select this many words from the list of stopwords that are in the corpus\n",
    "        8.         Otherwise, if it is larger than s:     "
   ]
  },
  {
   "cell_type": "code",
   "execution_count": 135,
   "metadata": {
    "collapsed": true
   },
   "outputs": [],
   "source": [
    "stoplist = stopwords.words('english')\n",
    "\n",
    "def stopwords_count(tokens):\n",
    "    stopword_count = 0\n",
    "    counter = Counter(tokens)\n",
    "    u = set(tokens)\n",
    "    for w in u.intersection(stoplist):\n",
    "        stopword_count += counter[w]\n",
    "    return stopword_count\n",
    "\n",
    "def stopwords_presence(tokens):\n",
    "    return stopwords_count(tokens)/len(tokens)\n",
    "\n",
    "s_range = np.arange(0,1,0.1)\n",
    "\n",
    "sw_pres_pcrs = {}\n",
    "for s in s_range:\n",
    "    s_strings = []\n",
    "    for fn in pcr.fileids():\n",
    "        tokens = [w.lower() for w in list(pcr.words(fn))]\n",
    "        n_s = len(words)*s # Proportion of stopwords we want\n",
    "        s_p = stopwords_presence(tokens)\n",
    "        if s_p < s: # Add stopwords\n",
    "            to_add = int((stopwords_count(tokens)-len(tokens)*s)/(s-1))\n",
    "            tokens.extend(np.random.choice(stoplist,to_add))\n",
    "        elif s_p > s: # Remove stopwords\n",
    "            while stopwords_presence(tokens) > s_p:\n",
    "                sw = np.random.choice(set(tokens).intersection(stoplist))\n",
    "                tokens.remove(sw)\n",
    "        s_strings.append(' '.join(tokens))\n",
    "    cr = corpus.from_strings(os.path.join(CORPUS_DIR+'_x','sw_pres_{}'.format(s)),s_strings)\n",
    "    sw_pres_pcrs[s] = cr"
   ]
  },
  {
   "cell_type": "code",
   "execution_count": 136,
   "metadata": {
    "collapsed": true
   },
   "outputs": [],
   "source": [
    "sw_pres_metrics = get_metrics(sw_pres_pcrs,s_range,15)"
   ]
  },
  {
   "cell_type": "code",
   "execution_count": 154,
   "metadata": {},
   "outputs": [
    {
     "data": {
      "text/plain": [
       "0.3493475076620667"
      ]
     },
     "execution_count": 154,
     "metadata": {},
     "output_type": "execute_result"
    }
   ],
   "source": [
    "pcr.stopword_presence"
   ]
  },
  {
   "cell_type": "code",
   "execution_count": 12,
   "metadata": {},
   "outputs": [
    {
     "data": {
      "text/html": [
       "\n",
       "\n",
       "    <div class=\"bk-root\">\n",
       "        <div class=\"bk-plotdiv\" id=\"76623887-4dc6-46f8-afc0-0f11731aace1\"></div>\n",
       "    </div>\n",
       "<script type=\"text/javascript\">\n",
       "  \n",
       "  (function(root) {\n",
       "    function now() {\n",
       "      return new Date();\n",
       "    }\n",
       "  \n",
       "    var force = false;\n",
       "  \n",
       "    if (typeof (root._bokeh_onload_callbacks) === \"undefined\" || force === true) {\n",
       "      root._bokeh_onload_callbacks = [];\n",
       "      root._bokeh_is_loading = undefined;\n",
       "    }\n",
       "  \n",
       "  \n",
       "    \n",
       "    if (typeof (root._bokeh_timeout) === \"undefined\" || force === true) {\n",
       "      root._bokeh_timeout = Date.now() + 0;\n",
       "      root._bokeh_failed_load = false;\n",
       "    }\n",
       "  \n",
       "    var NB_LOAD_WARNING = {'data': {'text/html':\n",
       "       \"<div style='background-color: #fdd'>\\n\"+\n",
       "       \"<p>\\n\"+\n",
       "       \"BokehJS does not appear to have successfully loaded. If loading BokehJS from CDN, this \\n\"+\n",
       "       \"may be due to a slow or bad network connection. Possible fixes:\\n\"+\n",
       "       \"</p>\\n\"+\n",
       "       \"<ul>\\n\"+\n",
       "       \"<li>re-rerun `output_notebook()` to attempt to load from CDN again, or</li>\\n\"+\n",
       "       \"<li>use INLINE resources instead, as so:</li>\\n\"+\n",
       "       \"</ul>\\n\"+\n",
       "       \"<code>\\n\"+\n",
       "       \"from bokeh.resources import INLINE\\n\"+\n",
       "       \"output_notebook(resources=INLINE)\\n\"+\n",
       "       \"</code>\\n\"+\n",
       "       \"</div>\"}};\n",
       "  \n",
       "    function display_loaded() {\n",
       "      if (root.Bokeh !== undefined) {\n",
       "        var el = document.getElementById(\"76623887-4dc6-46f8-afc0-0f11731aace1\");\n",
       "        if (el != null) {\n",
       "          el.textContent = \"BokehJS \" + Bokeh.version + \" successfully loaded.\";\n",
       "        }\n",
       "      } else if (Date.now() < root._bokeh_timeout) {\n",
       "        setTimeout(display_loaded, 100)\n",
       "      }\n",
       "    }\n",
       "  \n",
       "  \n",
       "    function run_callbacks() {\n",
       "      try {\n",
       "        root._bokeh_onload_callbacks.forEach(function(callback) { callback() });\n",
       "      }\n",
       "      finally {\n",
       "        delete root._bokeh_onload_callbacks\n",
       "      }\n",
       "      console.info(\"Bokeh: all callbacks have finished\");\n",
       "    }\n",
       "  \n",
       "    function load_libs(js_urls, callback) {\n",
       "      root._bokeh_onload_callbacks.push(callback);\n",
       "      if (root._bokeh_is_loading > 0) {\n",
       "        console.log(\"Bokeh: BokehJS is being loaded, scheduling callback at\", now());\n",
       "        return null;\n",
       "      }\n",
       "      if (js_urls == null || js_urls.length === 0) {\n",
       "        run_callbacks();\n",
       "        return null;\n",
       "      }\n",
       "      console.log(\"Bokeh: BokehJS not loaded, scheduling load and callback at\", now());\n",
       "      root._bokeh_is_loading = js_urls.length;\n",
       "      for (var i = 0; i < js_urls.length; i++) {\n",
       "        var url = js_urls[i];\n",
       "        var s = document.createElement('script');\n",
       "        s.src = url;\n",
       "        s.async = false;\n",
       "        s.onreadystatechange = s.onload = function() {\n",
       "          root._bokeh_is_loading--;\n",
       "          if (root._bokeh_is_loading === 0) {\n",
       "            console.log(\"Bokeh: all BokehJS libraries loaded\");\n",
       "            run_callbacks()\n",
       "          }\n",
       "        };\n",
       "        s.onerror = function() {\n",
       "          console.warn(\"failed to load library \" + url);\n",
       "        };\n",
       "        console.log(\"Bokeh: injecting script tag for BokehJS library: \", url);\n",
       "        document.getElementsByTagName(\"head\")[0].appendChild(s);\n",
       "      }\n",
       "    };var element = document.getElementById(\"76623887-4dc6-46f8-afc0-0f11731aace1\");\n",
       "    if (element == null) {\n",
       "      console.log(\"Bokeh: ERROR: autoload.js configured with elementid '76623887-4dc6-46f8-afc0-0f11731aace1' but no matching script tag was found. \")\n",
       "      return false;\n",
       "    }\n",
       "  \n",
       "    var js_urls = [];\n",
       "  \n",
       "    var inline_js = [\n",
       "      function(Bokeh) {\n",
       "        (function() {\n",
       "          var fn = function() {\n",
       "            var docs_json = {\"6b9a7992-ba36-444b-a667-90dd1a00533e\":{\"roots\":{\"references\":[{\"attributes\":{},\"id\":\"12466647-c4e3-47e6-b7f8-bbb9faa19481\",\"type\":\"BasicTickFormatter\"},{\"attributes\":{\"child\":{\"id\":\"3d9733b1-5830-4106-b527-8a061b0ced95\",\"subtype\":\"Figure\",\"type\":\"Plot\"},\"title\":\"avg_cos\"},\"id\":\"68c0fad8-6693-432e-a9c2-c5222535fb72\",\"type\":\"Panel\"},{\"attributes\":{\"data_source\":{\"id\":\"bb0d8390-e58b-46cd-8231-3bb1b8df6eff\",\"type\":\"ColumnDataSource\"},\"glyph\":{\"id\":\"da95b8ee-9bb9-4b39-aca6-07556ed26951\",\"type\":\"Circle\"},\"hover_glyph\":null,\"muted_glyph\":null,\"nonselection_glyph\":{\"id\":\"1362a319-9f64-4e78-ba15-143f07c5d805\",\"type\":\"Circle\"},\"selection_glyph\":null,\"view\":{\"id\":\"40abc627-e604-48cc-92e6-8e9dc7055f41\",\"type\":\"CDSView\"}},\"id\":\"564fd1e9-1b53-4e3a-ad21-c4ebc9b75437\",\"type\":\"GlyphRenderer\"},{\"attributes\":{\"below\":[{\"id\":\"cc337456-7541-4f96-9c91-087598cda69c\",\"type\":\"LinearAxis\"}],\"left\":[{\"id\":\"7116576f-73c9-4660-bbf4-1157a8b22270\",\"type\":\"LinearAxis\"}],\"plot_width\":800,\"renderers\":[{\"id\":\"cc337456-7541-4f96-9c91-087598cda69c\",\"type\":\"LinearAxis\"},{\"id\":\"ff8bdaf7-c9c2-4c6d-b43b-3d42df991d16\",\"type\":\"Grid\"},{\"id\":\"7116576f-73c9-4660-bbf4-1157a8b22270\",\"type\":\"LinearAxis\"},{\"id\":\"4aaba9c6-142f-41fc-ab10-ace0b4860401\",\"type\":\"Grid\"},{\"id\":\"2fb84223-9036-4005-ab77-65d82ec38490\",\"type\":\"BoxAnnotation\"},{\"id\":\"8a9e9c4f-e6cb-4307-b726-aabbc7ed2009\",\"type\":\"GlyphRenderer\"}],\"title\":{\"id\":\"9bea9fc7-e067-4c10-ae00-f57926564541\",\"type\":\"Title\"},\"toolbar\":{\"id\":\"579a3cd9-994d-494e-b1b5-6475e1bac694\",\"type\":\"Toolbar\"},\"toolbar_location\":\"above\",\"x_range\":{\"id\":\"a68ab176-8c4e-488b-a771-c886499cb10a\",\"type\":\"DataRange1d\"},\"x_scale\":{\"id\":\"b1cd0c55-622f-4e87-b9d2-5f802661c04e\",\"type\":\"LinearScale\"},\"y_range\":{\"id\":\"11631406-3841-4827-a8c8-dc3949e9fb9f\",\"type\":\"DataRange1d\"},\"y_scale\":{\"id\":\"365e6173-8611-49af-afd8-17eaf6d9425e\",\"type\":\"LinearScale\"}},\"id\":\"75fe2286-436f-4731-b1dc-f710a0b218b5\",\"subtype\":\"Figure\",\"type\":\"Plot\"},{\"attributes\":{\"fill_alpha\":{\"value\":0.1},\"fill_color\":{\"value\":\"#1f77b4\"},\"line_alpha\":{\"value\":0.1},\"line_color\":{\"value\":\"#1f77b4\"},\"size\":{\"units\":\"screen\",\"value\":20},\"x\":{\"field\":\"x\"},\"y\":{\"field\":\"y\"}},\"id\":\"04b0bac7-b2a8-4768-80ca-38cd07cc6946\",\"type\":\"Circle\"},{\"attributes\":{},\"id\":\"eb379905-97c8-4e86-b351-8f10bf0f1c82\",\"type\":\"PanTool\"},{\"attributes\":{},\"id\":\"dcafb696-f1aa-4aac-8ab8-917830748222\",\"type\":\"SaveTool\"},{\"attributes\":{\"axis_label\":\"avg_kld\",\"axis_label_text_font_size\":{\"value\":\"30pt\"},\"formatter\":{\"id\":\"374b0ed4-853c-4c84-b263-6f75f9da4a4f\",\"type\":\"BasicTickFormatter\"},\"major_label_text_font_size\":{\"value\":\"15pt\"},\"plot\":{\"id\":\"12b39297-5a79-4ef6-a9d8-c49caa5f9963\",\"subtype\":\"Figure\",\"type\":\"Plot\"},\"ticker\":{\"id\":\"d4ca04a3-b97b-41eb-838f-3898e9afbbc1\",\"type\":\"BasicTicker\"}},\"id\":\"0208fc30-fdfc-483a-b0a2-9d7d77bda289\",\"type\":\"LinearAxis\"},{\"attributes\":{\"active_drag\":\"auto\",\"active_inspect\":\"auto\",\"active_scroll\":\"auto\",\"active_tap\":\"auto\",\"tools\":[{\"id\":\"6c2c2dcf-640e-4564-ad72-787fcc2a2d8b\",\"type\":\"PanTool\"},{\"id\":\"4fff3e99-64e1-488f-aa24-2f19746779b7\",\"type\":\"WheelZoomTool\"},{\"id\":\"1ac32116-71ed-4517-9a36-18b9b373c1b8\",\"type\":\"BoxZoomTool\"},{\"id\":\"eb3999ca-a8cc-4bae-bb39-ca03cb22559f\",\"type\":\"SaveTool\"},{\"id\":\"a5256ddb-cc85-46c4-b5eb-3f12fc23ab41\",\"type\":\"ResetTool\"},{\"id\":\"3e195595-8b3e-47b0-94e4-19c4c8105f8a\",\"type\":\"HelpTool\"},{\"id\":\"3b7a370c-eba1-4ec2-91b9-6ad9bf68dd69\",\"type\":\"HoverTool\"}]},\"id\":\"579a3cd9-994d-494e-b1b5-6475e1bac694\",\"type\":\"Toolbar\"},{\"attributes\":{\"active_drag\":\"auto\",\"active_inspect\":\"auto\",\"active_scroll\":\"auto\",\"active_tap\":\"auto\",\"tools\":[{\"id\":\"3c5b5bce-4539-412c-804c-685966ab74df\",\"type\":\"PanTool\"},{\"id\":\"dfe126e6-5947-48f4-ab45-2bfc2d07dc75\",\"type\":\"WheelZoomTool\"},{\"id\":\"c2b9d93c-0130-419b-a2d6-95b9cb6ba088\",\"type\":\"BoxZoomTool\"},{\"id\":\"0faef8ff-94fb-4b42-81fb-028223426b56\",\"type\":\"SaveTool\"},{\"id\":\"8e7fd384-3e72-49aa-b0ab-bdb8465fba87\",\"type\":\"ResetTool\"},{\"id\":\"09f059ff-8936-4b9e-a8b8-ba19af458b1d\",\"type\":\"HelpTool\"},{\"id\":\"3b7a370c-eba1-4ec2-91b9-6ad9bf68dd69\",\"type\":\"HoverTool\"}]},\"id\":\"ecac7b3b-ba48-421e-b697-ac0f87fd51c8\",\"type\":\"Toolbar\"},{\"attributes\":{\"data_source\":{\"id\":\"6704bad8-7d5d-4cda-8bd7-67b520c07054\",\"type\":\"ColumnDataSource\"},\"glyph\":{\"id\":\"4e90af96-e1cd-472f-894d-ba730bfcbff6\",\"type\":\"Circle\"},\"hover_glyph\":null,\"muted_glyph\":null,\"nonselection_glyph\":{\"id\":\"a59043ef-b89d-4902-b282-585f831de345\",\"type\":\"Circle\"},\"selection_glyph\":null,\"view\":{\"id\":\"c9fcf593-7128-4f45-8bc8-6a15405e20c6\",\"type\":\"CDSView\"}},\"id\":\"3f0831b3-f73b-446c-9513-6cca321a1201\",\"type\":\"GlyphRenderer\"},{\"attributes\":{},\"id\":\"6c2c2dcf-640e-4564-ad72-787fcc2a2d8b\",\"type\":\"PanTool\"},{\"attributes\":{\"source\":{\"id\":\"b3f56b97-6aad-4017-8dd0-20fec3cb3dde\",\"type\":\"ColumnDataSource\"}},\"id\":\"69832470-55fe-43a5-89c2-b816f6085fba\",\"type\":\"CDSView\"},{\"attributes\":{\"data_source\":{\"id\":\"b4fe12dc-7102-45bf-8056-8e304a7bfaa8\",\"type\":\"ColumnDataSource\"},\"glyph\":{\"id\":\"a69d7410-0df2-4c29-a7c4-d49fadcbe33f\",\"type\":\"Circle\"},\"hover_glyph\":null,\"muted_glyph\":null,\"nonselection_glyph\":{\"id\":\"b7a0ee55-7f90-445b-9a4c-e7608ada4cf9\",\"type\":\"Circle\"},\"selection_glyph\":null,\"view\":{\"id\":\"7ff9b8c7-8d2a-4cc6-833f-dc5df18bfff2\",\"type\":\"CDSView\"}},\"id\":\"e1e7c97e-fed9-4054-b668-833e59c3268b\",\"type\":\"GlyphRenderer\"},{\"attributes\":{\"fill_alpha\":{\"value\":0.1},\"fill_color\":{\"value\":\"#1f77b4\"},\"line_alpha\":{\"value\":0.1},\"line_color\":{\"value\":\"#1f77b4\"},\"size\":{\"units\":\"screen\",\"value\":20},\"x\":{\"field\":\"x\"},\"y\":{\"field\":\"y\"}},\"id\":\"439d7225-9b50-485a-9eb2-e5d0b652dd13\",\"type\":\"Circle\"},{\"attributes\":{\"callback\":null},\"id\":\"52e55578-71cc-4a58-99d2-e88afc90b850\",\"type\":\"DataRange1d\"},{\"attributes\":{\"callback\":null},\"id\":\"8b546cab-3b11-4f8c-9422-9221f9788dca\",\"type\":\"DataRange1d\"},{\"attributes\":{},\"id\":\"eb3999ca-a8cc-4bae-bb39-ca03cb22559f\",\"type\":\"SaveTool\"},{\"attributes\":{\"callback\":null},\"id\":\"7b531689-6f75-470f-9a40-4dac6502e9d0\",\"type\":\"DataRange1d\"},{\"attributes\":{},\"id\":\"a5256ddb-cc85-46c4-b5eb-3f12fc23ab41\",\"type\":\"ResetTool\"},{\"attributes\":{},\"id\":\"d70a66b0-3398-4141-8fcc-5da1b82faa88\",\"type\":\"HelpTool\"},{\"attributes\":{\"axis_label\":\"Stopword Presence (%)\",\"axis_label_text_font_size\":{\"value\":\"30pt\"},\"formatter\":{\"id\":\"b012f551-87cd-40ef-bf54-fbca9e35a57d\",\"type\":\"BasicTickFormatter\"},\"major_label_text_font_size\":{\"value\":\"15pt\"},\"plot\":{\"id\":\"bf046416-3088-4be7-87e3-91e3021e765b\",\"subtype\":\"Figure\",\"type\":\"Plot\"},\"ticker\":{\"id\":\"e1953012-c846-4f20-8fbb-fc52e2638dea\",\"type\":\"BasicTicker\"}},\"id\":\"9e5a8f62-03e7-422b-81d7-21e3c40a7353\",\"type\":\"LinearAxis\"},{\"attributes\":{\"plot\":null,\"text\":\"brown\",\"text_font_size\":{\"value\":\"15pt\"}},\"id\":\"3f3a8d7d-bf34-4e15-9451-548c240d4250\",\"type\":\"Title\"},{\"attributes\":{\"source\":{\"id\":\"6704bad8-7d5d-4cda-8bd7-67b520c07054\",\"type\":\"ColumnDataSource\"}},\"id\":\"c9fcf593-7128-4f45-8bc8-6a15405e20c6\",\"type\":\"CDSView\"},{\"attributes\":{\"fill_alpha\":{\"value\":0.5},\"fill_color\":{\"value\":\"black\"},\"line_alpha\":{\"value\":0.5},\"size\":{\"units\":\"screen\",\"value\":20},\"x\":{\"field\":\"x\"},\"y\":{\"field\":\"y\"}},\"id\":\"4e90af96-e1cd-472f-894d-ba730bfcbff6\",\"type\":\"Circle\"},{\"attributes\":{},\"id\":\"4fff3e99-64e1-488f-aa24-2f19746779b7\",\"type\":\"WheelZoomTool\"},{\"attributes\":{\"bottom_units\":\"screen\",\"fill_alpha\":{\"value\":0.5},\"fill_color\":{\"value\":\"lightgrey\"},\"left_units\":\"screen\",\"level\":\"overlay\",\"line_alpha\":{\"value\":1.0},\"line_color\":{\"value\":\"black\"},\"line_dash\":[4,4],\"line_width\":{\"value\":2},\"plot\":null,\"render_mode\":\"css\",\"right_units\":\"screen\",\"top_units\":\"screen\"},\"id\":\"1fb2695f-53e4-4c4f-ab8e-c07e5a64808e\",\"type\":\"BoxAnnotation\"},{\"attributes\":{},\"id\":\"d4ca04a3-b97b-41eb-838f-3898e9afbbc1\",\"type\":\"BasicTicker\"},{\"attributes\":{\"callback\":null,\"column_names\":[\"x\",\"y\",\"top_three\"],\"data\":{\"top_three\":[\"nn vb jj\",\"nn jj rb\",\"nn jj af\",\"nn jj nns\",\"tl nn np\",\"nn np jj\",\"nn np jj\",\"nn vb rb\",\"nn np jj\",\"nn jj cc\",\"vacuumed solved hurry\",\"nn jj tl\",\"nn jj nns\",\"nn np tl\",\"nn np tl\",\"nn vb jj\",\"nn jj rb\",\"nn jj af\",\"nn jj nns\",\"tl nn np\",\"nn np jj\",\"nn np jj\",\"nn vb rb\",\"nn np jj\",\"nn jj cc\",\"vacuumed solved hurry\",\"nn jj tl\",\"nn jj nns\",\"nn np tl\",\"nn np tl\",\"nn vb jj\",\"nn jj rb\",\"nn jj af\",\"nn jj nns\",\"tl nn np\",\"nn np jj\",\"nn np jj\",\"nn vb rb\",\"nn np jj\",\"nn jj cc\",\"vacuumed solved hurry\",\"nn jj tl\",\"nn jj nns\",\"nn np tl\",\"nn np tl\",\"nn vb jj\",\"nn jj rb\",\"nn jj nns\",\"nn jj nns\",\"tl nn np\",\"nn np jj\",\"nn np jj\",\"nn vb rb\",\"nn np jj\",\"nn jj cc\",\"vacuumed solved hurry\",\"nn jj tl\",\"nn jj nns\",\"nn np tl\",\"nn np tl\",\"nn vb jj\",\"nn jj rb\",\"nn jj nns\",\"nn jj nns\",\"tl nn np\",\"nn np jj\",\"nn np jj\",\"nn vb rb\",\"nn np jj\",\"nn jj cc\",\"vacuumed solved hurry\",\"nn jj tl\",\"nn jj nns\",\"nn np tl\",\"nn np tl\",\"nn vb jj\",\"nn jj rb\",\"nn jj nns\",\"nn jj nns\",\"tl nn np\",\"nn np jj\",\"nn np jj\",\"nn vb rb\",\"nn np jj\",\"nn jj cc\",\"vacuumed solved hurry\",\"nn jj tl\",\"nn jj nns\",\"nn np tl\",\"nn np tl\",\"nn vb jj\",\"nn jj rb\",\"nn jj nns\",\"nn jj nns\",\"tl nn np\",\"nn np jj\",\"nn np jj\",\"nn vb rb\",\"nn np jj\",\"nn jj cc\",\"vacuumed solved hurry\",\"nn jj tl\",\"nn jj nns\",\"nn np tl\",\"nn np tl\",\"nn vb jj\",\"nn jj rb\",\"nn jj artery\",\"nn jj nns\",\"tl nn np\",\"nn jj np\",\"nn np jj\",\"nn vb rb\",\"nn np jj\",\"nn jj cc\",\"nn tl hl\",\"nn jj tl\",\"nn jj nns\",\"nn np vbd\",\"nn np jj\",\"nn vb jj\",\"nn jj rb\",\"nn jj nns\",\"nn jj nns\",\"tl nn np\",\"nn jj np\",\"nn np jj\",\"nn vb rb\",\"np nn tl\",\"nn jj cc\",\"nn tl did\",\"nn jj tl\",\"nn jj nns\",\"nn vbd np\",\"np hanover nn\",\"nn doing does\",\"nn did don\",\"nn did doing\",\"nn jj don\",\"tl does doing\",\"nn did does\",\"nn did does\",\"nn theirs doing\",\"nn just did\",\"nn doing does\",\"nn did don\",\"nn doing did\",\"nn did don\",\"nn doing theirs\",\"np nn hanover\"],\"x\":[0.0,0.0,0.0,0.0,0.0,0.0,0.0,0.0,0.0,0.0,0.0,0.0,0.0,0.0,0.0,0.1,0.1,0.1,0.1,0.1,0.1,0.1,0.1,0.1,0.1,0.1,0.1,0.1,0.1,0.1,0.2,0.2,0.2,0.2,0.2,0.2,0.2,0.2,0.2,0.2,0.2,0.2,0.2,0.2,0.2,0.30000000000000004,0.30000000000000004,0.30000000000000004,0.30000000000000004,0.30000000000000004,0.30000000000000004,0.30000000000000004,0.30000000000000004,0.30000000000000004,0.30000000000000004,0.30000000000000004,0.30000000000000004,0.30000000000000004,0.30000000000000004,0.30000000000000004,0.4,0.4,0.4,0.4,0.4,0.4,0.4,0.4,0.4,0.4,0.4,0.4,0.4,0.4,0.4,0.5,0.5,0.5,0.5,0.5,0.5,0.5,0.5,0.5,0.5,0.5,0.5,0.5,0.5,0.5,0.6000000000000001,0.6000000000000001,0.6000000000000001,0.6000000000000001,0.6000000000000001,0.6000000000000001,0.6000000000000001,0.6000000000000001,0.6000000000000001,0.6000000000000001,0.6000000000000001,0.6000000000000001,0.6000000000000001,0.6000000000000001,0.6000000000000001,0.7000000000000001,0.7000000000000001,0.7000000000000001,0.7000000000000001,0.7000000000000001,0.7000000000000001,0.7000000000000001,0.7000000000000001,0.7000000000000001,0.7000000000000001,0.7000000000000001,0.7000000000000001,0.7000000000000001,0.7000000000000001,0.7000000000000001,0.8,0.8,0.8,0.8,0.8,0.8,0.8,0.8,0.8,0.8,0.8,0.8,0.8,0.8,0.8,0.9,0.9,0.9,0.9,0.9,0.9,0.9,0.9,0.9,0.9,0.9,0.9,0.9,0.9,0.9],\"y\":[0.10572254008552934,0.10936467241267867,0.2659377157040836,0.36108563625017437,0.10900677623683938,0.17471301895150718,0.10724433402982532,0.1078574459042158,0.09046811986798743,0.10989672443069819,0.10994665760654901,0.10874050848821643,0.10181365060059201,0.3603391405474208,0.09274240878175936,0.10364693794269296,0.10726460421028176,0.2594670008338168,0.3619069118399171,0.10693688891274472,0.15869069193562185,0.105182254000485,0.10570928623815377,0.08818882310895196,0.10778902815387974,0.10785138041461732,0.10652416200200138,0.09977253273966345,0.36176203857004874,0.09054558792350316,0.1018944595762717,0.10555097615535042,0.24277365414558774,0.3633499540632497,0.10523199008822434,0.15294623914870736,0.10345730529348887,0.10390979218596841,0.08614136240762672,0.10604687708017853,0.10612766130112487,0.10464454324245512,0.09807071020299557,0.3646784617521565,0.08857754397681136,0.09737981949460953,0.10102699253609768,0.2096840620142773,0.36394628979715554,0.10079193624425602,0.134894862575709,0.09894157633174731,0.09928517330205086,0.08131252805011126,0.10152148346445668,0.10161155091521262,0.0999620726146944,0.0935917095247673,0.3647348980150046,0.0838102719859843,0.09384329512143479,0.09752633712139616,0.18285265343908727,0.3654643256724849,0.09734206914776482,0.12411316273597868,0.0954801405898349,0.09566544250344432,0.077190403646789,0.09802421380559607,0.09814252409603431,0.09610555221033242,0.09018430332975945,0.36633831538149064,0.07994681656286233,0.08857912395602921,0.0924008771282159,0.15405642397235994,0.36699962887226584,0.09230857062129096,0.10209347528450839,0.0903835384921092,0.0903034511234651,0.07151748397690312,0.09282128371955269,0.09297903672778693,0.09047623610542553,0.08509865089676223,0.365804132157156,0.07433292498264758,0.08240320645192772,0.08628774532067633,0.12271262840987916,0.3691297811954554,0.08623537676534915,0.07694218979960697,0.08428747999828408,0.08375419867954519,0.06466874491575572,0.08655539301144903,0.08682535591534933,0.08348159508141936,0.0791341406940489,0.3678766078146511,0.06747761212808207,0.0806188644151075,0.08461608891993959,0.10446054207889983,0.3717939708384759,0.08472351699301608,0.06173864339541101,0.08266035069787774,0.08163297713553401,0.06685604654817644,0.0847015092152684,0.08512820718887673,0.08027446462459184,0.07735991631086439,0.3933457794155063,0.06462107452895581,0.10098090838788741,0.10530877324309788,0.08780866437440991,0.3805737552456218,0.10545851802179333,0.07947503163982679,0.10350112374873605,0.10105701813006858,0.22464017063937802,0.10465704959001616,0.10559587160607281,0.09705713955796688,0.09789765205122475,0.3926614087344813,0.10124165648890895,0.10961822168612363,0.11399690964861255,0.09520124457641946,0.32535052029968686,0.11419806163999743,0.09464827155364243,0.11288812008728376,0.10713182087567288,0.40452626375941053,0.11012749744956966,0.11197679483321682,0.09323687951082439,0.107775094354368,0.38495001330701534,0.09822598142730626]}},\"id\":\"763d1a76-bf09-4ec0-81c7-5ea8e58e6175\",\"type\":\"ColumnDataSource\"},{\"attributes\":{\"axis_label\":\"avg_jsd\",\"axis_label_text_font_size\":{\"value\":\"30pt\"},\"formatter\":{\"id\":\"38024904-52ca-4097-b276-56ce8239ec31\",\"type\":\"BasicTickFormatter\"},\"major_label_text_font_size\":{\"value\":\"15pt\"},\"plot\":{\"id\":\"be29ca39-7dcb-4d0b-a21b-9fb36686f929\",\"subtype\":\"Figure\",\"type\":\"Plot\"},\"ticker\":{\"id\":\"d092ff62-0805-4436-8fb1-40e288b43321\",\"type\":\"BasicTicker\"}},\"id\":\"a77db835-2077-4d6c-a57b-20fce3c34fca\",\"type\":\"LinearAxis\"},{\"attributes\":{\"overlay\":{\"id\":\"4fba6f10-50b0-4fff-adb9-28a74c4c95bd\",\"type\":\"BoxAnnotation\"}},\"id\":\"b738dac0-28a4-4372-a4a9-c7fbfe016d13\",\"type\":\"BoxZoomTool\"},{\"attributes\":{\"callback\":null,\"column_names\":[\"x\",\"y\",\"top_three\"],\"data\":{\"top_three\":[\"nn vb jj\",\"nn jj rb\",\"nn jj af\",\"nn jj nns\",\"tl nn np\",\"nn np jj\",\"nn np jj\",\"nn vb rb\",\"nn np jj\",\"nn jj cc\",\"vacuumed solved hurry\",\"nn jj tl\",\"nn jj nns\",\"nn np tl\",\"nn np tl\",\"nn vb jj\",\"nn jj rb\",\"nn jj af\",\"nn jj nns\",\"tl nn np\",\"nn np jj\",\"nn np jj\",\"nn vb rb\",\"nn np jj\",\"nn jj cc\",\"vacuumed solved hurry\",\"nn jj tl\",\"nn jj nns\",\"nn np tl\",\"nn np tl\",\"nn vb jj\",\"nn jj rb\",\"nn jj af\",\"nn jj nns\",\"tl nn np\",\"nn np jj\",\"nn np jj\",\"nn vb rb\",\"nn np jj\",\"nn jj cc\",\"vacuumed solved hurry\",\"nn jj tl\",\"nn jj nns\",\"nn np tl\",\"nn np tl\",\"nn vb jj\",\"nn jj rb\",\"nn jj nns\",\"nn jj nns\",\"tl nn np\",\"nn np jj\",\"nn np jj\",\"nn vb rb\",\"nn np jj\",\"nn jj cc\",\"vacuumed solved hurry\",\"nn jj tl\",\"nn jj nns\",\"nn np tl\",\"nn np tl\",\"nn vb jj\",\"nn jj rb\",\"nn jj nns\",\"nn jj nns\",\"tl nn np\",\"nn np jj\",\"nn np jj\",\"nn vb rb\",\"nn np jj\",\"nn jj cc\",\"vacuumed solved hurry\",\"nn jj tl\",\"nn jj nns\",\"nn np tl\",\"nn np tl\",\"nn vb jj\",\"nn jj rb\",\"nn jj nns\",\"nn jj nns\",\"tl nn np\",\"nn np jj\",\"nn np jj\",\"nn vb rb\",\"nn np jj\",\"nn jj cc\",\"vacuumed solved hurry\",\"nn jj tl\",\"nn jj nns\",\"nn np tl\",\"nn np tl\",\"nn vb jj\",\"nn jj rb\",\"nn jj nns\",\"nn jj nns\",\"tl nn np\",\"nn np jj\",\"nn np jj\",\"nn vb rb\",\"nn np jj\",\"nn jj cc\",\"vacuumed solved hurry\",\"nn jj tl\",\"nn jj nns\",\"nn np tl\",\"nn np tl\",\"nn vb jj\",\"nn jj rb\",\"nn jj artery\",\"nn jj nns\",\"tl nn np\",\"nn jj np\",\"nn np jj\",\"nn vb rb\",\"nn np jj\",\"nn jj cc\",\"nn tl hl\",\"nn jj tl\",\"nn jj nns\",\"nn np vbd\",\"nn np jj\",\"nn vb jj\",\"nn jj rb\",\"nn jj nns\",\"nn jj nns\",\"tl nn np\",\"nn jj np\",\"nn np jj\",\"nn vb rb\",\"np nn tl\",\"nn jj cc\",\"nn tl did\",\"nn jj tl\",\"nn jj nns\",\"nn vbd np\",\"np hanover nn\",\"nn doing does\",\"nn did don\",\"nn did doing\",\"nn jj don\",\"tl does doing\",\"nn did does\",\"nn did does\",\"nn theirs doing\",\"nn just did\",\"nn doing does\",\"nn did don\",\"nn doing did\",\"nn did don\",\"nn doing theirs\",\"np nn hanover\"],\"x\":[0.0,0.0,0.0,0.0,0.0,0.0,0.0,0.0,0.0,0.0,0.0,0.0,0.0,0.0,0.0,0.1,0.1,0.1,0.1,0.1,0.1,0.1,0.1,0.1,0.1,0.1,0.1,0.1,0.1,0.1,0.2,0.2,0.2,0.2,0.2,0.2,0.2,0.2,0.2,0.2,0.2,0.2,0.2,0.2,0.2,0.30000000000000004,0.30000000000000004,0.30000000000000004,0.30000000000000004,0.30000000000000004,0.30000000000000004,0.30000000000000004,0.30000000000000004,0.30000000000000004,0.30000000000000004,0.30000000000000004,0.30000000000000004,0.30000000000000004,0.30000000000000004,0.30000000000000004,0.4,0.4,0.4,0.4,0.4,0.4,0.4,0.4,0.4,0.4,0.4,0.4,0.4,0.4,0.4,0.5,0.5,0.5,0.5,0.5,0.5,0.5,0.5,0.5,0.5,0.5,0.5,0.5,0.5,0.5,0.6000000000000001,0.6000000000000001,0.6000000000000001,0.6000000000000001,0.6000000000000001,0.6000000000000001,0.6000000000000001,0.6000000000000001,0.6000000000000001,0.6000000000000001,0.6000000000000001,0.6000000000000001,0.6000000000000001,0.6000000000000001,0.6000000000000001,0.7000000000000001,0.7000000000000001,0.7000000000000001,0.7000000000000001,0.7000000000000001,0.7000000000000001,0.7000000000000001,0.7000000000000001,0.7000000000000001,0.7000000000000001,0.7000000000000001,0.7000000000000001,0.7000000000000001,0.7000000000000001,0.7000000000000001,0.8,0.8,0.8,0.8,0.8,0.8,0.8,0.8,0.8,0.8,0.8,0.8,0.8,0.8,0.8,0.9,0.9,0.9,0.9,0.9,0.9,0.9,0.9,0.9,0.9,0.9,0.9,0.9,0.9,0.9],\"y\":[27258.476287381854,27107.188967596197,218158.99445048053,21489913.991119355,27111.80927112777,103444.43562812562,27181.913349583963,27155.937167030967,29227.64176658311,27083.068160069037,27087.090488747843,27116.342896748272,27521.36137582591,1643735.1426719048,28717.856641458973,27258.131681271847,27107.474761520007,205727.23550598134,21566138.980657756,27111.13681718241,87489.53309528135,27181.22155465487,27158.425359925397,29328.240065423903,27083.419232758773,27087.12837110957,27120.717310069413,27520.045112835272,1721723.7984461482,28769.109274721694,27260.066038166675,27107.289668541405,176213.43903216533,21632480.898431275,27110.67346301934,82366.41294521667,27181.420717781515,27161.770677451823,29451.578257313064,27083.947549709854,27087.179855350518,27126.377751980883,27519.18391821421,1851416.087342906,28837.001044937566,27260.61828644709,27107.512153526583,131898.58143402392,21807028.555222195,27108.34089053642,69762.39572133477,27181.489672717908,27166.489504369936,29620.844627191545,27084.16682310849,27087.167771568238,27132.623771908675,27518.658445757275,1951004.9433916428,28930.278528925825,27263.653740846417,27108.524455985098,104448.5961101812,22024893.529156648,27107.76099251016,62989.19151696365,27180.891341039496,27172.81070751099,29911.06804286833,27085.004244038522,27087.283187630204,27147.470414516392,27513.10370177906,2070657.7455992065,29049.789234573367,27268.712655892174,27107.5790012013,81418.47926093532,22194075.074464574,27103.940073127764,50907.79679071449,27177.898944885485,27181.570035081215,30277.51583264803,27086.18758852347,27087.4872470884,27166.84613825491,27507.31002809216,2330978.681651605,29227.372626165477,27268.362305854655,27106.347346152255,62010.747188024354,21928206.18205394,27101.790252882813,39589.18741768759,27174.319041202067,27198.394600224765,30894.662547195654,27089.198399876714,27087.634426564462,27204.555714499147,27489.98351183802,3208416.624731694,29520.33981650353,27269.484237791778,27106.47895610859,51157.8644600613,18616588.90281442,27097.62469063709,32346.32823354645,27170.43235753102,27216.228013742428,34187.088045709475,27094.347308079756,27088.694441425647,27282.3870828081,27488.70050867795,7406773.641742326,29994.011810098295,27260.922116982798,27104.178903518736,33358.20792189543,15789907.478308653,27094.3658910136,30810.49792235881,27153.912702164205,27259.200695647956,167634.7707283725,27111.759512194556,27092.582186465177,27490.598315199128,27437.601989738505,12235209.943994757,42938.53282913015,27225.49102948919,27096.93525122487,28406.649042350495,812680.2922504798,27087.16769024602,28497.84519415979,27117.58958913917,27345.02996850295,11793368.421372168,27201.19878299537,27142.87717113132,28686.675403294652,27310.150276327597,22489458.87471148,44573.04217104119]}},\"id\":\"bb0d8390-e58b-46cd-8231-3bb1b8df6eff\",\"type\":\"ColumnDataSource\"},{\"attributes\":{\"overlay\":{\"id\":\"2fb84223-9036-4005-ab77-65d82ec38490\",\"type\":\"BoxAnnotation\"}},\"id\":\"1ac32116-71ed-4517-9a36-18b9b373c1b8\",\"type\":\"BoxZoomTool\"},{\"attributes\":{\"child\":{\"id\":\"be29ca39-7dcb-4d0b-a21b-9fb36686f929\",\"subtype\":\"Figure\",\"type\":\"Plot\"},\"title\":\"avg_jsd\"},\"id\":\"fc298b41-a959-49cd-8265-abed477f6865\",\"type\":\"Panel\"},{\"attributes\":{\"callback\":null},\"id\":\"a8a4fd4e-d254-42d0-8f19-f54e41680cde\",\"type\":\"DataRange1d\"},{\"attributes\":{\"dimension\":1,\"plot\":{\"id\":\"12b39297-5a79-4ef6-a9d8-c49caa5f9963\",\"subtype\":\"Figure\",\"type\":\"Plot\"},\"ticker\":{\"id\":\"d4ca04a3-b97b-41eb-838f-3898e9afbbc1\",\"type\":\"BasicTicker\"}},\"id\":\"83c68b2f-ebe6-4f14-9747-f569020a4814\",\"type\":\"Grid\"},{\"attributes\":{},\"id\":\"95c80929-01c8-438b-aebd-ab298684182f\",\"type\":\"WheelZoomTool\"},{\"attributes\":{\"callback\":null,\"column_names\":[\"x\",\"y\",\"top_three\"],\"data\":{\"top_three\":[\"nn vb jj\",\"nn jj rb\",\"nn jj af\",\"nn jj nns\",\"tl nn np\",\"nn np jj\",\"nn np jj\",\"nn vb rb\",\"nn np jj\",\"nn jj cc\",\"vacuumed solved hurry\",\"nn jj tl\",\"nn jj nns\",\"nn np tl\",\"nn np tl\",\"nn vb jj\",\"nn jj rb\",\"nn jj af\",\"nn jj nns\",\"tl nn np\",\"nn np jj\",\"nn np jj\",\"nn vb rb\",\"nn np jj\",\"nn jj cc\",\"vacuumed solved hurry\",\"nn jj tl\",\"nn jj nns\",\"nn np tl\",\"nn np tl\",\"nn vb jj\",\"nn jj rb\",\"nn jj af\",\"nn jj nns\",\"tl nn np\",\"nn np jj\",\"nn np jj\",\"nn vb rb\",\"nn np jj\",\"nn jj cc\",\"vacuumed solved hurry\",\"nn jj tl\",\"nn jj nns\",\"nn np tl\",\"nn np tl\",\"nn vb jj\",\"nn jj rb\",\"nn jj nns\",\"nn jj nns\",\"tl nn np\",\"nn np jj\",\"nn np jj\",\"nn vb rb\",\"nn np jj\",\"nn jj cc\",\"vacuumed solved hurry\",\"nn jj tl\",\"nn jj nns\",\"nn np tl\",\"nn np tl\",\"nn vb jj\",\"nn jj rb\",\"nn jj nns\",\"nn jj nns\",\"tl nn np\",\"nn np jj\",\"nn np jj\",\"nn vb rb\",\"nn np jj\",\"nn jj cc\",\"vacuumed solved hurry\",\"nn jj tl\",\"nn jj nns\",\"nn np tl\",\"nn np tl\",\"nn vb jj\",\"nn jj rb\",\"nn jj nns\",\"nn jj nns\",\"tl nn np\",\"nn np jj\",\"nn np jj\",\"nn vb rb\",\"nn np jj\",\"nn jj cc\",\"vacuumed solved hurry\",\"nn jj tl\",\"nn jj nns\",\"nn np tl\",\"nn np tl\",\"nn vb jj\",\"nn jj rb\",\"nn jj nns\",\"nn jj nns\",\"tl nn np\",\"nn np jj\",\"nn np jj\",\"nn vb rb\",\"nn np jj\",\"nn jj cc\",\"vacuumed solved hurry\",\"nn jj tl\",\"nn jj nns\",\"nn np tl\",\"nn np tl\",\"nn vb jj\",\"nn jj rb\",\"nn jj artery\",\"nn jj nns\",\"tl nn np\",\"nn jj np\",\"nn np jj\",\"nn vb rb\",\"nn np jj\",\"nn jj cc\",\"nn tl hl\",\"nn jj tl\",\"nn jj nns\",\"nn np vbd\",\"nn np jj\",\"nn vb jj\",\"nn jj rb\",\"nn jj nns\",\"nn jj nns\",\"tl nn np\",\"nn jj np\",\"nn np jj\",\"nn vb rb\",\"np nn tl\",\"nn jj cc\",\"nn tl did\",\"nn jj tl\",\"nn jj nns\",\"nn vbd np\",\"np hanover nn\",\"nn doing does\",\"nn did don\",\"nn did doing\",\"nn jj don\",\"tl does doing\",\"nn did does\",\"nn did does\",\"nn theirs doing\",\"nn just did\",\"nn doing does\",\"nn did don\",\"nn doing did\",\"nn did don\",\"nn doing theirs\",\"np nn hanover\"],\"x\":[0.0,0.0,0.0,0.0,0.0,0.0,0.0,0.0,0.0,0.0,0.0,0.0,0.0,0.0,0.0,0.1,0.1,0.1,0.1,0.1,0.1,0.1,0.1,0.1,0.1,0.1,0.1,0.1,0.1,0.1,0.2,0.2,0.2,0.2,0.2,0.2,0.2,0.2,0.2,0.2,0.2,0.2,0.2,0.2,0.2,0.30000000000000004,0.30000000000000004,0.30000000000000004,0.30000000000000004,0.30000000000000004,0.30000000000000004,0.30000000000000004,0.30000000000000004,0.30000000000000004,0.30000000000000004,0.30000000000000004,0.30000000000000004,0.30000000000000004,0.30000000000000004,0.30000000000000004,0.4,0.4,0.4,0.4,0.4,0.4,0.4,0.4,0.4,0.4,0.4,0.4,0.4,0.4,0.4,0.5,0.5,0.5,0.5,0.5,0.5,0.5,0.5,0.5,0.5,0.5,0.5,0.5,0.5,0.5,0.6000000000000001,0.6000000000000001,0.6000000000000001,0.6000000000000001,0.6000000000000001,0.6000000000000001,0.6000000000000001,0.6000000000000001,0.6000000000000001,0.6000000000000001,0.6000000000000001,0.6000000000000001,0.6000000000000001,0.6000000000000001,0.6000000000000001,0.7000000000000001,0.7000000000000001,0.7000000000000001,0.7000000000000001,0.7000000000000001,0.7000000000000001,0.7000000000000001,0.7000000000000001,0.7000000000000001,0.7000000000000001,0.7000000000000001,0.7000000000000001,0.7000000000000001,0.7000000000000001,0.7000000000000001,0.8,0.8,0.8,0.8,0.8,0.8,0.8,0.8,0.8,0.8,0.8,0.8,0.8,0.8,0.8,0.9,0.9,0.9,0.9,0.9,0.9,0.9,0.9,0.9,0.9,0.9,0.9,0.9,0.9,0.9],\"y\":[0.09704234903493335,0.09923556087760442,0.305021454852022,0.370858283513329,0.09902070345362114,0.20914887968215423,0.09795471556598041,0.09831896960276305,0.0891799970301931,0.09955891443226966,0.09958849439592575,0.09885668425449448,0.09476459846440316,0.366227683500556,0.09010206123782698,0.09503236504399455,0.09721286543450895,0.2992182532155907,0.3714963344986263,0.09701603606020805,0.19211828383022844,0.09595418086165947,0.09626630784300216,0.08713266007916122,0.09753165814773648,0.0975688573861848,0.09676296694276698,0.0927725611006079,0.36709997317571647,0.08805482520638784,0.0932881526747232,0.09549443360967577,0.28402714516194444,0.3725305795005964,0.0953028342236508,0.1856088973683371,0.09422770484591433,0.09449497690125597,0.08531235213685424,0.09579611785113758,0.09584438789348684,0.09494338364759777,0.09105496978549218,0.36925009000672393,0.0862255050128069,0.08888836158593656,0.09108815551223753,0.25162522567366913,0.3730141907078336,0.09094770087064744,0.165607497997638,0.08982700358400177,0.09002800748771667,0.08091198866664708,0.09138892464578854,0.09144250087099322,0.09044116612356021,0.08667727820354416,0.3688383878415966,0.08176883709432421,0.08561012269584103,0.08783393995351642,0.22346178806763833,0.3742087780664653,0.08772430110745831,0.15329298660525287,0.08659556998227584,0.08670074067793553,0.07757122239358094,0.08813704397960025,0.08820769700838567,0.08697025866155898,0.08347142904250124,0.3700384099725268,0.07839526714975155,0.080874349793273,0.08318097553344225,0.19361933950262322,0.37570251161185253,0.08312739882307524,0.12592442914087035,0.0819601147795135,0.08190520240676526,0.07301802008083103,0.08343695248434867,0.08353141463592505,0.08201252221229208,0.07884103831709963,0.36938429464777994,0.0736362740467877,0.07569096025673096,0.07803737381192485,0.1579412509860633,0.37775470040790393,0.07800813231863037,0.0920603312615325,0.07682711876956912,0.07649816715793166,0.06818671507828704,0.07820069335176293,0.07836308003760177,0.07633594730306006,0.07377807985607716,0.37172640916362365,0.06836309642078046,0.07461461344773465,0.0770334977873309,0.1346254104520343,0.37998263143755673,0.07710088470425686,0.06808094976888328,0.07584972136845468,0.07522185762863423,0.07604579287883924,0.07708673492189903,0.07734408887932699,0.07440827246160632,0.07270032348156302,0.39731548248346155,0.06712169060491976,0.0924441129232851,0.0950773621522584,0.09471734869234845,0.3853518869476526,0.09517088052430901,0.08211613275762093,0.09398092370237508,0.09248646889967826,0.26492955307654653,0.09468189926807904,0.09525177118490274,0.09011150980273738,0.09060518995261406,0.39970856989890535,0.12128113167617885,0.10288411391959124,0.10555057798893784,0.09470104393810387,0.34468458746304054,0.10567412482020463,0.09443664577922407,0.10488193632529812,0.10138243798339769,0.41111227459262406,0.1031956445629234,0.10432250519700827,0.09373797836964717,0.10177194054463172,0.39202296614980875,0.1234929173747092]}},\"id\":\"6704bad8-7d5d-4cda-8bd7-67b520c07054\",\"type\":\"ColumnDataSource\"},{\"attributes\":{},\"id\":\"748567ab-cf9c-4315-895f-7a2987852a05\",\"type\":\"PanTool\"},{\"attributes\":{\"axis_label\":\"Stopword Presence (%)\",\"axis_label_text_font_size\":{\"value\":\"30pt\"},\"formatter\":{\"id\":\"12466647-c4e3-47e6-b7f8-bbb9faa19481\",\"type\":\"BasicTickFormatter\"},\"major_label_text_font_size\":{\"value\":\"15pt\"},\"plot\":{\"id\":\"1b6d535d-f08c-471e-8b78-9925e7dcf0da\",\"subtype\":\"Figure\",\"type\":\"Plot\"},\"ticker\":{\"id\":\"1459b0f6-32d7-46db-985b-aa932c96e4bc\",\"type\":\"BasicTicker\"}},\"id\":\"5208a54e-6649-4e4c-81eb-443987b6d124\",\"type\":\"LinearAxis\"},{\"attributes\":{\"callback\":null,\"column_names\":[\"x\",\"y\",\"top_three\"],\"data\":{\"top_three\":[\"nn vb jj\",\"nn jj rb\",\"nn jj af\",\"nn jj nns\",\"tl nn np\",\"nn np jj\",\"nn np jj\",\"nn vb rb\",\"nn np jj\",\"nn jj cc\",\"vacuumed solved hurry\",\"nn jj tl\",\"nn jj nns\",\"nn np tl\",\"nn np tl\",\"nn vb jj\",\"nn jj rb\",\"nn jj af\",\"nn jj nns\",\"tl nn np\",\"nn np jj\",\"nn np jj\",\"nn vb rb\",\"nn np jj\",\"nn jj cc\",\"vacuumed solved hurry\",\"nn jj tl\",\"nn jj nns\",\"nn np tl\",\"nn np tl\",\"nn vb jj\",\"nn jj rb\",\"nn jj af\",\"nn jj nns\",\"tl nn np\",\"nn np jj\",\"nn np jj\",\"nn vb rb\",\"nn np jj\",\"nn jj cc\",\"vacuumed solved hurry\",\"nn jj tl\",\"nn jj nns\",\"nn np tl\",\"nn np tl\",\"nn vb jj\",\"nn jj rb\",\"nn jj nns\",\"nn jj nns\",\"tl nn np\",\"nn np jj\",\"nn np jj\",\"nn vb rb\",\"nn np jj\",\"nn jj cc\",\"vacuumed solved hurry\",\"nn jj tl\",\"nn jj nns\",\"nn np tl\",\"nn np tl\",\"nn vb jj\",\"nn jj rb\",\"nn jj nns\",\"nn jj nns\",\"tl nn np\",\"nn np jj\",\"nn np jj\",\"nn vb rb\",\"nn np jj\",\"nn jj cc\",\"vacuumed solved hurry\",\"nn jj tl\",\"nn jj nns\",\"nn np tl\",\"nn np tl\",\"nn vb jj\",\"nn jj rb\",\"nn jj nns\",\"nn jj nns\",\"tl nn np\",\"nn np jj\",\"nn np jj\",\"nn vb rb\",\"nn np jj\",\"nn jj cc\",\"vacuumed solved hurry\",\"nn jj tl\",\"nn jj nns\",\"nn np tl\",\"nn np tl\",\"nn vb jj\",\"nn jj rb\",\"nn jj nns\",\"nn jj nns\",\"tl nn np\",\"nn np jj\",\"nn np jj\",\"nn vb rb\",\"nn np jj\",\"nn jj cc\",\"vacuumed solved hurry\",\"nn jj tl\",\"nn jj nns\",\"nn np tl\",\"nn np tl\",\"nn vb jj\",\"nn jj rb\",\"nn jj artery\",\"nn jj nns\",\"tl nn np\",\"nn jj np\",\"nn np jj\",\"nn vb rb\",\"nn np jj\",\"nn jj cc\",\"nn tl hl\",\"nn jj tl\",\"nn jj nns\",\"nn np vbd\",\"nn np jj\",\"nn vb jj\",\"nn jj rb\",\"nn jj nns\",\"nn jj nns\",\"tl nn np\",\"nn jj np\",\"nn np jj\",\"nn vb rb\",\"np nn tl\",\"nn jj cc\",\"nn tl did\",\"nn jj tl\",\"nn jj nns\",\"nn vbd np\",\"np hanover nn\",\"nn doing does\",\"nn did don\",\"nn did doing\",\"nn jj don\",\"tl does doing\",\"nn did does\",\"nn did does\",\"nn theirs doing\",\"nn just did\",\"nn doing does\",\"nn did don\",\"nn doing did\",\"nn did don\",\"nn doing theirs\",\"np nn hanover\"],\"x\":[0.0,0.0,0.0,0.0,0.0,0.0,0.0,0.0,0.0,0.0,0.0,0.0,0.0,0.0,0.0,0.1,0.1,0.1,0.1,0.1,0.1,0.1,0.1,0.1,0.1,0.1,0.1,0.1,0.1,0.1,0.2,0.2,0.2,0.2,0.2,0.2,0.2,0.2,0.2,0.2,0.2,0.2,0.2,0.2,0.2,0.30000000000000004,0.30000000000000004,0.30000000000000004,0.30000000000000004,0.30000000000000004,0.30000000000000004,0.30000000000000004,0.30000000000000004,0.30000000000000004,0.30000000000000004,0.30000000000000004,0.30000000000000004,0.30000000000000004,0.30000000000000004,0.30000000000000004,0.4,0.4,0.4,0.4,0.4,0.4,0.4,0.4,0.4,0.4,0.4,0.4,0.4,0.4,0.4,0.5,0.5,0.5,0.5,0.5,0.5,0.5,0.5,0.5,0.5,0.5,0.5,0.5,0.5,0.5,0.6000000000000001,0.6000000000000001,0.6000000000000001,0.6000000000000001,0.6000000000000001,0.6000000000000001,0.6000000000000001,0.6000000000000001,0.6000000000000001,0.6000000000000001,0.6000000000000001,0.6000000000000001,0.6000000000000001,0.6000000000000001,0.6000000000000001,0.7000000000000001,0.7000000000000001,0.7000000000000001,0.7000000000000001,0.7000000000000001,0.7000000000000001,0.7000000000000001,0.7000000000000001,0.7000000000000001,0.7000000000000001,0.7000000000000001,0.7000000000000001,0.7000000000000001,0.7000000000000001,0.7000000000000001,0.8,0.8,0.8,0.8,0.8,0.8,0.8,0.8,0.8,0.8,0.8,0.8,0.8,0.8,0.8,0.9,0.9,0.9,0.9,0.9,0.9,0.9,0.9,0.9,0.9,0.9,0.9,0.9,0.9,0.9],\"y\":[2.225890591610412e-05,5.2330905306697185e-06,1.3121355462639432,20.740874655780875,9.135880798905989e-06,0.816613515005009,1.2040979137095794e-05,1.1951247827990768e-05,0.0001572280801723756,0.015420628691442211,0.022388713737772313,7.89927557558266e-06,4.2367985788262776e-05,0.108982155306471,0.00013485743079370868,2.208783629929174e-05,5.250256777264973e-06,1.680311664251094,19.80804849912348,9.06817083238412e-06,1.037104123861087,1.1949727868407433e-05,1.2157611344734592e-05,0.00016330410291595052,0.014032734251613516,0.02238871670231254,8.321412366610971e-06,4.206701690478666e-05,0.11391114436982641,0.00013813552978600088,2.214982146988276e-05,5.2230340943266185e-06,1.8427244757825456,18.55795823148369,8.956493062759428e-06,1.1393806164333191,1.1920499056818383e-05,1.2431263756318042e-05,0.00017065567742088937,0.01403277814447117,0.022388720705843156,8.789473296744783e-06,4.1818093397722145e-05,0.12291259534026702,0.00014236377827764224,2.3268990282402563e-05,5.240455623735968e-06,2.28848871443491,17.147845191276172,8.657872305950426e-06,1.8485504299883366,1.215820326584839e-05,1.2821790261661407e-05,0.00018044725273139072,0.01162756607752452,0.022388719717793628,9.26279681362281e-06,4.138601076553241e-05,0.12668865851847827,0.00014813953375493797,2.3432311575652027e-05,5.302981854908754e-06,2.989757584313648,16.317376073305418,7.2915414689408804e-06,1.548210149692928,1.2190427814423732e-05,1.334857608016042e-05,0.00019723695283812076,0.010382305024746666,0.022388777347497002,1.0564811748695432e-05,4.0530254480286155e-05,0.1144945977977738,0.00015504286376664408,2.3929279813503094e-05,5.433419347152512e-06,3.843479572705238,13.857357181779978,6.457479017365212e-06,0.4394413693354727,1.1748783346168747e-05,1.3755751840528756e-05,0.00021946769091231986,0.0045613960878210106,0.022389164947922934,1.233564740306159e-05,4.074637125292954e-05,0.1301571862518314,0.00016661733363483746,2.2809675260083385e-05,5.1362173178154014e-06,3.8198091246534434,7.990747681539597,6.918026408835059e-05,0.1589485147014243,1.0749287492772918e-05,1.3878695021483889e-05,0.0002595702926373688,4.437759786304203e-06,0.02238921839924743,1.4996254389482098e-05,3.771147362328917e-05,0.1761347117095983,0.00018449799437373764,2.132215079286433e-05,4.269089133019778e-06,3.7808333786175643,2.6888043482505415,4.838700294309696e-06,0.0003160527398490604,9.301455608112992e-06,1.2808355258500813e-05,0.0003561739457458368,4.219409078539853e-06,0.015902043772975077,2.022133561649342e-05,3.5272163677619036e-05,0.564814535294323,0.0001949380799629024,1.825066003165498e-05,3.5380601528042624e-06,0.38072008245569144,1.5401829797247135,3.972520315660532e-06,0.00021219834932576501,7.187631516108607e-06,1.431855620074661e-05,0.031885465003648,4.898141137214536e-06,3.340131726283349e-06,3.2914915907888266e-05,2.885950612047056e-05,1.4314147890476214,0.2796111156319114,1.2657505942399605e-05,3.8034384044605134e-05,6.952304502088e-05,0.034831740398339105,0.02062840573618109,7.071227492695777e-05,3.85115035380755e-06,1.6700655690961985e-05,0.8985867373632821,9.122861222413183e-06,5.917270205847703e-06,8.950755794359873e-05,1.6657745791361617e-05,2.202929089968767,0.32905271143237036]}},\"id\":\"b4fe12dc-7102-45bf-8056-8e304a7bfaa8\",\"type\":\"ColumnDataSource\"},{\"attributes\":{\"axis_label\":\"Stopword Presence (%)\",\"axis_label_text_font_size\":{\"value\":\"30pt\"},\"formatter\":{\"id\":\"7110a67a-5de1-48b4-a671-247f51ba356d\",\"type\":\"BasicTickFormatter\"},\"major_label_text_font_size\":{\"value\":\"15pt\"},\"plot\":{\"id\":\"c7cb873e-ef50-4b76-ac90-2575a1e29b9d\",\"subtype\":\"Figure\",\"type\":\"Plot\"},\"ticker\":{\"id\":\"1be6a679-0358-4853-87e8-6ddff3d73bf8\",\"type\":\"BasicTicker\"}},\"id\":\"0f3a7d94-7c40-4b68-b7ac-b76cc5fd9540\",\"type\":\"LinearAxis\"},{\"attributes\":{},\"id\":\"ac13dfdb-f102-4905-ab04-a3dc68d69707\",\"type\":\"BasicTicker\"},{\"attributes\":{},\"id\":\"3c5b5bce-4539-412c-804c-685966ab74df\",\"type\":\"PanTool\"},{\"attributes\":{},\"id\":\"6d8474ee-a710-40b7-b4ac-7bb0dd30958c\",\"type\":\"BasicTicker\"},{\"attributes\":{\"plot\":{\"id\":\"12b39297-5a79-4ef6-a9d8-c49caa5f9963\",\"subtype\":\"Figure\",\"type\":\"Plot\"},\"ticker\":{\"id\":\"6d8474ee-a710-40b7-b4ac-7bb0dd30958c\",\"type\":\"BasicTicker\"}},\"id\":\"93b0b9ef-a435-44ce-b896-3f358c6125ad\",\"type\":\"Grid\"},{\"attributes\":{},\"id\":\"b31fa1cc-efd6-46ad-8100-7734ca7946b3\",\"type\":\"ResetTool\"},{\"attributes\":{},\"id\":\"8f2cff6a-53b8-45df-ac79-0607cb3dc2d7\",\"type\":\"LinearScale\"},{\"attributes\":{\"callback\":null},\"id\":\"11631406-3841-4827-a8c8-dc3949e9fb9f\",\"type\":\"DataRange1d\"},{\"attributes\":{\"dimension\":1,\"plot\":{\"id\":\"be29ca39-7dcb-4d0b-a21b-9fb36686f929\",\"subtype\":\"Figure\",\"type\":\"Plot\"},\"ticker\":{\"id\":\"d092ff62-0805-4436-8fb1-40e288b43321\",\"type\":\"BasicTicker\"}},\"id\":\"3d410843-eef7-4dcf-b074-ad8791ce67b1\",\"type\":\"Grid\"},{\"attributes\":{},\"id\":\"e56e47f1-59ae-49a0-b25d-226fd4a91a95\",\"type\":\"LinearScale\"},{\"attributes\":{\"plot\":null,\"text\":\"brown\",\"text_font_size\":{\"value\":\"15pt\"}},\"id\":\"837bd527-ba39-4f0b-8bf4-31436e4354f4\",\"type\":\"Title\"},{\"attributes\":{},\"id\":\"fd06c4d7-445f-4537-a1b8-cf48572d620d\",\"type\":\"BasicTicker\"},{\"attributes\":{\"child\":{\"id\":\"75fe2286-436f-4731-b1dc-f710a0b218b5\",\"subtype\":\"Figure\",\"type\":\"Plot\"},\"title\":\"effective_size\"},\"id\":\"b7ff6f8f-dafc-4acf-bb8f-cf7665803986\",\"type\":\"Panel\"},{\"attributes\":{},\"id\":\"cc5a951e-8d46-4ec1-9f54-6a0cbf6f031d\",\"type\":\"BasicTickFormatter\"},{\"attributes\":{},\"id\":\"f199c118-2109-46d5-b77e-71ef8635acfb\",\"type\":\"SaveTool\"},{\"attributes\":{},\"id\":\"16f51a1d-bcd7-450f-a2e2-a418e1a8c9df\",\"type\":\"LinearScale\"},{\"attributes\":{},\"id\":\"73556339-592e-45a7-a88c-398d91620f32\",\"type\":\"HelpTool\"},{\"attributes\":{\"callback\":null},\"id\":\"e56af87d-79b1-43f0-90fe-28fdc948527a\",\"type\":\"DataRange1d\"},{\"attributes\":{\"source\":{\"id\":\"bb0d8390-e58b-46cd-8231-3bb1b8df6eff\",\"type\":\"ColumnDataSource\"}},\"id\":\"40abc627-e604-48cc-92e6-8e9dc7055f41\",\"type\":\"CDSView\"},{\"attributes\":{\"callback\":null},\"id\":\"12437237-cb86-4e2a-9977-f5bc72b5393c\",\"type\":\"DataRange1d\"},{\"attributes\":{\"callback\":null,\"column_names\":[\"x\",\"y\",\"top_three\"],\"data\":{\"top_three\":[\"nn vb jj\",\"nn jj rb\",\"nn jj af\",\"nn jj nns\",\"tl nn np\",\"nn np jj\",\"nn np jj\",\"nn vb rb\",\"nn np jj\",\"nn jj cc\",\"vacuumed solved hurry\",\"nn jj tl\",\"nn jj nns\",\"nn np tl\",\"nn np tl\",\"nn vb jj\",\"nn jj rb\",\"nn jj af\",\"nn jj nns\",\"tl nn np\",\"nn np jj\",\"nn np jj\",\"nn vb rb\",\"nn np jj\",\"nn jj cc\",\"vacuumed solved hurry\",\"nn jj tl\",\"nn jj nns\",\"nn np tl\",\"nn np tl\",\"nn vb jj\",\"nn jj rb\",\"nn jj af\",\"nn jj nns\",\"tl nn np\",\"nn np jj\",\"nn np jj\",\"nn vb rb\",\"nn np jj\",\"nn jj cc\",\"vacuumed solved hurry\",\"nn jj tl\",\"nn jj nns\",\"nn np tl\",\"nn np tl\",\"nn vb jj\",\"nn jj rb\",\"nn jj nns\",\"nn jj nns\",\"tl nn np\",\"nn np jj\",\"nn np jj\",\"nn vb rb\",\"nn np jj\",\"nn jj cc\",\"vacuumed solved hurry\",\"nn jj tl\",\"nn jj nns\",\"nn np tl\",\"nn np tl\",\"nn vb jj\",\"nn jj rb\",\"nn jj nns\",\"nn jj nns\",\"tl nn np\",\"nn np jj\",\"nn np jj\",\"nn vb rb\",\"nn np jj\",\"nn jj cc\",\"vacuumed solved hurry\",\"nn jj tl\",\"nn jj nns\",\"nn np tl\",\"nn np tl\",\"nn vb jj\",\"nn jj rb\",\"nn jj nns\",\"nn jj nns\",\"tl nn np\",\"nn np jj\",\"nn np jj\",\"nn vb rb\",\"nn np jj\",\"nn jj cc\",\"vacuumed solved hurry\",\"nn jj tl\",\"nn jj nns\",\"nn np tl\",\"nn np tl\",\"nn vb jj\",\"nn jj rb\",\"nn jj nns\",\"nn jj nns\",\"tl nn np\",\"nn np jj\",\"nn np jj\",\"nn vb rb\",\"nn np jj\",\"nn jj cc\",\"vacuumed solved hurry\",\"nn jj tl\",\"nn jj nns\",\"nn np tl\",\"nn np tl\",\"nn vb jj\",\"nn jj rb\",\"nn jj artery\",\"nn jj nns\",\"tl nn np\",\"nn jj np\",\"nn np jj\",\"nn vb rb\",\"nn np jj\",\"nn jj cc\",\"nn tl hl\",\"nn jj tl\",\"nn jj nns\",\"nn np vbd\",\"nn np jj\",\"nn vb jj\",\"nn jj rb\",\"nn jj nns\",\"nn jj nns\",\"tl nn np\",\"nn jj np\",\"nn np jj\",\"nn vb rb\",\"np nn tl\",\"nn jj cc\",\"nn tl did\",\"nn jj tl\",\"nn jj nns\",\"nn vbd np\",\"np hanover nn\",\"nn doing does\",\"nn did don\",\"nn did doing\",\"nn jj don\",\"tl does doing\",\"nn did does\",\"nn did does\",\"nn theirs doing\",\"nn just did\",\"nn doing does\",\"nn did don\",\"nn doing did\",\"nn did don\",\"nn doing theirs\",\"np nn hanover\"],\"x\":[0.0,0.0,0.0,0.0,0.0,0.0,0.0,0.0,0.0,0.0,0.0,0.0,0.0,0.0,0.0,0.1,0.1,0.1,0.1,0.1,0.1,0.1,0.1,0.1,0.1,0.1,0.1,0.1,0.1,0.1,0.2,0.2,0.2,0.2,0.2,0.2,0.2,0.2,0.2,0.2,0.2,0.2,0.2,0.2,0.2,0.30000000000000004,0.30000000000000004,0.30000000000000004,0.30000000000000004,0.30000000000000004,0.30000000000000004,0.30000000000000004,0.30000000000000004,0.30000000000000004,0.30000000000000004,0.30000000000000004,0.30000000000000004,0.30000000000000004,0.30000000000000004,0.30000000000000004,0.4,0.4,0.4,0.4,0.4,0.4,0.4,0.4,0.4,0.4,0.4,0.4,0.4,0.4,0.4,0.5,0.5,0.5,0.5,0.5,0.5,0.5,0.5,0.5,0.5,0.5,0.5,0.5,0.5,0.5,0.6000000000000001,0.6000000000000001,0.6000000000000001,0.6000000000000001,0.6000000000000001,0.6000000000000001,0.6000000000000001,0.6000000000000001,0.6000000000000001,0.6000000000000001,0.6000000000000001,0.6000000000000001,0.6000000000000001,0.6000000000000001,0.6000000000000001,0.7000000000000001,0.7000000000000001,0.7000000000000001,0.7000000000000001,0.7000000000000001,0.7000000000000001,0.7000000000000001,0.7000000000000001,0.7000000000000001,0.7000000000000001,0.7000000000000001,0.7000000000000001,0.7000000000000001,0.7000000000000001,0.7000000000000001,0.8,0.8,0.8,0.8,0.8,0.8,0.8,0.8,0.8,0.8,0.8,0.8,0.8,0.8,0.8,0.9,0.9,0.9,0.9,0.9,0.9,0.9,0.9,0.9,0.9,0.9,0.9,0.9,0.9,0.9],\"y\":[0,0,2,461,0,0,0,0,0,0,0,0,0,37,0,0,0,1,458,0,0,0,0,0,0,0,0,0,41,0,0,0,0,457,0,0,0,0,0,0,0,0,0,43,0,0,0,0,453,0,0,0,0,0,0,0,0,0,47,0,0,0,0,453,0,0,0,0,0,0,0,0,0,47,0,0,0,0,450,0,0,0,0,0,0,0,0,0,50,0,0,0,0,435,0,0,0,0,0,0,0,0,0,65,0,0,0,0,334,0,0,0,0,0,0,0,0,0,166,0,0,0,0,297,0,0,0,0,2,0,0,0,0,201,0,0,0,0,10,0,0,0,0,174,0,0,0,0,316,0]}},\"id\":\"48acfeb5-c308-45b1-a383-3df451246bf9\",\"type\":\"ColumnDataSource\"},{\"attributes\":{\"data_source\":{\"id\":\"48acfeb5-c308-45b1-a383-3df451246bf9\",\"type\":\"ColumnDataSource\"},\"glyph\":{\"id\":\"12060e69-87a0-47b0-ba07-0b1f4c1c24ac\",\"type\":\"Circle\"},\"hover_glyph\":null,\"muted_glyph\":null,\"nonselection_glyph\":{\"id\":\"04b0bac7-b2a8-4768-80ca-38cd07cc6946\",\"type\":\"Circle\"},\"selection_glyph\":null,\"view\":{\"id\":\"1a9eb31e-7491-4871-86b3-14b6fce5a997\",\"type\":\"CDSView\"}},\"id\":\"46a79bd7-9e28-4c0f-b446-5f90578e768f\",\"type\":\"GlyphRenderer\"},{\"attributes\":{},\"id\":\"e1953012-c846-4f20-8fbb-fc52e2638dea\",\"type\":\"BasicTicker\"},{\"attributes\":{\"overlay\":{\"id\":\"8e8f0a56-3ca6-47da-8b76-372b18c8b885\",\"type\":\"BoxAnnotation\"}},\"id\":\"63b7ae8e-40e1-4f1c-836e-422e27798d66\",\"type\":\"BoxZoomTool\"},{\"attributes\":{\"axis_label\":\"distance_from_uniform\",\"axis_label_text_font_size\":{\"value\":\"30pt\"},\"formatter\":{\"id\":\"f13dcb17-d2c0-46e7-9ab2-04eccf4a161c\",\"type\":\"BasicTickFormatter\"},\"major_label_text_font_size\":{\"value\":\"15pt\"},\"plot\":{\"id\":\"c7cb873e-ef50-4b76-ac90-2575a1e29b9d\",\"subtype\":\"Figure\",\"type\":\"Plot\"},\"ticker\":{\"id\":\"50c19aef-4696-4eea-b59d-e7113efd88c7\",\"type\":\"BasicTicker\"}},\"id\":\"3e9eaeed-5802-4318-b2bf-b6601617476d\",\"type\":\"LinearAxis\"},{\"attributes\":{\"callback\":null},\"id\":\"6e462a0e-b364-4b5f-a13b-2fa6ed821197\",\"type\":\"DataRange1d\"},{\"attributes\":{\"below\":[{\"id\":\"0f3a7d94-7c40-4b68-b7ac-b76cc5fd9540\",\"type\":\"LinearAxis\"}],\"left\":[{\"id\":\"3e9eaeed-5802-4318-b2bf-b6601617476d\",\"type\":\"LinearAxis\"}],\"plot_width\":800,\"renderers\":[{\"id\":\"0f3a7d94-7c40-4b68-b7ac-b76cc5fd9540\",\"type\":\"LinearAxis\"},{\"id\":\"74357652-7d2c-4af1-92fd-6e3c3b39cc00\",\"type\":\"Grid\"},{\"id\":\"3e9eaeed-5802-4318-b2bf-b6601617476d\",\"type\":\"LinearAxis\"},{\"id\":\"b2abd6e9-aafb-4906-af52-28cd10695773\",\"type\":\"Grid\"},{\"id\":\"9a39be13-7af9-453c-bffd-15096b5b2579\",\"type\":\"BoxAnnotation\"},{\"id\":\"564fd1e9-1b53-4e3a-ad21-c4ebc9b75437\",\"type\":\"GlyphRenderer\"}],\"title\":{\"id\":\"c17cdadd-cada-4141-93bd-05666a0c523a\",\"type\":\"Title\"},\"toolbar\":{\"id\":\"ecac7b3b-ba48-421e-b697-ac0f87fd51c8\",\"type\":\"Toolbar\"},\"toolbar_location\":\"above\",\"x_range\":{\"id\":\"e56af87d-79b1-43f0-90fe-28fdc948527a\",\"type\":\"DataRange1d\"},\"x_scale\":{\"id\":\"80fa8650-f575-47c3-9623-a8465ae0c02a\",\"type\":\"LinearScale\"},\"y_range\":{\"id\":\"8fe4923e-b915-4457-881a-edd3d22f1610\",\"type\":\"DataRange1d\"},\"y_scale\":{\"id\":\"e56e47f1-59ae-49a0-b25d-226fd4a91a95\",\"type\":\"LinearScale\"}},\"id\":\"c7cb873e-ef50-4b76-ac90-2575a1e29b9d\",\"subtype\":\"Figure\",\"type\":\"Plot\"},{\"attributes\":{\"bottom_units\":\"screen\",\"fill_alpha\":{\"value\":0.5},\"fill_color\":{\"value\":\"lightgrey\"},\"left_units\":\"screen\",\"level\":\"overlay\",\"line_alpha\":{\"value\":1.0},\"line_color\":{\"value\":\"black\"},\"line_dash\":[4,4],\"line_width\":{\"value\":2},\"plot\":null,\"render_mode\":\"css\",\"right_units\":\"screen\",\"top_units\":\"screen\"},\"id\":\"5c13e09a-061a-4732-8e9f-9ca28a096b06\",\"type\":\"BoxAnnotation\"},{\"attributes\":{\"axis_label\":\"avg_cos\",\"axis_label_text_font_size\":{\"value\":\"30pt\"},\"formatter\":{\"id\":\"cc5a951e-8d46-4ec1-9f54-6a0cbf6f031d\",\"type\":\"BasicTickFormatter\"},\"major_label_text_font_size\":{\"value\":\"15pt\"},\"plot\":{\"id\":\"3d9733b1-5830-4106-b527-8a061b0ced95\",\"subtype\":\"Figure\",\"type\":\"Plot\"},\"ticker\":{\"id\":\"f27b5bec-fda4-4e21-949e-995cf3ba09e9\",\"type\":\"BasicTicker\"}},\"id\":\"4fb72f97-7631-4624-a9c4-09543ad49e60\",\"type\":\"LinearAxis\"},{\"attributes\":{},\"id\":\"e8c1565d-b2b2-4615-8f57-9c78df2cb2b3\",\"type\":\"ResetTool\"},{\"attributes\":{\"callback\":null},\"id\":\"8fe4923e-b915-4457-881a-edd3d22f1610\",\"type\":\"DataRange1d\"},{\"attributes\":{},\"id\":\"e78d265f-2fa4-4178-b95a-cd221137e5fd\",\"type\":\"BasicTickFormatter\"},{\"attributes\":{},\"id\":\"b6c3302b-5074-4bc4-9546-9bb6e3949d70\",\"type\":\"HelpTool\"},{\"attributes\":{\"source\":{\"id\":\"ae9a02ff-899f-47d5-a908-ffd821cb8d5b\",\"type\":\"ColumnDataSource\"}},\"id\":\"45b5f034-0ef4-4b1d-a5bd-30b5d39fb1e7\",\"type\":\"CDSView\"},{\"attributes\":{},\"id\":\"7094edfb-1b82-4174-b851-a58321b2b362\",\"type\":\"BasicTicker\"},{\"attributes\":{},\"id\":\"446b450a-82f9-4f3f-9b0e-e16146b1f86b\",\"type\":\"WheelZoomTool\"},{\"attributes\":{\"callback\":null,\"tabs\":[{\"id\":\"d0147106-fac3-454b-ab7d-a3dea7d24ab7\",\"type\":\"Panel\"},{\"id\":\"b7ff6f8f-dafc-4acf-bb8f-cf7665803986\",\"type\":\"Panel\"},{\"id\":\"fc298b41-a959-49cd-8265-abed477f6865\",\"type\":\"Panel\"},{\"id\":\"6ef9d69c-3c85-4d8b-81e7-3ed0cc58ba8e\",\"type\":\"Panel\"},{\"id\":\"68c0fad8-6693-432e-a9c2-c5222535fb72\",\"type\":\"Panel\"},{\"id\":\"21204d96-f836-4d08-ab94-a17d1c18037d\",\"type\":\"Panel\"},{\"id\":\"cee99889-6688-4f24-a600-0a4802a6c682\",\"type\":\"Panel\"}]},\"id\":\"11301eaa-f9dd-4f31-adc8-c8b2dc677297\",\"type\":\"Tabs\"},{\"attributes\":{\"plot\":null,\"text\":\"brown\",\"text_font_size\":{\"value\":\"15pt\"}},\"id\":\"9bea9fc7-e067-4c10-ae00-f57926564541\",\"type\":\"Title\"},{\"attributes\":{},\"id\":\"f27b5bec-fda4-4e21-949e-995cf3ba09e9\",\"type\":\"BasicTicker\"},{\"attributes\":{},\"id\":\"de104736-0b0b-4faf-b19e-e19a488a3830\",\"type\":\"WheelZoomTool\"},{\"attributes\":{\"data_source\":{\"id\":\"763d1a76-bf09-4ec0-81c7-5ea8e58e6175\",\"type\":\"ColumnDataSource\"},\"glyph\":{\"id\":\"95518da4-94c3-450e-b7c3-7623e5108e82\",\"type\":\"Circle\"},\"hover_glyph\":null,\"muted_glyph\":null,\"nonselection_glyph\":{\"id\":\"6b4476b4-3171-459a-bb5c-1cc0366717fa\",\"type\":\"Circle\"},\"selection_glyph\":null,\"view\":{\"id\":\"da7eb9b2-99d3-4a09-ad3e-7a2c0a1eae9b\",\"type\":\"CDSView\"}},\"id\":\"77906b4f-6a64-47a1-a6fd-c1b1726f0fdf\",\"type\":\"GlyphRenderer\"},{\"attributes\":{},\"id\":\"a7c2f7e0-4afe-46c6-b32d-44126e1a27d5\",\"type\":\"BasicTickFormatter\"},{\"attributes\":{},\"id\":\"ed97ae23-72e3-4148-85cc-6925f2c1c172\",\"type\":\"LinearScale\"},{\"attributes\":{\"active_drag\":\"auto\",\"active_inspect\":\"auto\",\"active_scroll\":\"auto\",\"active_tap\":\"auto\",\"tools\":[{\"id\":\"eb379905-97c8-4e86-b351-8f10bf0f1c82\",\"type\":\"PanTool\"},{\"id\":\"781b2ded-5643-4100-ba6c-072c2e25f5a7\",\"type\":\"WheelZoomTool\"},{\"id\":\"b738dac0-28a4-4372-a4a9-c7fbfe016d13\",\"type\":\"BoxZoomTool\"},{\"id\":\"4f43e127-f550-4a08-9840-c00444ccc7e9\",\"type\":\"SaveTool\"},{\"id\":\"6a5645be-f3af-4f68-829a-cb7ea3ab2fa6\",\"type\":\"ResetTool\"},{\"id\":\"26cadc99-9842-4705-9f53-a19d84eb6c14\",\"type\":\"HelpTool\"},{\"id\":\"3b7a370c-eba1-4ec2-91b9-6ad9bf68dd69\",\"type\":\"HoverTool\"}]},\"id\":\"27c347c3-3308-41ea-8184-a87c8db9cdb3\",\"type\":\"Toolbar\"},{\"attributes\":{},\"id\":\"26cadc99-9842-4705-9f53-a19d84eb6c14\",\"type\":\"HelpTool\"},{\"attributes\":{\"fill_alpha\":{\"value\":0.5},\"fill_color\":{\"value\":\"black\"},\"line_alpha\":{\"value\":0.5},\"size\":{\"units\":\"screen\",\"value\":20},\"x\":{\"field\":\"x\"},\"y\":{\"field\":\"y\"}},\"id\":\"d6c6abf3-60f9-4281-90fa-a91119251421\",\"type\":\"Circle\"},{\"attributes\":{\"dimension\":1,\"plot\":{\"id\":\"c7cb873e-ef50-4b76-ac90-2575a1e29b9d\",\"subtype\":\"Figure\",\"type\":\"Plot\"},\"ticker\":{\"id\":\"50c19aef-4696-4eea-b59d-e7113efd88c7\",\"type\":\"BasicTicker\"}},\"id\":\"b2abd6e9-aafb-4906-af52-28cd10695773\",\"type\":\"Grid\"},{\"attributes\":{\"plot\":null,\"text\":\"brown\",\"text_font_size\":{\"value\":\"15pt\"}},\"id\":\"be556287-2b0c-428d-b24b-9b8166f37c51\",\"type\":\"Title\"},{\"attributes\":{},\"id\":\"9be4e959-c84b-4887-973e-8cfbc1e77292\",\"type\":\"LinearScale\"},{\"attributes\":{\"overlay\":{\"id\":\"1fb2695f-53e4-4c4f-ab8e-c07e5a64808e\",\"type\":\"BoxAnnotation\"}},\"id\":\"82900a90-100d-4f58-a36b-9bc8ae8470e9\",\"type\":\"BoxZoomTool\"},{\"attributes\":{\"active_drag\":\"auto\",\"active_inspect\":\"auto\",\"active_scroll\":\"auto\",\"active_tap\":\"auto\",\"tools\":[{\"id\":\"1d916cd3-222b-42fd-9d49-f08bf0b03bf6\",\"type\":\"PanTool\"},{\"id\":\"446b450a-82f9-4f3f-9b0e-e16146b1f86b\",\"type\":\"WheelZoomTool\"},{\"id\":\"f0b64303-1a7d-4bc8-8825-b041a0fde732\",\"type\":\"BoxZoomTool\"},{\"id\":\"e9a65188-7625-4f40-97f9-66803fab1935\",\"type\":\"SaveTool\"},{\"id\":\"e8c1565d-b2b2-4615-8f57-9c78df2cb2b3\",\"type\":\"ResetTool\"},{\"id\":\"b6c3302b-5074-4bc4-9546-9bb6e3949d70\",\"type\":\"HelpTool\"},{\"id\":\"3b7a370c-eba1-4ec2-91b9-6ad9bf68dd69\",\"type\":\"HoverTool\"}]},\"id\":\"24634367-df4f-4094-a4d3-d9d36c88ebfe\",\"type\":\"Toolbar\"},{\"attributes\":{\"below\":[{\"id\":\"917601ed-2d03-41d0-aa2f-2cd6150ac33b\",\"type\":\"LinearAxis\"}],\"left\":[{\"id\":\"0208fc30-fdfc-483a-b0a2-9d7d77bda289\",\"type\":\"LinearAxis\"}],\"plot_width\":800,\"renderers\":[{\"id\":\"917601ed-2d03-41d0-aa2f-2cd6150ac33b\",\"type\":\"LinearAxis\"},{\"id\":\"93b0b9ef-a435-44ce-b896-3f358c6125ad\",\"type\":\"Grid\"},{\"id\":\"0208fc30-fdfc-483a-b0a2-9d7d77bda289\",\"type\":\"LinearAxis\"},{\"id\":\"83c68b2f-ebe6-4f14-9747-f569020a4814\",\"type\":\"Grid\"},{\"id\":\"5c13e09a-061a-4732-8e9f-9ca28a096b06\",\"type\":\"BoxAnnotation\"},{\"id\":\"77906b4f-6a64-47a1-a6fd-c1b1726f0fdf\",\"type\":\"GlyphRenderer\"}],\"title\":{\"id\":\"1ca65df1-5f4d-4696-8f6a-ff51e1d74b0f\",\"type\":\"Title\"},\"toolbar\":{\"id\":\"76f91154-aaa6-4393-a80e-6b6b72d109d8\",\"type\":\"Toolbar\"},\"toolbar_location\":\"above\",\"x_range\":{\"id\":\"7b531689-6f75-470f-9a40-4dac6502e9d0\",\"type\":\"DataRange1d\"},\"x_scale\":{\"id\":\"8bc10f40-61db-49cf-826b-a207440b5096\",\"type\":\"LinearScale\"},\"y_range\":{\"id\":\"505a64a2-f0ed-4f72-8630-3ef99533f187\",\"type\":\"DataRange1d\"},\"y_scale\":{\"id\":\"38f9598b-167f-4f76-8245-7818bba823b7\",\"type\":\"LinearScale\"}},\"id\":\"12b39297-5a79-4ef6-a9d8-c49caa5f9963\",\"subtype\":\"Figure\",\"type\":\"Plot\"},{\"attributes\":{},\"id\":\"374b0ed4-853c-4c84-b263-6f75f9da4a4f\",\"type\":\"BasicTickFormatter\"},{\"attributes\":{\"source\":{\"id\":\"48acfeb5-c308-45b1-a383-3df451246bf9\",\"type\":\"ColumnDataSource\"}},\"id\":\"1a9eb31e-7491-4871-86b3-14b6fce5a997\",\"type\":\"CDSView\"},{\"attributes\":{\"fill_alpha\":{\"value\":0.5},\"fill_color\":{\"value\":\"black\"},\"line_alpha\":{\"value\":0.5},\"size\":{\"units\":\"screen\",\"value\":20},\"x\":{\"field\":\"x\"},\"y\":{\"field\":\"y\"}},\"id\":\"a69d7410-0df2-4c29-a7c4-d49fadcbe33f\",\"type\":\"Circle\"},{\"attributes\":{},\"id\":\"4f43e127-f550-4a08-9840-c00444ccc7e9\",\"type\":\"SaveTool\"},{\"attributes\":{},\"id\":\"d627d017-db03-46a0-b0f8-136c017858f3\",\"type\":\"BasicTickFormatter\"},{\"attributes\":{},\"id\":\"1be6a679-0358-4853-87e8-6ddff3d73bf8\",\"type\":\"BasicTicker\"},{\"attributes\":{},\"id\":\"1ee4e9a4-33d5-4a2c-8837-dfcfb56940f0\",\"type\":\"ResetTool\"},{\"attributes\":{\"fill_alpha\":{\"value\":0.5},\"fill_color\":{\"value\":\"black\"},\"line_alpha\":{\"value\":0.5},\"size\":{\"units\":\"screen\",\"value\":20},\"x\":{\"field\":\"x\"},\"y\":{\"field\":\"y\"}},\"id\":\"da95b8ee-9bb9-4b39-aca6-07556ed26951\",\"type\":\"Circle\"},{\"attributes\":{\"active_drag\":\"auto\",\"active_inspect\":\"auto\",\"active_scroll\":\"auto\",\"active_tap\":\"auto\",\"tools\":[{\"id\":\"d05130d6-49d6-41e8-ace4-c719b8e556fb\",\"type\":\"PanTool\"},{\"id\":\"de104736-0b0b-4faf-b19e-e19a488a3830\",\"type\":\"WheelZoomTool\"},{\"id\":\"82900a90-100d-4f58-a36b-9bc8ae8470e9\",\"type\":\"BoxZoomTool\"},{\"id\":\"dcafb696-f1aa-4aac-8ab8-917830748222\",\"type\":\"SaveTool\"},{\"id\":\"1ee4e9a4-33d5-4a2c-8837-dfcfb56940f0\",\"type\":\"ResetTool\"},{\"id\":\"d70a66b0-3398-4141-8fcc-5da1b82faa88\",\"type\":\"HelpTool\"},{\"id\":\"3b7a370c-eba1-4ec2-91b9-6ad9bf68dd69\",\"type\":\"HoverTool\"}]},\"id\":\"87900a80-4842-4be4-afe7-43504b6fc25a\",\"type\":\"Toolbar\"},{\"attributes\":{},\"id\":\"d9c1213f-cd5a-471f-a295-a97d8e90d13a\",\"type\":\"LinearScale\"},{\"attributes\":{\"callback\":null},\"id\":\"8fdc3bd0-9dac-4c7f-8ff6-9f118a9bb59e\",\"type\":\"DataRange1d\"},{\"attributes\":{},\"id\":\"b606b02a-5022-4a38-bf74-a0ec2c7d231e\",\"type\":\"BasicTicker\"},{\"attributes\":{},\"id\":\"8e7fd384-3e72-49aa-b0ab-bdb8465fba87\",\"type\":\"ResetTool\"},{\"attributes\":{},\"id\":\"3e195595-8b3e-47b0-94e4-19c4c8105f8a\",\"type\":\"HelpTool\"},{\"attributes\":{},\"id\":\"f00720d7-d3cb-44d6-a930-7dc6ea5b13b7\",\"type\":\"WheelZoomTool\"},{\"attributes\":{\"plot\":{\"id\":\"75fe2286-436f-4731-b1dc-f710a0b218b5\",\"subtype\":\"Figure\",\"type\":\"Plot\"},\"ticker\":{\"id\":\"fd06c4d7-445f-4537-a1b8-cf48572d620d\",\"type\":\"BasicTicker\"}},\"id\":\"ff8bdaf7-c9c2-4c6d-b43b-3d42df991d16\",\"type\":\"Grid\"},{\"attributes\":{},\"id\":\"1d916cd3-222b-42fd-9d49-f08bf0b03bf6\",\"type\":\"PanTool\"},{\"attributes\":{\"callback\":null},\"id\":\"a68ab176-8c4e-488b-a771-c886499cb10a\",\"type\":\"DataRange1d\"},{\"attributes\":{},\"id\":\"50c19aef-4696-4eea-b59d-e7113efd88c7\",\"type\":\"BasicTicker\"},{\"attributes\":{\"below\":[{\"id\":\"3bc39729-0312-4382-9e6c-f704ab60b18b\",\"type\":\"LinearAxis\"}],\"left\":[{\"id\":\"4fb72f97-7631-4624-a9c4-09543ad49e60\",\"type\":\"LinearAxis\"}],\"plot_width\":800,\"renderers\":[{\"id\":\"3bc39729-0312-4382-9e6c-f704ab60b18b\",\"type\":\"LinearAxis\"},{\"id\":\"e1813c7b-60de-41f8-bf37-6b2c53878ad3\",\"type\":\"Grid\"},{\"id\":\"4fb72f97-7631-4624-a9c4-09543ad49e60\",\"type\":\"LinearAxis\"},{\"id\":\"324bd3a5-b755-4793-aca2-12d255d8cac5\",\"type\":\"Grid\"},{\"id\":\"4d1638d7-c4be-45ac-b81f-654240664c74\",\"type\":\"BoxAnnotation\"},{\"id\":\"ece30f1f-b2f4-43f7-b86c-e98ad240e0f5\",\"type\":\"GlyphRenderer\"}],\"title\":{\"id\":\"be556287-2b0c-428d-b24b-9b8166f37c51\",\"type\":\"Title\"},\"toolbar\":{\"id\":\"24634367-df4f-4094-a4d3-d9d36c88ebfe\",\"type\":\"Toolbar\"},\"toolbar_location\":\"above\",\"x_range\":{\"id\":\"6e462a0e-b364-4b5f-a13b-2fa6ed821197\",\"type\":\"DataRange1d\"},\"x_scale\":{\"id\":\"7e41d995-4224-43a3-b4ed-45f43dcbb85a\",\"type\":\"LinearScale\"},\"y_range\":{\"id\":\"12437237-cb86-4e2a-9977-f5bc72b5393c\",\"type\":\"DataRange1d\"},\"y_scale\":{\"id\":\"a46279a6-22a4-4a0e-a12b-901cf0e27a82\",\"type\":\"LinearScale\"}},\"id\":\"3d9733b1-5830-4106-b527-8a061b0ced95\",\"subtype\":\"Figure\",\"type\":\"Plot\"},{\"attributes\":{\"axis_label\":\"effective_size\",\"axis_label_text_font_size\":{\"value\":\"30pt\"},\"formatter\":{\"id\":\"8c46ed50-b892-4b7d-a6f6-cb3d4b66b197\",\"type\":\"BasicTickFormatter\"},\"major_label_text_font_size\":{\"value\":\"15pt\"},\"plot\":{\"id\":\"75fe2286-436f-4731-b1dc-f710a0b218b5\",\"subtype\":\"Figure\",\"type\":\"Plot\"},\"ticker\":{\"id\":\"97d1dc0d-0f62-47c6-b53c-11ac1a0eab9a\",\"type\":\"BasicTicker\"}},\"id\":\"7116576f-73c9-4660-bbf4-1157a8b22270\",\"type\":\"LinearAxis\"},{\"attributes\":{\"plot\":{\"id\":\"c7cb873e-ef50-4b76-ac90-2575a1e29b9d\",\"subtype\":\"Figure\",\"type\":\"Plot\"},\"ticker\":{\"id\":\"1be6a679-0358-4853-87e8-6ddff3d73bf8\",\"type\":\"BasicTicker\"}},\"id\":\"74357652-7d2c-4af1-92fd-6e3c3b39cc00\",\"type\":\"Grid\"},{\"attributes\":{},\"id\":\"9be39bb1-16ed-4841-823b-abcca08a73ba\",\"type\":\"BasicTickFormatter\"},{\"attributes\":{},\"id\":\"e2600595-53c2-4536-af56-2831c61fb190\",\"type\":\"BasicTickFormatter\"},{\"attributes\":{},\"id\":\"8c46ed50-b892-4b7d-a6f6-cb3d4b66b197\",\"type\":\"BasicTickFormatter\"},{\"attributes\":{},\"id\":\"d668eea2-3bd7-4333-95e8-96b49469f0fd\",\"type\":\"HelpTool\"},{\"attributes\":{},\"id\":\"b012f551-87cd-40ef-bf54-fbca9e35a57d\",\"type\":\"BasicTickFormatter\"},{\"attributes\":{\"fill_alpha\":{\"value\":0.1},\"fill_color\":{\"value\":\"#1f77b4\"},\"line_alpha\":{\"value\":0.1},\"line_color\":{\"value\":\"#1f77b4\"},\"size\":{\"units\":\"screen\",\"value\":20},\"x\":{\"field\":\"x\"},\"y\":{\"field\":\"y\"}},\"id\":\"1362a319-9f64-4e78-ba15-143f07c5d805\",\"type\":\"Circle\"},{\"attributes\":{\"below\":[{\"id\":\"1c7edfd8-ce20-4003-83e0-2a17965c2f9f\",\"type\":\"LinearAxis\"}],\"left\":[{\"id\":\"a77db835-2077-4d6c-a57b-20fce3c34fca\",\"type\":\"LinearAxis\"}],\"plot_width\":800,\"renderers\":[{\"id\":\"1c7edfd8-ce20-4003-83e0-2a17965c2f9f\",\"type\":\"LinearAxis\"},{\"id\":\"f02eba8f-87d8-4d2a-bff9-df5846ecb2a4\",\"type\":\"Grid\"},{\"id\":\"a77db835-2077-4d6c-a57b-20fce3c34fca\",\"type\":\"LinearAxis\"},{\"id\":\"3d410843-eef7-4dcf-b074-ad8791ce67b1\",\"type\":\"Grid\"},{\"id\":\"8e8f0a56-3ca6-47da-8b76-372b18c8b885\",\"type\":\"BoxAnnotation\"},{\"id\":\"3f0831b3-f73b-446c-9513-6cca321a1201\",\"type\":\"GlyphRenderer\"}],\"title\":{\"id\":\"837bd527-ba39-4f0b-8bf4-31436e4354f4\",\"type\":\"Title\"},\"toolbar\":{\"id\":\"4ad972a1-9bb0-4e2c-b348-7097b0c92293\",\"type\":\"Toolbar\"},\"toolbar_location\":\"above\",\"x_range\":{\"id\":\"8fdc3bd0-9dac-4c7f-8ff6-9f118a9bb59e\",\"type\":\"DataRange1d\"},\"x_scale\":{\"id\":\"9be4e959-c84b-4887-973e-8cfbc1e77292\",\"type\":\"LinearScale\"},\"y_range\":{\"id\":\"8b546cab-3b11-4f8c-9422-9221f9788dca\",\"type\":\"DataRange1d\"},\"y_scale\":{\"id\":\"8f2cff6a-53b8-45df-ac79-0607cb3dc2d7\",\"type\":\"LinearScale\"}},\"id\":\"be29ca39-7dcb-4d0b-a21b-9fb36686f929\",\"subtype\":\"Figure\",\"type\":\"Plot\"},{\"attributes\":{\"axis_label\":\"exclusivity\",\"axis_label_text_font_size\":{\"value\":\"30pt\"},\"formatter\":{\"id\":\"e2600595-53c2-4536-af56-2831c61fb190\",\"type\":\"BasicTickFormatter\"},\"major_label_text_font_size\":{\"value\":\"15pt\"},\"plot\":{\"id\":\"1b6d535d-f08c-471e-8b78-9925e7dcf0da\",\"subtype\":\"Figure\",\"type\":\"Plot\"},\"ticker\":{\"id\":\"b606b02a-5022-4a38-bf74-a0ec2c7d231e\",\"type\":\"BasicTicker\"}},\"id\":\"f6145638-b394-449c-b48f-85c9baae9be3\",\"type\":\"LinearAxis\"},{\"attributes\":{},\"id\":\"a46279a6-22a4-4a0e-a12b-901cf0e27a82\",\"type\":\"LinearScale\"},{\"attributes\":{\"axis_label\":\"Stopword Presence (%)\",\"axis_label_text_font_size\":{\"value\":\"30pt\"},\"formatter\":{\"id\":\"e78d265f-2fa4-4178-b95a-cd221137e5fd\",\"type\":\"BasicTickFormatter\"},\"major_label_text_font_size\":{\"value\":\"15pt\"},\"plot\":{\"id\":\"75fe2286-436f-4731-b1dc-f710a0b218b5\",\"subtype\":\"Figure\",\"type\":\"Plot\"},\"ticker\":{\"id\":\"fd06c4d7-445f-4537-a1b8-cf48572d620d\",\"type\":\"BasicTicker\"}},\"id\":\"cc337456-7541-4f96-9c91-087598cda69c\",\"type\":\"LinearAxis\"},{\"attributes\":{\"active_drag\":\"auto\",\"active_inspect\":\"auto\",\"active_scroll\":\"auto\",\"active_tap\":\"auto\",\"tools\":[{\"id\":\"748567ab-cf9c-4315-895f-7a2987852a05\",\"type\":\"PanTool\"},{\"id\":\"95c80929-01c8-438b-aebd-ab298684182f\",\"type\":\"WheelZoomTool\"},{\"id\":\"5c94339b-1fd0-4bbb-a712-13095a6b9553\",\"type\":\"BoxZoomTool\"},{\"id\":\"96b3bb9d-a284-46a2-a83f-003758229262\",\"type\":\"SaveTool\"},{\"id\":\"9de85638-6662-4f9d-84b0-16d0fe1b8b38\",\"type\":\"ResetTool\"},{\"id\":\"73556339-592e-45a7-a88c-398d91620f32\",\"type\":\"HelpTool\"},{\"id\":\"3b7a370c-eba1-4ec2-91b9-6ad9bf68dd69\",\"type\":\"HoverTool\"}]},\"id\":\"76f91154-aaa6-4393-a80e-6b6b72d109d8\",\"type\":\"Toolbar\"},{\"attributes\":{\"child\":{\"id\":\"c7cb873e-ef50-4b76-ac90-2575a1e29b9d\",\"subtype\":\"Figure\",\"type\":\"Plot\"},\"title\":\"distance_from_uniform\"},\"id\":\"6ef9d69c-3c85-4d8b-81e7-3ed0cc58ba8e\",\"type\":\"Panel\"},{\"attributes\":{},\"id\":\"e9a65188-7625-4f40-97f9-66803fab1935\",\"type\":\"SaveTool\"},{\"attributes\":{},\"id\":\"96b3bb9d-a284-46a2-a83f-003758229262\",\"type\":\"SaveTool\"},{\"attributes\":{\"callback\":null,\"tooltips\":[[\"x\",\"@x\"],[\"y\",\"@y\"],[\"top words\",\"@top_three\"]]},\"id\":\"3b7a370c-eba1-4ec2-91b9-6ad9bf68dd69\",\"type\":\"HoverTool\"},{\"attributes\":{\"data_source\":{\"id\":\"b3f56b97-6aad-4017-8dd0-20fec3cb3dde\",\"type\":\"ColumnDataSource\"},\"glyph\":{\"id\":\"d6c6abf3-60f9-4281-90fa-a91119251421\",\"type\":\"Circle\"},\"hover_glyph\":null,\"muted_glyph\":null,\"nonselection_glyph\":{\"id\":\"856e1c19-fa15-4fdb-a112-a0f740bf88f1\",\"type\":\"Circle\"},\"selection_glyph\":null,\"view\":{\"id\":\"69832470-55fe-43a5-89c2-b816f6085fba\",\"type\":\"CDSView\"}},\"id\":\"ece30f1f-b2f4-43f7-b86c-e98ad240e0f5\",\"type\":\"GlyphRenderer\"},{\"attributes\":{\"bottom_units\":\"screen\",\"fill_alpha\":{\"value\":0.5},\"fill_color\":{\"value\":\"lightgrey\"},\"left_units\":\"screen\",\"level\":\"overlay\",\"line_alpha\":{\"value\":1.0},\"line_color\":{\"value\":\"black\"},\"line_dash\":[4,4],\"line_width\":{\"value\":2},\"plot\":null,\"render_mode\":\"css\",\"right_units\":\"screen\",\"top_units\":\"screen\"},\"id\":\"4d1638d7-c4be-45ac-b81f-654240664c74\",\"type\":\"BoxAnnotation\"},{\"attributes\":{\"axis_label\":\"rank1\",\"axis_label_text_font_size\":{\"value\":\"30pt\"},\"formatter\":{\"id\":\"9be39bb1-16ed-4841-823b-abcca08a73ba\",\"type\":\"BasicTickFormatter\"},\"major_label_text_font_size\":{\"value\":\"15pt\"},\"plot\":{\"id\":\"bf046416-3088-4be7-87e3-91e3021e765b\",\"subtype\":\"Figure\",\"type\":\"Plot\"},\"ticker\":{\"id\":\"7158e530-f912-4c06-9014-f0221040f8c7\",\"type\":\"BasicTicker\"}},\"id\":\"c9eedfa9-991e-4c4b-aeca-2f4ce5b5cdc0\",\"type\":\"LinearAxis\"},{\"attributes\":{},\"id\":\"e5e19f8c-01ae-4717-bac5-629e9fc8890a\",\"type\":\"LinearScale\"},{\"attributes\":{\"overlay\":{\"id\":\"4d1638d7-c4be-45ac-b81f-654240664c74\",\"type\":\"BoxAnnotation\"}},\"id\":\"f0b64303-1a7d-4bc8-8825-b041a0fde732\",\"type\":\"BoxZoomTool\"},{\"attributes\":{\"axis_label\":\"Stopword Presence (%)\",\"axis_label_text_font_size\":{\"value\":\"30pt\"},\"formatter\":{\"id\":\"a7c2f7e0-4afe-46c6-b32d-44126e1a27d5\",\"type\":\"BasicTickFormatter\"},\"major_label_text_font_size\":{\"value\":\"15pt\"},\"plot\":{\"id\":\"12b39297-5a79-4ef6-a9d8-c49caa5f9963\",\"subtype\":\"Figure\",\"type\":\"Plot\"},\"ticker\":{\"id\":\"6d8474ee-a710-40b7-b4ac-7bb0dd30958c\",\"type\":\"BasicTicker\"}},\"id\":\"917601ed-2d03-41d0-aa2f-2cd6150ac33b\",\"type\":\"LinearAxis\"},{\"attributes\":{\"fill_alpha\":{\"value\":0.5},\"fill_color\":{\"value\":\"black\"},\"line_alpha\":{\"value\":0.5},\"size\":{\"units\":\"screen\",\"value\":20},\"x\":{\"field\":\"x\"},\"y\":{\"field\":\"y\"}},\"id\":\"093c6d1a-6aa1-4b02-8de1-92ea346eab56\",\"type\":\"Circle\"},{\"attributes\":{},\"id\":\"38024904-52ca-4097-b276-56ce8239ec31\",\"type\":\"BasicTickFormatter\"},{\"attributes\":{},\"id\":\"d05130d6-49d6-41e8-ace4-c719b8e556fb\",\"type\":\"PanTool\"},{\"attributes\":{\"plot\":null,\"text\":\"brown\",\"text_font_size\":{\"value\":\"15pt\"}},\"id\":\"1ca65df1-5f4d-4696-8f6a-ff51e1d74b0f\",\"type\":\"Title\"},{\"attributes\":{\"dimension\":1,\"plot\":{\"id\":\"1b6d535d-f08c-471e-8b78-9925e7dcf0da\",\"subtype\":\"Figure\",\"type\":\"Plot\"},\"ticker\":{\"id\":\"b606b02a-5022-4a38-bf74-a0ec2c7d231e\",\"type\":\"BasicTicker\"}},\"id\":\"5355149d-9050-41d3-b15c-ffd7df5c485e\",\"type\":\"Grid\"},{\"attributes\":{},\"id\":\"7110a67a-5de1-48b4-a671-247f51ba356d\",\"type\":\"BasicTickFormatter\"},{\"attributes\":{\"plot\":null,\"text\":\"brown\",\"text_font_size\":{\"value\":\"15pt\"}},\"id\":\"e4c800a1-bbe4-48c7-abce-492cd6ad2b7f\",\"type\":\"Title\"},{\"attributes\":{\"overlay\":{\"id\":\"5c13e09a-061a-4732-8e9f-9ca28a096b06\",\"type\":\"BoxAnnotation\"}},\"id\":\"5c94339b-1fd0-4bbb-a712-13095a6b9553\",\"type\":\"BoxZoomTool\"},{\"attributes\":{\"axis_label\":\"Stopword Presence (%)\",\"axis_label_text_font_size\":{\"value\":\"30pt\"},\"formatter\":{\"id\":\"d627d017-db03-46a0-b0f8-136c017858f3\",\"type\":\"BasicTickFormatter\"},\"major_label_text_font_size\":{\"value\":\"15pt\"},\"plot\":{\"id\":\"3d9733b1-5830-4106-b527-8a061b0ced95\",\"subtype\":\"Figure\",\"type\":\"Plot\"},\"ticker\":{\"id\":\"ac13dfdb-f102-4905-ab04-a3dc68d69707\",\"type\":\"BasicTicker\"}},\"id\":\"3bc39729-0312-4382-9e6c-f704ab60b18b\",\"type\":\"LinearAxis\"},{\"attributes\":{},\"id\":\"d092ff62-0805-4436-8fb1-40e288b43321\",\"type\":\"BasicTicker\"},{\"attributes\":{\"axis_label\":\"Stopword Presence (%)\",\"axis_label_text_font_size\":{\"value\":\"30pt\"},\"formatter\":{\"id\":\"7f97b8f0-7932-4675-856c-6176fd12589c\",\"type\":\"BasicTickFormatter\"},\"major_label_text_font_size\":{\"value\":\"15pt\"},\"plot\":{\"id\":\"be29ca39-7dcb-4d0b-a21b-9fb36686f929\",\"subtype\":\"Figure\",\"type\":\"Plot\"},\"ticker\":{\"id\":\"7094edfb-1b82-4174-b851-a58321b2b362\",\"type\":\"BasicTicker\"}},\"id\":\"1c7edfd8-ce20-4003-83e0-2a17965c2f9f\",\"type\":\"LinearAxis\"},{\"attributes\":{\"plot\":{\"id\":\"3d9733b1-5830-4106-b527-8a061b0ced95\",\"subtype\":\"Figure\",\"type\":\"Plot\"},\"ticker\":{\"id\":\"ac13dfdb-f102-4905-ab04-a3dc68d69707\",\"type\":\"BasicTicker\"}},\"id\":\"e1813c7b-60de-41f8-bf37-6b2c53878ad3\",\"type\":\"Grid\"},{\"attributes\":{\"child\":{\"id\":\"1b6d535d-f08c-471e-8b78-9925e7dcf0da\",\"subtype\":\"Figure\",\"type\":\"Plot\"},\"title\":\"exclusivity\"},\"id\":\"cee99889-6688-4f24-a600-0a4802a6c682\",\"type\":\"Panel\"},{\"attributes\":{\"callback\":null,\"column_names\":[\"x\",\"y\",\"top_three\"],\"data\":{\"top_three\":[\"nn vb jj\",\"nn jj rb\",\"nn jj af\",\"nn jj nns\",\"tl nn np\",\"nn np jj\",\"nn np jj\",\"nn vb rb\",\"nn np jj\",\"nn jj cc\",\"vacuumed solved hurry\",\"nn jj tl\",\"nn jj nns\",\"nn np tl\",\"nn np tl\",\"nn vb jj\",\"nn jj rb\",\"nn jj af\",\"nn jj nns\",\"tl nn np\",\"nn np jj\",\"nn np jj\",\"nn vb rb\",\"nn np jj\",\"nn jj cc\",\"vacuumed solved hurry\",\"nn jj tl\",\"nn jj nns\",\"nn np tl\",\"nn np tl\",\"nn vb jj\",\"nn jj rb\",\"nn jj af\",\"nn jj nns\",\"tl nn np\",\"nn np jj\",\"nn np jj\",\"nn vb rb\",\"nn np jj\",\"nn jj cc\",\"vacuumed solved hurry\",\"nn jj tl\",\"nn jj nns\",\"nn np tl\",\"nn np tl\",\"nn vb jj\",\"nn jj rb\",\"nn jj nns\",\"nn jj nns\",\"tl nn np\",\"nn np jj\",\"nn np jj\",\"nn vb rb\",\"nn np jj\",\"nn jj cc\",\"vacuumed solved hurry\",\"nn jj tl\",\"nn jj nns\",\"nn np tl\",\"nn np tl\",\"nn vb jj\",\"nn jj rb\",\"nn jj nns\",\"nn jj nns\",\"tl nn np\",\"nn np jj\",\"nn np jj\",\"nn vb rb\",\"nn np jj\",\"nn jj cc\",\"vacuumed solved hurry\",\"nn jj tl\",\"nn jj nns\",\"nn np tl\",\"nn np tl\",\"nn vb jj\",\"nn jj rb\",\"nn jj nns\",\"nn jj nns\",\"tl nn np\",\"nn np jj\",\"nn np jj\",\"nn vb rb\",\"nn np jj\",\"nn jj cc\",\"vacuumed solved hurry\",\"nn jj tl\",\"nn jj nns\",\"nn np tl\",\"nn np tl\",\"nn vb jj\",\"nn jj rb\",\"nn jj nns\",\"nn jj nns\",\"tl nn np\",\"nn np jj\",\"nn np jj\",\"nn vb rb\",\"nn np jj\",\"nn jj cc\",\"vacuumed solved hurry\",\"nn jj tl\",\"nn jj nns\",\"nn np tl\",\"nn np tl\",\"nn vb jj\",\"nn jj rb\",\"nn jj artery\",\"nn jj nns\",\"tl nn np\",\"nn jj np\",\"nn np jj\",\"nn vb rb\",\"nn np jj\",\"nn jj cc\",\"nn tl hl\",\"nn jj tl\",\"nn jj nns\",\"nn np vbd\",\"nn np jj\",\"nn vb jj\",\"nn jj rb\",\"nn jj nns\",\"nn jj nns\",\"tl nn np\",\"nn jj np\",\"nn np jj\",\"nn vb rb\",\"np nn tl\",\"nn jj cc\",\"nn tl did\",\"nn jj tl\",\"nn jj nns\",\"nn vbd np\",\"np hanover nn\",\"nn doing does\",\"nn did don\",\"nn did doing\",\"nn jj don\",\"tl does doing\",\"nn did does\",\"nn did does\",\"nn theirs doing\",\"nn just did\",\"nn doing does\",\"nn did don\",\"nn doing did\",\"nn did don\",\"nn doing theirs\",\"np nn hanover\"],\"x\":[0.0,0.0,0.0,0.0,0.0,0.0,0.0,0.0,0.0,0.0,0.0,0.0,0.0,0.0,0.0,0.1,0.1,0.1,0.1,0.1,0.1,0.1,0.1,0.1,0.1,0.1,0.1,0.1,0.1,0.1,0.2,0.2,0.2,0.2,0.2,0.2,0.2,0.2,0.2,0.2,0.2,0.2,0.2,0.2,0.2,0.30000000000000004,0.30000000000000004,0.30000000000000004,0.30000000000000004,0.30000000000000004,0.30000000000000004,0.30000000000000004,0.30000000000000004,0.30000000000000004,0.30000000000000004,0.30000000000000004,0.30000000000000004,0.30000000000000004,0.30000000000000004,0.30000000000000004,0.4,0.4,0.4,0.4,0.4,0.4,0.4,0.4,0.4,0.4,0.4,0.4,0.4,0.4,0.4,0.5,0.5,0.5,0.5,0.5,0.5,0.5,0.5,0.5,0.5,0.5,0.5,0.5,0.5,0.5,0.6000000000000001,0.6000000000000001,0.6000000000000001,0.6000000000000001,0.6000000000000001,0.6000000000000001,0.6000000000000001,0.6000000000000001,0.6000000000000001,0.6000000000000001,0.6000000000000001,0.6000000000000001,0.6000000000000001,0.6000000000000001,0.6000000000000001,0.7000000000000001,0.7000000000000001,0.7000000000000001,0.7000000000000001,0.7000000000000001,0.7000000000000001,0.7000000000000001,0.7000000000000001,0.7000000000000001,0.7000000000000001,0.7000000000000001,0.7000000000000001,0.7000000000000001,0.7000000000000001,0.7000000000000001,0.8,0.8,0.8,0.8,0.8,0.8,0.8,0.8,0.8,0.8,0.8,0.8,0.8,0.8,0.8,0.9,0.9,0.9,0.9,0.9,0.9,0.9,0.9,0.9,0.9,0.9,0.9,0.9,0.9,0.9],\"y\":[0.2707118888681002,0.3199753952017826,0.618197335294807,0.5875102393252922,0.31604814631820854,0.5649244022866399,0.28863625608042764,0.3000021979777966,0.3276887936916374,0.32521517579867487,0.3257401044672016,0.31251377510036893,0.2232340686664876,0.584299399272083,0.28430355302671295,0.27132898331654126,0.32055194928627817,0.6158040367282188,0.5858114506655236,0.31700270994885626,0.5568831500061228,0.2895956210428951,0.2998217655185188,0.33308849638343835,0.32574773042687816,0.32640118500137844,0.3116324272536986,0.22362521810158337,0.5831981094530231,0.2874938616077515,0.2717512208191619,0.3215467238109929,0.6113127491458685,0.5843270021183566,0.31809979352801215,0.5520676365905509,0.2904951503543424,0.2996842302357597,0.33925982329958126,0.32646615114421096,0.3273079858641969,0.3105061203280383,0.22422662242327213,0.5819016471107779,0.2915845972783654,0.27173129875216545,0.3220130219900891,0.5900895423656901,0.5801575065261405,0.3194767565422082,0.542502264432032,0.2909097784983346,0.2985955160531816,0.34493299709511355,0.3269436791906194,0.3278802859088247,0.3087681761590942,0.2235698305229721,0.5780654145147671,0.2949718429302257,0.27193097975546715,0.3227606849595708,0.5759345082826371,0.5768004319437297,0.3208586838957889,0.5317873321573595,0.29231429489798505,0.2977211788576785,0.3570060430551311,0.3277324048888168,0.3289640336154489,0.30476579598340475,0.22438567136221907,0.5761262345107043,0.30061212037704205,0.27138709684075824,0.32381255880333965,0.5674505029883202,0.5739711111983451,0.322958495020705,0.5127814666718671,0.2941664350613741,0.29561218804296696,0.3704596170039466,0.3279857800001015,0.32958985561613835,0.29911124817822726,0.22519882314196746,0.5724932244516261,0.3096149622363147,0.2712379727179981,0.3241791070054175,0.5544222460547894,0.5686061021441641,0.32375219017194684,0.4750766815184504,0.29538221966198375,0.2902605073607315,0.3882261942063625,0.3267706301554027,0.3294936311270381,0.2875993203989612,0.22668512655606915,0.5683609225224497,0.3230437445589403,0.27342822722194204,0.3267880294128263,0.5491545463279888,0.5644321681589299,0.3280448923689619,0.42953094846384093,0.29962341617212895,0.28717320415135567,0.43917817273847665,0.3274326963764377,0.3317838217631734,0.2695194578865231,0.22906227916961763,0.5689049381787648,0.34538674891029875,0.29512288999216596,0.34386870876988457,0.4391708436999911,0.5907304571096199,0.3451415427695618,0.4073595238606831,0.32284075566375053,0.29582917833280914,0.6806121691124875,0.33738508492853736,0.3462680107768173,0.2533380175624768,0.25859723002697527,0.5910231612085762,0.5714072566042823,0.27651710126958207,0.32944794917945885,0.22031931914291272,0.5306514071220529,0.3312873700516294,0.22969359968489214,0.3172256233799891,0.24214000368576682,0.5404028719958768,0.28302268988130036,0.3074626890929228,0.2397333597002454,0.2505280689596225,0.5271494180200277,0.5174258028516746]}},\"id\":\"b3f56b97-6aad-4017-8dd0-20fec3cb3dde\",\"type\":\"ColumnDataSource\"},{\"attributes\":{\"plot\":{\"id\":\"1b6d535d-f08c-471e-8b78-9925e7dcf0da\",\"subtype\":\"Figure\",\"type\":\"Plot\"},\"ticker\":{\"id\":\"1459b0f6-32d7-46db-985b-aa932c96e4bc\",\"type\":\"BasicTicker\"}},\"id\":\"44ddfd79-2ad6-479c-a7c2-b26d0d24a9af\",\"type\":\"Grid\"},{\"attributes\":{\"bottom_units\":\"screen\",\"fill_alpha\":{\"value\":0.5},\"fill_color\":{\"value\":\"lightgrey\"},\"left_units\":\"screen\",\"level\":\"overlay\",\"line_alpha\":{\"value\":1.0},\"line_color\":{\"value\":\"black\"},\"line_dash\":[4,4],\"line_width\":{\"value\":2},\"plot\":null,\"render_mode\":\"css\",\"right_units\":\"screen\",\"top_units\":\"screen\"},\"id\":\"9a39be13-7af9-453c-bffd-15096b5b2579\",\"type\":\"BoxAnnotation\"},{\"attributes\":{},\"id\":\"b1cd0c55-622f-4e87-b9d2-5f802661c04e\",\"type\":\"LinearScale\"},{\"attributes\":{\"bottom_units\":\"screen\",\"fill_alpha\":{\"value\":0.5},\"fill_color\":{\"value\":\"lightgrey\"},\"left_units\":\"screen\",\"level\":\"overlay\",\"line_alpha\":{\"value\":1.0},\"line_color\":{\"value\":\"black\"},\"line_dash\":[4,4],\"line_width\":{\"value\":2},\"plot\":null,\"render_mode\":\"css\",\"right_units\":\"screen\",\"top_units\":\"screen\"},\"id\":\"8e8f0a56-3ca6-47da-8b76-372b18c8b885\",\"type\":\"BoxAnnotation\"},{\"attributes\":{\"callback\":null},\"id\":\"99ee2b70-56e5-4b29-9f25-ec6f3446f14d\",\"type\":\"DataRange1d\"},{\"attributes\":{},\"id\":\"6a5645be-f3af-4f68-829a-cb7ea3ab2fa6\",\"type\":\"ResetTool\"},{\"attributes\":{},\"id\":\"09f059ff-8936-4b9e-a8b8-ba19af458b1d\",\"type\":\"HelpTool\"},{\"attributes\":{\"active_drag\":\"auto\",\"active_inspect\":\"auto\",\"active_scroll\":\"auto\",\"active_tap\":\"auto\",\"tools\":[{\"id\":\"a3ece892-a7c9-4229-9826-ff8c61b8bfd5\",\"type\":\"PanTool\"},{\"id\":\"f00720d7-d3cb-44d6-a930-7dc6ea5b13b7\",\"type\":\"WheelZoomTool\"},{\"id\":\"63b7ae8e-40e1-4f1c-836e-422e27798d66\",\"type\":\"BoxZoomTool\"},{\"id\":\"f199c118-2109-46d5-b77e-71ef8635acfb\",\"type\":\"SaveTool\"},{\"id\":\"b31fa1cc-efd6-46ad-8100-7734ca7946b3\",\"type\":\"ResetTool\"},{\"id\":\"d668eea2-3bd7-4333-95e8-96b49469f0fd\",\"type\":\"HelpTool\"},{\"id\":\"3b7a370c-eba1-4ec2-91b9-6ad9bf68dd69\",\"type\":\"HoverTool\"}]},\"id\":\"4ad972a1-9bb0-4e2c-b348-7097b0c92293\",\"type\":\"Toolbar\"},{\"attributes\":{},\"id\":\"7f97b8f0-7932-4675-856c-6176fd12589c\",\"type\":\"BasicTickFormatter\"},{\"attributes\":{\"below\":[{\"id\":\"9e5a8f62-03e7-422b-81d7-21e3c40a7353\",\"type\":\"LinearAxis\"}],\"left\":[{\"id\":\"c9eedfa9-991e-4c4b-aeca-2f4ce5b5cdc0\",\"type\":\"LinearAxis\"}],\"plot_width\":800,\"renderers\":[{\"id\":\"9e5a8f62-03e7-422b-81d7-21e3c40a7353\",\"type\":\"LinearAxis\"},{\"id\":\"07080088-d0a3-4bd3-b9e7-2b0a4b661533\",\"type\":\"Grid\"},{\"id\":\"c9eedfa9-991e-4c4b-aeca-2f4ce5b5cdc0\",\"type\":\"LinearAxis\"},{\"id\":\"ba1cf88f-ebaa-44e7-b9bf-5f16de31414b\",\"type\":\"Grid\"},{\"id\":\"1fb2695f-53e4-4c4f-ab8e-c07e5a64808e\",\"type\":\"BoxAnnotation\"},{\"id\":\"46a79bd7-9e28-4c0f-b446-5f90578e768f\",\"type\":\"GlyphRenderer\"}],\"title\":{\"id\":\"3f3a8d7d-bf34-4e15-9451-548c240d4250\",\"type\":\"Title\"},\"toolbar\":{\"id\":\"87900a80-4842-4be4-afe7-43504b6fc25a\",\"type\":\"Toolbar\"},\"toolbar_location\":\"above\",\"x_range\":{\"id\":\"99ee2b70-56e5-4b29-9f25-ec6f3446f14d\",\"type\":\"DataRange1d\"},\"x_scale\":{\"id\":\"ed97ae23-72e3-4148-85cc-6925f2c1c172\",\"type\":\"LinearScale\"},\"y_range\":{\"id\":\"52e55578-71cc-4a58-99d2-e88afc90b850\",\"type\":\"DataRange1d\"},\"y_scale\":{\"id\":\"16f51a1d-bcd7-450f-a2e2-a418e1a8c9df\",\"type\":\"LinearScale\"}},\"id\":\"bf046416-3088-4be7-87e3-91e3021e765b\",\"subtype\":\"Figure\",\"type\":\"Plot\"},{\"attributes\":{},\"id\":\"781b2ded-5643-4100-ba6c-072c2e25f5a7\",\"type\":\"WheelZoomTool\"},{\"attributes\":{\"dimension\":1,\"plot\":{\"id\":\"3d9733b1-5830-4106-b527-8a061b0ced95\",\"subtype\":\"Figure\",\"type\":\"Plot\"},\"ticker\":{\"id\":\"f27b5bec-fda4-4e21-949e-995cf3ba09e9\",\"type\":\"BasicTicker\"}},\"id\":\"324bd3a5-b755-4793-aca2-12d255d8cac5\",\"type\":\"Grid\"},{\"attributes\":{},\"id\":\"dfe126e6-5947-48f4-ab45-2bfc2d07dc75\",\"type\":\"WheelZoomTool\"},{\"attributes\":{\"fill_alpha\":{\"value\":0.1},\"fill_color\":{\"value\":\"#1f77b4\"},\"line_alpha\":{\"value\":0.1},\"line_color\":{\"value\":\"#1f77b4\"},\"size\":{\"units\":\"screen\",\"value\":20},\"x\":{\"field\":\"x\"},\"y\":{\"field\":\"y\"}},\"id\":\"6b4476b4-3171-459a-bb5c-1cc0366717fa\",\"type\":\"Circle\"},{\"attributes\":{\"plot\":null,\"text\":\"brown\",\"text_font_size\":{\"value\":\"15pt\"}},\"id\":\"c17cdadd-cada-4141-93bd-05666a0c523a\",\"type\":\"Title\"},{\"attributes\":{\"fill_alpha\":{\"value\":0.1},\"fill_color\":{\"value\":\"#1f77b4\"},\"line_alpha\":{\"value\":0.1},\"line_color\":{\"value\":\"#1f77b4\"},\"size\":{\"units\":\"screen\",\"value\":20},\"x\":{\"field\":\"x\"},\"y\":{\"field\":\"y\"}},\"id\":\"856e1c19-fa15-4fdb-a112-a0f740bf88f1\",\"type\":\"Circle\"},{\"attributes\":{},\"id\":\"97d1dc0d-0f62-47c6-b53c-11ac1a0eab9a\",\"type\":\"BasicTicker\"},{\"attributes\":{},\"id\":\"0faef8ff-94fb-4b42-81fb-028223426b56\",\"type\":\"SaveTool\"},{\"attributes\":{\"fill_alpha\":{\"value\":0.5},\"fill_color\":{\"value\":\"black\"},\"line_alpha\":{\"value\":0.5},\"size\":{\"units\":\"screen\",\"value\":20},\"x\":{\"field\":\"x\"},\"y\":{\"field\":\"y\"}},\"id\":\"95518da4-94c3-450e-b7c3-7623e5108e82\",\"type\":\"Circle\"},{\"attributes\":{\"callback\":null},\"id\":\"85b0e431-da1a-45dd-859c-832f6b7e1b96\",\"type\":\"DataRange1d\"},{\"attributes\":{},\"id\":\"80fa8650-f575-47c3-9623-a8465ae0c02a\",\"type\":\"LinearScale\"},{\"attributes\":{},\"id\":\"9de85638-6662-4f9d-84b0-16d0fe1b8b38\",\"type\":\"ResetTool\"},{\"attributes\":{\"data_source\":{\"id\":\"ae9a02ff-899f-47d5-a908-ffd821cb8d5b\",\"type\":\"ColumnDataSource\"},\"glyph\":{\"id\":\"093c6d1a-6aa1-4b02-8de1-92ea346eab56\",\"type\":\"Circle\"},\"hover_glyph\":null,\"muted_glyph\":null,\"nonselection_glyph\":{\"id\":\"439d7225-9b50-485a-9eb2-e5d0b652dd13\",\"type\":\"Circle\"},\"selection_glyph\":null,\"view\":{\"id\":\"45b5f034-0ef4-4b1d-a5bd-30b5d39fb1e7\",\"type\":\"CDSView\"}},\"id\":\"8a9e9c4f-e6cb-4307-b726-aabbc7ed2009\",\"type\":\"GlyphRenderer\"},{\"attributes\":{\"child\":{\"id\":\"12b39297-5a79-4ef6-a9d8-c49caa5f9963\",\"subtype\":\"Figure\",\"type\":\"Plot\"},\"title\":\"avg_kld\"},\"id\":\"d0147106-fac3-454b-ab7d-a3dea7d24ab7\",\"type\":\"Panel\"},{\"attributes\":{},\"id\":\"38f9598b-167f-4f76-8245-7818bba823b7\",\"type\":\"LinearScale\"},{\"attributes\":{},\"id\":\"a3ece892-a7c9-4229-9826-ff8c61b8bfd5\",\"type\":\"PanTool\"},{\"attributes\":{\"overlay\":{\"id\":\"9a39be13-7af9-453c-bffd-15096b5b2579\",\"type\":\"BoxAnnotation\"}},\"id\":\"c2b9d93c-0130-419b-a2d6-95b9cb6ba088\",\"type\":\"BoxZoomTool\"},{\"attributes\":{\"source\":{\"id\":\"b4fe12dc-7102-45bf-8056-8e304a7bfaa8\",\"type\":\"ColumnDataSource\"}},\"id\":\"7ff9b8c7-8d2a-4cc6-833f-dc5df18bfff2\",\"type\":\"CDSView\"},{\"attributes\":{\"below\":[{\"id\":\"5208a54e-6649-4e4c-81eb-443987b6d124\",\"type\":\"LinearAxis\"}],\"left\":[{\"id\":\"f6145638-b394-449c-b48f-85c9baae9be3\",\"type\":\"LinearAxis\"}],\"plot_width\":800,\"renderers\":[{\"id\":\"5208a54e-6649-4e4c-81eb-443987b6d124\",\"type\":\"LinearAxis\"},{\"id\":\"44ddfd79-2ad6-479c-a7c2-b26d0d24a9af\",\"type\":\"Grid\"},{\"id\":\"f6145638-b394-449c-b48f-85c9baae9be3\",\"type\":\"LinearAxis\"},{\"id\":\"5355149d-9050-41d3-b15c-ffd7df5c485e\",\"type\":\"Grid\"},{\"id\":\"4fba6f10-50b0-4fff-adb9-28a74c4c95bd\",\"type\":\"BoxAnnotation\"},{\"id\":\"e1e7c97e-fed9-4054-b668-833e59c3268b\",\"type\":\"GlyphRenderer\"}],\"title\":{\"id\":\"e4c800a1-bbe4-48c7-abce-492cd6ad2b7f\",\"type\":\"Title\"},\"toolbar\":{\"id\":\"27c347c3-3308-41ea-8184-a87c8db9cdb3\",\"type\":\"Toolbar\"},\"toolbar_location\":\"above\",\"x_range\":{\"id\":\"85b0e431-da1a-45dd-859c-832f6b7e1b96\",\"type\":\"DataRange1d\"},\"x_scale\":{\"id\":\"e5e19f8c-01ae-4717-bac5-629e9fc8890a\",\"type\":\"LinearScale\"},\"y_range\":{\"id\":\"a8a4fd4e-d254-42d0-8f19-f54e41680cde\",\"type\":\"DataRange1d\"},\"y_scale\":{\"id\":\"d9c1213f-cd5a-471f-a295-a97d8e90d13a\",\"type\":\"LinearScale\"}},\"id\":\"1b6d535d-f08c-471e-8b78-9925e7dcf0da\",\"subtype\":\"Figure\",\"type\":\"Plot\"},{\"attributes\":{},\"id\":\"f13dcb17-d2c0-46e7-9ab2-04eccf4a161c\",\"type\":\"BasicTickFormatter\"},{\"attributes\":{\"plot\":{\"id\":\"be29ca39-7dcb-4d0b-a21b-9fb36686f929\",\"subtype\":\"Figure\",\"type\":\"Plot\"},\"ticker\":{\"id\":\"7094edfb-1b82-4174-b851-a58321b2b362\",\"type\":\"BasicTicker\"}},\"id\":\"f02eba8f-87d8-4d2a-bff9-df5846ecb2a4\",\"type\":\"Grid\"},{\"attributes\":{\"dimension\":1,\"plot\":{\"id\":\"75fe2286-436f-4731-b1dc-f710a0b218b5\",\"subtype\":\"Figure\",\"type\":\"Plot\"},\"ticker\":{\"id\":\"97d1dc0d-0f62-47c6-b53c-11ac1a0eab9a\",\"type\":\"BasicTicker\"}},\"id\":\"4aaba9c6-142f-41fc-ab10-ace0b4860401\",\"type\":\"Grid\"},{\"attributes\":{\"fill_alpha\":{\"value\":0.1},\"fill_color\":{\"value\":\"#1f77b4\"},\"line_alpha\":{\"value\":0.1},\"line_color\":{\"value\":\"#1f77b4\"},\"size\":{\"units\":\"screen\",\"value\":20},\"x\":{\"field\":\"x\"},\"y\":{\"field\":\"y\"}},\"id\":\"b7a0ee55-7f90-445b-9a4c-e7608ada4cf9\",\"type\":\"Circle\"},{\"attributes\":{\"source\":{\"id\":\"763d1a76-bf09-4ec0-81c7-5ea8e58e6175\",\"type\":\"ColumnDataSource\"}},\"id\":\"da7eb9b2-99d3-4a09-ad3e-7a2c0a1eae9b\",\"type\":\"CDSView\"},{\"attributes\":{\"fill_alpha\":{\"value\":0.5},\"fill_color\":{\"value\":\"black\"},\"line_alpha\":{\"value\":0.5},\"size\":{\"units\":\"screen\",\"value\":20},\"x\":{\"field\":\"x\"},\"y\":{\"field\":\"y\"}},\"id\":\"12060e69-87a0-47b0-ba07-0b1f4c1c24ac\",\"type\":\"Circle\"},{\"attributes\":{\"callback\":null},\"id\":\"505a64a2-f0ed-4f72-8630-3ef99533f187\",\"type\":\"DataRange1d\"},{\"attributes\":{\"child\":{\"id\":\"bf046416-3088-4be7-87e3-91e3021e765b\",\"subtype\":\"Figure\",\"type\":\"Plot\"},\"title\":\"rank1\"},\"id\":\"21204d96-f836-4d08-ab94-a17d1c18037d\",\"type\":\"Panel\"},{\"attributes\":{\"fill_alpha\":{\"value\":0.1},\"fill_color\":{\"value\":\"#1f77b4\"},\"line_alpha\":{\"value\":0.1},\"line_color\":{\"value\":\"#1f77b4\"},\"size\":{\"units\":\"screen\",\"value\":20},\"x\":{\"field\":\"x\"},\"y\":{\"field\":\"y\"}},\"id\":\"a59043ef-b89d-4902-b282-585f831de345\",\"type\":\"Circle\"},{\"attributes\":{\"plot\":{\"id\":\"bf046416-3088-4be7-87e3-91e3021e765b\",\"subtype\":\"Figure\",\"type\":\"Plot\"},\"ticker\":{\"id\":\"e1953012-c846-4f20-8fbb-fc52e2638dea\",\"type\":\"BasicTicker\"}},\"id\":\"07080088-d0a3-4bd3-b9e7-2b0a4b661533\",\"type\":\"Grid\"},{\"attributes\":{\"bottom_units\":\"screen\",\"fill_alpha\":{\"value\":0.5},\"fill_color\":{\"value\":\"lightgrey\"},\"left_units\":\"screen\",\"level\":\"overlay\",\"line_alpha\":{\"value\":1.0},\"line_color\":{\"value\":\"black\"},\"line_dash\":[4,4],\"line_width\":{\"value\":2},\"plot\":null,\"render_mode\":\"css\",\"right_units\":\"screen\",\"top_units\":\"screen\"},\"id\":\"2fb84223-9036-4005-ab77-65d82ec38490\",\"type\":\"BoxAnnotation\"},{\"attributes\":{},\"id\":\"8bc10f40-61db-49cf-826b-a207440b5096\",\"type\":\"LinearScale\"},{\"attributes\":{\"callback\":null,\"column_names\":[\"x\",\"y\",\"top_three\"],\"data\":{\"top_three\":[\"nn vb jj\",\"nn jj rb\",\"nn jj af\",\"nn jj nns\",\"tl nn np\",\"nn np jj\",\"nn np jj\",\"nn vb rb\",\"nn np jj\",\"nn jj cc\",\"vacuumed solved hurry\",\"nn jj tl\",\"nn jj nns\",\"nn np tl\",\"nn np tl\",\"nn vb jj\",\"nn jj rb\",\"nn jj af\",\"nn jj nns\",\"tl nn np\",\"nn np jj\",\"nn np jj\",\"nn vb rb\",\"nn np jj\",\"nn jj cc\",\"vacuumed solved hurry\",\"nn jj tl\",\"nn jj nns\",\"nn np tl\",\"nn np tl\",\"nn vb jj\",\"nn jj rb\",\"nn jj af\",\"nn jj nns\",\"tl nn np\",\"nn np jj\",\"nn np jj\",\"nn vb rb\",\"nn np jj\",\"nn jj cc\",\"vacuumed solved hurry\",\"nn jj tl\",\"nn jj nns\",\"nn np tl\",\"nn np tl\",\"nn vb jj\",\"nn jj rb\",\"nn jj nns\",\"nn jj nns\",\"tl nn np\",\"nn np jj\",\"nn np jj\",\"nn vb rb\",\"nn np jj\",\"nn jj cc\",\"vacuumed solved hurry\",\"nn jj tl\",\"nn jj nns\",\"nn np tl\",\"nn np tl\",\"nn vb jj\",\"nn jj rb\",\"nn jj nns\",\"nn jj nns\",\"tl nn np\",\"nn np jj\",\"nn np jj\",\"nn vb rb\",\"nn np jj\",\"nn jj cc\",\"vacuumed solved hurry\",\"nn jj tl\",\"nn jj nns\",\"nn np tl\",\"nn np tl\",\"nn vb jj\",\"nn jj rb\",\"nn jj nns\",\"nn jj nns\",\"tl nn np\",\"nn np jj\",\"nn np jj\",\"nn vb rb\",\"nn np jj\",\"nn jj cc\",\"vacuumed solved hurry\",\"nn jj tl\",\"nn jj nns\",\"nn np tl\",\"nn np tl\",\"nn vb jj\",\"nn jj rb\",\"nn jj nns\",\"nn jj nns\",\"tl nn np\",\"nn np jj\",\"nn np jj\",\"nn vb rb\",\"nn np jj\",\"nn jj cc\",\"vacuumed solved hurry\",\"nn jj tl\",\"nn jj nns\",\"nn np tl\",\"nn np tl\",\"nn vb jj\",\"nn jj rb\",\"nn jj artery\",\"nn jj nns\",\"tl nn np\",\"nn jj np\",\"nn np jj\",\"nn vb rb\",\"nn np jj\",\"nn jj cc\",\"nn tl hl\",\"nn jj tl\",\"nn jj nns\",\"nn np vbd\",\"nn np jj\",\"nn vb jj\",\"nn jj rb\",\"nn jj nns\",\"nn jj nns\",\"tl nn np\",\"nn jj np\",\"nn np jj\",\"nn vb rb\",\"np nn tl\",\"nn jj cc\",\"nn tl did\",\"nn jj tl\",\"nn jj nns\",\"nn vbd np\",\"np hanover nn\",\"nn doing does\",\"nn did don\",\"nn did doing\",\"nn jj don\",\"tl does doing\",\"nn did does\",\"nn did does\",\"nn theirs doing\",\"nn just did\",\"nn doing does\",\"nn did don\",\"nn doing did\",\"nn did don\",\"nn doing theirs\",\"np nn hanover\"],\"x\":[0.0,0.0,0.0,0.0,0.0,0.0,0.0,0.0,0.0,0.0,0.0,0.0,0.0,0.0,0.0,0.1,0.1,0.1,0.1,0.1,0.1,0.1,0.1,0.1,0.1,0.1,0.1,0.1,0.1,0.1,0.2,0.2,0.2,0.2,0.2,0.2,0.2,0.2,0.2,0.2,0.2,0.2,0.2,0.2,0.2,0.30000000000000004,0.30000000000000004,0.30000000000000004,0.30000000000000004,0.30000000000000004,0.30000000000000004,0.30000000000000004,0.30000000000000004,0.30000000000000004,0.30000000000000004,0.30000000000000004,0.30000000000000004,0.30000000000000004,0.30000000000000004,0.30000000000000004,0.4,0.4,0.4,0.4,0.4,0.4,0.4,0.4,0.4,0.4,0.4,0.4,0.4,0.4,0.4,0.5,0.5,0.5,0.5,0.5,0.5,0.5,0.5,0.5,0.5,0.5,0.5,0.5,0.5,0.5,0.6000000000000001,0.6000000000000001,0.6000000000000001,0.6000000000000001,0.6000000000000001,0.6000000000000001,0.6000000000000001,0.6000000000000001,0.6000000000000001,0.6000000000000001,0.6000000000000001,0.6000000000000001,0.6000000000000001,0.6000000000000001,0.6000000000000001,0.7000000000000001,0.7000000000000001,0.7000000000000001,0.7000000000000001,0.7000000000000001,0.7000000000000001,0.7000000000000001,0.7000000000000001,0.7000000000000001,0.7000000000000001,0.7000000000000001,0.7000000000000001,0.7000000000000001,0.7000000000000001,0.7000000000000001,0.8,0.8,0.8,0.8,0.8,0.8,0.8,0.8,0.8,0.8,0.8,0.8,0.8,0.8,0.8,0.9,0.9,0.9,0.9,0.9,0.9,0.9,0.9,0.9,0.9,0.9,0.9,0.9,0.9,0.9],\"y\":[6694254.30330538,6716177.742986532,5772859.8146358505,674725.7749086757,6716850.606406283,5631039.415160641,6703398.372965774,6708279.135882235,6495354.908492912,6724692.482911998,6722942.983497506,6716630.362591412,6657123.883987833,4154542.6459164433,6537884.581127726,6694141.4269948,6716094.4070011005,5789097.820357973,673251.5148245437,6716969.531817634,5724947.835643365,6703432.417156476,6707798.901351555,6487741.026848266,6724556.076692173,6722926.416640968,6715753.911635232,6657182.941482785,4103468.4824269125,6533667.998686357,6693801.469330687,6716123.539532505,5819839.189208517,674854.0301297411,6717031.346823737,5763074.172901856,6703358.890077063,6707193.458251289,6479228.510918038,6724355.5560644455,6722904.0420169365,6714624.35136908,6657452.827624765,4036569.3068101536,6528660.7256369945,6693736.713790895,6716051.021110019,5881945.937239085,671263.9657850752,6717464.109759258,5858915.817754488,6703322.237885187,6706405.3722431185,6467925.322773724,6724273.081868486,6722909.267513621,6713392.679325533,6657740.749837492,3944209.117720431,6522013.471079625,6693517.19575349,6715784.693425965,5930181.863906827,669514.716484416,6717573.663804139,5924638.037354178,6703444.923415679,6705430.866958536,6449414.2373440545,6723970.62300806,6722859.452610929,6710781.108754969,6658903.573538939,3860229.731256823,6513964.064830101,6693048.081340083,6716002.214787395,6018249.310451447,685057.1592746106,6718381.138934002,6046961.940741583,6704012.526460903,6704148.213832541,6427507.329086486,6723559.052683819,6722772.168986301,6707623.195560202,6660215.986682948,3688177.768351051,6502594.850109117,6693465.765164114,6716304.066337325,6137207.643139814,758361.3868196415,6718846.37864795,6174906.646588244,6704806.853611207,6701956.2604159685,6392676.68717887,6722597.028753063,6722710.4145040605,6702094.748407345,6663445.501493195,3275608.4451698577,6484818.882624049,6694073.870661548,6716286.818323664,6246997.786162522,898547.5593741509,6719842.931783216,6314935.149780619,6705810.621535945,6699941.334157716,6296820.917925774,6721167.424465337,6722282.828355021,6692144.119927505,6665204.606382331,2733121.5998537517,6459047.041830726,6696485.76585625,6716933.81795292,6412575.059992289,1498471.3397326553,6720694.081198185,6419020.853989022,6709100.27562862,6695794.653215482,5818343.60928272,6717475.559997308,6720929.173233278,6670739.354147624,6674234.757714498,2059995.492985718,6328168.165791943,6703869.842038194,6719043.416162375,6609210.548515137,4534139.427569191,6722948.21283117,6595860.4766497575,6716063.87271855,6690945.107492676,2669953.2029169523,6706790.333826149,6712198.111479858,6590882.717618758,6693801.810811139,1220320.6414719175,6272801.82961308]}},\"id\":\"ae9a02ff-899f-47d5-a908-ffd821cb8d5b\",\"type\":\"ColumnDataSource\"},{\"attributes\":{},\"id\":\"7e41d995-4224-43a3-b4ed-45f43dcbb85a\",\"type\":\"LinearScale\"},{\"attributes\":{},\"id\":\"7158e530-f912-4c06-9014-f0221040f8c7\",\"type\":\"BasicTicker\"},{\"attributes\":{},\"id\":\"1459b0f6-32d7-46db-985b-aa932c96e4bc\",\"type\":\"BasicTicker\"},{\"attributes\":{\"bottom_units\":\"screen\",\"fill_alpha\":{\"value\":0.5},\"fill_color\":{\"value\":\"lightgrey\"},\"left_units\":\"screen\",\"level\":\"overlay\",\"line_alpha\":{\"value\":1.0},\"line_color\":{\"value\":\"black\"},\"line_dash\":[4,4],\"line_width\":{\"value\":2},\"plot\":null,\"render_mode\":\"css\",\"right_units\":\"screen\",\"top_units\":\"screen\"},\"id\":\"4fba6f10-50b0-4fff-adb9-28a74c4c95bd\",\"type\":\"BoxAnnotation\"},{\"attributes\":{},\"id\":\"365e6173-8611-49af-afd8-17eaf6d9425e\",\"type\":\"LinearScale\"},{\"attributes\":{\"dimension\":1,\"plot\":{\"id\":\"bf046416-3088-4be7-87e3-91e3021e765b\",\"subtype\":\"Figure\",\"type\":\"Plot\"},\"ticker\":{\"id\":\"7158e530-f912-4c06-9014-f0221040f8c7\",\"type\":\"BasicTicker\"}},\"id\":\"ba1cf88f-ebaa-44e7-b9bf-5f16de31414b\",\"type\":\"Grid\"}],\"root_ids\":[\"11301eaa-f9dd-4f31-adc8-c8b2dc677297\"]},\"title\":\"Bokeh Application\",\"version\":\"0.12.7\"}};\n",
       "            var render_items = [{\"docid\":\"6b9a7992-ba36-444b-a667-90dd1a00533e\",\"elementid\":\"76623887-4dc6-46f8-afc0-0f11731aace1\",\"modelid\":\"11301eaa-f9dd-4f31-adc8-c8b2dc677297\",\"notebook_comms_target\":\"e31b9fa0-5384-413a-8ebb-eecbb813b140\"}];\n",
       "            \n",
       "            Bokeh.embed.embed_items(docs_json, render_items);\n",
       "          };\n",
       "          if (document.readyState != \"loading\") fn();\n",
       "          else document.addEventListener(\"DOMContentLoaded\", fn);\n",
       "        })();\n",
       "      },\n",
       "      function(Bokeh) {\n",
       "      }\n",
       "    ];\n",
       "  \n",
       "    function run_inline_js() {\n",
       "      \n",
       "      if ((root.Bokeh !== undefined) || (force === true)) {\n",
       "        for (var i = 0; i < inline_js.length; i++) {\n",
       "          inline_js[i].call(root, root.Bokeh);\n",
       "        }if (force === true) {\n",
       "          display_loaded();\n",
       "        }} else if (Date.now() < root._bokeh_timeout) {\n",
       "        setTimeout(run_inline_js, 100);\n",
       "      } else if (!root._bokeh_failed_load) {\n",
       "        console.log(\"Bokeh: BokehJS failed to load within specified timeout.\");\n",
       "        root._bokeh_failed_load = true;\n",
       "      } else if (force !== true) {\n",
       "        var cell = $(document.getElementById(\"76623887-4dc6-46f8-afc0-0f11731aace1\")).parents('.cell').data().cell;\n",
       "        cell.output_area.append_execute_result(NB_LOAD_WARNING)\n",
       "      }\n",
       "  \n",
       "    }\n",
       "  \n",
       "    if (root._bokeh_is_loading === 0) {\n",
       "      console.log(\"Bokeh: BokehJS loaded, going straight to plotting\");\n",
       "      run_inline_js();\n",
       "    } else {\n",
       "      load_libs(js_urls, function() {\n",
       "        console.log(\"Bokeh: BokehJS plotting callback run at\", now());\n",
       "        run_inline_js();\n",
       "      });\n",
       "    }\n",
       "  }(window));\n",
       "</script>"
      ]
     },
     "metadata": {},
     "output_type": "display_data"
    }
   ],
   "source": [
    "tabs = Tabs(tabs=get_tabs(sw_pres_metrics,\"Stopword Presence (%)\"))\n",
    "show(tabs,notebook_handle=True)"
   ]
  },
  {
   "cell_type": "markdown",
   "metadata": {},
   "source": [
    "### Discussion\n",
    "\n",
    "Average cosine distance between topics decreases.\n",
    "\n",
    "Average KL-divergence between topics also decreases.\n",
    "\n",
    "Only effective size of poor topics is affected.\n",
    "\n",
    "Exclusivity is largely unaffected.\n",
    "\n",
    "Only rank1 of poor topics is affected."
   ]
  },
  {
   "cell_type": "code",
   "execution_count": 155,
   "metadata": {},
   "outputs": [
    {
     "data": {
      "text/plain": [
       "True"
      ]
     },
     "execution_count": 155,
     "metadata": {},
     "output_type": "execute_result"
    }
   ],
   "source": [
    "# RUN THIS CELL TO SAVE YOUR WORK\n",
    "util.dump_pickle(sw_pres_metrics,CORPUS_NAME+\"_sw_pres_metrics.pickle\")"
   ]
  },
  {
   "cell_type": "code",
   "execution_count": 11,
   "metadata": {
    "collapsed": true
   },
   "outputs": [],
   "source": [
    "# RUN THIS CELL TO LOAD PLOT DATA FROM PICKLEJAR\n",
    "sw_pres_metrics = util.load_pickle(CORPUS_NAME+\"_sw_pres_metrics.pickle\")"
   ]
  },
  {
   "cell_type": "markdown",
   "metadata": {},
   "source": [
    "## Corpus Specific Stopwords\n",
    "\n",
    "The phenomenon being observed in the results of the above stopword experiments is that of \"corpus-specific stopwords.\" Though not often referenced in related work, they play a critical role in determining the quality of topics generated by a model. It may be easy enough to disregard the two topics acting strange. However, their top words often appear as top words in other topics which in turn also affects \n",
    "\n",
    "We wish to explore the effect on topic quality of removing corpus specific stopwords. Although there are many popular sources for stoplists available (Gensim, NLTK, SKlearn, etc.), these are often not enough. There is a fine line between removing too many and not enough stopwords.\n",
    "\n",
    "- Which algorithms are affected by stopword removal? (Which are not?)\n",
    "- What stoplists are available?\n",
    "\n",
    "TODO: Investigate the research question, what is the effect of fitting once, and then treating the highest scoring rank1 topic as a "
   ]
  },
  {
   "cell_type": "code",
   "execution_count": null,
   "metadata": {
    "collapsed": true
   },
   "outputs": [],
   "source": []
  },
  {
   "cell_type": "markdown",
   "metadata": {},
   "source": [
    "# Future Work / Questions\n",
    "\n",
    "- Should each document be fixed length?\n",
    "- More control of other variables?\n",
    "- Stopwords specific to the corpus.\n",
    "- Get timing stats"
   ]
  },
  {
   "cell_type": "code",
   "execution_count": null,
   "metadata": {
    "collapsed": true
   },
   "outputs": [],
   "source": []
  }
 ],
 "metadata": {
  "kernelspec": {
   "display_name": "Python 3",
   "language": "python",
   "name": "python3"
  },
  "language_info": {
   "codemirror_mode": {
    "name": "ipython",
    "version": 3
   },
   "file_extension": ".py",
   "mimetype": "text/x-python",
   "name": "python",
   "nbconvert_exporter": "python",
   "pygments_lexer": "ipython3",
   "version": "3.5.1"
  }
 },
 "nbformat": 4,
 "nbformat_minor": 2
}

{
 "cells": [
  {
   "cell_type": "markdown",
   "metadata": {},
   "source": [
    "# Signal Thresholds\n",
    "\n",
    "The steps for establishing a threshold are as follows:\n",
    "\n",
    "1. Select two topics\n",
    "2. Modify the alpha between them\n",
    "3. Measure the distance between \n",
    "3. Generate documents/topics from modified topics"
   ]
  },
  {
   "cell_type": "code",
   "execution_count": 1,
   "metadata": {},
   "outputs": [],
   "source": [
    "%load_ext autoreload\n",
    "%autoreload 2"
   ]
  },
  {
   "cell_type": "code",
   "execution_count": 32,
   "metadata": {},
   "outputs": [
    {
     "data": {
      "text/html": [
       "\n",
       "    <div class=\"bk-root\">\n",
       "        <a href=\"https://bokeh.pydata.org\" target=\"_blank\" class=\"bk-logo bk-logo-small bk-logo-notebook\"></a>\n",
       "        <span id=\"d1f511c8-713f-4c6b-a65c-58e94a4d8f39\">Loading BokehJS ...</span>\n",
       "    </div>"
      ]
     },
     "metadata": {},
     "output_type": "display_data"
    },
    {
     "data": {
      "application/javascript": [
       "\n",
       "(function(root) {\n",
       "  function now() {\n",
       "    return new Date();\n",
       "  }\n",
       "\n",
       "  var force = true;\n",
       "\n",
       "  if (typeof (root._bokeh_onload_callbacks) === \"undefined\" || force === true) {\n",
       "    root._bokeh_onload_callbacks = [];\n",
       "    root._bokeh_is_loading = undefined;\n",
       "  }\n",
       "\n",
       "\n",
       "  \n",
       "  if (typeof (root._bokeh_timeout) === \"undefined\" || force === true) {\n",
       "    root._bokeh_timeout = Date.now() + 5000;\n",
       "    root._bokeh_failed_load = false;\n",
       "  }\n",
       "\n",
       "  var NB_LOAD_WARNING = {'data': {'text/html':\n",
       "     \"<div style='background-color: #fdd'>\\n\"+\n",
       "     \"<p>\\n\"+\n",
       "     \"BokehJS does not appear to have successfully loaded. If loading BokehJS from CDN, this \\n\"+\n",
       "     \"may be due to a slow or bad network connection. Possible fixes:\\n\"+\n",
       "     \"</p>\\n\"+\n",
       "     \"<ul>\\n\"+\n",
       "     \"<li>re-rerun `output_notebook()` to attempt to load from CDN again, or</li>\\n\"+\n",
       "     \"<li>use INLINE resources instead, as so:</li>\\n\"+\n",
       "     \"</ul>\\n\"+\n",
       "     \"<code>\\n\"+\n",
       "     \"from bokeh.resources import INLINE\\n\"+\n",
       "     \"output_notebook(resources=INLINE)\\n\"+\n",
       "     \"</code>\\n\"+\n",
       "     \"</div>\"}};\n",
       "\n",
       "  function display_loaded() {\n",
       "    if (root.Bokeh !== undefined) {\n",
       "      var el = document.getElementById(\"d1f511c8-713f-4c6b-a65c-58e94a4d8f39\");\n",
       "      if (el != null) {\n",
       "        el.textContent = \"BokehJS \" + Bokeh.version + \" successfully loaded.\";\n",
       "      }\n",
       "    } else if (Date.now() < root._bokeh_timeout) {\n",
       "      setTimeout(display_loaded, 100)\n",
       "    }\n",
       "  }\n",
       "\n",
       "\n",
       "  function run_callbacks() {\n",
       "    try {\n",
       "      root._bokeh_onload_callbacks.forEach(function(callback) { callback() });\n",
       "    }\n",
       "    finally {\n",
       "      delete root._bokeh_onload_callbacks\n",
       "    }\n",
       "    console.info(\"Bokeh: all callbacks have finished\");\n",
       "  }\n",
       "\n",
       "  function load_libs(js_urls, callback) {\n",
       "    root._bokeh_onload_callbacks.push(callback);\n",
       "    if (root._bokeh_is_loading > 0) {\n",
       "      console.log(\"Bokeh: BokehJS is being loaded, scheduling callback at\", now());\n",
       "      return null;\n",
       "    }\n",
       "    if (js_urls == null || js_urls.length === 0) {\n",
       "      run_callbacks();\n",
       "      return null;\n",
       "    }\n",
       "    console.log(\"Bokeh: BokehJS not loaded, scheduling load and callback at\", now());\n",
       "    root._bokeh_is_loading = js_urls.length;\n",
       "    for (var i = 0; i < js_urls.length; i++) {\n",
       "      var url = js_urls[i];\n",
       "      var s = document.createElement('script');\n",
       "      s.src = url;\n",
       "      s.async = false;\n",
       "      s.onreadystatechange = s.onload = function() {\n",
       "        root._bokeh_is_loading--;\n",
       "        if (root._bokeh_is_loading === 0) {\n",
       "          console.log(\"Bokeh: all BokehJS libraries loaded\");\n",
       "          run_callbacks()\n",
       "        }\n",
       "      };\n",
       "      s.onerror = function() {\n",
       "        console.warn(\"failed to load library \" + url);\n",
       "      };\n",
       "      console.log(\"Bokeh: injecting script tag for BokehJS library: \", url);\n",
       "      document.getElementsByTagName(\"head\")[0].appendChild(s);\n",
       "    }\n",
       "  };var element = document.getElementById(\"d1f511c8-713f-4c6b-a65c-58e94a4d8f39\");\n",
       "  if (element == null) {\n",
       "    console.log(\"Bokeh: ERROR: autoload.js configured with elementid 'd1f511c8-713f-4c6b-a65c-58e94a4d8f39' but no matching script tag was found. \")\n",
       "    return false;\n",
       "  }\n",
       "\n",
       "  var js_urls = [\"https://cdn.pydata.org/bokeh/release/bokeh-0.12.7.min.js\", \"https://cdn.pydata.org/bokeh/release/bokeh-widgets-0.12.7.min.js\", \"https://cdn.pydata.org/bokeh/release/bokeh-tables-0.12.7.min.js\", \"https://cdn.pydata.org/bokeh/release/bokeh-gl-0.12.7.min.js\"];\n",
       "\n",
       "  var inline_js = [\n",
       "    function(Bokeh) {\n",
       "      Bokeh.set_log_level(\"info\");\n",
       "    },\n",
       "    \n",
       "    function(Bokeh) {\n",
       "      \n",
       "    },\n",
       "    \n",
       "    function(Bokeh) {\n",
       "      \n",
       "      document.getElementById(\"d1f511c8-713f-4c6b-a65c-58e94a4d8f39\").textContent = \"BokehJS is loading...\";\n",
       "    },\n",
       "    function(Bokeh) {\n",
       "      console.log(\"Bokeh: injecting CSS: https://cdn.pydata.org/bokeh/release/bokeh-0.12.7.min.css\");\n",
       "      Bokeh.embed.inject_css(\"https://cdn.pydata.org/bokeh/release/bokeh-0.12.7.min.css\");\n",
       "      console.log(\"Bokeh: injecting CSS: https://cdn.pydata.org/bokeh/release/bokeh-widgets-0.12.7.min.css\");\n",
       "      Bokeh.embed.inject_css(\"https://cdn.pydata.org/bokeh/release/bokeh-widgets-0.12.7.min.css\");\n",
       "      console.log(\"Bokeh: injecting CSS: https://cdn.pydata.org/bokeh/release/bokeh-tables-0.12.7.min.css\");\n",
       "      Bokeh.embed.inject_css(\"https://cdn.pydata.org/bokeh/release/bokeh-tables-0.12.7.min.css\");\n",
       "    }\n",
       "  ];\n",
       "\n",
       "  function run_inline_js() {\n",
       "    \n",
       "    if ((root.Bokeh !== undefined) || (force === true)) {\n",
       "      for (var i = 0; i < inline_js.length; i++) {\n",
       "        inline_js[i].call(root, root.Bokeh);\n",
       "      }if (force === true) {\n",
       "        display_loaded();\n",
       "      }} else if (Date.now() < root._bokeh_timeout) {\n",
       "      setTimeout(run_inline_js, 100);\n",
       "    } else if (!root._bokeh_failed_load) {\n",
       "      console.log(\"Bokeh: BokehJS failed to load within specified timeout.\");\n",
       "      root._bokeh_failed_load = true;\n",
       "    } else if (force !== true) {\n",
       "      var cell = $(document.getElementById(\"d1f511c8-713f-4c6b-a65c-58e94a4d8f39\")).parents('.cell').data().cell;\n",
       "      cell.output_area.append_execute_result(NB_LOAD_WARNING)\n",
       "    }\n",
       "\n",
       "  }\n",
       "\n",
       "  if (root._bokeh_is_loading === 0) {\n",
       "    console.log(\"Bokeh: BokehJS loaded, going straight to plotting\");\n",
       "    run_inline_js();\n",
       "  } else {\n",
       "    load_libs(js_urls, function() {\n",
       "      console.log(\"Bokeh: BokehJS plotting callback run at\", now());\n",
       "      run_inline_js();\n",
       "    });\n",
       "  }\n",
       "}(window));"
      ]
     },
     "metadata": {},
     "output_type": "display_data"
    }
   ],
   "source": [
    "# UTILITIES\n",
    "import metrics,util\n",
    "import pandas as pd\n",
    "import numpy as np\n",
    "import fixed_model as fm\n",
    "from scipy.spatial.distance import cosine\n",
    "# CORPORA\n",
    "from nltk.corpus import brown\n",
    "# PLOTTING\n",
    "from bokeh.io import output_notebook, show\n",
    "from bokeh.plotting import figure\n",
    "from bokeh.models.widgets import Panel, Tabs\n",
    "from bokeh.models import (HoverTool,\n",
    "                          Legend,\n",
    "                          ColumnDataSource,\n",
    "                          LinearColorMapper,\n",
    "                          BasicTicker,\n",
    "                          PrintfTickFormatter,\n",
    "                          ColorBar)\n",
    "# INTERACTIONS\n",
    "from ipywidgets import (HBox,VBox,Dropdown,IntSlider,\n",
    "                        FloatSlider,Checkbox,Button,\n",
    "                        interact_manual,Output)\n",
    "output_notebook()"
   ]
  },
  {
   "cell_type": "markdown",
   "metadata": {},
   "source": [
    "# Select a Corpus\n",
    "\n",
    "Brown. It has pre-defined categories (15)."
   ]
  },
  {
   "cell_type": "code",
   "execution_count": 3,
   "metadata": {},
   "outputs": [
    {
     "data": {
      "text/plain": [
       "['adventure',\n",
       " 'belles_lettres',\n",
       " 'editorial',\n",
       " 'fiction',\n",
       " 'government',\n",
       " 'hobbies',\n",
       " 'humor',\n",
       " 'learned',\n",
       " 'lore',\n",
       " 'mystery',\n",
       " 'news',\n",
       " 'religion',\n",
       " 'reviews',\n",
       " 'romance',\n",
       " 'science_fiction']"
      ]
     },
     "execution_count": 3,
     "metadata": {},
     "output_type": "execute_result"
    }
   ],
   "source": [
    "brown.categories()"
   ]
  },
  {
   "cell_type": "code",
   "execution_count": 4,
   "metadata": {},
   "outputs": [
    {
     "data": {
      "text/plain": [
       "500"
      ]
     },
     "execution_count": 4,
     "metadata": {},
     "output_type": "execute_result"
    }
   ],
   "source": [
    "len(brown.fileids())"
   ]
  },
  {
   "cell_type": "code",
   "execution_count": null,
   "metadata": {},
   "outputs": [],
   "source": [
    "data_samples = [' '.join(brown.words(f)) for f in brown.fileids()]"
   ]
  },
  {
   "cell_type": "code",
   "execution_count": null,
   "metadata": {},
   "outputs": [],
   "source": [
    "util.dump_pickle(data_samples,'brown_data_samples')"
   ]
  },
  {
   "cell_type": "markdown",
   "metadata": {},
   "source": [
    "# Extract Topics from the Corpus\n",
    "\n",
    "We're using a fixed model, LDA to extract the topics."
   ]
  },
  {
   "cell_type": "code",
   "execution_count": 5,
   "metadata": {
    "collapsed": true
   },
   "outputs": [],
   "source": [
    "data_samples = util.load_pickle('brown_data_samples')"
   ]
  },
  {
   "cell_type": "code",
   "execution_count": 6,
   "metadata": {},
   "outputs": [],
   "source": [
    "model_components = fm.get_model(data_samples)"
   ]
  },
  {
   "cell_type": "markdown",
   "metadata": {},
   "source": [
    "# Choose Signal & Noise Topics\n",
    "\n",
    "Pick two topics from the ones extracted above. To help in the decision making, this interactive plot shows how each topic compares to the rest for the various metrics we have available. You can hover to see the top 5 words that represent each topic."
   ]
  },
  {
   "cell_type": "code",
   "execution_count": 7,
   "metadata": {},
   "outputs": [
    {
     "name": "stdout",
     "output_type": "stream",
     "text": [
      "Calculating rank1...done in 0.044s\n",
      "Calculating average word length...done in 0.091s\n",
      "Calculating effective size...done in 0.700s\n",
      "Calculating exclusivity...done in 0.789s\n",
      "Calculating distance from uniform...done in 1.428s\n",
      "Calculating distance from corpus...done in 3.258s\n"
     ]
    }
   ],
   "source": [
    "topic_metrics = util.calc_metrics(model_components)"
   ]
  },
  {
   "cell_type": "code",
   "execution_count": null,
   "metadata": {},
   "outputs": [],
   "source": [
    "source_dict = topic_metrics.copy()\n",
    "source_dict['x'] = range(fm.K)\n",
    "source = ColumnDataSource(source_dict)\n",
    "\n",
    "top_words = fm.get_top_words(model_components)\n",
    "source.data['top_three'] = [' '.join(top_words[t][:3]) for t in range(fm.K)]\n",
    "hover = HoverTool(tooltips=[('top words','@top_three')])\n",
    "\n",
    "metric_tabs = []\n",
    "for m in topic_metrics.keys():\n",
    "    fig = figure(x_axis_label='Topic Number',\n",
    "                 y_axis_label=m,\n",
    "                 height=600,\n",
    "                 width=600,\n",
    "                 toolbar_location='above')\n",
    "    fig.add_tools(hover)\n",
    "    fig.vbar(x='x',top=m,width=0.75,source=source)\n",
    "    metric_tabs.append(Panel(child=fig, title=m))"
   ]
  },
  {
   "cell_type": "code",
   "execution_count": null,
   "metadata": {},
   "outputs": [],
   "source": [
    "distance_algorithms = [\"jensen_shannon_divergence\",\n",
    "                       \"kullback_leibler_divergence\",\n",
    "                       \"cosine_distance\"]\n",
    "\n",
    "for dist_alg in distance_algorithms:\n",
    "    df = pd.DataFrame(columns=list(range(fm.K)),index=list(range(fm.K)))\n",
    "    topic_word = model_components['topic_word']\n",
    "    for i in range(fm.K):\n",
    "        for j in range(fm.K):\n",
    "            func = getattr(metrics,dist_alg)\n",
    "            df.at[i,j] = func(topic_word[i],topic_word[j])\n",
    "    df.index.name=\"TopicA\"\n",
    "    df.columns.name=\"TopicB\"\n",
    "    topicsA = list(df.index)\n",
    "    topicsB = list(df.columns)\n",
    "    p_df = pd.DataFrame(df.stack(),columns=['dist']).reset_index()\n",
    "    p_df['x'] = p_df[\"TopicA\"] + 0.5\n",
    "    p_df['y'] = p_df[\"TopicB\"] + 0.5\n",
    "    TOOLS = \"hover,save\"\n",
    "    mapper = LinearColorMapper(palette='Spectral10',low=0,high=1)\n",
    "    color_bar = ColorBar(color_mapper=mapper,\n",
    "                         major_label_text_font_size='10pt',\n",
    "                         border_line_color=None,\n",
    "                         location=(0,0))\n",
    "    source = ColumnDataSource(p_df)\n",
    "    p = figure(title=dist_alg,\n",
    "               x_range=[str(i) for i in topicsA],y_range=[str(i) for i in topicsB],\n",
    "               tools=TOOLS, toolbar_location='above')\n",
    "    p.grid.grid_line_color=None\n",
    "    p.axis.axis_line_color=None\n",
    "    p.axis.major_tick_line_color=None\n",
    "    p.axis.major_label_text_font_size='10pt'\n",
    "    p.axis.major_label_standoff=0\n",
    "    p.rect(x=\"x\",y=\"y\",width=1,height=1,source=source,\n",
    "           fill_color={'field':'dist','transform':mapper},line_color=None)\n",
    "    p.add_layout(color_bar, 'right')\n",
    "    p.select_one(HoverTool).tooltips = [\n",
    "        ('Topics','@TopicA and @TopicB'),\n",
    "        (dist_alg,'@dist')\n",
    "    ]\n",
    "    metric_tabs.append(Panel(child=p,title=dist_alg))"
   ]
  },
  {
   "cell_type": "code",
   "execution_count": null,
   "metadata": {},
   "outputs": [],
   "source": [
    "tabs = Tabs(tabs=metric_tabs)\n",
    "show(tabs,notebook_handle=True)"
   ]
  },
  {
   "cell_type": "markdown",
   "metadata": {},
   "source": [
    "After exploring the topics in the graphs above, we pick the two to find an alpha-threshold for. We'll go with:"
   ]
  },
  {
   "cell_type": "markdown",
   "metadata": {},
   "source": [
    "# Alpha-Metric Thresholds\n",
    "\n",
    "Using the two above topics, we're going to modify alpha until their metrics change enough that we can't tell them apart."
   ]
  },
  {
   "cell_type": "code",
   "execution_count": 40,
   "metadata": {
    "scrolled": false
   },
   "outputs": [
    {
     "data": {
      "application/vnd.jupyter.widget-view+json": {
       "model_id": "77d279cfa65b43a39ebf9a1ef57ee3e3",
       "version_major": 2,
       "version_minor": 0
      },
      "text/plain": [
       "A Jupyter Widget"
      ]
     },
     "metadata": {},
     "output_type": "display_data"
    }
   ],
   "source": [
    "topic_word = model_components['topic_word']\n",
    "features = model_components['features']\n",
    "\n",
    "# FOR THE DROPDOWNS\n",
    "top_words = fm.get_top_words(model_components)\n",
    "top_three = [' '.join(top_words[t][:3]) for t in range(fm.K)]\n",
    "select_list = ['Topic {0}: {1}'.format(t,top_three[t]) for t in range(fm.K)]\n",
    "\n",
    "def run_experiment(b):\n",
    "    global tabs\n",
    "    # EXTRACT THE SETTINGS\n",
    "    print(\"Extracting the settings...\")\n",
    "    SIGNAL = signal_selector.index\n",
    "    NOISE = noise_selector.index\n",
    "    ALPHA = alpha_slider.value\n",
    "    D = num_docs_slider.value\n",
    "    N = doc_len_slider.value\n",
    "    # SEPARATE THE TOPICS\n",
    "    print(\"Separating the topics...\")\n",
    "    new_signal = util.alpha_separate(topic_word[SIGNAL],topic_word[NOISE],ALPHA)\n",
    "    new_topic_word = np.array([new_signal,topic_word[NOISE]])\n",
    "    # BUILD MODEL COMPONENTS\n",
    "    print(\"Building the components...\")\n",
    "    model_components = util.build_components(new_topic_word,features,D,N)\n",
    "    # GENERATE DOCUMENTS\n",
    "    print(\"Generating the documents...\")\n",
    "    gen_docs = util.generate(model_components,N)\n",
    "    # FIT THE MODEL\n",
    "    print(\"Fitting the model...\")\n",
    "    model_components = fm.get_model(gen_docs)\n",
    "    # BUILD THE PLOT\n",
    "    print(\"Building the plots...\")\n",
    "    metric_tabs = util.build_metrics_tabs(model_components)\n",
    "    # SHOW THE PLOT\n",
    "    out.clear_output()\n",
    "    with out:\n",
    "        tabs = Tabs(tabs=metric_tabs)\n",
    "        show(tabs,notebook_handle=True)\n",
    "    \n",
    "signal_selector = Dropdown(\n",
    "                    description=\"SIGNAL\",\n",
    "                    options=select_list,\n",
    "                    index=1\n",
    "                  )\n",
    "noise_selector  = Dropdown(\n",
    "                    description=\"NOISE\",\n",
    "                    options=select_list,\n",
    "                    index=2\n",
    "                  )\n",
    "alpha_slider    = FloatSlider(\n",
    "                    description=\"ALPHA\",\n",
    "                    value=0.5,\n",
    "                    min=0,\n",
    "                    max=1,\n",
    "                    step=0.05,\n",
    "                    continuous_update=False\n",
    "                  )\n",
    "num_docs_slider = IntSlider(\n",
    "                    description=\"D\",\n",
    "                    value=100,\n",
    "                    min=50,\n",
    "                    max=1000,\n",
    "                    step=10\n",
    "                  )\n",
    "doc_len_slider  = IntSlider(\n",
    "                    description=\"N\",\n",
    "                    value=100,\n",
    "                    min=50,\n",
    "                    max=1000,\n",
    "                    step=10\n",
    "                  )\n",
    "priors_check    = Checkbox(\n",
    "                    value=False,\n",
    "                    description=\"Priors?\"\n",
    "                  )\n",
    "run_button      = Button(\n",
    "                    description=\"Run Experiment\",\n",
    "                    tooltip='Run Experiment'\n",
    "                  )\n",
    "run_button.on_click(run_experiment)\n",
    "\n",
    "row_1 = HBox([signal_selector,noise_selector])\n",
    "row_2 = HBox([num_docs_slider,doc_len_slider])\n",
    "row_3 = HBox([alpha_slider,priors_check])\n",
    "row_4 = HBox([run_button])\n",
    "out = Output()\n",
    "display(VBox([row_1,row_2,row_3,row_4,out]))"
   ]
  },
  {
   "cell_type": "code",
   "execution_count": 48,
   "metadata": {},
   "outputs": [
    {
     "data": {
      "text/plain": [
       "(2, 42090)"
      ]
     },
     "execution_count": 48,
     "metadata": {},
     "output_type": "execute_result"
    }
   ],
   "source": []
  },
  {
   "cell_type": "code",
   "execution_count": 51,
   "metadata": {},
   "outputs": [
    {
     "name": "stderr",
     "output_type": "stream",
     "text": [
      "[autoreload of util failed: Traceback (most recent call last):\n",
      "  File \"/Users/cassiancorey/anaconda/lib/python3.5/site-packages/IPython/extensions/autoreload.py\", line 246, in check\n",
      "    superreload(m, reload, self.old_objects)\n",
      "  File \"/Users/cassiancorey/anaconda/lib/python3.5/site-packages/IPython/extensions/autoreload.py\", line 369, in superreload\n",
      "    module = reload(module)\n",
      "  File \"/Users/cassiancorey/anaconda/lib/python3.5/imp.py\", line 314, in reload\n",
      "    return importlib.reload(module)\n",
      "  File \"/Users/cassiancorey/anaconda/lib/python3.5/importlib/__init__.py\", line 166, in reload\n",
      "    _bootstrap._exec(spec, module)\n",
      "  File \"<frozen importlib._bootstrap>\", line 626, in _exec\n",
      "  File \"<frozen importlib._bootstrap_external>\", line 658, in exec_module\n",
      "  File \"<frozen importlib._bootstrap_external>\", line 764, in get_code\n",
      "  File \"<frozen importlib._bootstrap_external>\", line 724, in source_to_code\n",
      "  File \"<frozen importlib._bootstrap>\", line 222, in _call_with_frames_removed\n",
      "  File \"/Users/cassiancorey/Google Drive/Fall '17/691DD/project/util.py\", line 73\n",
      "    topic_word[signal] =\n",
      "                        ^\n",
      "SyntaxError: invalid syntax\n",
      "]\n"
     ]
    }
   ],
   "source": [
    "row_sums = tw.sum(axis=1)"
   ]
  },
  {
   "cell_type": "code",
   "execution_count": 52,
   "metadata": {},
   "outputs": [
    {
     "data": {
      "text/plain": [
       "array([[ 0.0525033 ,  0.16015236,  0.04656324, ...,  0.05079402,\n",
       "         0.04631932,  0.04509932],\n",
       "       [ 0.04658838,  0.06972765,  0.04584494, ...,  0.04760961,\n",
       "         0.04592824,  0.04420352]])"
      ]
     },
     "execution_count": 52,
     "metadata": {},
     "output_type": "execute_result"
    }
   ],
   "source": [
    "tw"
   ]
  },
  {
   "cell_type": "code",
   "execution_count": 53,
   "metadata": {},
   "outputs": [
    {
     "data": {
      "text/plain": [
       "array([ 3550.35212708,  1972.02522653])"
      ]
     },
     "execution_count": 53,
     "metadata": {},
     "output_type": "execute_result"
    }
   ],
   "source": [
    "tw.sum(axis=1)"
   ]
  },
  {
   "cell_type": "code",
   "execution_count": 54,
   "metadata": {},
   "outputs": [
    {
     "data": {
      "text/plain": [
       "(2,)"
      ]
     },
     "execution_count": 54,
     "metadata": {},
     "output_type": "execute_result"
    }
   ],
   "source": [
    "row_sums.shape"
   ]
  },
  {
   "cell_type": "code",
   "execution_count": 55,
   "metadata": {
    "collapsed": true
   },
   "outputs": [],
   "source": [
    "norm_topic_word = tw/row_sums[:,np.newaxis]"
   ]
  },
  {
   "cell_type": "code",
   "execution_count": null,
   "metadata": {
    "collapsed": true
   },
   "outputs": [],
   "source": [
    "noise_ = "
   ]
  }
 ],
 "metadata": {
  "kernelspec": {
   "display_name": "Python 3",
   "language": "python",
   "name": "python3"
  },
  "language_info": {
   "codemirror_mode": {
    "name": "ipython",
    "version": 3
   },
   "file_extension": ".py",
   "mimetype": "text/x-python",
   "name": "python",
   "nbconvert_exporter": "python",
   "pygments_lexer": "ipython3",
   "version": "3.5.1"
  }
 },
 "nbformat": 4,
 "nbformat_minor": 2
}
